{
  "nbformat": 4,
  "nbformat_minor": 0,
  "metadata": {
    "colab": {
      "name": "RanDonnees_2022_atelier_manipulation_R.ipynb",
      "provenance": [],
      "collapsed_sections": [
        "G-bNNGNVN67i",
        "q3jbvLChE7WV",
        "IWOhqM5ZJUkN",
        "VzC7daLEL7Vh",
        "mwbB2FiHNVr6",
        "lMVYz5zhOfbw",
        "Yvr9KP1zTAVl",
        "Smkw7ylgQf4u",
        "nnveKOR-U1BN",
        "HZPJEt93Qkd7",
        "H_SAz7SoU4Vd"
      ],
      "toc_visible": true
    },
    "kernelspec": {
      "name": "ir",
      "display_name": "R"
    },
    "language_info": {
      "name": "R"
    }
  },
  "cells": [
    {
      "cell_type": "markdown",
      "source": [
        "# Atelier 6- Traitement des données avec **R**\n",
        "\n",
        "Bienvenue à cet atelier sur la manipulation et le nettoyage de données avec R.\n",
        "\n",
        "Cet atelier a été développé à partir des ateliers sur la manipulation de données de [Software Carpentry](https://swcarpentry.github.io/r-novice-gapminder/13-dplyr/index.html) (liens supplémentaires à la fin du document). Il fait suite à l'atelier d'introduction présenté par **Francis Banville**. D'autres ressources sont également disponibles au [repo GitHub suivant](https://github.com/gabrieldansereau/RanDonnees2022-atelier-manipulation-R).\n",
        "\n",
        "### Auteur\n",
        "\n",
        "Gabriel Dansereau (il/lui), étudiant au doctorat en sciences biologiques à l'Université de Montréal\n",
        "\n",
        "📧 gabriel.dansereau@umontreal.ca \n",
        "\n",
        "19 janvier 2022"
      ],
      "metadata": {
        "id": "yiRcIXDlx3c0"
      }
    },
    {
      "cell_type": "markdown",
      "source": [
        "# Introduction"
      ],
      "metadata": {
        "id": "Szb-ZXyR7DKI"
      }
    },
    {
      "cell_type": "markdown",
      "source": [
        "## Objectif\n",
        "\n",
        "L'objectif de cet atelier est de vous familiariser avec la manipulation et au nettoyage de données avec _R_ pour que vous puissez réaliser ces opérations par vous-même sur vos propres jeux de données. Nous reverrons des fonctions qui vous ont déjà été présentées, mais de manière un peu plus exhaustive afin de vous montrer différentes possibilités de manipulation."
      ],
      "metadata": {
        "id": "JrfOtoG8Pgsn"
      }
    },
    {
      "cell_type": "markdown",
      "source": [
        "## Contenu\n",
        "\n",
        "1. Opérations de base pour manipuler les données\n",
        "2. Nettoyage d'un jeu de données\n",
        "3. Réorganisation d'un jeu de données"
      ],
      "metadata": {
        "id": "QJHkJmc-O0Ue"
      }
    },
    {
      "cell_type": "markdown",
      "source": [
        "## Ressources utiles avant de commencer\n",
        "\n",
        "- [Cheat sheet dplyr](https://raw.githubusercontent.com/rstudio/cheatsheets/main/data-transformation.pdf)\n",
        "- [Cheat sheet tidyr](https://raw.githubusercontent.com/rstudio/cheatsheets/main/tidyr.pdf)"
      ],
      "metadata": {
        "id": "2gOMs7PNLx3f"
      }
    },
    {
      "cell_type": "markdown",
      "source": [
        "## Préparation du jeu de données"
      ],
      "metadata": {
        "id": "G-bNNGNVN67i"
      }
    },
    {
      "cell_type": "code",
      "execution_count": null,
      "metadata": {
        "id": "0SrOr5kKx13N",
        "colab": {
          "base_uri": "https://localhost:8080/"
        },
        "outputId": "8a8d216f-063d-4bfe-ed3f-726f358b5319"
      },
      "outputs": [
        {
          "output_type": "stream",
          "name": "stderr",
          "text": [
            "Loading required package: tidyverse\n",
            "\n",
            "Warning message in system(\"timedatectl\", intern = TRUE):\n",
            "“running command 'timedatectl' had status 1”\n",
            "── \u001b[1mAttaching packages\u001b[22m ─────────────────────────────────────── tidyverse 1.3.1 ──\n",
            "\n",
            "\u001b[32m✔\u001b[39m \u001b[34mggplot2\u001b[39m 3.3.5     \u001b[32m✔\u001b[39m \u001b[34mpurrr  \u001b[39m 0.3.4\n",
            "\u001b[32m✔\u001b[39m \u001b[34mtibble \u001b[39m 3.1.6     \u001b[32m✔\u001b[39m \u001b[34mdplyr  \u001b[39m 1.0.7\n",
            "\u001b[32m✔\u001b[39m \u001b[34mtidyr  \u001b[39m 1.1.4     \u001b[32m✔\u001b[39m \u001b[34mstringr\u001b[39m 1.4.0\n",
            "\u001b[32m✔\u001b[39m \u001b[34mreadr  \u001b[39m 2.1.1     \u001b[32m✔\u001b[39m \u001b[34mforcats\u001b[39m 0.5.1\n",
            "\n",
            "── \u001b[1mConflicts\u001b[22m ────────────────────────────────────────── tidyverse_conflicts() ──\n",
            "\u001b[31m✖\u001b[39m \u001b[34mdplyr\u001b[39m::\u001b[32mfilter()\u001b[39m masks \u001b[34mstats\u001b[39m::filter()\n",
            "\u001b[31m✖\u001b[39m \u001b[34mdplyr\u001b[39m::\u001b[32mlag()\u001b[39m    masks \u001b[34mstats\u001b[39m::lag()\n",
            "\n"
          ]
        }
      ],
      "source": [
        "# Charger le package nécessaire pour réaliser les manipulations\n",
        "if (!require(tidyverse)) {\n",
        "  installed.packages(\"tidyverse\")\n",
        "}\n",
        "library(tidyverse)"
      ]
    },
    {
      "cell_type": "code",
      "source": [
        "# Charger le jeu de données gapminder\n",
        "gapminder_url <- \"https://raw.githubusercontent.com/swcarpentry/r-novice-gapminder/gh-pages/_episodes_rmd/data/gapminder_data.csv\"\n",
        "dir.create(\"data\")\n",
        "download.file(gapminder_url, destfile = \"data/gapminder_data.csv\")\n",
        "gapminder <- read_csv(\"data/gapminder_data.csv\")"
      ],
      "metadata": {
        "id": "gOJWM2iFyrOq",
        "colab": {
          "base_uri": "https://localhost:8080/"
        },
        "outputId": "7e00d8f9-30f0-463e-9687-57a59378cb80"
      },
      "execution_count": null,
      "outputs": [
        {
          "output_type": "stream",
          "name": "stderr",
          "text": [
            "Warning message in dir.create(\"data\"):\n",
            "“'data' already exists”\n",
            "\u001b[1mRows: \u001b[22m\u001b[34m1704\u001b[39m \u001b[1mColumns: \u001b[22m\u001b[34m6\u001b[39m\n",
            "\n",
            "\u001b[36m──\u001b[39m \u001b[1mColumn specification\u001b[22m \u001b[36m────────────────────────────────────────────────────────\u001b[39m\n",
            "\u001b[1mDelimiter:\u001b[22m \",\"\n",
            "\u001b[31mchr\u001b[39m (2): country, continent\n",
            "\u001b[32mdbl\u001b[39m (4): year, pop, lifeExp, gdpPercap\n",
            "\n",
            "\n",
            "\u001b[36mℹ\u001b[39m Use \u001b[30m\u001b[47m\u001b[30m\u001b[47m`spec()`\u001b[47m\u001b[30m\u001b[49m\u001b[39m to retrieve the full column specification for this data.\n",
            "\u001b[36mℹ\u001b[39m Specify the column types or set \u001b[30m\u001b[47m\u001b[30m\u001b[47m`show_col_types = FALSE`\u001b[47m\u001b[30m\u001b[49m\u001b[39m to quiet this message.\n",
            "\n"
          ]
        }
      ]
    },
    {
      "cell_type": "code",
      "source": [
        "# Visualiser le jeu de données complet\n",
        "gapminder"
      ],
      "metadata": {
        "colab": {
          "base_uri": "https://localhost:8080/",
          "height": 1000
        },
        "id": "pm4CHcDbyWje",
        "outputId": "5b807f29-516b-466e-dd79-f745e33a8cc2"
      },
      "execution_count": null,
      "outputs": [
        {
          "output_type": "display_data",
          "data": {
            "text/plain": [
              "     country     year pop      continent lifeExp gdpPercap\n",
              "1    Afghanistan 1952  8425333 Asia      28.801   779.4453\n",
              "2    Afghanistan 1957  9240934 Asia      30.332   820.8530\n",
              "3    Afghanistan 1962 10267083 Asia      31.997   853.1007\n",
              "4    Afghanistan 1967 11537966 Asia      34.020   836.1971\n",
              "5    Afghanistan 1972 13079460 Asia      36.088   739.9811\n",
              "6    Afghanistan 1977 14880372 Asia      38.438   786.1134\n",
              "7    Afghanistan 1982 12881816 Asia      39.854   978.0114\n",
              "8    Afghanistan 1987 13867957 Asia      40.822   852.3959\n",
              "9    Afghanistan 1992 16317921 Asia      41.674   649.3414\n",
              "10   Afghanistan 1997 22227415 Asia      41.763   635.3414\n",
              "11   Afghanistan 2002 25268405 Asia      42.129   726.7341\n",
              "12   Afghanistan 2007 31889923 Asia      43.828   974.5803\n",
              "13   Albania     1952  1282697 Europe    55.230  1601.0561\n",
              "14   Albania     1957  1476505 Europe    59.280  1942.2842\n",
              "15   Albania     1962  1728137 Europe    64.820  2312.8890\n",
              "16   Albania     1967  1984060 Europe    66.220  2760.1969\n",
              "17   Albania     1972  2263554 Europe    67.690  3313.4222\n",
              "18   Albania     1977  2509048 Europe    68.930  3533.0039\n",
              "19   Albania     1982  2780097 Europe    70.420  3630.8807\n",
              "20   Albania     1987  3075321 Europe    72.000  3738.9327\n",
              "21   Albania     1992  3326498 Europe    71.581  2497.4379\n",
              "22   Albania     1997  3428038 Europe    72.950  3193.0546\n",
              "23   Albania     2002  3508512 Europe    75.651  4604.2117\n",
              "24   Albania     2007  3600523 Europe    76.423  5937.0295\n",
              "25   Algeria     1952  9279525 Africa    43.077  2449.0082\n",
              "26   Algeria     1957 10270856 Africa    45.685  3013.9760\n",
              "27   Algeria     1962 11000948 Africa    48.303  2550.8169\n",
              "28   Algeria     1967 12760499 Africa    51.407  3246.9918\n",
              "29   Algeria     1972 14760787 Africa    54.518  4182.6638\n",
              "30   Algeria     1977 17152804 Africa    58.014  4910.4168\n",
              "⋮    ⋮           ⋮    ⋮        ⋮         ⋮       ⋮        \n",
              "1675 Yemen Rep.  1982  9657618 Asia      49.113  1977.5570\n",
              "1676 Yemen Rep.  1987 11219340 Asia      52.922  1971.7415\n",
              "1677 Yemen Rep.  1992 13367997 Asia      55.599  1879.4967\n",
              "1678 Yemen Rep.  1997 15826497 Asia      58.020  2117.4845\n",
              "1679 Yemen Rep.  2002 18701257 Asia      60.308  2234.8208\n",
              "1680 Yemen Rep.  2007 22211743 Asia      62.698  2280.7699\n",
              "1681 Zambia      1952  2672000 Africa    42.038  1147.3888\n",
              "1682 Zambia      1957  3016000 Africa    44.077  1311.9568\n",
              "1683 Zambia      1962  3421000 Africa    46.023  1452.7258\n",
              "1684 Zambia      1967  3900000 Africa    47.768  1777.0773\n",
              "1685 Zambia      1972  4506497 Africa    50.107  1773.4983\n",
              "1686 Zambia      1977  5216550 Africa    51.386  1588.6883\n",
              "1687 Zambia      1982  6100407 Africa    51.821  1408.6786\n",
              "1688 Zambia      1987  7272406 Africa    50.821  1213.3151\n",
              "1689 Zambia      1992  8381163 Africa    46.100  1210.8846\n",
              "1690 Zambia      1997  9417789 Africa    40.238  1071.3538\n",
              "1691 Zambia      2002 10595811 Africa    39.193  1071.6139\n",
              "1692 Zambia      2007 11746035 Africa    42.384  1271.2116\n",
              "1693 Zimbabwe    1952  3080907 Africa    48.451   406.8841\n",
              "1694 Zimbabwe    1957  3646340 Africa    50.469   518.7643\n",
              "1695 Zimbabwe    1962  4277736 Africa    52.358   527.2722\n",
              "1696 Zimbabwe    1967  4995432 Africa    53.995   569.7951\n",
              "1697 Zimbabwe    1972  5861135 Africa    55.635   799.3622\n",
              "1698 Zimbabwe    1977  6642107 Africa    57.674   685.5877\n",
              "1699 Zimbabwe    1982  7636524 Africa    60.363   788.8550\n",
              "1700 Zimbabwe    1987  9216418 Africa    62.351   706.1573\n",
              "1701 Zimbabwe    1992 10704340 Africa    60.377   693.4208\n",
              "1702 Zimbabwe    1997 11404948 Africa    46.809   792.4500\n",
              "1703 Zimbabwe    2002 11926563 Africa    39.989   672.0386\n",
              "1704 Zimbabwe    2007 12311143 Africa    43.487   469.7093"
            ],
            "text/latex": "A spec\\_tbl\\_df: 1704 × 6\n\\begin{tabular}{llllll}\n country & year & pop & continent & lifeExp & gdpPercap\\\\\n <chr> & <dbl> & <dbl> & <chr> & <dbl> & <dbl>\\\\\n\\hline\n\t Afghanistan & 1952 &  8425333 & Asia   & 28.801 &  779.4453\\\\\n\t Afghanistan & 1957 &  9240934 & Asia   & 30.332 &  820.8530\\\\\n\t Afghanistan & 1962 & 10267083 & Asia   & 31.997 &  853.1007\\\\\n\t Afghanistan & 1967 & 11537966 & Asia   & 34.020 &  836.1971\\\\\n\t Afghanistan & 1972 & 13079460 & Asia   & 36.088 &  739.9811\\\\\n\t Afghanistan & 1977 & 14880372 & Asia   & 38.438 &  786.1134\\\\\n\t Afghanistan & 1982 & 12881816 & Asia   & 39.854 &  978.0114\\\\\n\t Afghanistan & 1987 & 13867957 & Asia   & 40.822 &  852.3959\\\\\n\t Afghanistan & 1992 & 16317921 & Asia   & 41.674 &  649.3414\\\\\n\t Afghanistan & 1997 & 22227415 & Asia   & 41.763 &  635.3414\\\\\n\t Afghanistan & 2002 & 25268405 & Asia   & 42.129 &  726.7341\\\\\n\t Afghanistan & 2007 & 31889923 & Asia   & 43.828 &  974.5803\\\\\n\t Albania     & 1952 &  1282697 & Europe & 55.230 & 1601.0561\\\\\n\t Albania     & 1957 &  1476505 & Europe & 59.280 & 1942.2842\\\\\n\t Albania     & 1962 &  1728137 & Europe & 64.820 & 2312.8890\\\\\n\t Albania     & 1967 &  1984060 & Europe & 66.220 & 2760.1969\\\\\n\t Albania     & 1972 &  2263554 & Europe & 67.690 & 3313.4222\\\\\n\t Albania     & 1977 &  2509048 & Europe & 68.930 & 3533.0039\\\\\n\t Albania     & 1982 &  2780097 & Europe & 70.420 & 3630.8807\\\\\n\t Albania     & 1987 &  3075321 & Europe & 72.000 & 3738.9327\\\\\n\t Albania     & 1992 &  3326498 & Europe & 71.581 & 2497.4379\\\\\n\t Albania     & 1997 &  3428038 & Europe & 72.950 & 3193.0546\\\\\n\t Albania     & 2002 &  3508512 & Europe & 75.651 & 4604.2117\\\\\n\t Albania     & 2007 &  3600523 & Europe & 76.423 & 5937.0295\\\\\n\t Algeria     & 1952 &  9279525 & Africa & 43.077 & 2449.0082\\\\\n\t Algeria     & 1957 & 10270856 & Africa & 45.685 & 3013.9760\\\\\n\t Algeria     & 1962 & 11000948 & Africa & 48.303 & 2550.8169\\\\\n\t Algeria     & 1967 & 12760499 & Africa & 51.407 & 3246.9918\\\\\n\t Algeria     & 1972 & 14760787 & Africa & 54.518 & 4182.6638\\\\\n\t Algeria     & 1977 & 17152804 & Africa & 58.014 & 4910.4168\\\\\n\t ⋮ & ⋮ & ⋮ & ⋮ & ⋮ & ⋮\\\\\n\t Yemen Rep. & 1982 &  9657618 & Asia   & 49.113 & 1977.5570\\\\\n\t Yemen Rep. & 1987 & 11219340 & Asia   & 52.922 & 1971.7415\\\\\n\t Yemen Rep. & 1992 & 13367997 & Asia   & 55.599 & 1879.4967\\\\\n\t Yemen Rep. & 1997 & 15826497 & Asia   & 58.020 & 2117.4845\\\\\n\t Yemen Rep. & 2002 & 18701257 & Asia   & 60.308 & 2234.8208\\\\\n\t Yemen Rep. & 2007 & 22211743 & Asia   & 62.698 & 2280.7699\\\\\n\t Zambia     & 1952 &  2672000 & Africa & 42.038 & 1147.3888\\\\\n\t Zambia     & 1957 &  3016000 & Africa & 44.077 & 1311.9568\\\\\n\t Zambia     & 1962 &  3421000 & Africa & 46.023 & 1452.7258\\\\\n\t Zambia     & 1967 &  3900000 & Africa & 47.768 & 1777.0773\\\\\n\t Zambia     & 1972 &  4506497 & Africa & 50.107 & 1773.4983\\\\\n\t Zambia     & 1977 &  5216550 & Africa & 51.386 & 1588.6883\\\\\n\t Zambia     & 1982 &  6100407 & Africa & 51.821 & 1408.6786\\\\\n\t Zambia     & 1987 &  7272406 & Africa & 50.821 & 1213.3151\\\\\n\t Zambia     & 1992 &  8381163 & Africa & 46.100 & 1210.8846\\\\\n\t Zambia     & 1997 &  9417789 & Africa & 40.238 & 1071.3538\\\\\n\t Zambia     & 2002 & 10595811 & Africa & 39.193 & 1071.6139\\\\\n\t Zambia     & 2007 & 11746035 & Africa & 42.384 & 1271.2116\\\\\n\t Zimbabwe   & 1952 &  3080907 & Africa & 48.451 &  406.8841\\\\\n\t Zimbabwe   & 1957 &  3646340 & Africa & 50.469 &  518.7643\\\\\n\t Zimbabwe   & 1962 &  4277736 & Africa & 52.358 &  527.2722\\\\\n\t Zimbabwe   & 1967 &  4995432 & Africa & 53.995 &  569.7951\\\\\n\t Zimbabwe   & 1972 &  5861135 & Africa & 55.635 &  799.3622\\\\\n\t Zimbabwe   & 1977 &  6642107 & Africa & 57.674 &  685.5877\\\\\n\t Zimbabwe   & 1982 &  7636524 & Africa & 60.363 &  788.8550\\\\\n\t Zimbabwe   & 1987 &  9216418 & Africa & 62.351 &  706.1573\\\\\n\t Zimbabwe   & 1992 & 10704340 & Africa & 60.377 &  693.4208\\\\\n\t Zimbabwe   & 1997 & 11404948 & Africa & 46.809 &  792.4500\\\\\n\t Zimbabwe   & 2002 & 11926563 & Africa & 39.989 &  672.0386\\\\\n\t Zimbabwe   & 2007 & 12311143 & Africa & 43.487 &  469.7093\\\\\n\\end{tabular}\n",
            "text/markdown": "\nA spec_tbl_df: 1704 × 6\n\n| country &lt;chr&gt; | year &lt;dbl&gt; | pop &lt;dbl&gt; | continent &lt;chr&gt; | lifeExp &lt;dbl&gt; | gdpPercap &lt;dbl&gt; |\n|---|---|---|---|---|---|\n| Afghanistan | 1952 |  8425333 | Asia   | 28.801 |  779.4453 |\n| Afghanistan | 1957 |  9240934 | Asia   | 30.332 |  820.8530 |\n| Afghanistan | 1962 | 10267083 | Asia   | 31.997 |  853.1007 |\n| Afghanistan | 1967 | 11537966 | Asia   | 34.020 |  836.1971 |\n| Afghanistan | 1972 | 13079460 | Asia   | 36.088 |  739.9811 |\n| Afghanistan | 1977 | 14880372 | Asia   | 38.438 |  786.1134 |\n| Afghanistan | 1982 | 12881816 | Asia   | 39.854 |  978.0114 |\n| Afghanistan | 1987 | 13867957 | Asia   | 40.822 |  852.3959 |\n| Afghanistan | 1992 | 16317921 | Asia   | 41.674 |  649.3414 |\n| Afghanistan | 1997 | 22227415 | Asia   | 41.763 |  635.3414 |\n| Afghanistan | 2002 | 25268405 | Asia   | 42.129 |  726.7341 |\n| Afghanistan | 2007 | 31889923 | Asia   | 43.828 |  974.5803 |\n| Albania     | 1952 |  1282697 | Europe | 55.230 | 1601.0561 |\n| Albania     | 1957 |  1476505 | Europe | 59.280 | 1942.2842 |\n| Albania     | 1962 |  1728137 | Europe | 64.820 | 2312.8890 |\n| Albania     | 1967 |  1984060 | Europe | 66.220 | 2760.1969 |\n| Albania     | 1972 |  2263554 | Europe | 67.690 | 3313.4222 |\n| Albania     | 1977 |  2509048 | Europe | 68.930 | 3533.0039 |\n| Albania     | 1982 |  2780097 | Europe | 70.420 | 3630.8807 |\n| Albania     | 1987 |  3075321 | Europe | 72.000 | 3738.9327 |\n| Albania     | 1992 |  3326498 | Europe | 71.581 | 2497.4379 |\n| Albania     | 1997 |  3428038 | Europe | 72.950 | 3193.0546 |\n| Albania     | 2002 |  3508512 | Europe | 75.651 | 4604.2117 |\n| Albania     | 2007 |  3600523 | Europe | 76.423 | 5937.0295 |\n| Algeria     | 1952 |  9279525 | Africa | 43.077 | 2449.0082 |\n| Algeria     | 1957 | 10270856 | Africa | 45.685 | 3013.9760 |\n| Algeria     | 1962 | 11000948 | Africa | 48.303 | 2550.8169 |\n| Algeria     | 1967 | 12760499 | Africa | 51.407 | 3246.9918 |\n| Algeria     | 1972 | 14760787 | Africa | 54.518 | 4182.6638 |\n| Algeria     | 1977 | 17152804 | Africa | 58.014 | 4910.4168 |\n| ⋮ | ⋮ | ⋮ | ⋮ | ⋮ | ⋮ |\n| Yemen Rep. | 1982 |  9657618 | Asia   | 49.113 | 1977.5570 |\n| Yemen Rep. | 1987 | 11219340 | Asia   | 52.922 | 1971.7415 |\n| Yemen Rep. | 1992 | 13367997 | Asia   | 55.599 | 1879.4967 |\n| Yemen Rep. | 1997 | 15826497 | Asia   | 58.020 | 2117.4845 |\n| Yemen Rep. | 2002 | 18701257 | Asia   | 60.308 | 2234.8208 |\n| Yemen Rep. | 2007 | 22211743 | Asia   | 62.698 | 2280.7699 |\n| Zambia     | 1952 |  2672000 | Africa | 42.038 | 1147.3888 |\n| Zambia     | 1957 |  3016000 | Africa | 44.077 | 1311.9568 |\n| Zambia     | 1962 |  3421000 | Africa | 46.023 | 1452.7258 |\n| Zambia     | 1967 |  3900000 | Africa | 47.768 | 1777.0773 |\n| Zambia     | 1972 |  4506497 | Africa | 50.107 | 1773.4983 |\n| Zambia     | 1977 |  5216550 | Africa | 51.386 | 1588.6883 |\n| Zambia     | 1982 |  6100407 | Africa | 51.821 | 1408.6786 |\n| Zambia     | 1987 |  7272406 | Africa | 50.821 | 1213.3151 |\n| Zambia     | 1992 |  8381163 | Africa | 46.100 | 1210.8846 |\n| Zambia     | 1997 |  9417789 | Africa | 40.238 | 1071.3538 |\n| Zambia     | 2002 | 10595811 | Africa | 39.193 | 1071.6139 |\n| Zambia     | 2007 | 11746035 | Africa | 42.384 | 1271.2116 |\n| Zimbabwe   | 1952 |  3080907 | Africa | 48.451 |  406.8841 |\n| Zimbabwe   | 1957 |  3646340 | Africa | 50.469 |  518.7643 |\n| Zimbabwe   | 1962 |  4277736 | Africa | 52.358 |  527.2722 |\n| Zimbabwe   | 1967 |  4995432 | Africa | 53.995 |  569.7951 |\n| Zimbabwe   | 1972 |  5861135 | Africa | 55.635 |  799.3622 |\n| Zimbabwe   | 1977 |  6642107 | Africa | 57.674 |  685.5877 |\n| Zimbabwe   | 1982 |  7636524 | Africa | 60.363 |  788.8550 |\n| Zimbabwe   | 1987 |  9216418 | Africa | 62.351 |  706.1573 |\n| Zimbabwe   | 1992 | 10704340 | Africa | 60.377 |  693.4208 |\n| Zimbabwe   | 1997 | 11404948 | Africa | 46.809 |  792.4500 |\n| Zimbabwe   | 2002 | 11926563 | Africa | 39.989 |  672.0386 |\n| Zimbabwe   | 2007 | 12311143 | Africa | 43.487 |  469.7093 |\n\n",
            "text/html": [
              "<table class=\"dataframe\">\n",
              "<caption>A spec_tbl_df: 1704 × 6</caption>\n",
              "<thead>\n",
              "\t<tr><th scope=col>country</th><th scope=col>year</th><th scope=col>pop</th><th scope=col>continent</th><th scope=col>lifeExp</th><th scope=col>gdpPercap</th></tr>\n",
              "\t<tr><th scope=col>&lt;chr&gt;</th><th scope=col>&lt;dbl&gt;</th><th scope=col>&lt;dbl&gt;</th><th scope=col>&lt;chr&gt;</th><th scope=col>&lt;dbl&gt;</th><th scope=col>&lt;dbl&gt;</th></tr>\n",
              "</thead>\n",
              "<tbody>\n",
              "\t<tr><td>Afghanistan</td><td>1952</td><td> 8425333</td><td>Asia  </td><td>28.801</td><td> 779.4453</td></tr>\n",
              "\t<tr><td>Afghanistan</td><td>1957</td><td> 9240934</td><td>Asia  </td><td>30.332</td><td> 820.8530</td></tr>\n",
              "\t<tr><td>Afghanistan</td><td>1962</td><td>10267083</td><td>Asia  </td><td>31.997</td><td> 853.1007</td></tr>\n",
              "\t<tr><td>Afghanistan</td><td>1967</td><td>11537966</td><td>Asia  </td><td>34.020</td><td> 836.1971</td></tr>\n",
              "\t<tr><td>Afghanistan</td><td>1972</td><td>13079460</td><td>Asia  </td><td>36.088</td><td> 739.9811</td></tr>\n",
              "\t<tr><td>Afghanistan</td><td>1977</td><td>14880372</td><td>Asia  </td><td>38.438</td><td> 786.1134</td></tr>\n",
              "\t<tr><td>Afghanistan</td><td>1982</td><td>12881816</td><td>Asia  </td><td>39.854</td><td> 978.0114</td></tr>\n",
              "\t<tr><td>Afghanistan</td><td>1987</td><td>13867957</td><td>Asia  </td><td>40.822</td><td> 852.3959</td></tr>\n",
              "\t<tr><td>Afghanistan</td><td>1992</td><td>16317921</td><td>Asia  </td><td>41.674</td><td> 649.3414</td></tr>\n",
              "\t<tr><td>Afghanistan</td><td>1997</td><td>22227415</td><td>Asia  </td><td>41.763</td><td> 635.3414</td></tr>\n",
              "\t<tr><td>Afghanistan</td><td>2002</td><td>25268405</td><td>Asia  </td><td>42.129</td><td> 726.7341</td></tr>\n",
              "\t<tr><td>Afghanistan</td><td>2007</td><td>31889923</td><td>Asia  </td><td>43.828</td><td> 974.5803</td></tr>\n",
              "\t<tr><td>Albania    </td><td>1952</td><td> 1282697</td><td>Europe</td><td>55.230</td><td>1601.0561</td></tr>\n",
              "\t<tr><td>Albania    </td><td>1957</td><td> 1476505</td><td>Europe</td><td>59.280</td><td>1942.2842</td></tr>\n",
              "\t<tr><td>Albania    </td><td>1962</td><td> 1728137</td><td>Europe</td><td>64.820</td><td>2312.8890</td></tr>\n",
              "\t<tr><td>Albania    </td><td>1967</td><td> 1984060</td><td>Europe</td><td>66.220</td><td>2760.1969</td></tr>\n",
              "\t<tr><td>Albania    </td><td>1972</td><td> 2263554</td><td>Europe</td><td>67.690</td><td>3313.4222</td></tr>\n",
              "\t<tr><td>Albania    </td><td>1977</td><td> 2509048</td><td>Europe</td><td>68.930</td><td>3533.0039</td></tr>\n",
              "\t<tr><td>Albania    </td><td>1982</td><td> 2780097</td><td>Europe</td><td>70.420</td><td>3630.8807</td></tr>\n",
              "\t<tr><td>Albania    </td><td>1987</td><td> 3075321</td><td>Europe</td><td>72.000</td><td>3738.9327</td></tr>\n",
              "\t<tr><td>Albania    </td><td>1992</td><td> 3326498</td><td>Europe</td><td>71.581</td><td>2497.4379</td></tr>\n",
              "\t<tr><td>Albania    </td><td>1997</td><td> 3428038</td><td>Europe</td><td>72.950</td><td>3193.0546</td></tr>\n",
              "\t<tr><td>Albania    </td><td>2002</td><td> 3508512</td><td>Europe</td><td>75.651</td><td>4604.2117</td></tr>\n",
              "\t<tr><td>Albania    </td><td>2007</td><td> 3600523</td><td>Europe</td><td>76.423</td><td>5937.0295</td></tr>\n",
              "\t<tr><td>Algeria    </td><td>1952</td><td> 9279525</td><td>Africa</td><td>43.077</td><td>2449.0082</td></tr>\n",
              "\t<tr><td>Algeria    </td><td>1957</td><td>10270856</td><td>Africa</td><td>45.685</td><td>3013.9760</td></tr>\n",
              "\t<tr><td>Algeria    </td><td>1962</td><td>11000948</td><td>Africa</td><td>48.303</td><td>2550.8169</td></tr>\n",
              "\t<tr><td>Algeria    </td><td>1967</td><td>12760499</td><td>Africa</td><td>51.407</td><td>3246.9918</td></tr>\n",
              "\t<tr><td>Algeria    </td><td>1972</td><td>14760787</td><td>Africa</td><td>54.518</td><td>4182.6638</td></tr>\n",
              "\t<tr><td>Algeria    </td><td>1977</td><td>17152804</td><td>Africa</td><td>58.014</td><td>4910.4168</td></tr>\n",
              "\t<tr><td>⋮</td><td>⋮</td><td>⋮</td><td>⋮</td><td>⋮</td><td>⋮</td></tr>\n",
              "\t<tr><td>Yemen Rep.</td><td>1982</td><td> 9657618</td><td>Asia  </td><td>49.113</td><td>1977.5570</td></tr>\n",
              "\t<tr><td>Yemen Rep.</td><td>1987</td><td>11219340</td><td>Asia  </td><td>52.922</td><td>1971.7415</td></tr>\n",
              "\t<tr><td>Yemen Rep.</td><td>1992</td><td>13367997</td><td>Asia  </td><td>55.599</td><td>1879.4967</td></tr>\n",
              "\t<tr><td>Yemen Rep.</td><td>1997</td><td>15826497</td><td>Asia  </td><td>58.020</td><td>2117.4845</td></tr>\n",
              "\t<tr><td>Yemen Rep.</td><td>2002</td><td>18701257</td><td>Asia  </td><td>60.308</td><td>2234.8208</td></tr>\n",
              "\t<tr><td>Yemen Rep.</td><td>2007</td><td>22211743</td><td>Asia  </td><td>62.698</td><td>2280.7699</td></tr>\n",
              "\t<tr><td>Zambia    </td><td>1952</td><td> 2672000</td><td>Africa</td><td>42.038</td><td>1147.3888</td></tr>\n",
              "\t<tr><td>Zambia    </td><td>1957</td><td> 3016000</td><td>Africa</td><td>44.077</td><td>1311.9568</td></tr>\n",
              "\t<tr><td>Zambia    </td><td>1962</td><td> 3421000</td><td>Africa</td><td>46.023</td><td>1452.7258</td></tr>\n",
              "\t<tr><td>Zambia    </td><td>1967</td><td> 3900000</td><td>Africa</td><td>47.768</td><td>1777.0773</td></tr>\n",
              "\t<tr><td>Zambia    </td><td>1972</td><td> 4506497</td><td>Africa</td><td>50.107</td><td>1773.4983</td></tr>\n",
              "\t<tr><td>Zambia    </td><td>1977</td><td> 5216550</td><td>Africa</td><td>51.386</td><td>1588.6883</td></tr>\n",
              "\t<tr><td>Zambia    </td><td>1982</td><td> 6100407</td><td>Africa</td><td>51.821</td><td>1408.6786</td></tr>\n",
              "\t<tr><td>Zambia    </td><td>1987</td><td> 7272406</td><td>Africa</td><td>50.821</td><td>1213.3151</td></tr>\n",
              "\t<tr><td>Zambia    </td><td>1992</td><td> 8381163</td><td>Africa</td><td>46.100</td><td>1210.8846</td></tr>\n",
              "\t<tr><td>Zambia    </td><td>1997</td><td> 9417789</td><td>Africa</td><td>40.238</td><td>1071.3538</td></tr>\n",
              "\t<tr><td>Zambia    </td><td>2002</td><td>10595811</td><td>Africa</td><td>39.193</td><td>1071.6139</td></tr>\n",
              "\t<tr><td>Zambia    </td><td>2007</td><td>11746035</td><td>Africa</td><td>42.384</td><td>1271.2116</td></tr>\n",
              "\t<tr><td>Zimbabwe  </td><td>1952</td><td> 3080907</td><td>Africa</td><td>48.451</td><td> 406.8841</td></tr>\n",
              "\t<tr><td>Zimbabwe  </td><td>1957</td><td> 3646340</td><td>Africa</td><td>50.469</td><td> 518.7643</td></tr>\n",
              "\t<tr><td>Zimbabwe  </td><td>1962</td><td> 4277736</td><td>Africa</td><td>52.358</td><td> 527.2722</td></tr>\n",
              "\t<tr><td>Zimbabwe  </td><td>1967</td><td> 4995432</td><td>Africa</td><td>53.995</td><td> 569.7951</td></tr>\n",
              "\t<tr><td>Zimbabwe  </td><td>1972</td><td> 5861135</td><td>Africa</td><td>55.635</td><td> 799.3622</td></tr>\n",
              "\t<tr><td>Zimbabwe  </td><td>1977</td><td> 6642107</td><td>Africa</td><td>57.674</td><td> 685.5877</td></tr>\n",
              "\t<tr><td>Zimbabwe  </td><td>1982</td><td> 7636524</td><td>Africa</td><td>60.363</td><td> 788.8550</td></tr>\n",
              "\t<tr><td>Zimbabwe  </td><td>1987</td><td> 9216418</td><td>Africa</td><td>62.351</td><td> 706.1573</td></tr>\n",
              "\t<tr><td>Zimbabwe  </td><td>1992</td><td>10704340</td><td>Africa</td><td>60.377</td><td> 693.4208</td></tr>\n",
              "\t<tr><td>Zimbabwe  </td><td>1997</td><td>11404948</td><td>Africa</td><td>46.809</td><td> 792.4500</td></tr>\n",
              "\t<tr><td>Zimbabwe  </td><td>2002</td><td>11926563</td><td>Africa</td><td>39.989</td><td> 672.0386</td></tr>\n",
              "\t<tr><td>Zimbabwe  </td><td>2007</td><td>12311143</td><td>Africa</td><td>43.487</td><td> 469.7093</td></tr>\n",
              "</tbody>\n",
              "</table>\n"
            ]
          },
          "metadata": {}
        }
      ]
    },
    {
      "cell_type": "code",
      "source": [
        "# Pour visualiser les premières lignes seulement (6 lignes par défaut)\n",
        "head(gapminder)"
      ],
      "metadata": {
        "colab": {
          "base_uri": "https://localhost:8080/",
          "height": 286
        },
        "id": "mFHGD8sHCJBl",
        "outputId": "21e92888-1338-4a7d-e21f-87fcaebe223b"
      },
      "execution_count": null,
      "outputs": [
        {
          "output_type": "display_data",
          "data": {
            "text/plain": [
              "  country     year pop      continent lifeExp gdpPercap\n",
              "1 Afghanistan 1952  8425333 Asia      28.801  779.4453 \n",
              "2 Afghanistan 1957  9240934 Asia      30.332  820.8530 \n",
              "3 Afghanistan 1962 10267083 Asia      31.997  853.1007 \n",
              "4 Afghanistan 1967 11537966 Asia      34.020  836.1971 \n",
              "5 Afghanistan 1972 13079460 Asia      36.088  739.9811 \n",
              "6 Afghanistan 1977 14880372 Asia      38.438  786.1134 "
            ],
            "text/latex": "A tibble: 6 × 6\n\\begin{tabular}{llllll}\n country & year & pop & continent & lifeExp & gdpPercap\\\\\n <chr> & <dbl> & <dbl> & <chr> & <dbl> & <dbl>\\\\\n\\hline\n\t Afghanistan & 1952 &  8425333 & Asia & 28.801 & 779.4453\\\\\n\t Afghanistan & 1957 &  9240934 & Asia & 30.332 & 820.8530\\\\\n\t Afghanistan & 1962 & 10267083 & Asia & 31.997 & 853.1007\\\\\n\t Afghanistan & 1967 & 11537966 & Asia & 34.020 & 836.1971\\\\\n\t Afghanistan & 1972 & 13079460 & Asia & 36.088 & 739.9811\\\\\n\t Afghanistan & 1977 & 14880372 & Asia & 38.438 & 786.1134\\\\\n\\end{tabular}\n",
            "text/markdown": "\nA tibble: 6 × 6\n\n| country &lt;chr&gt; | year &lt;dbl&gt; | pop &lt;dbl&gt; | continent &lt;chr&gt; | lifeExp &lt;dbl&gt; | gdpPercap &lt;dbl&gt; |\n|---|---|---|---|---|---|\n| Afghanistan | 1952 |  8425333 | Asia | 28.801 | 779.4453 |\n| Afghanistan | 1957 |  9240934 | Asia | 30.332 | 820.8530 |\n| Afghanistan | 1962 | 10267083 | Asia | 31.997 | 853.1007 |\n| Afghanistan | 1967 | 11537966 | Asia | 34.020 | 836.1971 |\n| Afghanistan | 1972 | 13079460 | Asia | 36.088 | 739.9811 |\n| Afghanistan | 1977 | 14880372 | Asia | 38.438 | 786.1134 |\n\n",
            "text/html": [
              "<table class=\"dataframe\">\n",
              "<caption>A tibble: 6 × 6</caption>\n",
              "<thead>\n",
              "\t<tr><th scope=col>country</th><th scope=col>year</th><th scope=col>pop</th><th scope=col>continent</th><th scope=col>lifeExp</th><th scope=col>gdpPercap</th></tr>\n",
              "\t<tr><th scope=col>&lt;chr&gt;</th><th scope=col>&lt;dbl&gt;</th><th scope=col>&lt;dbl&gt;</th><th scope=col>&lt;chr&gt;</th><th scope=col>&lt;dbl&gt;</th><th scope=col>&lt;dbl&gt;</th></tr>\n",
              "</thead>\n",
              "<tbody>\n",
              "\t<tr><td>Afghanistan</td><td>1952</td><td> 8425333</td><td>Asia</td><td>28.801</td><td>779.4453</td></tr>\n",
              "\t<tr><td>Afghanistan</td><td>1957</td><td> 9240934</td><td>Asia</td><td>30.332</td><td>820.8530</td></tr>\n",
              "\t<tr><td>Afghanistan</td><td>1962</td><td>10267083</td><td>Asia</td><td>31.997</td><td>853.1007</td></tr>\n",
              "\t<tr><td>Afghanistan</td><td>1967</td><td>11537966</td><td>Asia</td><td>34.020</td><td>836.1971</td></tr>\n",
              "\t<tr><td>Afghanistan</td><td>1972</td><td>13079460</td><td>Asia</td><td>36.088</td><td>739.9811</td></tr>\n",
              "\t<tr><td>Afghanistan</td><td>1977</td><td>14880372</td><td>Asia</td><td>38.438</td><td>786.1134</td></tr>\n",
              "</tbody>\n",
              "</table>\n"
            ]
          },
          "metadata": {}
        }
      ]
    },
    {
      "cell_type": "code",
      "source": [
        "# Google Colab présente les tibbles différement des consoles R normales\n",
        "# Seul l'aspect visuel est différent. Le contenu est identique pour R\n",
        "# Pour les voir de la même façon, on peut utiliser `print()`\n",
        "print(gapminder)\n",
        "\n",
        "# Pour voir toutes les lignes\n",
        "# print(gapminder, n = Inf)"
      ],
      "metadata": {
        "colab": {
          "base_uri": "https://localhost:8080/"
        },
        "id": "KfuYWddoG8To",
        "outputId": "2ba59c27-6bcf-429d-dfd7-b352295eae32"
      },
      "execution_count": null,
      "outputs": [
        {
          "output_type": "stream",
          "name": "stdout",
          "text": [
            "\u001b[90m# A tibble: 1,704 × 6\u001b[39m\n",
            "   country      year      pop continent lifeExp gdpPercap\n",
            "   \u001b[3m\u001b[90m<chr>\u001b[39m\u001b[23m       \u001b[3m\u001b[90m<dbl>\u001b[39m\u001b[23m    \u001b[3m\u001b[90m<dbl>\u001b[39m\u001b[23m \u001b[3m\u001b[90m<chr>\u001b[39m\u001b[23m       \u001b[3m\u001b[90m<dbl>\u001b[39m\u001b[23m     \u001b[3m\u001b[90m<dbl>\u001b[39m\u001b[23m\n",
            "\u001b[90m 1\u001b[39m Afghanistan  \u001b[4m1\u001b[24m952  8\u001b[4m4\u001b[24m\u001b[4m2\u001b[24m\u001b[4m5\u001b[24m333 Asia         28.8      779.\n",
            "\u001b[90m 2\u001b[39m Afghanistan  \u001b[4m1\u001b[24m957  9\u001b[4m2\u001b[24m\u001b[4m4\u001b[24m\u001b[4m0\u001b[24m934 Asia         30.3      821.\n",
            "\u001b[90m 3\u001b[39m Afghanistan  \u001b[4m1\u001b[24m962 10\u001b[4m2\u001b[24m\u001b[4m6\u001b[24m\u001b[4m7\u001b[24m083 Asia         32.0      853.\n",
            "\u001b[90m 4\u001b[39m Afghanistan  \u001b[4m1\u001b[24m967 11\u001b[4m5\u001b[24m\u001b[4m3\u001b[24m\u001b[4m7\u001b[24m966 Asia         34.0      836.\n",
            "\u001b[90m 5\u001b[39m Afghanistan  \u001b[4m1\u001b[24m972 13\u001b[4m0\u001b[24m\u001b[4m7\u001b[24m\u001b[4m9\u001b[24m460 Asia         36.1      740.\n",
            "\u001b[90m 6\u001b[39m Afghanistan  \u001b[4m1\u001b[24m977 14\u001b[4m8\u001b[24m\u001b[4m8\u001b[24m\u001b[4m0\u001b[24m372 Asia         38.4      786.\n",
            "\u001b[90m 7\u001b[39m Afghanistan  \u001b[4m1\u001b[24m982 12\u001b[4m8\u001b[24m\u001b[4m8\u001b[24m\u001b[4m1\u001b[24m816 Asia         39.9      978.\n",
            "\u001b[90m 8\u001b[39m Afghanistan  \u001b[4m1\u001b[24m987 13\u001b[4m8\u001b[24m\u001b[4m6\u001b[24m\u001b[4m7\u001b[24m957 Asia         40.8      852.\n",
            "\u001b[90m 9\u001b[39m Afghanistan  \u001b[4m1\u001b[24m992 16\u001b[4m3\u001b[24m\u001b[4m1\u001b[24m\u001b[4m7\u001b[24m921 Asia         41.7      649.\n",
            "\u001b[90m10\u001b[39m Afghanistan  \u001b[4m1\u001b[24m997 22\u001b[4m2\u001b[24m\u001b[4m2\u001b[24m\u001b[4m7\u001b[24m415 Asia         41.8      635.\n",
            "\u001b[90m# … with 1,694 more rows\u001b[39m\n"
          ]
        }
      ]
    },
    {
      "cell_type": "code",
      "source": [
        "# Une autre façon de visualiser le contenu des colonnes\n",
        "glimpse(gapminder)"
      ],
      "metadata": {
        "colab": {
          "base_uri": "https://localhost:8080/"
        },
        "id": "2Hg40S9Czyv2",
        "outputId": "9977f8e1-ad9f-4b97-a61b-09daea8165f1"
      },
      "execution_count": null,
      "outputs": [
        {
          "output_type": "stream",
          "name": "stdout",
          "text": [
            "Rows: 1,704\n",
            "Columns: 6\n",
            "$ country   \u001b[3m\u001b[90m<chr>\u001b[39m\u001b[23m \"Afghanistan\", \"Afghanistan\", \"Afghanistan\", \"Afghanistan\", …\n",
            "$ year      \u001b[3m\u001b[90m<dbl>\u001b[39m\u001b[23m 1952, 1957, 1962, 1967, 1972, 1977, 1982, 1987, 1992, 1997, …\n",
            "$ pop       \u001b[3m\u001b[90m<dbl>\u001b[39m\u001b[23m 8425333, 9240934, 10267083, 11537966, 13079460, 14880372, 12…\n",
            "$ continent \u001b[3m\u001b[90m<chr>\u001b[39m\u001b[23m \"Asia\", \"Asia\", \"Asia\", \"Asia\", \"Asia\", \"Asia\", \"Asia\", \"Asi…\n",
            "$ lifeExp   \u001b[3m\u001b[90m<dbl>\u001b[39m\u001b[23m 28.801, 30.332, 31.997, 34.020, 36.088, 38.438, 39.854, 40.8…\n",
            "$ gdpPercap \u001b[3m\u001b[90m<dbl>\u001b[39m\u001b[23m 779.4453, 820.8530, 853.1007, 836.1971, 739.9811, 786.1134, …\n"
          ]
        }
      ]
    },
    {
      "cell_type": "code",
      "source": [
        "# Regardons quelques détails sur le jeu de données\n",
        "summary(gapminder)"
      ],
      "metadata": {
        "colab": {
          "base_uri": "https://localhost:8080/",
          "height": 260
        },
        "id": "n-AhDtliA8o5",
        "outputId": "68bf1d43-3e73-496d-b320-8ed2cf1db6cf"
      },
      "execution_count": null,
      "outputs": [
        {
          "output_type": "display_data",
          "data": {
            "text/plain": [
              "   country               year           pop             continent        \n",
              " Length:1704        Min.   :1952   Min.   :6.001e+04   Length:1704       \n",
              " Class :character   1st Qu.:1966   1st Qu.:2.794e+06   Class :character  \n",
              " Mode  :character   Median :1980   Median :7.024e+06   Mode  :character  \n",
              "                    Mean   :1980   Mean   :2.960e+07                     \n",
              "                    3rd Qu.:1993   3rd Qu.:1.959e+07                     \n",
              "                    Max.   :2007   Max.   :1.319e+09                     \n",
              "    lifeExp        gdpPercap       \n",
              " Min.   :23.60   Min.   :   241.2  \n",
              " 1st Qu.:48.20   1st Qu.:  1202.1  \n",
              " Median :60.71   Median :  3531.8  \n",
              " Mean   :59.47   Mean   :  7215.3  \n",
              " 3rd Qu.:70.85   3rd Qu.:  9325.5  \n",
              " Max.   :82.60   Max.   :113523.1  "
            ]
          },
          "metadata": {}
        }
      ]
    },
    {
      "cell_type": "markdown",
      "source": [
        "# 1.0 Les opérations de base pour manipuler les données\n",
        "\n",
        "Nous verrons dans cet atelier les fonctions `tidyverse`, un ensemble de packages qui rendent la manipulation de données et le nettoyage très efficace, en particulier `dplyr` et `tidyr`. Cela dit, il est souvent possible de réaliser les mêmes opérations avec les fonctions de base de R (_base-R_). J'ai donc mis quelques exemples afin de comparer. \n",
        "\n",
        "Le package `dplyr` est le plus important pour la manipulation de données. Il comprend 5 opérations de base, que nous survolerons dans cette section.\n",
        "\n",
        "1. `select`: sélection de colonnes\n",
        "2. `filter`: sélections de rangées\n",
        "3. `group_by`: regroupement par catégories\n",
        "4. `summarize`: réaliser des opérations sur les groupes\n",
        "5. `mutate`: ajout de colonnes"
      ],
      "metadata": {
        "id": "Oc3NfMAJA_L6"
      }
    },
    {
      "cell_type": "markdown",
      "source": [
        "## 1.1 Sélection de colonnes avec `select`"
      ],
      "metadata": {
        "id": "KO-5P4xRBGwD"
      }
    },
    {
      "cell_type": "markdown",
      "source": [
        "_Note: J'utilise la fonction `head()` simplement pour éviter d'afficher trop de rangées à la fois. La fonction n'est pas nécessaire pour la manipulation de données en soi._"
      ],
      "metadata": {
        "id": "T8BgCeT6D6jM"
      }
    },
    {
      "cell_type": "code",
      "source": [
        "# Sélectionner certaines colonnes seulement\n",
        "gapminder_selection <- select(gapminder, year, country, gdpPercap)\n",
        "head(gapminder_selection)"
      ],
      "metadata": {
        "colab": {
          "base_uri": "https://localhost:8080/",
          "height": 286
        },
        "id": "OzD4vuIZBKF4",
        "outputId": "b57050d7-55a6-4afa-ae66-70830e42fac3"
      },
      "execution_count": null,
      "outputs": [
        {
          "output_type": "display_data",
          "data": {
            "text/plain": [
              "  year country     gdpPercap\n",
              "1 1952 Afghanistan 779.4453 \n",
              "2 1957 Afghanistan 820.8530 \n",
              "3 1962 Afghanistan 853.1007 \n",
              "4 1967 Afghanistan 836.1971 \n",
              "5 1972 Afghanistan 739.9811 \n",
              "6 1977 Afghanistan 786.1134 "
            ],
            "text/latex": "A tibble: 6 × 3\n\\begin{tabular}{lll}\n year & country & gdpPercap\\\\\n <dbl> & <chr> & <dbl>\\\\\n\\hline\n\t 1952 & Afghanistan & 779.4453\\\\\n\t 1957 & Afghanistan & 820.8530\\\\\n\t 1962 & Afghanistan & 853.1007\\\\\n\t 1967 & Afghanistan & 836.1971\\\\\n\t 1972 & Afghanistan & 739.9811\\\\\n\t 1977 & Afghanistan & 786.1134\\\\\n\\end{tabular}\n",
            "text/markdown": "\nA tibble: 6 × 3\n\n| year &lt;dbl&gt; | country &lt;chr&gt; | gdpPercap &lt;dbl&gt; |\n|---|---|---|\n| 1952 | Afghanistan | 779.4453 |\n| 1957 | Afghanistan | 820.8530 |\n| 1962 | Afghanistan | 853.1007 |\n| 1967 | Afghanistan | 836.1971 |\n| 1972 | Afghanistan | 739.9811 |\n| 1977 | Afghanistan | 786.1134 |\n\n",
            "text/html": [
              "<table class=\"dataframe\">\n",
              "<caption>A tibble: 6 × 3</caption>\n",
              "<thead>\n",
              "\t<tr><th scope=col>year</th><th scope=col>country</th><th scope=col>gdpPercap</th></tr>\n",
              "\t<tr><th scope=col>&lt;dbl&gt;</th><th scope=col>&lt;chr&gt;</th><th scope=col>&lt;dbl&gt;</th></tr>\n",
              "</thead>\n",
              "<tbody>\n",
              "\t<tr><td>1952</td><td>Afghanistan</td><td>779.4453</td></tr>\n",
              "\t<tr><td>1957</td><td>Afghanistan</td><td>820.8530</td></tr>\n",
              "\t<tr><td>1962</td><td>Afghanistan</td><td>853.1007</td></tr>\n",
              "\t<tr><td>1967</td><td>Afghanistan</td><td>836.1971</td></tr>\n",
              "\t<tr><td>1972</td><td>Afghanistan</td><td>739.9811</td></tr>\n",
              "\t<tr><td>1977</td><td>Afghanistan</td><td>786.1134</td></tr>\n",
              "</tbody>\n",
              "</table>\n"
            ]
          },
          "metadata": {}
        }
      ]
    },
    {
      "cell_type": "code",
      "source": [
        "# La même opération, mais en utilisant `%>%` (pipe, ou tuyau)\n",
        "# Le pipe se combine bien avec toutes les fonctions où le jeu de données est le \n",
        "# premier argument, comme `head()`\n",
        "gapminder %>%\n",
        "  select(year, country, gdpPercap) %>%\n",
        "  head()"
      ],
      "metadata": {
        "colab": {
          "base_uri": "https://localhost:8080/",
          "height": 286
        },
        "id": "eYZXZLGJC2FC",
        "outputId": "dbf0b084-68d4-432f-8949-1bf4698e0bf4"
      },
      "execution_count": null,
      "outputs": [
        {
          "output_type": "display_data",
          "data": {
            "text/plain": [
              "  year country     gdpPercap\n",
              "1 1952 Afghanistan 779.4453 \n",
              "2 1957 Afghanistan 820.8530 \n",
              "3 1962 Afghanistan 853.1007 \n",
              "4 1967 Afghanistan 836.1971 \n",
              "5 1972 Afghanistan 739.9811 \n",
              "6 1977 Afghanistan 786.1134 "
            ],
            "text/latex": "A tibble: 6 × 3\n\\begin{tabular}{lll}\n year & country & gdpPercap\\\\\n <dbl> & <chr> & <dbl>\\\\\n\\hline\n\t 1952 & Afghanistan & 779.4453\\\\\n\t 1957 & Afghanistan & 820.8530\\\\\n\t 1962 & Afghanistan & 853.1007\\\\\n\t 1967 & Afghanistan & 836.1971\\\\\n\t 1972 & Afghanistan & 739.9811\\\\\n\t 1977 & Afghanistan & 786.1134\\\\\n\\end{tabular}\n",
            "text/markdown": "\nA tibble: 6 × 3\n\n| year &lt;dbl&gt; | country &lt;chr&gt; | gdpPercap &lt;dbl&gt; |\n|---|---|---|\n| 1952 | Afghanistan | 779.4453 |\n| 1957 | Afghanistan | 820.8530 |\n| 1962 | Afghanistan | 853.1007 |\n| 1967 | Afghanistan | 836.1971 |\n| 1972 | Afghanistan | 739.9811 |\n| 1977 | Afghanistan | 786.1134 |\n\n",
            "text/html": [
              "<table class=\"dataframe\">\n",
              "<caption>A tibble: 6 × 3</caption>\n",
              "<thead>\n",
              "\t<tr><th scope=col>year</th><th scope=col>country</th><th scope=col>gdpPercap</th></tr>\n",
              "\t<tr><th scope=col>&lt;dbl&gt;</th><th scope=col>&lt;chr&gt;</th><th scope=col>&lt;dbl&gt;</th></tr>\n",
              "</thead>\n",
              "<tbody>\n",
              "\t<tr><td>1952</td><td>Afghanistan</td><td>779.4453</td></tr>\n",
              "\t<tr><td>1957</td><td>Afghanistan</td><td>820.8530</td></tr>\n",
              "\t<tr><td>1962</td><td>Afghanistan</td><td>853.1007</td></tr>\n",
              "\t<tr><td>1967</td><td>Afghanistan</td><td>836.1971</td></tr>\n",
              "\t<tr><td>1972</td><td>Afghanistan</td><td>739.9811</td></tr>\n",
              "\t<tr><td>1977</td><td>Afghanistan</td><td>786.1134</td></tr>\n",
              "</tbody>\n",
              "</table>\n"
            ]
          },
          "metadata": {}
        }
      ]
    },
    {
      "cell_type": "code",
      "source": [
        "# Remarquez que l'ordre de sélection détermine l'ordre de présentation des colonnes\n",
        "gapminder %>%\n",
        "  select(country, year, gdpPercap) %>%\n",
        "  head()"
      ],
      "metadata": {
        "colab": {
          "base_uri": "https://localhost:8080/",
          "height": 286
        },
        "id": "TC5-nrFsK_kg",
        "outputId": "62042fd0-ecc0-4008-d665-2078d795d701"
      },
      "execution_count": null,
      "outputs": [
        {
          "output_type": "display_data",
          "data": {
            "text/plain": [
              "  country     year gdpPercap\n",
              "1 Afghanistan 1952 779.4453 \n",
              "2 Afghanistan 1957 820.8530 \n",
              "3 Afghanistan 1962 853.1007 \n",
              "4 Afghanistan 1967 836.1971 \n",
              "5 Afghanistan 1972 739.9811 \n",
              "6 Afghanistan 1977 786.1134 "
            ],
            "text/latex": "A tibble: 6 × 3\n\\begin{tabular}{lll}\n country & year & gdpPercap\\\\\n <chr> & <dbl> & <dbl>\\\\\n\\hline\n\t Afghanistan & 1952 & 779.4453\\\\\n\t Afghanistan & 1957 & 820.8530\\\\\n\t Afghanistan & 1962 & 853.1007\\\\\n\t Afghanistan & 1967 & 836.1971\\\\\n\t Afghanistan & 1972 & 739.9811\\\\\n\t Afghanistan & 1977 & 786.1134\\\\\n\\end{tabular}\n",
            "text/markdown": "\nA tibble: 6 × 3\n\n| country &lt;chr&gt; | year &lt;dbl&gt; | gdpPercap &lt;dbl&gt; |\n|---|---|---|\n| Afghanistan | 1952 | 779.4453 |\n| Afghanistan | 1957 | 820.8530 |\n| Afghanistan | 1962 | 853.1007 |\n| Afghanistan | 1967 | 836.1971 |\n| Afghanistan | 1972 | 739.9811 |\n| Afghanistan | 1977 | 786.1134 |\n\n",
            "text/html": [
              "<table class=\"dataframe\">\n",
              "<caption>A tibble: 6 × 3</caption>\n",
              "<thead>\n",
              "\t<tr><th scope=col>country</th><th scope=col>year</th><th scope=col>gdpPercap</th></tr>\n",
              "\t<tr><th scope=col>&lt;chr&gt;</th><th scope=col>&lt;dbl&gt;</th><th scope=col>&lt;dbl&gt;</th></tr>\n",
              "</thead>\n",
              "<tbody>\n",
              "\t<tr><td>Afghanistan</td><td>1952</td><td>779.4453</td></tr>\n",
              "\t<tr><td>Afghanistan</td><td>1957</td><td>820.8530</td></tr>\n",
              "\t<tr><td>Afghanistan</td><td>1962</td><td>853.1007</td></tr>\n",
              "\t<tr><td>Afghanistan</td><td>1967</td><td>836.1971</td></tr>\n",
              "\t<tr><td>Afghanistan</td><td>1972</td><td>739.9811</td></tr>\n",
              "\t<tr><td>Afghanistan</td><td>1977</td><td>786.1134</td></tr>\n",
              "</tbody>\n",
              "</table>\n"
            ]
          },
          "metadata": {}
        }
      ]
    },
    {
      "cell_type": "code",
      "source": [
        "# Retirer une colonne donnée\n",
        "gapminder %>%\n",
        "  select(-lifeExp, -pop) %>%\n",
        "  head()"
      ],
      "metadata": {
        "colab": {
          "base_uri": "https://localhost:8080/",
          "height": 286
        },
        "id": "3q3KgnipBfcO",
        "outputId": "db2d16d4-8ab6-48c4-c703-7df0d55d6990"
      },
      "execution_count": null,
      "outputs": [
        {
          "output_type": "display_data",
          "data": {
            "text/plain": [
              "  country     year continent gdpPercap\n",
              "1 Afghanistan 1952 Asia      779.4453 \n",
              "2 Afghanistan 1957 Asia      820.8530 \n",
              "3 Afghanistan 1962 Asia      853.1007 \n",
              "4 Afghanistan 1967 Asia      836.1971 \n",
              "5 Afghanistan 1972 Asia      739.9811 \n",
              "6 Afghanistan 1977 Asia      786.1134 "
            ],
            "text/latex": "A tibble: 6 × 4\n\\begin{tabular}{llll}\n country & year & continent & gdpPercap\\\\\n <chr> & <dbl> & <chr> & <dbl>\\\\\n\\hline\n\t Afghanistan & 1952 & Asia & 779.4453\\\\\n\t Afghanistan & 1957 & Asia & 820.8530\\\\\n\t Afghanistan & 1962 & Asia & 853.1007\\\\\n\t Afghanistan & 1967 & Asia & 836.1971\\\\\n\t Afghanistan & 1972 & Asia & 739.9811\\\\\n\t Afghanistan & 1977 & Asia & 786.1134\\\\\n\\end{tabular}\n",
            "text/markdown": "\nA tibble: 6 × 4\n\n| country &lt;chr&gt; | year &lt;dbl&gt; | continent &lt;chr&gt; | gdpPercap &lt;dbl&gt; |\n|---|---|---|---|\n| Afghanistan | 1952 | Asia | 779.4453 |\n| Afghanistan | 1957 | Asia | 820.8530 |\n| Afghanistan | 1962 | Asia | 853.1007 |\n| Afghanistan | 1967 | Asia | 836.1971 |\n| Afghanistan | 1972 | Asia | 739.9811 |\n| Afghanistan | 1977 | Asia | 786.1134 |\n\n",
            "text/html": [
              "<table class=\"dataframe\">\n",
              "<caption>A tibble: 6 × 4</caption>\n",
              "<thead>\n",
              "\t<tr><th scope=col>country</th><th scope=col>year</th><th scope=col>continent</th><th scope=col>gdpPercap</th></tr>\n",
              "\t<tr><th scope=col>&lt;chr&gt;</th><th scope=col>&lt;dbl&gt;</th><th scope=col>&lt;chr&gt;</th><th scope=col>&lt;dbl&gt;</th></tr>\n",
              "</thead>\n",
              "<tbody>\n",
              "\t<tr><td>Afghanistan</td><td>1952</td><td>Asia</td><td>779.4453</td></tr>\n",
              "\t<tr><td>Afghanistan</td><td>1957</td><td>Asia</td><td>820.8530</td></tr>\n",
              "\t<tr><td>Afghanistan</td><td>1962</td><td>Asia</td><td>853.1007</td></tr>\n",
              "\t<tr><td>Afghanistan</td><td>1967</td><td>Asia</td><td>836.1971</td></tr>\n",
              "\t<tr><td>Afghanistan</td><td>1972</td><td>Asia</td><td>739.9811</td></tr>\n",
              "\t<tr><td>Afghanistan</td><td>1977</td><td>Asia</td><td>786.1134</td></tr>\n",
              "</tbody>\n",
              "</table>\n"
            ]
          },
          "metadata": {}
        }
      ]
    },
    {
      "cell_type": "markdown",
      "source": [
        "## 1.2 Sélection de rangées avec `filter`"
      ],
      "metadata": {
        "id": "q3jbvLChE7WV"
      }
    },
    {
      "cell_type": "code",
      "source": [
        "# Sélectionner les rangées appartenant à une seule catégorie\n",
        "gapminder %>%\n",
        "  filter(continent == \"Europe\") %>%\n",
        "  select(year, country, gdpPercap) %>%\n",
        "  head()"
      ],
      "metadata": {
        "colab": {
          "base_uri": "https://localhost:8080/",
          "height": 286
        },
        "id": "ltPmxjdyFCJP",
        "outputId": "ad809541-a7ab-4d2e-fa6a-1a27858d4145"
      },
      "execution_count": null,
      "outputs": [
        {
          "output_type": "display_data",
          "data": {
            "text/plain": [
              "  year country gdpPercap\n",
              "1 1952 Albania 1601.056 \n",
              "2 1957 Albania 1942.284 \n",
              "3 1962 Albania 2312.889 \n",
              "4 1967 Albania 2760.197 \n",
              "5 1972 Albania 3313.422 \n",
              "6 1977 Albania 3533.004 "
            ],
            "text/latex": "A tibble: 6 × 3\n\\begin{tabular}{lll}\n year & country & gdpPercap\\\\\n <dbl> & <chr> & <dbl>\\\\\n\\hline\n\t 1952 & Albania & 1601.056\\\\\n\t 1957 & Albania & 1942.284\\\\\n\t 1962 & Albania & 2312.889\\\\\n\t 1967 & Albania & 2760.197\\\\\n\t 1972 & Albania & 3313.422\\\\\n\t 1977 & Albania & 3533.004\\\\\n\\end{tabular}\n",
            "text/markdown": "\nA tibble: 6 × 3\n\n| year &lt;dbl&gt; | country &lt;chr&gt; | gdpPercap &lt;dbl&gt; |\n|---|---|---|\n| 1952 | Albania | 1601.056 |\n| 1957 | Albania | 1942.284 |\n| 1962 | Albania | 2312.889 |\n| 1967 | Albania | 2760.197 |\n| 1972 | Albania | 3313.422 |\n| 1977 | Albania | 3533.004 |\n\n",
            "text/html": [
              "<table class=\"dataframe\">\n",
              "<caption>A tibble: 6 × 3</caption>\n",
              "<thead>\n",
              "\t<tr><th scope=col>year</th><th scope=col>country</th><th scope=col>gdpPercap</th></tr>\n",
              "\t<tr><th scope=col>&lt;dbl&gt;</th><th scope=col>&lt;chr&gt;</th><th scope=col>&lt;dbl&gt;</th></tr>\n",
              "</thead>\n",
              "<tbody>\n",
              "\t<tr><td>1952</td><td>Albania</td><td>1601.056</td></tr>\n",
              "\t<tr><td>1957</td><td>Albania</td><td>1942.284</td></tr>\n",
              "\t<tr><td>1962</td><td>Albania</td><td>2312.889</td></tr>\n",
              "\t<tr><td>1967</td><td>Albania</td><td>2760.197</td></tr>\n",
              "\t<tr><td>1972</td><td>Albania</td><td>3313.422</td></tr>\n",
              "\t<tr><td>1977</td><td>Albania</td><td>3533.004</td></tr>\n",
              "</tbody>\n",
              "</table>\n"
            ]
          },
          "metadata": {}
        }
      ]
    },
    {
      "cell_type": "markdown",
      "source": [
        "Remarquez que l'ordre des opérations n'est pas interchangeable dans ce cas-ci, puisqu'on retire la colonne `continent`."
      ],
      "metadata": {
        "id": "867fmSMVLjyw"
      }
    },
    {
      "cell_type": "code",
      "source": [
        "# Cette opération est encore réalisable avec base-R (deux façons)\n",
        "head(gapminder[gapminder$continent == \"Europe\", c(\"year\", \"country\", \"gdpPercap\")])\n",
        "head(subset(gapminder, continent == \"Europe\", select = c(\"year\", \"country\", \"gdpPercap\")))"
      ],
      "metadata": {
        "colab": {
          "base_uri": "https://localhost:8080/",
          "height": 556
        },
        "id": "gnkfdtkqdwWL",
        "outputId": "9ad46144-b56d-474b-be34-5f67119413f0"
      },
      "execution_count": null,
      "outputs": [
        {
          "output_type": "display_data",
          "data": {
            "text/plain": [
              "  year country gdpPercap\n",
              "1 1952 Albania 1601.056 \n",
              "2 1957 Albania 1942.284 \n",
              "3 1962 Albania 2312.889 \n",
              "4 1967 Albania 2760.197 \n",
              "5 1972 Albania 3313.422 \n",
              "6 1977 Albania 3533.004 "
            ],
            "text/latex": "A tibble: 6 × 3\n\\begin{tabular}{lll}\n year & country & gdpPercap\\\\\n <dbl> & <chr> & <dbl>\\\\\n\\hline\n\t 1952 & Albania & 1601.056\\\\\n\t 1957 & Albania & 1942.284\\\\\n\t 1962 & Albania & 2312.889\\\\\n\t 1967 & Albania & 2760.197\\\\\n\t 1972 & Albania & 3313.422\\\\\n\t 1977 & Albania & 3533.004\\\\\n\\end{tabular}\n",
            "text/markdown": "\nA tibble: 6 × 3\n\n| year &lt;dbl&gt; | country &lt;chr&gt; | gdpPercap &lt;dbl&gt; |\n|---|---|---|\n| 1952 | Albania | 1601.056 |\n| 1957 | Albania | 1942.284 |\n| 1962 | Albania | 2312.889 |\n| 1967 | Albania | 2760.197 |\n| 1972 | Albania | 3313.422 |\n| 1977 | Albania | 3533.004 |\n\n",
            "text/html": [
              "<table class=\"dataframe\">\n",
              "<caption>A tibble: 6 × 3</caption>\n",
              "<thead>\n",
              "\t<tr><th scope=col>year</th><th scope=col>country</th><th scope=col>gdpPercap</th></tr>\n",
              "\t<tr><th scope=col>&lt;dbl&gt;</th><th scope=col>&lt;chr&gt;</th><th scope=col>&lt;dbl&gt;</th></tr>\n",
              "</thead>\n",
              "<tbody>\n",
              "\t<tr><td>1952</td><td>Albania</td><td>1601.056</td></tr>\n",
              "\t<tr><td>1957</td><td>Albania</td><td>1942.284</td></tr>\n",
              "\t<tr><td>1962</td><td>Albania</td><td>2312.889</td></tr>\n",
              "\t<tr><td>1967</td><td>Albania</td><td>2760.197</td></tr>\n",
              "\t<tr><td>1972</td><td>Albania</td><td>3313.422</td></tr>\n",
              "\t<tr><td>1977</td><td>Albania</td><td>3533.004</td></tr>\n",
              "</tbody>\n",
              "</table>\n"
            ]
          },
          "metadata": {}
        },
        {
          "output_type": "display_data",
          "data": {
            "text/plain": [
              "  year country gdpPercap\n",
              "1 1952 Albania 1601.056 \n",
              "2 1957 Albania 1942.284 \n",
              "3 1962 Albania 2312.889 \n",
              "4 1967 Albania 2760.197 \n",
              "5 1972 Albania 3313.422 \n",
              "6 1977 Albania 3533.004 "
            ],
            "text/latex": "A tibble: 6 × 3\n\\begin{tabular}{lll}\n year & country & gdpPercap\\\\\n <dbl> & <chr> & <dbl>\\\\\n\\hline\n\t 1952 & Albania & 1601.056\\\\\n\t 1957 & Albania & 1942.284\\\\\n\t 1962 & Albania & 2312.889\\\\\n\t 1967 & Albania & 2760.197\\\\\n\t 1972 & Albania & 3313.422\\\\\n\t 1977 & Albania & 3533.004\\\\\n\\end{tabular}\n",
            "text/markdown": "\nA tibble: 6 × 3\n\n| year &lt;dbl&gt; | country &lt;chr&gt; | gdpPercap &lt;dbl&gt; |\n|---|---|---|\n| 1952 | Albania | 1601.056 |\n| 1957 | Albania | 1942.284 |\n| 1962 | Albania | 2312.889 |\n| 1967 | Albania | 2760.197 |\n| 1972 | Albania | 3313.422 |\n| 1977 | Albania | 3533.004 |\n\n",
            "text/html": [
              "<table class=\"dataframe\">\n",
              "<caption>A tibble: 6 × 3</caption>\n",
              "<thead>\n",
              "\t<tr><th scope=col>year</th><th scope=col>country</th><th scope=col>gdpPercap</th></tr>\n",
              "\t<tr><th scope=col>&lt;dbl&gt;</th><th scope=col>&lt;chr&gt;</th><th scope=col>&lt;dbl&gt;</th></tr>\n",
              "</thead>\n",
              "<tbody>\n",
              "\t<tr><td>1952</td><td>Albania</td><td>1601.056</td></tr>\n",
              "\t<tr><td>1957</td><td>Albania</td><td>1942.284</td></tr>\n",
              "\t<tr><td>1962</td><td>Albania</td><td>2312.889</td></tr>\n",
              "\t<tr><td>1967</td><td>Albania</td><td>2760.197</td></tr>\n",
              "\t<tr><td>1972</td><td>Albania</td><td>3313.422</td></tr>\n",
              "\t<tr><td>1977</td><td>Albania</td><td>3533.004</td></tr>\n",
              "</tbody>\n",
              "</table>\n"
            ]
          },
          "metadata": {}
        }
      ]
    },
    {
      "cell_type": "code",
      "source": [
        "# Sélectionner les rangées appartenant à deux catégories\n",
        "gapminder %>% \n",
        "  filter(continent %in% c(\"Europe\", \"Africa\")) %>%\n",
        "  head()"
      ],
      "metadata": {
        "colab": {
          "base_uri": "https://localhost:8080/",
          "height": 286
        },
        "id": "XLMaDyIwGSyQ",
        "outputId": "d199b09e-ef06-4f26-cede-aea10a59c05d"
      },
      "execution_count": null,
      "outputs": [
        {
          "output_type": "display_data",
          "data": {
            "text/plain": [
              "  country year pop     continent lifeExp gdpPercap\n",
              "1 Albania 1952 1282697 Europe    55.23   1601.056 \n",
              "2 Albania 1957 1476505 Europe    59.28   1942.284 \n",
              "3 Albania 1962 1728137 Europe    64.82   2312.889 \n",
              "4 Albania 1967 1984060 Europe    66.22   2760.197 \n",
              "5 Albania 1972 2263554 Europe    67.69   3313.422 \n",
              "6 Albania 1977 2509048 Europe    68.93   3533.004 "
            ],
            "text/latex": "A tibble: 6 × 6\n\\begin{tabular}{llllll}\n country & year & pop & continent & lifeExp & gdpPercap\\\\\n <chr> & <dbl> & <dbl> & <chr> & <dbl> & <dbl>\\\\\n\\hline\n\t Albania & 1952 & 1282697 & Europe & 55.23 & 1601.056\\\\\n\t Albania & 1957 & 1476505 & Europe & 59.28 & 1942.284\\\\\n\t Albania & 1962 & 1728137 & Europe & 64.82 & 2312.889\\\\\n\t Albania & 1967 & 1984060 & Europe & 66.22 & 2760.197\\\\\n\t Albania & 1972 & 2263554 & Europe & 67.69 & 3313.422\\\\\n\t Albania & 1977 & 2509048 & Europe & 68.93 & 3533.004\\\\\n\\end{tabular}\n",
            "text/markdown": "\nA tibble: 6 × 6\n\n| country &lt;chr&gt; | year &lt;dbl&gt; | pop &lt;dbl&gt; | continent &lt;chr&gt; | lifeExp &lt;dbl&gt; | gdpPercap &lt;dbl&gt; |\n|---|---|---|---|---|---|\n| Albania | 1952 | 1282697 | Europe | 55.23 | 1601.056 |\n| Albania | 1957 | 1476505 | Europe | 59.28 | 1942.284 |\n| Albania | 1962 | 1728137 | Europe | 64.82 | 2312.889 |\n| Albania | 1967 | 1984060 | Europe | 66.22 | 2760.197 |\n| Albania | 1972 | 2263554 | Europe | 67.69 | 3313.422 |\n| Albania | 1977 | 2509048 | Europe | 68.93 | 3533.004 |\n\n",
            "text/html": [
              "<table class=\"dataframe\">\n",
              "<caption>A tibble: 6 × 6</caption>\n",
              "<thead>\n",
              "\t<tr><th scope=col>country</th><th scope=col>year</th><th scope=col>pop</th><th scope=col>continent</th><th scope=col>lifeExp</th><th scope=col>gdpPercap</th></tr>\n",
              "\t<tr><th scope=col>&lt;chr&gt;</th><th scope=col>&lt;dbl&gt;</th><th scope=col>&lt;dbl&gt;</th><th scope=col>&lt;chr&gt;</th><th scope=col>&lt;dbl&gt;</th><th scope=col>&lt;dbl&gt;</th></tr>\n",
              "</thead>\n",
              "<tbody>\n",
              "\t<tr><td>Albania</td><td>1952</td><td>1282697</td><td>Europe</td><td>55.23</td><td>1601.056</td></tr>\n",
              "\t<tr><td>Albania</td><td>1957</td><td>1476505</td><td>Europe</td><td>59.28</td><td>1942.284</td></tr>\n",
              "\t<tr><td>Albania</td><td>1962</td><td>1728137</td><td>Europe</td><td>64.82</td><td>2312.889</td></tr>\n",
              "\t<tr><td>Albania</td><td>1967</td><td>1984060</td><td>Europe</td><td>66.22</td><td>2760.197</td></tr>\n",
              "\t<tr><td>Albania</td><td>1972</td><td>2263554</td><td>Europe</td><td>67.69</td><td>3313.422</td></tr>\n",
              "\t<tr><td>Albania</td><td>1977</td><td>2509048</td><td>Europe</td><td>68.93</td><td>3533.004</td></tr>\n",
              "</tbody>\n",
              "</table>\n"
            ]
          },
          "metadata": {}
        }
      ]
    },
    {
      "cell_type": "code",
      "source": [
        "# Filter les rangées selon deux critères différents\n",
        "gapminder %>%\n",
        "  filter(continent == \"Europe\", year >= 2007) %>%\n",
        "  head()"
      ],
      "metadata": {
        "colab": {
          "base_uri": "https://localhost:8080/",
          "height": 286
        },
        "id": "tXfgr2_2Isib",
        "outputId": "d88a1314-610f-4594-f79d-9dcb0f3b2049"
      },
      "execution_count": null,
      "outputs": [
        {
          "output_type": "display_data",
          "data": {
            "text/plain": [
              "  country                year pop      continent lifeExp gdpPercap\n",
              "1 Albania                2007  3600523 Europe    76.423   5937.030\n",
              "2 Austria                2007  8199783 Europe    79.829  36126.493\n",
              "3 Belgium                2007 10392226 Europe    79.441  33692.605\n",
              "4 Bosnia and Herzegovina 2007  4552198 Europe    74.852   7446.299\n",
              "5 Bulgaria               2007  7322858 Europe    73.005  10680.793\n",
              "6 Croatia                2007  4493312 Europe    75.748  14619.223"
            ],
            "text/latex": "A tibble: 6 × 6\n\\begin{tabular}{llllll}\n country & year & pop & continent & lifeExp & gdpPercap\\\\\n <chr> & <dbl> & <dbl> & <chr> & <dbl> & <dbl>\\\\\n\\hline\n\t Albania                & 2007 &  3600523 & Europe & 76.423 &  5937.030\\\\\n\t Austria                & 2007 &  8199783 & Europe & 79.829 & 36126.493\\\\\n\t Belgium                & 2007 & 10392226 & Europe & 79.441 & 33692.605\\\\\n\t Bosnia and Herzegovina & 2007 &  4552198 & Europe & 74.852 &  7446.299\\\\\n\t Bulgaria               & 2007 &  7322858 & Europe & 73.005 & 10680.793\\\\\n\t Croatia                & 2007 &  4493312 & Europe & 75.748 & 14619.223\\\\\n\\end{tabular}\n",
            "text/markdown": "\nA tibble: 6 × 6\n\n| country &lt;chr&gt; | year &lt;dbl&gt; | pop &lt;dbl&gt; | continent &lt;chr&gt; | lifeExp &lt;dbl&gt; | gdpPercap &lt;dbl&gt; |\n|---|---|---|---|---|---|\n| Albania                | 2007 |  3600523 | Europe | 76.423 |  5937.030 |\n| Austria                | 2007 |  8199783 | Europe | 79.829 | 36126.493 |\n| Belgium                | 2007 | 10392226 | Europe | 79.441 | 33692.605 |\n| Bosnia and Herzegovina | 2007 |  4552198 | Europe | 74.852 |  7446.299 |\n| Bulgaria               | 2007 |  7322858 | Europe | 73.005 | 10680.793 |\n| Croatia                | 2007 |  4493312 | Europe | 75.748 | 14619.223 |\n\n",
            "text/html": [
              "<table class=\"dataframe\">\n",
              "<caption>A tibble: 6 × 6</caption>\n",
              "<thead>\n",
              "\t<tr><th scope=col>country</th><th scope=col>year</th><th scope=col>pop</th><th scope=col>continent</th><th scope=col>lifeExp</th><th scope=col>gdpPercap</th></tr>\n",
              "\t<tr><th scope=col>&lt;chr&gt;</th><th scope=col>&lt;dbl&gt;</th><th scope=col>&lt;dbl&gt;</th><th scope=col>&lt;chr&gt;</th><th scope=col>&lt;dbl&gt;</th><th scope=col>&lt;dbl&gt;</th></tr>\n",
              "</thead>\n",
              "<tbody>\n",
              "\t<tr><td>Albania               </td><td>2007</td><td> 3600523</td><td>Europe</td><td>76.423</td><td> 5937.030</td></tr>\n",
              "\t<tr><td>Austria               </td><td>2007</td><td> 8199783</td><td>Europe</td><td>79.829</td><td>36126.493</td></tr>\n",
              "\t<tr><td>Belgium               </td><td>2007</td><td>10392226</td><td>Europe</td><td>79.441</td><td>33692.605</td></tr>\n",
              "\t<tr><td>Bosnia and Herzegovina</td><td>2007</td><td> 4552198</td><td>Europe</td><td>74.852</td><td> 7446.299</td></tr>\n",
              "\t<tr><td>Bulgaria              </td><td>2007</td><td> 7322858</td><td>Europe</td><td>73.005</td><td>10680.793</td></tr>\n",
              "\t<tr><td>Croatia               </td><td>2007</td><td> 4493312</td><td>Europe</td><td>75.748</td><td>14619.223</td></tr>\n",
              "</tbody>\n",
              "</table>\n"
            ]
          },
          "metadata": {}
        }
      ]
    },
    {
      "cell_type": "code",
      "source": [
        "# Filter les rangées à partir d'une étendue de valeurs\n",
        "gapminder %>%\n",
        "  filter(continent == \"Europe\", between(year, 2000, 2010)) %>%\n",
        "  head()"
      ],
      "metadata": {
        "colab": {
          "base_uri": "https://localhost:8080/",
          "height": 286
        },
        "outputId": "dc025c6e-012a-469c-b4c6-b29586733874",
        "id": "kHvRHLUQghnZ"
      },
      "execution_count": null,
      "outputs": [
        {
          "output_type": "display_data",
          "data": {
            "text/plain": [
              "  country year pop      continent lifeExp gdpPercap\n",
              "1 Albania 2002  3508512 Europe    75.651   4604.212\n",
              "2 Albania 2007  3600523 Europe    76.423   5937.030\n",
              "3 Austria 2002  8148312 Europe    78.980  32417.608\n",
              "4 Austria 2007  8199783 Europe    79.829  36126.493\n",
              "5 Belgium 2002 10311970 Europe    78.320  30485.884\n",
              "6 Belgium 2007 10392226 Europe    79.441  33692.605"
            ],
            "text/latex": "A tibble: 6 × 6\n\\begin{tabular}{llllll}\n country & year & pop & continent & lifeExp & gdpPercap\\\\\n <chr> & <dbl> & <dbl> & <chr> & <dbl> & <dbl>\\\\\n\\hline\n\t Albania & 2002 &  3508512 & Europe & 75.651 &  4604.212\\\\\n\t Albania & 2007 &  3600523 & Europe & 76.423 &  5937.030\\\\\n\t Austria & 2002 &  8148312 & Europe & 78.980 & 32417.608\\\\\n\t Austria & 2007 &  8199783 & Europe & 79.829 & 36126.493\\\\\n\t Belgium & 2002 & 10311970 & Europe & 78.320 & 30485.884\\\\\n\t Belgium & 2007 & 10392226 & Europe & 79.441 & 33692.605\\\\\n\\end{tabular}\n",
            "text/markdown": "\nA tibble: 6 × 6\n\n| country &lt;chr&gt; | year &lt;dbl&gt; | pop &lt;dbl&gt; | continent &lt;chr&gt; | lifeExp &lt;dbl&gt; | gdpPercap &lt;dbl&gt; |\n|---|---|---|---|---|---|\n| Albania | 2002 |  3508512 | Europe | 75.651 |  4604.212 |\n| Albania | 2007 |  3600523 | Europe | 76.423 |  5937.030 |\n| Austria | 2002 |  8148312 | Europe | 78.980 | 32417.608 |\n| Austria | 2007 |  8199783 | Europe | 79.829 | 36126.493 |\n| Belgium | 2002 | 10311970 | Europe | 78.320 | 30485.884 |\n| Belgium | 2007 | 10392226 | Europe | 79.441 | 33692.605 |\n\n",
            "text/html": [
              "<table class=\"dataframe\">\n",
              "<caption>A tibble: 6 × 6</caption>\n",
              "<thead>\n",
              "\t<tr><th scope=col>country</th><th scope=col>year</th><th scope=col>pop</th><th scope=col>continent</th><th scope=col>lifeExp</th><th scope=col>gdpPercap</th></tr>\n",
              "\t<tr><th scope=col>&lt;chr&gt;</th><th scope=col>&lt;dbl&gt;</th><th scope=col>&lt;dbl&gt;</th><th scope=col>&lt;chr&gt;</th><th scope=col>&lt;dbl&gt;</th><th scope=col>&lt;dbl&gt;</th></tr>\n",
              "</thead>\n",
              "<tbody>\n",
              "\t<tr><td>Albania</td><td>2002</td><td> 3508512</td><td>Europe</td><td>75.651</td><td> 4604.212</td></tr>\n",
              "\t<tr><td>Albania</td><td>2007</td><td> 3600523</td><td>Europe</td><td>76.423</td><td> 5937.030</td></tr>\n",
              "\t<tr><td>Austria</td><td>2002</td><td> 8148312</td><td>Europe</td><td>78.980</td><td>32417.608</td></tr>\n",
              "\t<tr><td>Austria</td><td>2007</td><td> 8199783</td><td>Europe</td><td>79.829</td><td>36126.493</td></tr>\n",
              "\t<tr><td>Belgium</td><td>2002</td><td>10311970</td><td>Europe</td><td>78.320</td><td>30485.884</td></tr>\n",
              "\t<tr><td>Belgium</td><td>2007</td><td>10392226</td><td>Europe</td><td>79.441</td><td>33692.605</td></tr>\n",
              "</tbody>\n",
              "</table>\n"
            ]
          },
          "metadata": {}
        }
      ]
    },
    {
      "cell_type": "markdown",
      "source": [
        "## Défi 1\n",
        "\n",
        "Écrivez une commande qui produit un data frame (un `tibble`) avec les valeurs pour l'**Afrique seulement** et qui ne montre que le contenu des colonnes `lifeExp`, `country` et `year`. Combien de rangées le data frame contient-il?"
      ],
      "metadata": {
        "id": "IWOhqM5ZJUkN"
      }
    },
    {
      "cell_type": "code",
      "source": [
        ""
      ],
      "metadata": {
        "id": "Gs7RkVtHJgQX"
      },
      "execution_count": null,
      "outputs": []
    },
    {
      "cell_type": "markdown",
      "source": [
        "## 1.3 Regrouper des éléments avec `group_by`"
      ],
      "metadata": {
        "id": "VzC7daLEL7Vh"
      }
    },
    {
      "cell_type": "code",
      "source": [
        "# Regrouper par continent\n",
        "groupes_continent <- group_by(gapminder, continent)\n",
        "head(groupes_continent)"
      ],
      "metadata": {
        "colab": {
          "base_uri": "https://localhost:8080/",
          "height": 286
        },
        "id": "fU83_MxtL5RB",
        "outputId": "3497c0b1-413e-456f-80ec-8e54b3b361ef"
      },
      "execution_count": null,
      "outputs": [
        {
          "output_type": "display_data",
          "data": {
            "text/plain": [
              "  country     year pop      continent lifeExp gdpPercap\n",
              "1 Afghanistan 1952  8425333 Asia      28.801  779.4453 \n",
              "2 Afghanistan 1957  9240934 Asia      30.332  820.8530 \n",
              "3 Afghanistan 1962 10267083 Asia      31.997  853.1007 \n",
              "4 Afghanistan 1967 11537966 Asia      34.020  836.1971 \n",
              "5 Afghanistan 1972 13079460 Asia      36.088  739.9811 \n",
              "6 Afghanistan 1977 14880372 Asia      38.438  786.1134 "
            ],
            "text/latex": "A grouped\\_df: 6 × 6\n\\begin{tabular}{llllll}\n country & year & pop & continent & lifeExp & gdpPercap\\\\\n <chr> & <dbl> & <dbl> & <chr> & <dbl> & <dbl>\\\\\n\\hline\n\t Afghanistan & 1952 &  8425333 & Asia & 28.801 & 779.4453\\\\\n\t Afghanistan & 1957 &  9240934 & Asia & 30.332 & 820.8530\\\\\n\t Afghanistan & 1962 & 10267083 & Asia & 31.997 & 853.1007\\\\\n\t Afghanistan & 1967 & 11537966 & Asia & 34.020 & 836.1971\\\\\n\t Afghanistan & 1972 & 13079460 & Asia & 36.088 & 739.9811\\\\\n\t Afghanistan & 1977 & 14880372 & Asia & 38.438 & 786.1134\\\\\n\\end{tabular}\n",
            "text/markdown": "\nA grouped_df: 6 × 6\n\n| country &lt;chr&gt; | year &lt;dbl&gt; | pop &lt;dbl&gt; | continent &lt;chr&gt; | lifeExp &lt;dbl&gt; | gdpPercap &lt;dbl&gt; |\n|---|---|---|---|---|---|\n| Afghanistan | 1952 |  8425333 | Asia | 28.801 | 779.4453 |\n| Afghanistan | 1957 |  9240934 | Asia | 30.332 | 820.8530 |\n| Afghanistan | 1962 | 10267083 | Asia | 31.997 | 853.1007 |\n| Afghanistan | 1967 | 11537966 | Asia | 34.020 | 836.1971 |\n| Afghanistan | 1972 | 13079460 | Asia | 36.088 | 739.9811 |\n| Afghanistan | 1977 | 14880372 | Asia | 38.438 | 786.1134 |\n\n",
            "text/html": [
              "<table class=\"dataframe\">\n",
              "<caption>A grouped_df: 6 × 6</caption>\n",
              "<thead>\n",
              "\t<tr><th scope=col>country</th><th scope=col>year</th><th scope=col>pop</th><th scope=col>continent</th><th scope=col>lifeExp</th><th scope=col>gdpPercap</th></tr>\n",
              "\t<tr><th scope=col>&lt;chr&gt;</th><th scope=col>&lt;dbl&gt;</th><th scope=col>&lt;dbl&gt;</th><th scope=col>&lt;chr&gt;</th><th scope=col>&lt;dbl&gt;</th><th scope=col>&lt;dbl&gt;</th></tr>\n",
              "</thead>\n",
              "<tbody>\n",
              "\t<tr><td>Afghanistan</td><td>1952</td><td> 8425333</td><td>Asia</td><td>28.801</td><td>779.4453</td></tr>\n",
              "\t<tr><td>Afghanistan</td><td>1957</td><td> 9240934</td><td>Asia</td><td>30.332</td><td>820.8530</td></tr>\n",
              "\t<tr><td>Afghanistan</td><td>1962</td><td>10267083</td><td>Asia</td><td>31.997</td><td>853.1007</td></tr>\n",
              "\t<tr><td>Afghanistan</td><td>1967</td><td>11537966</td><td>Asia</td><td>34.020</td><td>836.1971</td></tr>\n",
              "\t<tr><td>Afghanistan</td><td>1972</td><td>13079460</td><td>Asia</td><td>36.088</td><td>739.9811</td></tr>\n",
              "\t<tr><td>Afghanistan</td><td>1977</td><td>14880372</td><td>Asia</td><td>38.438</td><td>786.1134</td></tr>\n",
              "</tbody>\n",
              "</table>\n"
            ]
          },
          "metadata": {}
        }
      ]
    },
    {
      "cell_type": "code",
      "source": [
        "# Propriétés du jeu de données groupé\n",
        "glimpse(groupes_continent)"
      ],
      "metadata": {
        "colab": {
          "base_uri": "https://localhost:8080/"
        },
        "id": "NxCNFlV0M3TJ",
        "outputId": "c516aeaf-1301-461e-deb8-1e92ffed35e8"
      },
      "execution_count": null,
      "outputs": [
        {
          "output_type": "stream",
          "name": "stdout",
          "text": [
            "Rows: 1,704\n",
            "Columns: 6\n",
            "Groups: continent [5]\n",
            "$ country   \u001b[3m\u001b[90m<chr>\u001b[39m\u001b[23m \"Afghanistan\", \"Afghanistan\", \"Afghanistan\", \"Afghanistan\", …\n",
            "$ year      \u001b[3m\u001b[90m<dbl>\u001b[39m\u001b[23m 1952, 1957, 1962, 1967, 1972, 1977, 1982, 1987, 1992, 1997, …\n",
            "$ pop       \u001b[3m\u001b[90m<dbl>\u001b[39m\u001b[23m 8425333, 9240934, 10267083, 11537966, 13079460, 14880372, 12…\n",
            "$ continent \u001b[3m\u001b[90m<chr>\u001b[39m\u001b[23m \"Asia\", \"Asia\", \"Asia\", \"Asia\", \"Asia\", \"Asia\", \"Asia\", \"Asi…\n",
            "$ lifeExp   \u001b[3m\u001b[90m<dbl>\u001b[39m\u001b[23m 28.801, 30.332, 31.997, 34.020, 36.088, 38.438, 39.854, 40.8…\n",
            "$ gdpPercap \u001b[3m\u001b[90m<dbl>\u001b[39m\u001b[23m 779.4453, 820.8530, 853.1007, 836.1971, 739.9811, 786.1134, …\n"
          ]
        }
      ]
    },
    {
      "cell_type": "code",
      "source": [
        "# Espérance de vie la plus élevée pour chaque continent\n",
        "gapminder %>%\n",
        "  group_by(continent) %>%\n",
        "  filter(lifeExp == max(lifeExp))"
      ],
      "metadata": {
        "colab": {
          "base_uri": "https://localhost:8080/",
          "height": 255
        },
        "id": "bbgCpAJFlWzS",
        "outputId": "e5d8fac2-8786-4ade-d615-0e23eb4be6eb"
      },
      "execution_count": null,
      "outputs": [
        {
          "output_type": "display_data",
          "data": {
            "text/plain": [
              "  country   year pop       continent lifeExp gdpPercap\n",
              "1 Australia 2007  20434176 Oceania   81.235  34435.367\n",
              "2 Canada    2007  33390141 Americas  80.653  36319.235\n",
              "3 Iceland   2007    301931 Europe    81.757  36180.789\n",
              "4 Japan     2007 127467972 Asia      82.603  31656.068\n",
              "5 Reunion   2007    798094 Africa    76.442   7670.123"
            ],
            "text/latex": "A grouped\\_df: 5 × 6\n\\begin{tabular}{llllll}\n country & year & pop & continent & lifeExp & gdpPercap\\\\\n <chr> & <dbl> & <dbl> & <chr> & <dbl> & <dbl>\\\\\n\\hline\n\t Australia & 2007 &  20434176 & Oceania  & 81.235 & 34435.367\\\\\n\t Canada    & 2007 &  33390141 & Americas & 80.653 & 36319.235\\\\\n\t Iceland   & 2007 &    301931 & Europe   & 81.757 & 36180.789\\\\\n\t Japan     & 2007 & 127467972 & Asia     & 82.603 & 31656.068\\\\\n\t Reunion   & 2007 &    798094 & Africa   & 76.442 &  7670.123\\\\\n\\end{tabular}\n",
            "text/markdown": "\nA grouped_df: 5 × 6\n\n| country &lt;chr&gt; | year &lt;dbl&gt; | pop &lt;dbl&gt; | continent &lt;chr&gt; | lifeExp &lt;dbl&gt; | gdpPercap &lt;dbl&gt; |\n|---|---|---|---|---|---|\n| Australia | 2007 |  20434176 | Oceania  | 81.235 | 34435.367 |\n| Canada    | 2007 |  33390141 | Americas | 80.653 | 36319.235 |\n| Iceland   | 2007 |    301931 | Europe   | 81.757 | 36180.789 |\n| Japan     | 2007 | 127467972 | Asia     | 82.603 | 31656.068 |\n| Reunion   | 2007 |    798094 | Africa   | 76.442 |  7670.123 |\n\n",
            "text/html": [
              "<table class=\"dataframe\">\n",
              "<caption>A grouped_df: 5 × 6</caption>\n",
              "<thead>\n",
              "\t<tr><th scope=col>country</th><th scope=col>year</th><th scope=col>pop</th><th scope=col>continent</th><th scope=col>lifeExp</th><th scope=col>gdpPercap</th></tr>\n",
              "\t<tr><th scope=col>&lt;chr&gt;</th><th scope=col>&lt;dbl&gt;</th><th scope=col>&lt;dbl&gt;</th><th scope=col>&lt;chr&gt;</th><th scope=col>&lt;dbl&gt;</th><th scope=col>&lt;dbl&gt;</th></tr>\n",
              "</thead>\n",
              "<tbody>\n",
              "\t<tr><td>Australia</td><td>2007</td><td> 20434176</td><td>Oceania </td><td>81.235</td><td>34435.367</td></tr>\n",
              "\t<tr><td>Canada   </td><td>2007</td><td> 33390141</td><td>Americas</td><td>80.653</td><td>36319.235</td></tr>\n",
              "\t<tr><td>Iceland  </td><td>2007</td><td>   301931</td><td>Europe  </td><td>81.757</td><td>36180.789</td></tr>\n",
              "\t<tr><td>Japan    </td><td>2007</td><td>127467972</td><td>Asia    </td><td>82.603</td><td>31656.068</td></tr>\n",
              "\t<tr><td>Reunion  </td><td>2007</td><td>   798094</td><td>Africa  </td><td>76.442</td><td> 7670.123</td></tr>\n",
              "</tbody>\n",
              "</table>\n"
            ]
          },
          "metadata": {}
        }
      ]
    },
    {
      "cell_type": "markdown",
      "source": [
        "## 1.4 Réaliser des opérations sur les groupes avec `summarize`\n"
      ],
      "metadata": {
        "id": "mwbB2FiHNVr6"
      }
    },
    {
      "cell_type": "code",
      "source": [
        "# Calculer le PIB moyen par continent\n",
        "gapminder %>%\n",
        "  group_by(continent) %>%\n",
        "  summarize(mean_gdpPercap = mean(gdpPercap))"
      ],
      "metadata": {
        "colab": {
          "base_uri": "https://localhost:8080/",
          "height": 255
        },
        "id": "Mv5NXKs5Nl0x",
        "outputId": "06fe7fba-7c66-4017-b14d-d328d8aafc72"
      },
      "execution_count": null,
      "outputs": [
        {
          "output_type": "display_data",
          "data": {
            "text/plain": [
              "  continent mean_gdpPercap\n",
              "1 Africa     2193.755     \n",
              "2 Americas   7136.110     \n",
              "3 Asia       7902.150     \n",
              "4 Europe    14469.476     \n",
              "5 Oceania   18621.609     "
            ],
            "text/latex": "A tibble: 5 × 2\n\\begin{tabular}{ll}\n continent & mean\\_gdpPercap\\\\\n <chr> & <dbl>\\\\\n\\hline\n\t Africa   &  2193.755\\\\\n\t Americas &  7136.110\\\\\n\t Asia     &  7902.150\\\\\n\t Europe   & 14469.476\\\\\n\t Oceania  & 18621.609\\\\\n\\end{tabular}\n",
            "text/markdown": "\nA tibble: 5 × 2\n\n| continent &lt;chr&gt; | mean_gdpPercap &lt;dbl&gt; |\n|---|---|\n| Africa   |  2193.755 |\n| Americas |  7136.110 |\n| Asia     |  7902.150 |\n| Europe   | 14469.476 |\n| Oceania  | 18621.609 |\n\n",
            "text/html": [
              "<table class=\"dataframe\">\n",
              "<caption>A tibble: 5 × 2</caption>\n",
              "<thead>\n",
              "\t<tr><th scope=col>continent</th><th scope=col>mean_gdpPercap</th></tr>\n",
              "\t<tr><th scope=col>&lt;chr&gt;</th><th scope=col>&lt;dbl&gt;</th></tr>\n",
              "</thead>\n",
              "<tbody>\n",
              "\t<tr><td>Africa  </td><td> 2193.755</td></tr>\n",
              "\t<tr><td>Americas</td><td> 7136.110</td></tr>\n",
              "\t<tr><td>Asia    </td><td> 7902.150</td></tr>\n",
              "\t<tr><td>Europe  </td><td>14469.476</td></tr>\n",
              "\t<tr><td>Oceania </td><td>18621.609</td></tr>\n",
              "</tbody>\n",
              "</table>\n"
            ]
          },
          "metadata": {}
        }
      ]
    },
    {
      "cell_type": "markdown",
      "source": [
        "C'est ici que le `tidyverse` se démarque particulièrement. Avec base-R, il faudrait plutôt répéter l'opération séparément pour chaque groupe, puis assembler les lignes une à une, ou encore utiliser une boucle `for`. Dans tous les cas, le code résultant serait sûrement plus long et moins intuitif."
      ],
      "metadata": {
        "id": "qjg7VFzXi1Gi"
      }
    },
    {
      "cell_type": "code",
      "source": [
        "# Grouper avec plusieurs variables à la fois\n",
        "gapminder %>%\n",
        "  group_by(continent, year) %>%\n",
        "  summarize(mean_gdpPercap = mean(gdpPercap))"
      ],
      "metadata": {
        "colab": {
          "base_uri": "https://localhost:8080/",
          "height": 1000
        },
        "id": "hU-k0ydTPeR7",
        "outputId": "dbebde6c-cb8e-4ad4-ff68-1c123ce321ab"
      },
      "execution_count": null,
      "outputs": [
        {
          "output_type": "stream",
          "name": "stderr",
          "text": [
            "`summarise()` has grouped output by 'continent'. You can override using the `.groups` argument.\n",
            "\n"
          ]
        },
        {
          "output_type": "display_data",
          "data": {
            "text/plain": [
              "   continent year mean_gdpPercap\n",
              "1  Africa    1952  1252.572     \n",
              "2  Africa    1957  1385.236     \n",
              "3  Africa    1962  1598.079     \n",
              "4  Africa    1967  2050.364     \n",
              "5  Africa    1972  2339.616     \n",
              "6  Africa    1977  2585.939     \n",
              "7  Africa    1982  2481.593     \n",
              "8  Africa    1987  2282.669     \n",
              "9  Africa    1992  2281.810     \n",
              "10 Africa    1997  2378.760     \n",
              "11 Africa    2002  2599.385     \n",
              "12 Africa    2007  3089.033     \n",
              "13 Americas  1952  4079.063     \n",
              "14 Americas  1957  4616.044     \n",
              "15 Americas  1962  4901.542     \n",
              "16 Americas  1967  5668.253     \n",
              "17 Americas  1972  6491.334     \n",
              "18 Americas  1977  7352.007     \n",
              "19 Americas  1982  7506.737     \n",
              "20 Americas  1987  7793.400     \n",
              "21 Americas  1992  8044.934     \n",
              "22 Americas  1997  8889.301     \n",
              "23 Americas  2002  9287.677     \n",
              "24 Americas  2007 11003.032     \n",
              "25 Asia      1952  5195.484     \n",
              "26 Asia      1957  5787.733     \n",
              "27 Asia      1962  5729.370     \n",
              "28 Asia      1967  5971.173     \n",
              "29 Asia      1972  8187.469     \n",
              "30 Asia      1977  7791.314     \n",
              "31 Asia      1982  7434.135     \n",
              "32 Asia      1987  7608.227     \n",
              "33 Asia      1992  8639.690     \n",
              "34 Asia      1997  9834.093     \n",
              "35 Asia      2002 10174.090     \n",
              "36 Asia      2007 12473.027     \n",
              "37 Europe    1952  5661.057     \n",
              "38 Europe    1957  6963.013     \n",
              "39 Europe    1962  8365.487     \n",
              "40 Europe    1967 10143.824     \n",
              "41 Europe    1972 12479.575     \n",
              "42 Europe    1977 14283.979     \n",
              "43 Europe    1982 15617.897     \n",
              "44 Europe    1987 17214.311     \n",
              "45 Europe    1992 17061.568     \n",
              "46 Europe    1997 19076.782     \n",
              "47 Europe    2002 21711.732     \n",
              "48 Europe    2007 25054.482     \n",
              "49 Oceania   1952 10298.086     \n",
              "50 Oceania   1957 11598.522     \n",
              "51 Oceania   1962 12696.452     \n",
              "52 Oceania   1967 14495.022     \n",
              "53 Oceania   1972 16417.333     \n",
              "54 Oceania   1977 17283.958     \n",
              "55 Oceania   1982 18554.710     \n",
              "56 Oceania   1987 20448.040     \n",
              "57 Oceania   1992 20894.046     \n",
              "58 Oceania   1997 24024.175     \n",
              "59 Oceania   2002 26938.778     \n",
              "60 Oceania   2007 29810.188     "
            ],
            "text/latex": "A grouped\\_df: 60 × 3\n\\begin{tabular}{lll}\n continent & year & mean\\_gdpPercap\\\\\n <chr> & <dbl> & <dbl>\\\\\n\\hline\n\t Africa   & 1952 &  1252.572\\\\\n\t Africa   & 1957 &  1385.236\\\\\n\t Africa   & 1962 &  1598.079\\\\\n\t Africa   & 1967 &  2050.364\\\\\n\t Africa   & 1972 &  2339.616\\\\\n\t Africa   & 1977 &  2585.939\\\\\n\t Africa   & 1982 &  2481.593\\\\\n\t Africa   & 1987 &  2282.669\\\\\n\t Africa   & 1992 &  2281.810\\\\\n\t Africa   & 1997 &  2378.760\\\\\n\t Africa   & 2002 &  2599.385\\\\\n\t Africa   & 2007 &  3089.033\\\\\n\t Americas & 1952 &  4079.063\\\\\n\t Americas & 1957 &  4616.044\\\\\n\t Americas & 1962 &  4901.542\\\\\n\t Americas & 1967 &  5668.253\\\\\n\t Americas & 1972 &  6491.334\\\\\n\t Americas & 1977 &  7352.007\\\\\n\t Americas & 1982 &  7506.737\\\\\n\t Americas & 1987 &  7793.400\\\\\n\t Americas & 1992 &  8044.934\\\\\n\t Americas & 1997 &  8889.301\\\\\n\t Americas & 2002 &  9287.677\\\\\n\t Americas & 2007 & 11003.032\\\\\n\t Asia     & 1952 &  5195.484\\\\\n\t Asia     & 1957 &  5787.733\\\\\n\t Asia     & 1962 &  5729.370\\\\\n\t Asia     & 1967 &  5971.173\\\\\n\t Asia     & 1972 &  8187.469\\\\\n\t Asia     & 1977 &  7791.314\\\\\n\t Asia     & 1982 &  7434.135\\\\\n\t Asia     & 1987 &  7608.227\\\\\n\t Asia     & 1992 &  8639.690\\\\\n\t Asia     & 1997 &  9834.093\\\\\n\t Asia     & 2002 & 10174.090\\\\\n\t Asia     & 2007 & 12473.027\\\\\n\t Europe   & 1952 &  5661.057\\\\\n\t Europe   & 1957 &  6963.013\\\\\n\t Europe   & 1962 &  8365.487\\\\\n\t Europe   & 1967 & 10143.824\\\\\n\t Europe   & 1972 & 12479.575\\\\\n\t Europe   & 1977 & 14283.979\\\\\n\t Europe   & 1982 & 15617.897\\\\\n\t Europe   & 1987 & 17214.311\\\\\n\t Europe   & 1992 & 17061.568\\\\\n\t Europe   & 1997 & 19076.782\\\\\n\t Europe   & 2002 & 21711.732\\\\\n\t Europe   & 2007 & 25054.482\\\\\n\t Oceania  & 1952 & 10298.086\\\\\n\t Oceania  & 1957 & 11598.522\\\\\n\t Oceania  & 1962 & 12696.452\\\\\n\t Oceania  & 1967 & 14495.022\\\\\n\t Oceania  & 1972 & 16417.333\\\\\n\t Oceania  & 1977 & 17283.958\\\\\n\t Oceania  & 1982 & 18554.710\\\\\n\t Oceania  & 1987 & 20448.040\\\\\n\t Oceania  & 1992 & 20894.046\\\\\n\t Oceania  & 1997 & 24024.175\\\\\n\t Oceania  & 2002 & 26938.778\\\\\n\t Oceania  & 2007 & 29810.188\\\\\n\\end{tabular}\n",
            "text/markdown": "\nA grouped_df: 60 × 3\n\n| continent &lt;chr&gt; | year &lt;dbl&gt; | mean_gdpPercap &lt;dbl&gt; |\n|---|---|---|\n| Africa   | 1952 |  1252.572 |\n| Africa   | 1957 |  1385.236 |\n| Africa   | 1962 |  1598.079 |\n| Africa   | 1967 |  2050.364 |\n| Africa   | 1972 |  2339.616 |\n| Africa   | 1977 |  2585.939 |\n| Africa   | 1982 |  2481.593 |\n| Africa   | 1987 |  2282.669 |\n| Africa   | 1992 |  2281.810 |\n| Africa   | 1997 |  2378.760 |\n| Africa   | 2002 |  2599.385 |\n| Africa   | 2007 |  3089.033 |\n| Americas | 1952 |  4079.063 |\n| Americas | 1957 |  4616.044 |\n| Americas | 1962 |  4901.542 |\n| Americas | 1967 |  5668.253 |\n| Americas | 1972 |  6491.334 |\n| Americas | 1977 |  7352.007 |\n| Americas | 1982 |  7506.737 |\n| Americas | 1987 |  7793.400 |\n| Americas | 1992 |  8044.934 |\n| Americas | 1997 |  8889.301 |\n| Americas | 2002 |  9287.677 |\n| Americas | 2007 | 11003.032 |\n| Asia     | 1952 |  5195.484 |\n| Asia     | 1957 |  5787.733 |\n| Asia     | 1962 |  5729.370 |\n| Asia     | 1967 |  5971.173 |\n| Asia     | 1972 |  8187.469 |\n| Asia     | 1977 |  7791.314 |\n| Asia     | 1982 |  7434.135 |\n| Asia     | 1987 |  7608.227 |\n| Asia     | 1992 |  8639.690 |\n| Asia     | 1997 |  9834.093 |\n| Asia     | 2002 | 10174.090 |\n| Asia     | 2007 | 12473.027 |\n| Europe   | 1952 |  5661.057 |\n| Europe   | 1957 |  6963.013 |\n| Europe   | 1962 |  8365.487 |\n| Europe   | 1967 | 10143.824 |\n| Europe   | 1972 | 12479.575 |\n| Europe   | 1977 | 14283.979 |\n| Europe   | 1982 | 15617.897 |\n| Europe   | 1987 | 17214.311 |\n| Europe   | 1992 | 17061.568 |\n| Europe   | 1997 | 19076.782 |\n| Europe   | 2002 | 21711.732 |\n| Europe   | 2007 | 25054.482 |\n| Oceania  | 1952 | 10298.086 |\n| Oceania  | 1957 | 11598.522 |\n| Oceania  | 1962 | 12696.452 |\n| Oceania  | 1967 | 14495.022 |\n| Oceania  | 1972 | 16417.333 |\n| Oceania  | 1977 | 17283.958 |\n| Oceania  | 1982 | 18554.710 |\n| Oceania  | 1987 | 20448.040 |\n| Oceania  | 1992 | 20894.046 |\n| Oceania  | 1997 | 24024.175 |\n| Oceania  | 2002 | 26938.778 |\n| Oceania  | 2007 | 29810.188 |\n\n",
            "text/html": [
              "<table class=\"dataframe\">\n",
              "<caption>A grouped_df: 60 × 3</caption>\n",
              "<thead>\n",
              "\t<tr><th scope=col>continent</th><th scope=col>year</th><th scope=col>mean_gdpPercap</th></tr>\n",
              "\t<tr><th scope=col>&lt;chr&gt;</th><th scope=col>&lt;dbl&gt;</th><th scope=col>&lt;dbl&gt;</th></tr>\n",
              "</thead>\n",
              "<tbody>\n",
              "\t<tr><td>Africa  </td><td>1952</td><td> 1252.572</td></tr>\n",
              "\t<tr><td>Africa  </td><td>1957</td><td> 1385.236</td></tr>\n",
              "\t<tr><td>Africa  </td><td>1962</td><td> 1598.079</td></tr>\n",
              "\t<tr><td>Africa  </td><td>1967</td><td> 2050.364</td></tr>\n",
              "\t<tr><td>Africa  </td><td>1972</td><td> 2339.616</td></tr>\n",
              "\t<tr><td>Africa  </td><td>1977</td><td> 2585.939</td></tr>\n",
              "\t<tr><td>Africa  </td><td>1982</td><td> 2481.593</td></tr>\n",
              "\t<tr><td>Africa  </td><td>1987</td><td> 2282.669</td></tr>\n",
              "\t<tr><td>Africa  </td><td>1992</td><td> 2281.810</td></tr>\n",
              "\t<tr><td>Africa  </td><td>1997</td><td> 2378.760</td></tr>\n",
              "\t<tr><td>Africa  </td><td>2002</td><td> 2599.385</td></tr>\n",
              "\t<tr><td>Africa  </td><td>2007</td><td> 3089.033</td></tr>\n",
              "\t<tr><td>Americas</td><td>1952</td><td> 4079.063</td></tr>\n",
              "\t<tr><td>Americas</td><td>1957</td><td> 4616.044</td></tr>\n",
              "\t<tr><td>Americas</td><td>1962</td><td> 4901.542</td></tr>\n",
              "\t<tr><td>Americas</td><td>1967</td><td> 5668.253</td></tr>\n",
              "\t<tr><td>Americas</td><td>1972</td><td> 6491.334</td></tr>\n",
              "\t<tr><td>Americas</td><td>1977</td><td> 7352.007</td></tr>\n",
              "\t<tr><td>Americas</td><td>1982</td><td> 7506.737</td></tr>\n",
              "\t<tr><td>Americas</td><td>1987</td><td> 7793.400</td></tr>\n",
              "\t<tr><td>Americas</td><td>1992</td><td> 8044.934</td></tr>\n",
              "\t<tr><td>Americas</td><td>1997</td><td> 8889.301</td></tr>\n",
              "\t<tr><td>Americas</td><td>2002</td><td> 9287.677</td></tr>\n",
              "\t<tr><td>Americas</td><td>2007</td><td>11003.032</td></tr>\n",
              "\t<tr><td>Asia    </td><td>1952</td><td> 5195.484</td></tr>\n",
              "\t<tr><td>Asia    </td><td>1957</td><td> 5787.733</td></tr>\n",
              "\t<tr><td>Asia    </td><td>1962</td><td> 5729.370</td></tr>\n",
              "\t<tr><td>Asia    </td><td>1967</td><td> 5971.173</td></tr>\n",
              "\t<tr><td>Asia    </td><td>1972</td><td> 8187.469</td></tr>\n",
              "\t<tr><td>Asia    </td><td>1977</td><td> 7791.314</td></tr>\n",
              "\t<tr><td>Asia    </td><td>1982</td><td> 7434.135</td></tr>\n",
              "\t<tr><td>Asia    </td><td>1987</td><td> 7608.227</td></tr>\n",
              "\t<tr><td>Asia    </td><td>1992</td><td> 8639.690</td></tr>\n",
              "\t<tr><td>Asia    </td><td>1997</td><td> 9834.093</td></tr>\n",
              "\t<tr><td>Asia    </td><td>2002</td><td>10174.090</td></tr>\n",
              "\t<tr><td>Asia    </td><td>2007</td><td>12473.027</td></tr>\n",
              "\t<tr><td>Europe  </td><td>1952</td><td> 5661.057</td></tr>\n",
              "\t<tr><td>Europe  </td><td>1957</td><td> 6963.013</td></tr>\n",
              "\t<tr><td>Europe  </td><td>1962</td><td> 8365.487</td></tr>\n",
              "\t<tr><td>Europe  </td><td>1967</td><td>10143.824</td></tr>\n",
              "\t<tr><td>Europe  </td><td>1972</td><td>12479.575</td></tr>\n",
              "\t<tr><td>Europe  </td><td>1977</td><td>14283.979</td></tr>\n",
              "\t<tr><td>Europe  </td><td>1982</td><td>15617.897</td></tr>\n",
              "\t<tr><td>Europe  </td><td>1987</td><td>17214.311</td></tr>\n",
              "\t<tr><td>Europe  </td><td>1992</td><td>17061.568</td></tr>\n",
              "\t<tr><td>Europe  </td><td>1997</td><td>19076.782</td></tr>\n",
              "\t<tr><td>Europe  </td><td>2002</td><td>21711.732</td></tr>\n",
              "\t<tr><td>Europe  </td><td>2007</td><td>25054.482</td></tr>\n",
              "\t<tr><td>Oceania </td><td>1952</td><td>10298.086</td></tr>\n",
              "\t<tr><td>Oceania </td><td>1957</td><td>11598.522</td></tr>\n",
              "\t<tr><td>Oceania </td><td>1962</td><td>12696.452</td></tr>\n",
              "\t<tr><td>Oceania </td><td>1967</td><td>14495.022</td></tr>\n",
              "\t<tr><td>Oceania </td><td>1972</td><td>16417.333</td></tr>\n",
              "\t<tr><td>Oceania </td><td>1977</td><td>17283.958</td></tr>\n",
              "\t<tr><td>Oceania </td><td>1982</td><td>18554.710</td></tr>\n",
              "\t<tr><td>Oceania </td><td>1987</td><td>20448.040</td></tr>\n",
              "\t<tr><td>Oceania </td><td>1992</td><td>20894.046</td></tr>\n",
              "\t<tr><td>Oceania </td><td>1997</td><td>24024.175</td></tr>\n",
              "\t<tr><td>Oceania </td><td>2002</td><td>26938.778</td></tr>\n",
              "\t<tr><td>Oceania </td><td>2007</td><td>29810.188</td></tr>\n",
              "</tbody>\n",
              "</table>\n"
            ]
          },
          "metadata": {}
        }
      ]
    },
    {
      "cell_type": "code",
      "source": [
        "# On peut également définir plusieurs nouvelles variables simultanément.\n",
        "# Par exemple, on calculer la moyenne et l'écart-type de deux variables.\n",
        "gapminder %>%\n",
        "  group_by(continent, year) %>%\n",
        "  summarize(mean_gdpPercap = mean(gdpPercap),\n",
        "            sd_gdpPercap = sd(gdpPercap),\n",
        "            mean_pop = mean(pop),\n",
        "            sd_pop = sd(pop))"
      ],
      "metadata": {
        "colab": {
          "base_uri": "https://localhost:8080/",
          "height": 1000
        },
        "id": "UN1HH-J9P1hj",
        "outputId": "88ea0297-e0d0-42ce-a56a-1fddc97bd434"
      },
      "execution_count": null,
      "outputs": [
        {
          "output_type": "stream",
          "name": "stderr",
          "text": [
            "`summarise()` has grouped output by 'continent'. You can override using the `.groups` argument.\n",
            "\n"
          ]
        },
        {
          "output_type": "display_data",
          "data": {
            "text/plain": [
              "   continent year mean_gdpPercap sd_gdpPercap mean_pop  sd_pop   \n",
              "1  Africa    1952  1252.572        982.95212    4570010   6317450\n",
              "2  Africa    1957  1385.236       1134.50892    5093033   7076042\n",
              "3  Africa    1962  1598.079       1461.83919    5702247   7957545\n",
              "4  Africa    1967  2050.364       2847.71760    6447875   8985505\n",
              "5  Africa    1972  2339.616       3286.85388    7305376  10130833\n",
              "6  Africa    1977  2585.939       4142.39871    8328097  11585184\n",
              "7  Africa    1982  2481.593       3242.63275    9602857  13456243\n",
              "8  Africa    1987  2282.669       2566.53195   11054502  15277484\n",
              "9  Africa    1992  2281.810       2644.07560   12674645  17562719\n",
              "10 Africa    1997  2378.760       2820.72812   14304480  19873013\n",
              "11 Africa    2002  2599.385       2972.65131   16033152  22302997\n",
              "12 Africa    2007  3089.033       3618.16349   17875763  24917726\n",
              "13 Americas  1952  4079.063       3001.72752   13806098  32341632\n",
              "14 Americas  1957  4616.044       3312.38108   15478157  35537059\n",
              "15 Americas  1962  4901.542       3421.74057   17330810  38876833\n",
              "16 Americas  1967  5668.253       4160.88556   19229865  41925591\n",
              "17 Americas  1972  6491.334       4754.40433   21175368  44935462\n",
              "18 Americas  1977  7352.007       5355.60252   23122708  47904058\n",
              "19 Americas  1982  7506.737       5530.49047   25211637  51294380\n",
              "20 Americas  1987  7793.400       6665.03951   27310159  54459691\n",
              "21 Americas  1992  8044.934       7047.08919   29570964  58109222\n",
              "22 Americas  1997  8889.301       7874.22514   31876016  62032823\n",
              "23 Americas  2002  9287.677       8895.81779   33990910  65601547\n",
              "24 Americas  2007 11003.032       9713.20930   35954847  68833781\n",
              "25 Asia      1952  5195.484      18634.89087   42283556 113226736\n",
              "26 Asia      1957  5787.733      19506.51596   47356988 128096097\n",
              "27 Asia      1962  5729.370      16415.85720   51404763 136102692\n",
              "28 Asia      1967  5971.173      14062.59136   57747361 153341776\n",
              "29 Asia      1972  8187.469      19087.50292   65180977 174094888\n",
              "30 Asia      1977  7791.314      11815.77792   72257987 191707351\n",
              "31 Asia      1982  7434.135       8701.17650   79095018 206541517\n",
              "32 Asia      1987  7608.227       8090.26277   87006690 225733224\n",
              "33 Asia      1992  8639.690       9727.43109   94948248 244960393\n",
              "34 Asia      1997  9834.093      11094.18048  102523803 262349716\n",
              "35 Asia      2002 10174.090      11150.71920  109145521 276701675\n",
              "36 Asia      2007 12473.027      14154.93734  115513752 289673399\n",
              "37 Europe    1952  5661.057       3114.06049   13937362  17247450\n",
              "38 Europe    1957  6963.013       3677.95015   14596345  17832354\n",
              "39 Europe    1962  8365.487       4199.19391   15345172  18656418\n",
              "40 Europe    1967 10143.824       4724.98389   16039299  19443589\n",
              "41 Europe    1972 12479.575       5509.69141   16687835  20180340\n",
              "42 Europe    1977 14283.979       5874.46490   17238818  20560544\n",
              "43 Europe    1982 15617.897       6453.23483   17708897  20971293\n",
              "44 Europe    1987 17214.311       7482.95796   18103139  21369711\n",
              "45 Europe    1992 17061.568       9109.80436   18604760  22126736\n",
              "46 Europe    1997 19076.782      10065.45772   18964805  22748145\n",
              "47 Europe    2002 21711.732      11197.35552   19274129  23223691\n",
              "48 Europe    2007 25054.482      11800.33981   19536618  23624744\n",
              "49 Oceania   1952 10298.086        365.56008    5343003   4735083\n",
              "50 Oceania   1957 11598.522        917.64481    5970988   5291395\n",
              "51 Oceania   1962 12696.452        677.72730    6641759   5873524\n",
              "52 Oceania   1967 14495.022         43.98609    7300207   6465865\n",
              "53 Oceania   1972 16417.333        525.09198    8053050   7246360\n",
              "54 Oceania   1977 17283.958       1485.26352    8619500   7713969\n",
              "55 Oceania   1982 18554.710       1304.32838    9197425   8466578\n",
              "56 Oceania   1987 20448.040       2037.66801    9787208   9150020\n",
              "57 Oceania   1992 20894.046       3578.97988   10459826   9930822\n",
              "58 Oceania   1997 24024.175       4205.53370   11120715  10528152\n",
              "59 Oceania   2002 26938.778       5301.85368   11727414  11058270\n",
              "60 Oceania   2007 29810.188       6540.99110   12274974  11538855"
            ],
            "text/latex": "A grouped\\_df: 60 × 6\n\\begin{tabular}{llllll}\n continent & year & mean\\_gdpPercap & sd\\_gdpPercap & mean\\_pop & sd\\_pop\\\\\n <chr> & <dbl> & <dbl> & <dbl> & <dbl> & <dbl>\\\\\n\\hline\n\t Africa   & 1952 &  1252.572 &   982.95212 &   4570010 &   6317450\\\\\n\t Africa   & 1957 &  1385.236 &  1134.50892 &   5093033 &   7076042\\\\\n\t Africa   & 1962 &  1598.079 &  1461.83919 &   5702247 &   7957545\\\\\n\t Africa   & 1967 &  2050.364 &  2847.71760 &   6447875 &   8985505\\\\\n\t Africa   & 1972 &  2339.616 &  3286.85388 &   7305376 &  10130833\\\\\n\t Africa   & 1977 &  2585.939 &  4142.39871 &   8328097 &  11585184\\\\\n\t Africa   & 1982 &  2481.593 &  3242.63275 &   9602857 &  13456243\\\\\n\t Africa   & 1987 &  2282.669 &  2566.53195 &  11054502 &  15277484\\\\\n\t Africa   & 1992 &  2281.810 &  2644.07560 &  12674645 &  17562719\\\\\n\t Africa   & 1997 &  2378.760 &  2820.72812 &  14304480 &  19873013\\\\\n\t Africa   & 2002 &  2599.385 &  2972.65131 &  16033152 &  22302997\\\\\n\t Africa   & 2007 &  3089.033 &  3618.16349 &  17875763 &  24917726\\\\\n\t Americas & 1952 &  4079.063 &  3001.72752 &  13806098 &  32341632\\\\\n\t Americas & 1957 &  4616.044 &  3312.38108 &  15478157 &  35537059\\\\\n\t Americas & 1962 &  4901.542 &  3421.74057 &  17330810 &  38876833\\\\\n\t Americas & 1967 &  5668.253 &  4160.88556 &  19229865 &  41925591\\\\\n\t Americas & 1972 &  6491.334 &  4754.40433 &  21175368 &  44935462\\\\\n\t Americas & 1977 &  7352.007 &  5355.60252 &  23122708 &  47904058\\\\\n\t Americas & 1982 &  7506.737 &  5530.49047 &  25211637 &  51294380\\\\\n\t Americas & 1987 &  7793.400 &  6665.03951 &  27310159 &  54459691\\\\\n\t Americas & 1992 &  8044.934 &  7047.08919 &  29570964 &  58109222\\\\\n\t Americas & 1997 &  8889.301 &  7874.22514 &  31876016 &  62032823\\\\\n\t Americas & 2002 &  9287.677 &  8895.81779 &  33990910 &  65601547\\\\\n\t Americas & 2007 & 11003.032 &  9713.20930 &  35954847 &  68833781\\\\\n\t Asia     & 1952 &  5195.484 & 18634.89087 &  42283556 & 113226736\\\\\n\t Asia     & 1957 &  5787.733 & 19506.51596 &  47356988 & 128096097\\\\\n\t Asia     & 1962 &  5729.370 & 16415.85720 &  51404763 & 136102692\\\\\n\t Asia     & 1967 &  5971.173 & 14062.59136 &  57747361 & 153341776\\\\\n\t Asia     & 1972 &  8187.469 & 19087.50292 &  65180977 & 174094888\\\\\n\t Asia     & 1977 &  7791.314 & 11815.77792 &  72257987 & 191707351\\\\\n\t Asia     & 1982 &  7434.135 &  8701.17650 &  79095018 & 206541517\\\\\n\t Asia     & 1987 &  7608.227 &  8090.26277 &  87006690 & 225733224\\\\\n\t Asia     & 1992 &  8639.690 &  9727.43109 &  94948248 & 244960393\\\\\n\t Asia     & 1997 &  9834.093 & 11094.18048 & 102523803 & 262349716\\\\\n\t Asia     & 2002 & 10174.090 & 11150.71920 & 109145521 & 276701675\\\\\n\t Asia     & 2007 & 12473.027 & 14154.93734 & 115513752 & 289673399\\\\\n\t Europe   & 1952 &  5661.057 &  3114.06049 &  13937362 &  17247450\\\\\n\t Europe   & 1957 &  6963.013 &  3677.95015 &  14596345 &  17832354\\\\\n\t Europe   & 1962 &  8365.487 &  4199.19391 &  15345172 &  18656418\\\\\n\t Europe   & 1967 & 10143.824 &  4724.98389 &  16039299 &  19443589\\\\\n\t Europe   & 1972 & 12479.575 &  5509.69141 &  16687835 &  20180340\\\\\n\t Europe   & 1977 & 14283.979 &  5874.46490 &  17238818 &  20560544\\\\\n\t Europe   & 1982 & 15617.897 &  6453.23483 &  17708897 &  20971293\\\\\n\t Europe   & 1987 & 17214.311 &  7482.95796 &  18103139 &  21369711\\\\\n\t Europe   & 1992 & 17061.568 &  9109.80436 &  18604760 &  22126736\\\\\n\t Europe   & 1997 & 19076.782 & 10065.45772 &  18964805 &  22748145\\\\\n\t Europe   & 2002 & 21711.732 & 11197.35552 &  19274129 &  23223691\\\\\n\t Europe   & 2007 & 25054.482 & 11800.33981 &  19536618 &  23624744\\\\\n\t Oceania  & 1952 & 10298.086 &   365.56008 &   5343003 &   4735083\\\\\n\t Oceania  & 1957 & 11598.522 &   917.64481 &   5970988 &   5291395\\\\\n\t Oceania  & 1962 & 12696.452 &   677.72730 &   6641759 &   5873524\\\\\n\t Oceania  & 1967 & 14495.022 &    43.98609 &   7300207 &   6465865\\\\\n\t Oceania  & 1972 & 16417.333 &   525.09198 &   8053050 &   7246360\\\\\n\t Oceania  & 1977 & 17283.958 &  1485.26352 &   8619500 &   7713969\\\\\n\t Oceania  & 1982 & 18554.710 &  1304.32838 &   9197425 &   8466578\\\\\n\t Oceania  & 1987 & 20448.040 &  2037.66801 &   9787208 &   9150020\\\\\n\t Oceania  & 1992 & 20894.046 &  3578.97988 &  10459826 &   9930822\\\\\n\t Oceania  & 1997 & 24024.175 &  4205.53370 &  11120715 &  10528152\\\\\n\t Oceania  & 2002 & 26938.778 &  5301.85368 &  11727414 &  11058270\\\\\n\t Oceania  & 2007 & 29810.188 &  6540.99110 &  12274974 &  11538855\\\\\n\\end{tabular}\n",
            "text/markdown": "\nA grouped_df: 60 × 6\n\n| continent &lt;chr&gt; | year &lt;dbl&gt; | mean_gdpPercap &lt;dbl&gt; | sd_gdpPercap &lt;dbl&gt; | mean_pop &lt;dbl&gt; | sd_pop &lt;dbl&gt; |\n|---|---|---|---|---|---|\n| Africa   | 1952 |  1252.572 |   982.95212 |   4570010 |   6317450 |\n| Africa   | 1957 |  1385.236 |  1134.50892 |   5093033 |   7076042 |\n| Africa   | 1962 |  1598.079 |  1461.83919 |   5702247 |   7957545 |\n| Africa   | 1967 |  2050.364 |  2847.71760 |   6447875 |   8985505 |\n| Africa   | 1972 |  2339.616 |  3286.85388 |   7305376 |  10130833 |\n| Africa   | 1977 |  2585.939 |  4142.39871 |   8328097 |  11585184 |\n| Africa   | 1982 |  2481.593 |  3242.63275 |   9602857 |  13456243 |\n| Africa   | 1987 |  2282.669 |  2566.53195 |  11054502 |  15277484 |\n| Africa   | 1992 |  2281.810 |  2644.07560 |  12674645 |  17562719 |\n| Africa   | 1997 |  2378.760 |  2820.72812 |  14304480 |  19873013 |\n| Africa   | 2002 |  2599.385 |  2972.65131 |  16033152 |  22302997 |\n| Africa   | 2007 |  3089.033 |  3618.16349 |  17875763 |  24917726 |\n| Americas | 1952 |  4079.063 |  3001.72752 |  13806098 |  32341632 |\n| Americas | 1957 |  4616.044 |  3312.38108 |  15478157 |  35537059 |\n| Americas | 1962 |  4901.542 |  3421.74057 |  17330810 |  38876833 |\n| Americas | 1967 |  5668.253 |  4160.88556 |  19229865 |  41925591 |\n| Americas | 1972 |  6491.334 |  4754.40433 |  21175368 |  44935462 |\n| Americas | 1977 |  7352.007 |  5355.60252 |  23122708 |  47904058 |\n| Americas | 1982 |  7506.737 |  5530.49047 |  25211637 |  51294380 |\n| Americas | 1987 |  7793.400 |  6665.03951 |  27310159 |  54459691 |\n| Americas | 1992 |  8044.934 |  7047.08919 |  29570964 |  58109222 |\n| Americas | 1997 |  8889.301 |  7874.22514 |  31876016 |  62032823 |\n| Americas | 2002 |  9287.677 |  8895.81779 |  33990910 |  65601547 |\n| Americas | 2007 | 11003.032 |  9713.20930 |  35954847 |  68833781 |\n| Asia     | 1952 |  5195.484 | 18634.89087 |  42283556 | 113226736 |\n| Asia     | 1957 |  5787.733 | 19506.51596 |  47356988 | 128096097 |\n| Asia     | 1962 |  5729.370 | 16415.85720 |  51404763 | 136102692 |\n| Asia     | 1967 |  5971.173 | 14062.59136 |  57747361 | 153341776 |\n| Asia     | 1972 |  8187.469 | 19087.50292 |  65180977 | 174094888 |\n| Asia     | 1977 |  7791.314 | 11815.77792 |  72257987 | 191707351 |\n| Asia     | 1982 |  7434.135 |  8701.17650 |  79095018 | 206541517 |\n| Asia     | 1987 |  7608.227 |  8090.26277 |  87006690 | 225733224 |\n| Asia     | 1992 |  8639.690 |  9727.43109 |  94948248 | 244960393 |\n| Asia     | 1997 |  9834.093 | 11094.18048 | 102523803 | 262349716 |\n| Asia     | 2002 | 10174.090 | 11150.71920 | 109145521 | 276701675 |\n| Asia     | 2007 | 12473.027 | 14154.93734 | 115513752 | 289673399 |\n| Europe   | 1952 |  5661.057 |  3114.06049 |  13937362 |  17247450 |\n| Europe   | 1957 |  6963.013 |  3677.95015 |  14596345 |  17832354 |\n| Europe   | 1962 |  8365.487 |  4199.19391 |  15345172 |  18656418 |\n| Europe   | 1967 | 10143.824 |  4724.98389 |  16039299 |  19443589 |\n| Europe   | 1972 | 12479.575 |  5509.69141 |  16687835 |  20180340 |\n| Europe   | 1977 | 14283.979 |  5874.46490 |  17238818 |  20560544 |\n| Europe   | 1982 | 15617.897 |  6453.23483 |  17708897 |  20971293 |\n| Europe   | 1987 | 17214.311 |  7482.95796 |  18103139 |  21369711 |\n| Europe   | 1992 | 17061.568 |  9109.80436 |  18604760 |  22126736 |\n| Europe   | 1997 | 19076.782 | 10065.45772 |  18964805 |  22748145 |\n| Europe   | 2002 | 21711.732 | 11197.35552 |  19274129 |  23223691 |\n| Europe   | 2007 | 25054.482 | 11800.33981 |  19536618 |  23624744 |\n| Oceania  | 1952 | 10298.086 |   365.56008 |   5343003 |   4735083 |\n| Oceania  | 1957 | 11598.522 |   917.64481 |   5970988 |   5291395 |\n| Oceania  | 1962 | 12696.452 |   677.72730 |   6641759 |   5873524 |\n| Oceania  | 1967 | 14495.022 |    43.98609 |   7300207 |   6465865 |\n| Oceania  | 1972 | 16417.333 |   525.09198 |   8053050 |   7246360 |\n| Oceania  | 1977 | 17283.958 |  1485.26352 |   8619500 |   7713969 |\n| Oceania  | 1982 | 18554.710 |  1304.32838 |   9197425 |   8466578 |\n| Oceania  | 1987 | 20448.040 |  2037.66801 |   9787208 |   9150020 |\n| Oceania  | 1992 | 20894.046 |  3578.97988 |  10459826 |   9930822 |\n| Oceania  | 1997 | 24024.175 |  4205.53370 |  11120715 |  10528152 |\n| Oceania  | 2002 | 26938.778 |  5301.85368 |  11727414 |  11058270 |\n| Oceania  | 2007 | 29810.188 |  6540.99110 |  12274974 |  11538855 |\n\n",
            "text/html": [
              "<table class=\"dataframe\">\n",
              "<caption>A grouped_df: 60 × 6</caption>\n",
              "<thead>\n",
              "\t<tr><th scope=col>continent</th><th scope=col>year</th><th scope=col>mean_gdpPercap</th><th scope=col>sd_gdpPercap</th><th scope=col>mean_pop</th><th scope=col>sd_pop</th></tr>\n",
              "\t<tr><th scope=col>&lt;chr&gt;</th><th scope=col>&lt;dbl&gt;</th><th scope=col>&lt;dbl&gt;</th><th scope=col>&lt;dbl&gt;</th><th scope=col>&lt;dbl&gt;</th><th scope=col>&lt;dbl&gt;</th></tr>\n",
              "</thead>\n",
              "<tbody>\n",
              "\t<tr><td>Africa  </td><td>1952</td><td> 1252.572</td><td>  982.95212</td><td>  4570010</td><td>  6317450</td></tr>\n",
              "\t<tr><td>Africa  </td><td>1957</td><td> 1385.236</td><td> 1134.50892</td><td>  5093033</td><td>  7076042</td></tr>\n",
              "\t<tr><td>Africa  </td><td>1962</td><td> 1598.079</td><td> 1461.83919</td><td>  5702247</td><td>  7957545</td></tr>\n",
              "\t<tr><td>Africa  </td><td>1967</td><td> 2050.364</td><td> 2847.71760</td><td>  6447875</td><td>  8985505</td></tr>\n",
              "\t<tr><td>Africa  </td><td>1972</td><td> 2339.616</td><td> 3286.85388</td><td>  7305376</td><td> 10130833</td></tr>\n",
              "\t<tr><td>Africa  </td><td>1977</td><td> 2585.939</td><td> 4142.39871</td><td>  8328097</td><td> 11585184</td></tr>\n",
              "\t<tr><td>Africa  </td><td>1982</td><td> 2481.593</td><td> 3242.63275</td><td>  9602857</td><td> 13456243</td></tr>\n",
              "\t<tr><td>Africa  </td><td>1987</td><td> 2282.669</td><td> 2566.53195</td><td> 11054502</td><td> 15277484</td></tr>\n",
              "\t<tr><td>Africa  </td><td>1992</td><td> 2281.810</td><td> 2644.07560</td><td> 12674645</td><td> 17562719</td></tr>\n",
              "\t<tr><td>Africa  </td><td>1997</td><td> 2378.760</td><td> 2820.72812</td><td> 14304480</td><td> 19873013</td></tr>\n",
              "\t<tr><td>Africa  </td><td>2002</td><td> 2599.385</td><td> 2972.65131</td><td> 16033152</td><td> 22302997</td></tr>\n",
              "\t<tr><td>Africa  </td><td>2007</td><td> 3089.033</td><td> 3618.16349</td><td> 17875763</td><td> 24917726</td></tr>\n",
              "\t<tr><td>Americas</td><td>1952</td><td> 4079.063</td><td> 3001.72752</td><td> 13806098</td><td> 32341632</td></tr>\n",
              "\t<tr><td>Americas</td><td>1957</td><td> 4616.044</td><td> 3312.38108</td><td> 15478157</td><td> 35537059</td></tr>\n",
              "\t<tr><td>Americas</td><td>1962</td><td> 4901.542</td><td> 3421.74057</td><td> 17330810</td><td> 38876833</td></tr>\n",
              "\t<tr><td>Americas</td><td>1967</td><td> 5668.253</td><td> 4160.88556</td><td> 19229865</td><td> 41925591</td></tr>\n",
              "\t<tr><td>Americas</td><td>1972</td><td> 6491.334</td><td> 4754.40433</td><td> 21175368</td><td> 44935462</td></tr>\n",
              "\t<tr><td>Americas</td><td>1977</td><td> 7352.007</td><td> 5355.60252</td><td> 23122708</td><td> 47904058</td></tr>\n",
              "\t<tr><td>Americas</td><td>1982</td><td> 7506.737</td><td> 5530.49047</td><td> 25211637</td><td> 51294380</td></tr>\n",
              "\t<tr><td>Americas</td><td>1987</td><td> 7793.400</td><td> 6665.03951</td><td> 27310159</td><td> 54459691</td></tr>\n",
              "\t<tr><td>Americas</td><td>1992</td><td> 8044.934</td><td> 7047.08919</td><td> 29570964</td><td> 58109222</td></tr>\n",
              "\t<tr><td>Americas</td><td>1997</td><td> 8889.301</td><td> 7874.22514</td><td> 31876016</td><td> 62032823</td></tr>\n",
              "\t<tr><td>Americas</td><td>2002</td><td> 9287.677</td><td> 8895.81779</td><td> 33990910</td><td> 65601547</td></tr>\n",
              "\t<tr><td>Americas</td><td>2007</td><td>11003.032</td><td> 9713.20930</td><td> 35954847</td><td> 68833781</td></tr>\n",
              "\t<tr><td>Asia    </td><td>1952</td><td> 5195.484</td><td>18634.89087</td><td> 42283556</td><td>113226736</td></tr>\n",
              "\t<tr><td>Asia    </td><td>1957</td><td> 5787.733</td><td>19506.51596</td><td> 47356988</td><td>128096097</td></tr>\n",
              "\t<tr><td>Asia    </td><td>1962</td><td> 5729.370</td><td>16415.85720</td><td> 51404763</td><td>136102692</td></tr>\n",
              "\t<tr><td>Asia    </td><td>1967</td><td> 5971.173</td><td>14062.59136</td><td> 57747361</td><td>153341776</td></tr>\n",
              "\t<tr><td>Asia    </td><td>1972</td><td> 8187.469</td><td>19087.50292</td><td> 65180977</td><td>174094888</td></tr>\n",
              "\t<tr><td>Asia    </td><td>1977</td><td> 7791.314</td><td>11815.77792</td><td> 72257987</td><td>191707351</td></tr>\n",
              "\t<tr><td>Asia    </td><td>1982</td><td> 7434.135</td><td> 8701.17650</td><td> 79095018</td><td>206541517</td></tr>\n",
              "\t<tr><td>Asia    </td><td>1987</td><td> 7608.227</td><td> 8090.26277</td><td> 87006690</td><td>225733224</td></tr>\n",
              "\t<tr><td>Asia    </td><td>1992</td><td> 8639.690</td><td> 9727.43109</td><td> 94948248</td><td>244960393</td></tr>\n",
              "\t<tr><td>Asia    </td><td>1997</td><td> 9834.093</td><td>11094.18048</td><td>102523803</td><td>262349716</td></tr>\n",
              "\t<tr><td>Asia    </td><td>2002</td><td>10174.090</td><td>11150.71920</td><td>109145521</td><td>276701675</td></tr>\n",
              "\t<tr><td>Asia    </td><td>2007</td><td>12473.027</td><td>14154.93734</td><td>115513752</td><td>289673399</td></tr>\n",
              "\t<tr><td>Europe  </td><td>1952</td><td> 5661.057</td><td> 3114.06049</td><td> 13937362</td><td> 17247450</td></tr>\n",
              "\t<tr><td>Europe  </td><td>1957</td><td> 6963.013</td><td> 3677.95015</td><td> 14596345</td><td> 17832354</td></tr>\n",
              "\t<tr><td>Europe  </td><td>1962</td><td> 8365.487</td><td> 4199.19391</td><td> 15345172</td><td> 18656418</td></tr>\n",
              "\t<tr><td>Europe  </td><td>1967</td><td>10143.824</td><td> 4724.98389</td><td> 16039299</td><td> 19443589</td></tr>\n",
              "\t<tr><td>Europe  </td><td>1972</td><td>12479.575</td><td> 5509.69141</td><td> 16687835</td><td> 20180340</td></tr>\n",
              "\t<tr><td>Europe  </td><td>1977</td><td>14283.979</td><td> 5874.46490</td><td> 17238818</td><td> 20560544</td></tr>\n",
              "\t<tr><td>Europe  </td><td>1982</td><td>15617.897</td><td> 6453.23483</td><td> 17708897</td><td> 20971293</td></tr>\n",
              "\t<tr><td>Europe  </td><td>1987</td><td>17214.311</td><td> 7482.95796</td><td> 18103139</td><td> 21369711</td></tr>\n",
              "\t<tr><td>Europe  </td><td>1992</td><td>17061.568</td><td> 9109.80436</td><td> 18604760</td><td> 22126736</td></tr>\n",
              "\t<tr><td>Europe  </td><td>1997</td><td>19076.782</td><td>10065.45772</td><td> 18964805</td><td> 22748145</td></tr>\n",
              "\t<tr><td>Europe  </td><td>2002</td><td>21711.732</td><td>11197.35552</td><td> 19274129</td><td> 23223691</td></tr>\n",
              "\t<tr><td>Europe  </td><td>2007</td><td>25054.482</td><td>11800.33981</td><td> 19536618</td><td> 23624744</td></tr>\n",
              "\t<tr><td>Oceania </td><td>1952</td><td>10298.086</td><td>  365.56008</td><td>  5343003</td><td>  4735083</td></tr>\n",
              "\t<tr><td>Oceania </td><td>1957</td><td>11598.522</td><td>  917.64481</td><td>  5970988</td><td>  5291395</td></tr>\n",
              "\t<tr><td>Oceania </td><td>1962</td><td>12696.452</td><td>  677.72730</td><td>  6641759</td><td>  5873524</td></tr>\n",
              "\t<tr><td>Oceania </td><td>1967</td><td>14495.022</td><td>   43.98609</td><td>  7300207</td><td>  6465865</td></tr>\n",
              "\t<tr><td>Oceania </td><td>1972</td><td>16417.333</td><td>  525.09198</td><td>  8053050</td><td>  7246360</td></tr>\n",
              "\t<tr><td>Oceania </td><td>1977</td><td>17283.958</td><td> 1485.26352</td><td>  8619500</td><td>  7713969</td></tr>\n",
              "\t<tr><td>Oceania </td><td>1982</td><td>18554.710</td><td> 1304.32838</td><td>  9197425</td><td>  8466578</td></tr>\n",
              "\t<tr><td>Oceania </td><td>1987</td><td>20448.040</td><td> 2037.66801</td><td>  9787208</td><td>  9150020</td></tr>\n",
              "\t<tr><td>Oceania </td><td>1992</td><td>20894.046</td><td> 3578.97988</td><td> 10459826</td><td>  9930822</td></tr>\n",
              "\t<tr><td>Oceania </td><td>1997</td><td>24024.175</td><td> 4205.53370</td><td> 11120715</td><td> 10528152</td></tr>\n",
              "\t<tr><td>Oceania </td><td>2002</td><td>26938.778</td><td> 5301.85368</td><td> 11727414</td><td> 11058270</td></tr>\n",
              "\t<tr><td>Oceania </td><td>2007</td><td>29810.188</td><td> 6540.99110</td><td> 12274974</td><td> 11538855</td></tr>\n",
              "</tbody>\n",
              "</table>\n"
            ]
          },
          "metadata": {}
        }
      ]
    },
    {
      "cell_type": "markdown",
      "source": [
        "Consultez la [Cheat Sheet sur la transformation de données](https://raw.githubusercontent.com/rstudio/cheatsheets/main/data-transformation.pdf) pour avoir une idée des fonctions qui peuvent être utilisées avec `summarize()`."
      ],
      "metadata": {
        "id": "oBQDvB0Nms0V"
      }
    },
    {
      "cell_type": "markdown",
      "source": [
        "## Défi 2\n",
        "\n",
        "Calculez l'espérance de vie moyenne par pays. Essayez ensuite de trouver lequel a l'espérance de vie la plus **longue**."
      ],
      "metadata": {
        "id": "lMVYz5zhOfbw"
      }
    },
    {
      "cell_type": "code",
      "source": [
        ""
      ],
      "metadata": {
        "id": "x2YHbZQInSYt"
      },
      "execution_count": null,
      "outputs": []
    },
    {
      "cell_type": "markdown",
      "source": [
        "*Suggestion: La fonction `arrange` peut vous aider à classer les rangées en ordre croissant ou décroissant.*"
      ],
      "metadata": {
        "id": "V0xKioFNnc4m"
      }
    },
    {
      "cell_type": "markdown",
      "source": [
        "## 1.5 Ajout de nouvelles colonnes avec `mutate()`"
      ],
      "metadata": {
        "id": "Yvr9KP1zTAVl"
      }
    },
    {
      "cell_type": "code",
      "source": [
        "# Ajouter la population en millions et calculer le PIB total en milliards\n",
        "gapminder %>%\n",
        "  mutate(pop_million = pop / 10^6,\n",
        "         gdp_billion = gdpPercap * pop / 10^9) %>%\n",
        "  head()"
      ],
      "metadata": {
        "colab": {
          "base_uri": "https://localhost:8080/",
          "height": 286
        },
        "id": "QNYbkYhOS9mo",
        "outputId": "6a147d49-769e-4866-b2a3-9b884729f82b"
      },
      "execution_count": null,
      "outputs": [
        {
          "output_type": "display_data",
          "data": {
            "text/plain": [
              "  country     year pop      continent lifeExp gdpPercap pop_million gdp_billion\n",
              "1 Afghanistan 1952  8425333 Asia      28.801  779.4453   8.425333    6.567086  \n",
              "2 Afghanistan 1957  9240934 Asia      30.332  820.8530   9.240934    7.585449  \n",
              "3 Afghanistan 1962 10267083 Asia      31.997  853.1007  10.267083    8.758856  \n",
              "4 Afghanistan 1967 11537966 Asia      34.020  836.1971  11.537966    9.648014  \n",
              "5 Afghanistan 1972 13079460 Asia      36.088  739.9811  13.079460    9.678553  \n",
              "6 Afghanistan 1977 14880372 Asia      38.438  786.1134  14.880372   11.697659  "
            ],
            "text/latex": "A tibble: 6 × 8\n\\begin{tabular}{llllllll}\n country & year & pop & continent & lifeExp & gdpPercap & pop\\_million & gdp\\_billion\\\\\n <chr> & <dbl> & <dbl> & <chr> & <dbl> & <dbl> & <dbl> & <dbl>\\\\\n\\hline\n\t Afghanistan & 1952 &  8425333 & Asia & 28.801 & 779.4453 &  8.425333 &  6.567086\\\\\n\t Afghanistan & 1957 &  9240934 & Asia & 30.332 & 820.8530 &  9.240934 &  7.585449\\\\\n\t Afghanistan & 1962 & 10267083 & Asia & 31.997 & 853.1007 & 10.267083 &  8.758856\\\\\n\t Afghanistan & 1967 & 11537966 & Asia & 34.020 & 836.1971 & 11.537966 &  9.648014\\\\\n\t Afghanistan & 1972 & 13079460 & Asia & 36.088 & 739.9811 & 13.079460 &  9.678553\\\\\n\t Afghanistan & 1977 & 14880372 & Asia & 38.438 & 786.1134 & 14.880372 & 11.697659\\\\\n\\end{tabular}\n",
            "text/markdown": "\nA tibble: 6 × 8\n\n| country &lt;chr&gt; | year &lt;dbl&gt; | pop &lt;dbl&gt; | continent &lt;chr&gt; | lifeExp &lt;dbl&gt; | gdpPercap &lt;dbl&gt; | pop_million &lt;dbl&gt; | gdp_billion &lt;dbl&gt; |\n|---|---|---|---|---|---|---|---|\n| Afghanistan | 1952 |  8425333 | Asia | 28.801 | 779.4453 |  8.425333 |  6.567086 |\n| Afghanistan | 1957 |  9240934 | Asia | 30.332 | 820.8530 |  9.240934 |  7.585449 |\n| Afghanistan | 1962 | 10267083 | Asia | 31.997 | 853.1007 | 10.267083 |  8.758856 |\n| Afghanistan | 1967 | 11537966 | Asia | 34.020 | 836.1971 | 11.537966 |  9.648014 |\n| Afghanistan | 1972 | 13079460 | Asia | 36.088 | 739.9811 | 13.079460 |  9.678553 |\n| Afghanistan | 1977 | 14880372 | Asia | 38.438 | 786.1134 | 14.880372 | 11.697659 |\n\n",
            "text/html": [
              "<table class=\"dataframe\">\n",
              "<caption>A tibble: 6 × 8</caption>\n",
              "<thead>\n",
              "\t<tr><th scope=col>country</th><th scope=col>year</th><th scope=col>pop</th><th scope=col>continent</th><th scope=col>lifeExp</th><th scope=col>gdpPercap</th><th scope=col>pop_million</th><th scope=col>gdp_billion</th></tr>\n",
              "\t<tr><th scope=col>&lt;chr&gt;</th><th scope=col>&lt;dbl&gt;</th><th scope=col>&lt;dbl&gt;</th><th scope=col>&lt;chr&gt;</th><th scope=col>&lt;dbl&gt;</th><th scope=col>&lt;dbl&gt;</th><th scope=col>&lt;dbl&gt;</th><th scope=col>&lt;dbl&gt;</th></tr>\n",
              "</thead>\n",
              "<tbody>\n",
              "\t<tr><td>Afghanistan</td><td>1952</td><td> 8425333</td><td>Asia</td><td>28.801</td><td>779.4453</td><td> 8.425333</td><td> 6.567086</td></tr>\n",
              "\t<tr><td>Afghanistan</td><td>1957</td><td> 9240934</td><td>Asia</td><td>30.332</td><td>820.8530</td><td> 9.240934</td><td> 7.585449</td></tr>\n",
              "\t<tr><td>Afghanistan</td><td>1962</td><td>10267083</td><td>Asia</td><td>31.997</td><td>853.1007</td><td>10.267083</td><td> 8.758856</td></tr>\n",
              "\t<tr><td>Afghanistan</td><td>1967</td><td>11537966</td><td>Asia</td><td>34.020</td><td>836.1971</td><td>11.537966</td><td> 9.648014</td></tr>\n",
              "\t<tr><td>Afghanistan</td><td>1972</td><td>13079460</td><td>Asia</td><td>36.088</td><td>739.9811</td><td>13.079460</td><td> 9.678553</td></tr>\n",
              "\t<tr><td>Afghanistan</td><td>1977</td><td>14880372</td><td>Asia</td><td>38.438</td><td>786.1134</td><td>14.880372</td><td>11.697659</td></tr>\n",
              "</tbody>\n",
              "</table>\n"
            ]
          },
          "metadata": {}
        }
      ]
    },
    {
      "cell_type": "code",
      "source": [
        "# L'ajout d'une nouvelle colonne fonctionne évidemment avec base-R\n",
        "gapminder_copie <- gapminder\n",
        "gapminder_copie$gdp_billion <- gapminder_copie$gdpPercap * gapminder_copie$pop / 10^9\n",
        "head(gapminder_copie)"
      ],
      "metadata": {
        "colab": {
          "base_uri": "https://localhost:8080/",
          "height": 286
        },
        "id": "MnPZM97po8Sc",
        "outputId": "d8486693-49ad-4c88-9b53-8536c4c014cb"
      },
      "execution_count": null,
      "outputs": [
        {
          "output_type": "display_data",
          "data": {
            "text/plain": [
              "  country     year pop      continent lifeExp gdpPercap gdp_billion\n",
              "1 Afghanistan 1952  8425333 Asia      28.801  779.4453   6.567086  \n",
              "2 Afghanistan 1957  9240934 Asia      30.332  820.8530   7.585449  \n",
              "3 Afghanistan 1962 10267083 Asia      31.997  853.1007   8.758856  \n",
              "4 Afghanistan 1967 11537966 Asia      34.020  836.1971   9.648014  \n",
              "5 Afghanistan 1972 13079460 Asia      36.088  739.9811   9.678553  \n",
              "6 Afghanistan 1977 14880372 Asia      38.438  786.1134  11.697659  "
            ],
            "text/latex": "A tibble: 6 × 7\n\\begin{tabular}{lllllll}\n country & year & pop & continent & lifeExp & gdpPercap & gdp\\_billion\\\\\n <chr> & <dbl> & <dbl> & <chr> & <dbl> & <dbl> & <dbl>\\\\\n\\hline\n\t Afghanistan & 1952 &  8425333 & Asia & 28.801 & 779.4453 &  6.567086\\\\\n\t Afghanistan & 1957 &  9240934 & Asia & 30.332 & 820.8530 &  7.585449\\\\\n\t Afghanistan & 1962 & 10267083 & Asia & 31.997 & 853.1007 &  8.758856\\\\\n\t Afghanistan & 1967 & 11537966 & Asia & 34.020 & 836.1971 &  9.648014\\\\\n\t Afghanistan & 1972 & 13079460 & Asia & 36.088 & 739.9811 &  9.678553\\\\\n\t Afghanistan & 1977 & 14880372 & Asia & 38.438 & 786.1134 & 11.697659\\\\\n\\end{tabular}\n",
            "text/markdown": "\nA tibble: 6 × 7\n\n| country &lt;chr&gt; | year &lt;dbl&gt; | pop &lt;dbl&gt; | continent &lt;chr&gt; | lifeExp &lt;dbl&gt; | gdpPercap &lt;dbl&gt; | gdp_billion &lt;dbl&gt; |\n|---|---|---|---|---|---|---|\n| Afghanistan | 1952 |  8425333 | Asia | 28.801 | 779.4453 |  6.567086 |\n| Afghanistan | 1957 |  9240934 | Asia | 30.332 | 820.8530 |  7.585449 |\n| Afghanistan | 1962 | 10267083 | Asia | 31.997 | 853.1007 |  8.758856 |\n| Afghanistan | 1967 | 11537966 | Asia | 34.020 | 836.1971 |  9.648014 |\n| Afghanistan | 1972 | 13079460 | Asia | 36.088 | 739.9811 |  9.678553 |\n| Afghanistan | 1977 | 14880372 | Asia | 38.438 | 786.1134 | 11.697659 |\n\n",
            "text/html": [
              "<table class=\"dataframe\">\n",
              "<caption>A tibble: 6 × 7</caption>\n",
              "<thead>\n",
              "\t<tr><th scope=col>country</th><th scope=col>year</th><th scope=col>pop</th><th scope=col>continent</th><th scope=col>lifeExp</th><th scope=col>gdpPercap</th><th scope=col>gdp_billion</th></tr>\n",
              "\t<tr><th scope=col>&lt;chr&gt;</th><th scope=col>&lt;dbl&gt;</th><th scope=col>&lt;dbl&gt;</th><th scope=col>&lt;chr&gt;</th><th scope=col>&lt;dbl&gt;</th><th scope=col>&lt;dbl&gt;</th><th scope=col>&lt;dbl&gt;</th></tr>\n",
              "</thead>\n",
              "<tbody>\n",
              "\t<tr><td>Afghanistan</td><td>1952</td><td> 8425333</td><td>Asia</td><td>28.801</td><td>779.4453</td><td> 6.567086</td></tr>\n",
              "\t<tr><td>Afghanistan</td><td>1957</td><td> 9240934</td><td>Asia</td><td>30.332</td><td>820.8530</td><td> 7.585449</td></tr>\n",
              "\t<tr><td>Afghanistan</td><td>1962</td><td>10267083</td><td>Asia</td><td>31.997</td><td>853.1007</td><td> 8.758856</td></tr>\n",
              "\t<tr><td>Afghanistan</td><td>1967</td><td>11537966</td><td>Asia</td><td>34.020</td><td>836.1971</td><td> 9.648014</td></tr>\n",
              "\t<tr><td>Afghanistan</td><td>1972</td><td>13079460</td><td>Asia</td><td>36.088</td><td>739.9811</td><td> 9.678553</td></tr>\n",
              "\t<tr><td>Afghanistan</td><td>1977</td><td>14880372</td><td>Asia</td><td>38.438</td><td>786.1134</td><td>11.697659</td></tr>\n",
              "</tbody>\n",
              "</table>\n"
            ]
          },
          "metadata": {}
        }
      ]
    },
    {
      "cell_type": "code",
      "source": [
        "# `mutate` peut également modifier une colonne existante\n",
        "gapminder %>%\n",
        "  mutate(pop = pop / 10^6) %>%\n",
        "  head()"
      ],
      "metadata": {
        "colab": {
          "base_uri": "https://localhost:8080/",
          "height": 286
        },
        "id": "h-MwP75SUgUt",
        "outputId": "801d5062-26d5-4749-929f-3497f465690b"
      },
      "execution_count": null,
      "outputs": [
        {
          "output_type": "display_data",
          "data": {
            "text/plain": [
              "  country     year pop       continent lifeExp gdpPercap\n",
              "1 Afghanistan 1952  8.425333 Asia      28.801  779.4453 \n",
              "2 Afghanistan 1957  9.240934 Asia      30.332  820.8530 \n",
              "3 Afghanistan 1962 10.267083 Asia      31.997  853.1007 \n",
              "4 Afghanistan 1967 11.537966 Asia      34.020  836.1971 \n",
              "5 Afghanistan 1972 13.079460 Asia      36.088  739.9811 \n",
              "6 Afghanistan 1977 14.880372 Asia      38.438  786.1134 "
            ],
            "text/latex": "A tibble: 6 × 6\n\\begin{tabular}{llllll}\n country & year & pop & continent & lifeExp & gdpPercap\\\\\n <chr> & <dbl> & <dbl> & <chr> & <dbl> & <dbl>\\\\\n\\hline\n\t Afghanistan & 1952 &  8.425333 & Asia & 28.801 & 779.4453\\\\\n\t Afghanistan & 1957 &  9.240934 & Asia & 30.332 & 820.8530\\\\\n\t Afghanistan & 1962 & 10.267083 & Asia & 31.997 & 853.1007\\\\\n\t Afghanistan & 1967 & 11.537966 & Asia & 34.020 & 836.1971\\\\\n\t Afghanistan & 1972 & 13.079460 & Asia & 36.088 & 739.9811\\\\\n\t Afghanistan & 1977 & 14.880372 & Asia & 38.438 & 786.1134\\\\\n\\end{tabular}\n",
            "text/markdown": "\nA tibble: 6 × 6\n\n| country &lt;chr&gt; | year &lt;dbl&gt; | pop &lt;dbl&gt; | continent &lt;chr&gt; | lifeExp &lt;dbl&gt; | gdpPercap &lt;dbl&gt; |\n|---|---|---|---|---|---|\n| Afghanistan | 1952 |  8.425333 | Asia | 28.801 | 779.4453 |\n| Afghanistan | 1957 |  9.240934 | Asia | 30.332 | 820.8530 |\n| Afghanistan | 1962 | 10.267083 | Asia | 31.997 | 853.1007 |\n| Afghanistan | 1967 | 11.537966 | Asia | 34.020 | 836.1971 |\n| Afghanistan | 1972 | 13.079460 | Asia | 36.088 | 739.9811 |\n| Afghanistan | 1977 | 14.880372 | Asia | 38.438 | 786.1134 |\n\n",
            "text/html": [
              "<table class=\"dataframe\">\n",
              "<caption>A tibble: 6 × 6</caption>\n",
              "<thead>\n",
              "\t<tr><th scope=col>country</th><th scope=col>year</th><th scope=col>pop</th><th scope=col>continent</th><th scope=col>lifeExp</th><th scope=col>gdpPercap</th></tr>\n",
              "\t<tr><th scope=col>&lt;chr&gt;</th><th scope=col>&lt;dbl&gt;</th><th scope=col>&lt;dbl&gt;</th><th scope=col>&lt;chr&gt;</th><th scope=col>&lt;dbl&gt;</th><th scope=col>&lt;dbl&gt;</th></tr>\n",
              "</thead>\n",
              "<tbody>\n",
              "\t<tr><td>Afghanistan</td><td>1952</td><td> 8.425333</td><td>Asia</td><td>28.801</td><td>779.4453</td></tr>\n",
              "\t<tr><td>Afghanistan</td><td>1957</td><td> 9.240934</td><td>Asia</td><td>30.332</td><td>820.8530</td></tr>\n",
              "\t<tr><td>Afghanistan</td><td>1962</td><td>10.267083</td><td>Asia</td><td>31.997</td><td>853.1007</td></tr>\n",
              "\t<tr><td>Afghanistan</td><td>1967</td><td>11.537966</td><td>Asia</td><td>34.020</td><td>836.1971</td></tr>\n",
              "\t<tr><td>Afghanistan</td><td>1972</td><td>13.079460</td><td>Asia</td><td>36.088</td><td>739.9811</td></tr>\n",
              "\t<tr><td>Afghanistan</td><td>1977</td><td>14.880372</td><td>Asia</td><td>38.438</td><td>786.1134</td></tr>\n",
              "</tbody>\n",
              "</table>\n"
            ]
          },
          "metadata": {}
        }
      ]
    },
    {
      "cell_type": "code",
      "source": [
        "# Ajouter une variable en fonction d'une condition logique\n",
        "gapminder %>%\n",
        "    mutate(century = ifelse(year >= 2000, \"21st\", \"20th\")) %>%\n",
        "    select(country, year, century) %>%\n",
        "    tail()"
      ],
      "metadata": {
        "colab": {
          "base_uri": "https://localhost:8080/",
          "height": 286
        },
        "id": "WIo0ule_VXpE",
        "outputId": "8800f543-af47-4dd4-aa1e-399a29292969"
      },
      "execution_count": null,
      "outputs": [
        {
          "output_type": "display_data",
          "data": {
            "text/plain": [
              "  country  year century\n",
              "1 Zimbabwe 1982 20th   \n",
              "2 Zimbabwe 1987 20th   \n",
              "3 Zimbabwe 1992 20th   \n",
              "4 Zimbabwe 1997 20th   \n",
              "5 Zimbabwe 2002 21st   \n",
              "6 Zimbabwe 2007 21st   "
            ],
            "text/latex": "A tibble: 6 × 3\n\\begin{tabular}{lll}\n country & year & century\\\\\n <chr> & <dbl> & <chr>\\\\\n\\hline\n\t Zimbabwe & 1982 & 20th\\\\\n\t Zimbabwe & 1987 & 20th\\\\\n\t Zimbabwe & 1992 & 20th\\\\\n\t Zimbabwe & 1997 & 20th\\\\\n\t Zimbabwe & 2002 & 21st\\\\\n\t Zimbabwe & 2007 & 21st\\\\\n\\end{tabular}\n",
            "text/markdown": "\nA tibble: 6 × 3\n\n| country &lt;chr&gt; | year &lt;dbl&gt; | century &lt;chr&gt; |\n|---|---|---|\n| Zimbabwe | 1982 | 20th |\n| Zimbabwe | 1987 | 20th |\n| Zimbabwe | 1992 | 20th |\n| Zimbabwe | 1997 | 20th |\n| Zimbabwe | 2002 | 21st |\n| Zimbabwe | 2007 | 21st |\n\n",
            "text/html": [
              "<table class=\"dataframe\">\n",
              "<caption>A tibble: 6 × 3</caption>\n",
              "<thead>\n",
              "\t<tr><th scope=col>country</th><th scope=col>year</th><th scope=col>century</th></tr>\n",
              "\t<tr><th scope=col>&lt;chr&gt;</th><th scope=col>&lt;dbl&gt;</th><th scope=col>&lt;chr&gt;</th></tr>\n",
              "</thead>\n",
              "<tbody>\n",
              "\t<tr><td>Zimbabwe</td><td>1982</td><td>20th</td></tr>\n",
              "\t<tr><td>Zimbabwe</td><td>1987</td><td>20th</td></tr>\n",
              "\t<tr><td>Zimbabwe</td><td>1992</td><td>20th</td></tr>\n",
              "\t<tr><td>Zimbabwe</td><td>1997</td><td>20th</td></tr>\n",
              "\t<tr><td>Zimbabwe</td><td>2002</td><td>21st</td></tr>\n",
              "\t<tr><td>Zimbabwe</td><td>2007</td><td>21st</td></tr>\n",
              "</tbody>\n",
              "</table>\n"
            ]
          },
          "metadata": {}
        }
      ]
    },
    {
      "cell_type": "code",
      "source": [
        "# Plus complexe: modifier une valeur seulement si une condition est remplie\n",
        "# Pour une espérance de vie de plus de 40 ans, accroître le PIB par 1.5\n",
        "gapminder %>%\n",
        "    mutate(gdp_futureExpectation = ifelse(lifeExp > 40, gdpPercap * 1.5, gdpPercap)) %>%\n",
        "    group_by(continent) %>%\n",
        "    summarize(mean_gdpPercap = mean(gdpPercap),\n",
        "              mean_gdpPercap_expected = mean(gdp_futureExpectation))\n"
      ],
      "metadata": {
        "colab": {
          "base_uri": "https://localhost:8080/",
          "height": 255
        },
        "id": "8DXjSaVHW_VX",
        "outputId": "7fa9d6c0-d3b5-4313-a952-5fd78ab496be"
      },
      "execution_count": null,
      "outputs": [
        {
          "output_type": "display_data",
          "data": {
            "text/plain": [
              "  continent mean_gdpPercap mean_gdpPercap_expected\n",
              "1 Africa     2193.755       3192.214              \n",
              "2 Americas   7136.110      10701.098              \n",
              "3 Asia       7902.150      11821.480              \n",
              "4 Europe    14469.476      21704.213              \n",
              "5 Oceania   18621.609      27932.414              "
            ],
            "text/latex": "A tibble: 5 × 3\n\\begin{tabular}{lll}\n continent & mean\\_gdpPercap & mean\\_gdpPercap\\_expected\\\\\n <chr> & <dbl> & <dbl>\\\\\n\\hline\n\t Africa   &  2193.755 &  3192.214\\\\\n\t Americas &  7136.110 & 10701.098\\\\\n\t Asia     &  7902.150 & 11821.480\\\\\n\t Europe   & 14469.476 & 21704.213\\\\\n\t Oceania  & 18621.609 & 27932.414\\\\\n\\end{tabular}\n",
            "text/markdown": "\nA tibble: 5 × 3\n\n| continent &lt;chr&gt; | mean_gdpPercap &lt;dbl&gt; | mean_gdpPercap_expected &lt;dbl&gt; |\n|---|---|---|\n| Africa   |  2193.755 |  3192.214 |\n| Americas |  7136.110 | 10701.098 |\n| Asia     |  7902.150 | 11821.480 |\n| Europe   | 14469.476 | 21704.213 |\n| Oceania  | 18621.609 | 27932.414 |\n\n",
            "text/html": [
              "<table class=\"dataframe\">\n",
              "<caption>A tibble: 5 × 3</caption>\n",
              "<thead>\n",
              "\t<tr><th scope=col>continent</th><th scope=col>mean_gdpPercap</th><th scope=col>mean_gdpPercap_expected</th></tr>\n",
              "\t<tr><th scope=col>&lt;chr&gt;</th><th scope=col>&lt;dbl&gt;</th><th scope=col>&lt;dbl&gt;</th></tr>\n",
              "</thead>\n",
              "<tbody>\n",
              "\t<tr><td>Africa  </td><td> 2193.755</td><td> 3192.214</td></tr>\n",
              "\t<tr><td>Americas</td><td> 7136.110</td><td>10701.098</td></tr>\n",
              "\t<tr><td>Asia    </td><td> 7902.150</td><td>11821.480</td></tr>\n",
              "\t<tr><td>Europe  </td><td>14469.476</td><td>21704.213</td></tr>\n",
              "\t<tr><td>Oceania </td><td>18621.609</td><td>27932.414</td></tr>\n",
              "</tbody>\n",
              "</table>\n"
            ]
          },
          "metadata": {}
        }
      ]
    },
    {
      "cell_type": "markdown",
      "source": [
        "## 1.6 Autres fonctions utiles"
      ],
      "metadata": {
        "id": "Smkw7ylgQf4u"
      }
    },
    {
      "cell_type": "markdown",
      "source": [
        "### `rename`: Renommer les colonnes"
      ],
      "metadata": {
        "id": "nnveKOR-U1BN"
      }
    },
    {
      "cell_type": "code",
      "source": [
        "# Renommer des colonnes\n",
        "gapminder_rename <- gapminder %>%\n",
        "  rename(life_exp = lifeExp, \n",
        "         gdp_per_cap = gdpPercap)\n",
        "\n",
        "# Les colonnes renommées:\n",
        "head(gapminder_rename)"
      ],
      "metadata": {
        "colab": {
          "base_uri": "https://localhost:8080/",
          "height": 286
        },
        "id": "IVGwxUeVl1kp",
        "outputId": "b6c9cc64-796e-43b1-9c9b-dbbe2a68b6f0"
      },
      "execution_count": null,
      "outputs": [
        {
          "output_type": "display_data",
          "data": {
            "text/plain": [
              "  country     year pop      continent life_exp gdp_per_cap\n",
              "1 Afghanistan 1952  8425333 Asia      28.801   779.4453   \n",
              "2 Afghanistan 1957  9240934 Asia      30.332   820.8530   \n",
              "3 Afghanistan 1962 10267083 Asia      31.997   853.1007   \n",
              "4 Afghanistan 1967 11537966 Asia      34.020   836.1971   \n",
              "5 Afghanistan 1972 13079460 Asia      36.088   739.9811   \n",
              "6 Afghanistan 1977 14880372 Asia      38.438   786.1134   "
            ],
            "text/latex": "A tibble: 6 × 6\n\\begin{tabular}{llllll}\n country & year & pop & continent & life\\_exp & gdp\\_per\\_cap\\\\\n <chr> & <dbl> & <dbl> & <chr> & <dbl> & <dbl>\\\\\n\\hline\n\t Afghanistan & 1952 &  8425333 & Asia & 28.801 & 779.4453\\\\\n\t Afghanistan & 1957 &  9240934 & Asia & 30.332 & 820.8530\\\\\n\t Afghanistan & 1962 & 10267083 & Asia & 31.997 & 853.1007\\\\\n\t Afghanistan & 1967 & 11537966 & Asia & 34.020 & 836.1971\\\\\n\t Afghanistan & 1972 & 13079460 & Asia & 36.088 & 739.9811\\\\\n\t Afghanistan & 1977 & 14880372 & Asia & 38.438 & 786.1134\\\\\n\\end{tabular}\n",
            "text/markdown": "\nA tibble: 6 × 6\n\n| country &lt;chr&gt; | year &lt;dbl&gt; | pop &lt;dbl&gt; | continent &lt;chr&gt; | life_exp &lt;dbl&gt; | gdp_per_cap &lt;dbl&gt; |\n|---|---|---|---|---|---|\n| Afghanistan | 1952 |  8425333 | Asia | 28.801 | 779.4453 |\n| Afghanistan | 1957 |  9240934 | Asia | 30.332 | 820.8530 |\n| Afghanistan | 1962 | 10267083 | Asia | 31.997 | 853.1007 |\n| Afghanistan | 1967 | 11537966 | Asia | 34.020 | 836.1971 |\n| Afghanistan | 1972 | 13079460 | Asia | 36.088 | 739.9811 |\n| Afghanistan | 1977 | 14880372 | Asia | 38.438 | 786.1134 |\n\n",
            "text/html": [
              "<table class=\"dataframe\">\n",
              "<caption>A tibble: 6 × 6</caption>\n",
              "<thead>\n",
              "\t<tr><th scope=col>country</th><th scope=col>year</th><th scope=col>pop</th><th scope=col>continent</th><th scope=col>life_exp</th><th scope=col>gdp_per_cap</th></tr>\n",
              "\t<tr><th scope=col>&lt;chr&gt;</th><th scope=col>&lt;dbl&gt;</th><th scope=col>&lt;dbl&gt;</th><th scope=col>&lt;chr&gt;</th><th scope=col>&lt;dbl&gt;</th><th scope=col>&lt;dbl&gt;</th></tr>\n",
              "</thead>\n",
              "<tbody>\n",
              "\t<tr><td>Afghanistan</td><td>1952</td><td> 8425333</td><td>Asia</td><td>28.801</td><td>779.4453</td></tr>\n",
              "\t<tr><td>Afghanistan</td><td>1957</td><td> 9240934</td><td>Asia</td><td>30.332</td><td>820.8530</td></tr>\n",
              "\t<tr><td>Afghanistan</td><td>1962</td><td>10267083</td><td>Asia</td><td>31.997</td><td>853.1007</td></tr>\n",
              "\t<tr><td>Afghanistan</td><td>1967</td><td>11537966</td><td>Asia</td><td>34.020</td><td>836.1971</td></tr>\n",
              "\t<tr><td>Afghanistan</td><td>1972</td><td>13079460</td><td>Asia</td><td>36.088</td><td>739.9811</td></tr>\n",
              "\t<tr><td>Afghanistan</td><td>1977</td><td>14880372</td><td>Asia</td><td>38.438</td><td>786.1134</td></tr>\n",
              "</tbody>\n",
              "</table>\n"
            ]
          },
          "metadata": {}
        }
      ]
    },
    {
      "cell_type": "code",
      "source": [
        "# Renommer les colonnes en français\n",
        "gapminder_fr <- gapminder %>%\n",
        "  rename(pays = country,\n",
        "         annee = year, \n",
        "         esp_vie = lifeExp, \n",
        "         pib_par_hab = gdpPercap)\n",
        "\n",
        "# Les colonnes en français:\n",
        "head(gapminder_fr)\n",
        "\n",
        "# À noter: Les noms de colonnes n'ont pas été changées dans le jeu de données \n",
        "# original. Nous continuerons donc à utiliser les noms en anglais"
      ],
      "metadata": {
        "colab": {
          "base_uri": "https://localhost:8080/",
          "height": 286
        },
        "id": "dt97DPkvmvc3",
        "outputId": "552a31c3-1453-43bb-8927-6a4c0b717145"
      },
      "execution_count": null,
      "outputs": [
        {
          "output_type": "display_data",
          "data": {
            "text/plain": [
              "  pays        annee pop      continent esp_vie pib_par_hab\n",
              "1 Afghanistan 1952   8425333 Asia      28.801  779.4453   \n",
              "2 Afghanistan 1957   9240934 Asia      30.332  820.8530   \n",
              "3 Afghanistan 1962  10267083 Asia      31.997  853.1007   \n",
              "4 Afghanistan 1967  11537966 Asia      34.020  836.1971   \n",
              "5 Afghanistan 1972  13079460 Asia      36.088  739.9811   \n",
              "6 Afghanistan 1977  14880372 Asia      38.438  786.1134   "
            ],
            "text/latex": "A tibble: 6 × 6\n\\begin{tabular}{llllll}\n pays & annee & pop & continent & esp\\_vie & pib\\_par\\_hab\\\\\n <chr> & <dbl> & <dbl> & <chr> & <dbl> & <dbl>\\\\\n\\hline\n\t Afghanistan & 1952 &  8425333 & Asia & 28.801 & 779.4453\\\\\n\t Afghanistan & 1957 &  9240934 & Asia & 30.332 & 820.8530\\\\\n\t Afghanistan & 1962 & 10267083 & Asia & 31.997 & 853.1007\\\\\n\t Afghanistan & 1967 & 11537966 & Asia & 34.020 & 836.1971\\\\\n\t Afghanistan & 1972 & 13079460 & Asia & 36.088 & 739.9811\\\\\n\t Afghanistan & 1977 & 14880372 & Asia & 38.438 & 786.1134\\\\\n\\end{tabular}\n",
            "text/markdown": "\nA tibble: 6 × 6\n\n| pays &lt;chr&gt; | annee &lt;dbl&gt; | pop &lt;dbl&gt; | continent &lt;chr&gt; | esp_vie &lt;dbl&gt; | pib_par_hab &lt;dbl&gt; |\n|---|---|---|---|---|---|\n| Afghanistan | 1952 |  8425333 | Asia | 28.801 | 779.4453 |\n| Afghanistan | 1957 |  9240934 | Asia | 30.332 | 820.8530 |\n| Afghanistan | 1962 | 10267083 | Asia | 31.997 | 853.1007 |\n| Afghanistan | 1967 | 11537966 | Asia | 34.020 | 836.1971 |\n| Afghanistan | 1972 | 13079460 | Asia | 36.088 | 739.9811 |\n| Afghanistan | 1977 | 14880372 | Asia | 38.438 | 786.1134 |\n\n",
            "text/html": [
              "<table class=\"dataframe\">\n",
              "<caption>A tibble: 6 × 6</caption>\n",
              "<thead>\n",
              "\t<tr><th scope=col>pays</th><th scope=col>annee</th><th scope=col>pop</th><th scope=col>continent</th><th scope=col>esp_vie</th><th scope=col>pib_par_hab</th></tr>\n",
              "\t<tr><th scope=col>&lt;chr&gt;</th><th scope=col>&lt;dbl&gt;</th><th scope=col>&lt;dbl&gt;</th><th scope=col>&lt;chr&gt;</th><th scope=col>&lt;dbl&gt;</th><th scope=col>&lt;dbl&gt;</th></tr>\n",
              "</thead>\n",
              "<tbody>\n",
              "\t<tr><td>Afghanistan</td><td>1952</td><td> 8425333</td><td>Asia</td><td>28.801</td><td>779.4453</td></tr>\n",
              "\t<tr><td>Afghanistan</td><td>1957</td><td> 9240934</td><td>Asia</td><td>30.332</td><td>820.8530</td></tr>\n",
              "\t<tr><td>Afghanistan</td><td>1962</td><td>10267083</td><td>Asia</td><td>31.997</td><td>853.1007</td></tr>\n",
              "\t<tr><td>Afghanistan</td><td>1967</td><td>11537966</td><td>Asia</td><td>34.020</td><td>836.1971</td></tr>\n",
              "\t<tr><td>Afghanistan</td><td>1972</td><td>13079460</td><td>Asia</td><td>36.088</td><td>739.9811</td></tr>\n",
              "\t<tr><td>Afghanistan</td><td>1977</td><td>14880372</td><td>Asia</td><td>38.438</td><td>786.1134</td></tr>\n",
              "</tbody>\n",
              "</table>\n"
            ]
          },
          "metadata": {}
        }
      ]
    },
    {
      "cell_type": "markdown",
      "source": [
        "### `count()`: compter le nombre d'observations"
      ],
      "metadata": {
        "id": "HZPJEt93Qkd7"
      }
    },
    {
      "cell_type": "code",
      "source": [
        "# Déterminer le nombre d'observations par continent\n",
        "gapminder %>%\n",
        "    filter(year == 2002) %>%\n",
        "    count(continent, sort = TRUE)"
      ],
      "metadata": {
        "colab": {
          "base_uri": "https://localhost:8080/",
          "height": 255
        },
        "id": "yPm7hYHQQxcf",
        "outputId": "579416f3-cf15-457c-869f-c5b17d4b2680"
      },
      "execution_count": null,
      "outputs": [
        {
          "output_type": "display_data",
          "data": {
            "text/plain": [
              "  continent n \n",
              "1 Africa    52\n",
              "2 Asia      33\n",
              "3 Europe    30\n",
              "4 Americas  25\n",
              "5 Oceania    2"
            ],
            "text/latex": "A spec\\_tbl\\_df: 5 × 2\n\\begin{tabular}{ll}\n continent & n\\\\\n <chr> & <int>\\\\\n\\hline\n\t Africa   & 52\\\\\n\t Asia     & 33\\\\\n\t Europe   & 30\\\\\n\t Americas & 25\\\\\n\t Oceania  &  2\\\\\n\\end{tabular}\n",
            "text/markdown": "\nA spec_tbl_df: 5 × 2\n\n| continent &lt;chr&gt; | n &lt;int&gt; |\n|---|---|\n| Africa   | 52 |\n| Asia     | 33 |\n| Europe   | 30 |\n| Americas | 25 |\n| Oceania  |  2 |\n\n",
            "text/html": [
              "<table class=\"dataframe\">\n",
              "<caption>A spec_tbl_df: 5 × 2</caption>\n",
              "<thead>\n",
              "\t<tr><th scope=col>continent</th><th scope=col>n</th></tr>\n",
              "\t<tr><th scope=col>&lt;chr&gt;</th><th scope=col>&lt;int&gt;</th></tr>\n",
              "</thead>\n",
              "<tbody>\n",
              "\t<tr><td>Africa  </td><td>52</td></tr>\n",
              "\t<tr><td>Asia    </td><td>33</td></tr>\n",
              "\t<tr><td>Europe  </td><td>30</td></tr>\n",
              "\t<tr><td>Americas</td><td>25</td></tr>\n",
              "\t<tr><td>Oceania </td><td> 2</td></tr>\n",
              "</tbody>\n",
              "</table>\n"
            ]
          },
          "metadata": {}
        }
      ]
    },
    {
      "cell_type": "markdown",
      "source": [
        "### `relocate()`: déplacer des colonnes"
      ],
      "metadata": {
        "id": "H_SAz7SoU4Vd"
      }
    },
    {
      "cell_type": "code",
      "source": [
        "# Regarder l'ordre initial des colonnes\n",
        "head(gapminder)"
      ],
      "metadata": {
        "colab": {
          "base_uri": "https://localhost:8080/",
          "height": 286
        },
        "id": "aD2VlZPzppxk",
        "outputId": "37def715-5a59-432c-d4ef-ca9dbdb0f78a"
      },
      "execution_count": null,
      "outputs": [
        {
          "output_type": "display_data",
          "data": {
            "text/plain": [
              "  country     year pop      continent lifeExp gdpPercap\n",
              "1 Afghanistan 1952  8425333 Asia      28.801  779.4453 \n",
              "2 Afghanistan 1957  9240934 Asia      30.332  820.8530 \n",
              "3 Afghanistan 1962 10267083 Asia      31.997  853.1007 \n",
              "4 Afghanistan 1967 11537966 Asia      34.020  836.1971 \n",
              "5 Afghanistan 1972 13079460 Asia      36.088  739.9811 \n",
              "6 Afghanistan 1977 14880372 Asia      38.438  786.1134 "
            ],
            "text/latex": "A tibble: 6 × 6\n\\begin{tabular}{llllll}\n country & year & pop & continent & lifeExp & gdpPercap\\\\\n <chr> & <dbl> & <dbl> & <chr> & <dbl> & <dbl>\\\\\n\\hline\n\t Afghanistan & 1952 &  8425333 & Asia & 28.801 & 779.4453\\\\\n\t Afghanistan & 1957 &  9240934 & Asia & 30.332 & 820.8530\\\\\n\t Afghanistan & 1962 & 10267083 & Asia & 31.997 & 853.1007\\\\\n\t Afghanistan & 1967 & 11537966 & Asia & 34.020 & 836.1971\\\\\n\t Afghanistan & 1972 & 13079460 & Asia & 36.088 & 739.9811\\\\\n\t Afghanistan & 1977 & 14880372 & Asia & 38.438 & 786.1134\\\\\n\\end{tabular}\n",
            "text/markdown": "\nA tibble: 6 × 6\n\n| country &lt;chr&gt; | year &lt;dbl&gt; | pop &lt;dbl&gt; | continent &lt;chr&gt; | lifeExp &lt;dbl&gt; | gdpPercap &lt;dbl&gt; |\n|---|---|---|---|---|---|\n| Afghanistan | 1952 |  8425333 | Asia | 28.801 | 779.4453 |\n| Afghanistan | 1957 |  9240934 | Asia | 30.332 | 820.8530 |\n| Afghanistan | 1962 | 10267083 | Asia | 31.997 | 853.1007 |\n| Afghanistan | 1967 | 11537966 | Asia | 34.020 | 836.1971 |\n| Afghanistan | 1972 | 13079460 | Asia | 36.088 | 739.9811 |\n| Afghanistan | 1977 | 14880372 | Asia | 38.438 | 786.1134 |\n\n",
            "text/html": [
              "<table class=\"dataframe\">\n",
              "<caption>A tibble: 6 × 6</caption>\n",
              "<thead>\n",
              "\t<tr><th scope=col>country</th><th scope=col>year</th><th scope=col>pop</th><th scope=col>continent</th><th scope=col>lifeExp</th><th scope=col>gdpPercap</th></tr>\n",
              "\t<tr><th scope=col>&lt;chr&gt;</th><th scope=col>&lt;dbl&gt;</th><th scope=col>&lt;dbl&gt;</th><th scope=col>&lt;chr&gt;</th><th scope=col>&lt;dbl&gt;</th><th scope=col>&lt;dbl&gt;</th></tr>\n",
              "</thead>\n",
              "<tbody>\n",
              "\t<tr><td>Afghanistan</td><td>1952</td><td> 8425333</td><td>Asia</td><td>28.801</td><td>779.4453</td></tr>\n",
              "\t<tr><td>Afghanistan</td><td>1957</td><td> 9240934</td><td>Asia</td><td>30.332</td><td>820.8530</td></tr>\n",
              "\t<tr><td>Afghanistan</td><td>1962</td><td>10267083</td><td>Asia</td><td>31.997</td><td>853.1007</td></tr>\n",
              "\t<tr><td>Afghanistan</td><td>1967</td><td>11537966</td><td>Asia</td><td>34.020</td><td>836.1971</td></tr>\n",
              "\t<tr><td>Afghanistan</td><td>1972</td><td>13079460</td><td>Asia</td><td>36.088</td><td>739.9811</td></tr>\n",
              "\t<tr><td>Afghanistan</td><td>1977</td><td>14880372</td><td>Asia</td><td>38.438</td><td>786.1134</td></tr>\n",
              "</tbody>\n",
              "</table>\n"
            ]
          },
          "metadata": {}
        }
      ]
    },
    {
      "cell_type": "code",
      "source": [
        "# Déplacer des colonnes\n",
        "gapminder %>% \n",
        "  relocate(continent, .before = year) %>%\n",
        "  relocate(pop, .after = last_col()) %>%\n",
        "  head()"
      ],
      "metadata": {
        "colab": {
          "base_uri": "https://localhost:8080/",
          "height": 286
        },
        "id": "NZBdvwtzox73",
        "outputId": "1f49071a-3ff2-4a76-e8ce-cabe6da294dc"
      },
      "execution_count": null,
      "outputs": [
        {
          "output_type": "display_data",
          "data": {
            "text/plain": [
              "  country     continent year lifeExp gdpPercap pop     \n",
              "1 Afghanistan Asia      1952 28.801  779.4453   8425333\n",
              "2 Afghanistan Asia      1957 30.332  820.8530   9240934\n",
              "3 Afghanistan Asia      1962 31.997  853.1007  10267083\n",
              "4 Afghanistan Asia      1967 34.020  836.1971  11537966\n",
              "5 Afghanistan Asia      1972 36.088  739.9811  13079460\n",
              "6 Afghanistan Asia      1977 38.438  786.1134  14880372"
            ],
            "text/latex": "A tibble: 6 × 6\n\\begin{tabular}{llllll}\n country & continent & year & lifeExp & gdpPercap & pop\\\\\n <chr> & <chr> & <dbl> & <dbl> & <dbl> & <dbl>\\\\\n\\hline\n\t Afghanistan & Asia & 1952 & 28.801 & 779.4453 &  8425333\\\\\n\t Afghanistan & Asia & 1957 & 30.332 & 820.8530 &  9240934\\\\\n\t Afghanistan & Asia & 1962 & 31.997 & 853.1007 & 10267083\\\\\n\t Afghanistan & Asia & 1967 & 34.020 & 836.1971 & 11537966\\\\\n\t Afghanistan & Asia & 1972 & 36.088 & 739.9811 & 13079460\\\\\n\t Afghanistan & Asia & 1977 & 38.438 & 786.1134 & 14880372\\\\\n\\end{tabular}\n",
            "text/markdown": "\nA tibble: 6 × 6\n\n| country &lt;chr&gt; | continent &lt;chr&gt; | year &lt;dbl&gt; | lifeExp &lt;dbl&gt; | gdpPercap &lt;dbl&gt; | pop &lt;dbl&gt; |\n|---|---|---|---|---|---|\n| Afghanistan | Asia | 1952 | 28.801 | 779.4453 |  8425333 |\n| Afghanistan | Asia | 1957 | 30.332 | 820.8530 |  9240934 |\n| Afghanistan | Asia | 1962 | 31.997 | 853.1007 | 10267083 |\n| Afghanistan | Asia | 1967 | 34.020 | 836.1971 | 11537966 |\n| Afghanistan | Asia | 1972 | 36.088 | 739.9811 | 13079460 |\n| Afghanistan | Asia | 1977 | 38.438 | 786.1134 | 14880372 |\n\n",
            "text/html": [
              "<table class=\"dataframe\">\n",
              "<caption>A tibble: 6 × 6</caption>\n",
              "<thead>\n",
              "\t<tr><th scope=col>country</th><th scope=col>continent</th><th scope=col>year</th><th scope=col>lifeExp</th><th scope=col>gdpPercap</th><th scope=col>pop</th></tr>\n",
              "\t<tr><th scope=col>&lt;chr&gt;</th><th scope=col>&lt;chr&gt;</th><th scope=col>&lt;dbl&gt;</th><th scope=col>&lt;dbl&gt;</th><th scope=col>&lt;dbl&gt;</th><th scope=col>&lt;dbl&gt;</th></tr>\n",
              "</thead>\n",
              "<tbody>\n",
              "\t<tr><td>Afghanistan</td><td>Asia</td><td>1952</td><td>28.801</td><td>779.4453</td><td> 8425333</td></tr>\n",
              "\t<tr><td>Afghanistan</td><td>Asia</td><td>1957</td><td>30.332</td><td>820.8530</td><td> 9240934</td></tr>\n",
              "\t<tr><td>Afghanistan</td><td>Asia</td><td>1962</td><td>31.997</td><td>853.1007</td><td>10267083</td></tr>\n",
              "\t<tr><td>Afghanistan</td><td>Asia</td><td>1967</td><td>34.020</td><td>836.1971</td><td>11537966</td></tr>\n",
              "\t<tr><td>Afghanistan</td><td>Asia</td><td>1972</td><td>36.088</td><td>739.9811</td><td>13079460</td></tr>\n",
              "\t<tr><td>Afghanistan</td><td>Asia</td><td>1977</td><td>38.438</td><td>786.1134</td><td>14880372</td></tr>\n",
              "</tbody>\n",
              "</table>\n"
            ]
          },
          "metadata": {}
        }
      ]
    },
    {
      "cell_type": "code",
      "source": [
        "# À l'intérieur de mutate\n",
        "gapminder %>%\n",
        "  mutate(pop_million = pop / 10^6, .after = pop) %>%\n",
        "  tail()"
      ],
      "metadata": {
        "colab": {
          "base_uri": "https://localhost:8080/",
          "height": 286
        },
        "id": "DUFYbOSCqlcw",
        "outputId": "5e48ea62-658a-4dc0-f3a1-791dd07e79de"
      },
      "execution_count": null,
      "outputs": [
        {
          "output_type": "display_data",
          "data": {
            "text/plain": [
              "  country  year pop      pop_million continent lifeExp gdpPercap\n",
              "1 Zimbabwe 1982  7636524  7.636524   Africa    60.363  788.8550 \n",
              "2 Zimbabwe 1987  9216418  9.216418   Africa    62.351  706.1573 \n",
              "3 Zimbabwe 1992 10704340 10.704340   Africa    60.377  693.4208 \n",
              "4 Zimbabwe 1997 11404948 11.404948   Africa    46.809  792.4500 \n",
              "5 Zimbabwe 2002 11926563 11.926563   Africa    39.989  672.0386 \n",
              "6 Zimbabwe 2007 12311143 12.311143   Africa    43.487  469.7093 "
            ],
            "text/latex": "A tibble: 6 × 7\n\\begin{tabular}{lllllll}\n country & year & pop & pop\\_million & continent & lifeExp & gdpPercap\\\\\n <chr> & <dbl> & <dbl> & <dbl> & <chr> & <dbl> & <dbl>\\\\\n\\hline\n\t Zimbabwe & 1982 &  7636524 &  7.636524 & Africa & 60.363 & 788.8550\\\\\n\t Zimbabwe & 1987 &  9216418 &  9.216418 & Africa & 62.351 & 706.1573\\\\\n\t Zimbabwe & 1992 & 10704340 & 10.704340 & Africa & 60.377 & 693.4208\\\\\n\t Zimbabwe & 1997 & 11404948 & 11.404948 & Africa & 46.809 & 792.4500\\\\\n\t Zimbabwe & 2002 & 11926563 & 11.926563 & Africa & 39.989 & 672.0386\\\\\n\t Zimbabwe & 2007 & 12311143 & 12.311143 & Africa & 43.487 & 469.7093\\\\\n\\end{tabular}\n",
            "text/markdown": "\nA tibble: 6 × 7\n\n| country &lt;chr&gt; | year &lt;dbl&gt; | pop &lt;dbl&gt; | pop_million &lt;dbl&gt; | continent &lt;chr&gt; | lifeExp &lt;dbl&gt; | gdpPercap &lt;dbl&gt; |\n|---|---|---|---|---|---|---|\n| Zimbabwe | 1982 |  7636524 |  7.636524 | Africa | 60.363 | 788.8550 |\n| Zimbabwe | 1987 |  9216418 |  9.216418 | Africa | 62.351 | 706.1573 |\n| Zimbabwe | 1992 | 10704340 | 10.704340 | Africa | 60.377 | 693.4208 |\n| Zimbabwe | 1997 | 11404948 | 11.404948 | Africa | 46.809 | 792.4500 |\n| Zimbabwe | 2002 | 11926563 | 11.926563 | Africa | 39.989 | 672.0386 |\n| Zimbabwe | 2007 | 12311143 | 12.311143 | Africa | 43.487 | 469.7093 |\n\n",
            "text/html": [
              "<table class=\"dataframe\">\n",
              "<caption>A tibble: 6 × 7</caption>\n",
              "<thead>\n",
              "\t<tr><th scope=col>country</th><th scope=col>year</th><th scope=col>pop</th><th scope=col>pop_million</th><th scope=col>continent</th><th scope=col>lifeExp</th><th scope=col>gdpPercap</th></tr>\n",
              "\t<tr><th scope=col>&lt;chr&gt;</th><th scope=col>&lt;dbl&gt;</th><th scope=col>&lt;dbl&gt;</th><th scope=col>&lt;dbl&gt;</th><th scope=col>&lt;chr&gt;</th><th scope=col>&lt;dbl&gt;</th><th scope=col>&lt;dbl&gt;</th></tr>\n",
              "</thead>\n",
              "<tbody>\n",
              "\t<tr><td>Zimbabwe</td><td>1982</td><td> 7636524</td><td> 7.636524</td><td>Africa</td><td>60.363</td><td>788.8550</td></tr>\n",
              "\t<tr><td>Zimbabwe</td><td>1987</td><td> 9216418</td><td> 9.216418</td><td>Africa</td><td>62.351</td><td>706.1573</td></tr>\n",
              "\t<tr><td>Zimbabwe</td><td>1992</td><td>10704340</td><td>10.704340</td><td>Africa</td><td>60.377</td><td>693.4208</td></tr>\n",
              "\t<tr><td>Zimbabwe</td><td>1997</td><td>11404948</td><td>11.404948</td><td>Africa</td><td>46.809</td><td>792.4500</td></tr>\n",
              "\t<tr><td>Zimbabwe</td><td>2002</td><td>11926563</td><td>11.926563</td><td>Africa</td><td>39.989</td><td>672.0386</td></tr>\n",
              "\t<tr><td>Zimbabwe</td><td>2007</td><td>12311143</td><td>12.311143</td><td>Africa</td><td>43.487</td><td>469.7093</td></tr>\n",
              "</tbody>\n",
              "</table>\n"
            ]
          },
          "metadata": {}
        }
      ]
    },
    {
      "cell_type": "markdown",
      "source": [
        "# 2.0 Nettoyage d'un jeu de données\n",
        "\n",
        "Le jeu de données `gapminder` que nous avons utilisé jusqu'à présent avait déjà été nettoyé. Tant mieux si c'est également le cas pour vos projets! Dans la plupart des cas, il est cependant nécessaire de faire un peu de nettoyage et de vérifier si les données ont du sens.\n",
        "\n",
        "Dans cette section, nous allons travailler avec une version de `gapminder` que modifiée pour reproduire certaines erreurs communes qui peuvent s'introduire dans vos données. Nous allons voir comment les repérer et les corriger à l'aide de _R_. Ce ne sont pas les seules erreurs possibles évidemment et, avec un peu de chance, vous n'aurez pas à les corriger sur vos propres données. Nous aurons également l'occasion de pratiquer les opérations de traitement montrées précédemment. "
      ],
      "metadata": {
        "id": "l5xGoQPQrXdc"
      }
    },
    {
      "cell_type": "markdown",
      "source": [
        "Commençons par charger le jeu de données:"
      ],
      "metadata": {
        "id": "GZ8un9ETtbSU"
      }
    },
    {
      "cell_type": "code",
      "source": [
        "# Charger le jeu de données à nettoyer\n",
        "messy_url <- \"https://raw.githubusercontent.com/gabrieldansereau/RanDonnees2022-atelier-manipulation-R/main/gapminder_messy.csv\"\n",
        "gapminder_messy <- read_csv(messy_url)\n",
        "head(gapminder_messy)"
      ],
      "metadata": {
        "colab": {
          "base_uri": "https://localhost:8080/",
          "height": 495
        },
        "id": "nUxLEHtOr41c",
        "outputId": "1e09ba31-14b6-485c-ec0b-88aee17b0288"
      },
      "execution_count": null,
      "outputs": [
        {
          "output_type": "stream",
          "name": "stderr",
          "text": [
            "Warning message:\n",
            "“One or more parsing issues, see `problems()` for details”\n",
            "\u001b[1mRows: \u001b[22m\u001b[34m1707\u001b[39m \u001b[1mColumns: \u001b[22m\u001b[34m1\u001b[39m\n",
            "\n",
            "\u001b[36m──\u001b[39m \u001b[1mColumn specification\u001b[22m \u001b[36m────────────────────────────────────────────────────────\u001b[39m\n",
            "\u001b[1mDelimiter:\u001b[22m \",\"\n",
            "\u001b[31mchr\u001b[39m (1): This is the gapminder dataset;X2;X3;X4;X5;X6\n",
            "\n",
            "\n",
            "\u001b[36mℹ\u001b[39m Use \u001b[30m\u001b[47m\u001b[30m\u001b[47m`spec()`\u001b[47m\u001b[30m\u001b[49m\u001b[39m to retrieve the full column specification for this data.\n",
            "\u001b[36mℹ\u001b[39m Specify the column types or set \u001b[30m\u001b[47m\u001b[30m\u001b[47m`show_col_types = FALSE`\u001b[47m\u001b[30m\u001b[49m\u001b[39m to quiet this message.\n",
            "\n"
          ]
        },
        {
          "output_type": "display_data",
          "data": {
            "text/plain": [
              "  This is the gapminder dataset;X2;X3;X4;X5;X6    \n",
              "1 country;year;pop;continent;lifeExp;gdp Per cap  \n",
              "2 NA;NA;NA;NA;;USD                                \n",
              "3 Afghanistan;1952;8425333;Asia;28,801;779,4453145\n",
              "4 Afghanistan;1957;9240934;Asia;NA;820,8530296    \n",
              "5 Afghanistan;1962;10267083;Asia;31,997;853,10071 \n",
              "6 Afghanistan;1962;10267083;Asia;31,997;853,10071 "
            ],
            "text/latex": "A tibble: 6 × 1\n\\begin{tabular}{l}\n This is the gapminder dataset;X2;X3;X4;X5;X6\\\\\n <chr>\\\\\n\\hline\n\t country;year;pop;continent;lifeExp;gdp Per cap  \\\\\n\t NA;NA;NA;NA;;USD                                \\\\\n\t Afghanistan;1952;8425333;Asia;28,801;779,4453145\\\\\n\t Afghanistan;1957;9240934;Asia;NA;820,8530296    \\\\\n\t Afghanistan;1962;10267083;Asia;31,997;853,10071 \\\\\n\t Afghanistan;1962;10267083;Asia;31,997;853,10071 \\\\\n\\end{tabular}\n",
            "text/markdown": "\nA tibble: 6 × 1\n\n| This is the gapminder dataset;X2;X3;X4;X5;X6 &lt;chr&gt; |\n|---|\n| country;year;pop;continent;lifeExp;gdp Per cap   |\n| NA;NA;NA;NA;;USD                                 |\n| Afghanistan;1952;8425333;Asia;28,801;779,4453145 |\n| Afghanistan;1957;9240934;Asia;NA;820,8530296     |\n| Afghanistan;1962;10267083;Asia;31,997;853,10071  |\n| Afghanistan;1962;10267083;Asia;31,997;853,10071  |\n\n",
            "text/html": [
              "<table class=\"dataframe\">\n",
              "<caption>A tibble: 6 × 1</caption>\n",
              "<thead>\n",
              "\t<tr><th scope=col>This is the gapminder dataset;X2;X3;X4;X5;X6</th></tr>\n",
              "\t<tr><th scope=col>&lt;chr&gt;</th></tr>\n",
              "</thead>\n",
              "<tbody>\n",
              "\t<tr><td>country;year;pop;continent;lifeExp;gdp Per cap  </td></tr>\n",
              "\t<tr><td>NA;NA;NA;NA;;USD                                </td></tr>\n",
              "\t<tr><td>Afghanistan;1952;8425333;Asia;28,801;779,4453145</td></tr>\n",
              "\t<tr><td>Afghanistan;1957;9240934;Asia;NA;820,8530296    </td></tr>\n",
              "\t<tr><td>Afghanistan;1962;10267083;Asia;31,997;853,10071 </td></tr>\n",
              "\t<tr><td>Afghanistan;1962;10267083;Asia;31,997;853,10071 </td></tr>\n",
              "</tbody>\n",
              "</table>\n"
            ]
          },
          "metadata": {}
        }
      ]
    },
    {
      "cell_type": "code",
      "source": [
        "# Charger correctement\n",
        "gapminder_messy <- read_csv2(messy_url)\n",
        "head(gapminder_messy, 15)"
      ],
      "metadata": {
        "colab": {
          "base_uri": "https://localhost:8080/",
          "height": 777
        },
        "id": "8crPWRRjz0ae",
        "outputId": "ab22b38f-7449-413a-f373-7c2b7c957878"
      },
      "execution_count": null,
      "outputs": [
        {
          "output_type": "stream",
          "name": "stderr",
          "text": [
            "\u001b[36mℹ\u001b[39m Using \u001b[34m\u001b[34m\"','\"\u001b[34m\u001b[39m as decimal and \u001b[34m\u001b[34m\"'.'\"\u001b[34m\u001b[39m as grouping mark. Use \u001b[30m\u001b[47m\u001b[30m\u001b[47m`read_delim()`\u001b[47m\u001b[30m\u001b[49m\u001b[39m for more control.\n",
            "\n",
            "\u001b[1mRows: \u001b[22m\u001b[34m1707\u001b[39m \u001b[1mColumns: \u001b[22m\u001b[34m6\u001b[39m\n",
            "\n",
            "\u001b[36m──\u001b[39m \u001b[1mColumn specification\u001b[22m \u001b[36m────────────────────────────────────────────────────────\u001b[39m\n",
            "\u001b[1mDelimiter:\u001b[22m \";\"\n",
            "\u001b[31mchr\u001b[39m (6): This is the gapminder dataset, X2, X3, X4, X5, X6\n",
            "\n",
            "\n",
            "\u001b[36mℹ\u001b[39m Use \u001b[30m\u001b[47m\u001b[30m\u001b[47m`spec()`\u001b[47m\u001b[30m\u001b[49m\u001b[39m to retrieve the full column specification for this data.\n",
            "\u001b[36mℹ\u001b[39m Specify the column types or set \u001b[30m\u001b[47m\u001b[30m\u001b[47m`show_col_types = FALSE`\u001b[47m\u001b[30m\u001b[49m\u001b[39m to quiet this message.\n",
            "\n"
          ]
        },
        {
          "output_type": "display_data",
          "data": {
            "text/plain": [
              "   This is the gapminder dataset X2   X3       X4        X5      X6         \n",
              "1  country                       year pop      continent lifeExp gdp Per cap\n",
              "2  NA                            NA   NA       NA        NA      USD        \n",
              "3  Afghanistan                   1952 8425333  Asia      28,801  779,4453145\n",
              "4  Afghanistan                   1957 9240934  Asia      NA      820,8530296\n",
              "5  Afghanistan                   1962 10267083 Asia      31,997  853,10071  \n",
              "6  Afghanistan                   1962 10267083 Asia      31,997  853,10071  \n",
              "7  Afghanistan                   1967 11537966 Asiaa     34,02   836,1971382\n",
              "8  Afghanistan                   1972 13079460 Asia      36,088  739,9811058\n",
              "9  Afghanistan                   1977 14880372 Asia      38,438  786,11336  \n",
              "10 Afganistan                    1982 12881816 Asia      39,854  978,0114388\n",
              "11 Afghanistan                   1987 13867957 Asia      408,22  852,3959448\n",
              "12 Afghanistan                   1992 16317921 Asia      0       649,3413952\n",
              "13 Afghanistan                   1997 22227415 Asia      41,763  635,341351 \n",
              "14 Afghanistan                   2002 25268405 Americas  42,129  726,7340548\n",
              "15 Afghanistan                   2007 31889923 Asia      43,828  974,5803384"
            ],
            "text/latex": "A tibble: 15 × 6\n\\begin{tabular}{llllll}\n This is the gapminder dataset & X2 & X3 & X4 & X5 & X6\\\\\n <chr> & <chr> & <chr> & <chr> & <chr> & <chr>\\\\\n\\hline\n\t country     & year & pop      & continent & lifeExp & gdp Per cap\\\\\n\t NA          & NA   & NA       & NA        & NA      & USD        \\\\\n\t Afghanistan & 1952 & 8425333  & Asia      & 28,801  & 779,4453145\\\\\n\t Afghanistan & 1957 & 9240934  & Asia      & NA      & 820,8530296\\\\\n\t Afghanistan & 1962 & 10267083 & Asia      & 31,997  & 853,10071  \\\\\n\t Afghanistan & 1962 & 10267083 & Asia      & 31,997  & 853,10071  \\\\\n\t Afghanistan & 1967 & 11537966 & Asiaa     & 34,02   & 836,1971382\\\\\n\t Afghanistan & 1972 & 13079460 & Asia      & 36,088  & 739,9811058\\\\\n\t Afghanistan & 1977 & 14880372 & Asia      & 38,438  & 786,11336  \\\\\n\t Afganistan  & 1982 & 12881816 & Asia      & 39,854  & 978,0114388\\\\\n\t Afghanistan & 1987 & 13867957 & Asia      & 408,22  & 852,3959448\\\\\n\t Afghanistan & 1992 & 16317921 & Asia      & 0       & 649,3413952\\\\\n\t Afghanistan & 1997 & 22227415 & Asia      & 41,763  & 635,341351 \\\\\n\t Afghanistan & 2002 & 25268405 & Americas  & 42,129  & 726,7340548\\\\\n\t Afghanistan & 2007 & 31889923 & Asia      & 43,828  & 974,5803384\\\\\n\\end{tabular}\n",
            "text/markdown": "\nA tibble: 15 × 6\n\n| This is the gapminder dataset &lt;chr&gt; | X2 &lt;chr&gt; | X3 &lt;chr&gt; | X4 &lt;chr&gt; | X5 &lt;chr&gt; | X6 &lt;chr&gt; |\n|---|---|---|---|---|---|\n| country     | year | pop      | continent | lifeExp | gdp Per cap |\n| NA          | NA   | NA       | NA        | NA      | USD         |\n| Afghanistan | 1952 | 8425333  | Asia      | 28,801  | 779,4453145 |\n| Afghanistan | 1957 | 9240934  | Asia      | NA      | 820,8530296 |\n| Afghanistan | 1962 | 10267083 | Asia      | 31,997  | 853,10071   |\n| Afghanistan | 1962 | 10267083 | Asia      | 31,997  | 853,10071   |\n| Afghanistan | 1967 | 11537966 | Asiaa     | 34,02   | 836,1971382 |\n| Afghanistan | 1972 | 13079460 | Asia      | 36,088  | 739,9811058 |\n| Afghanistan | 1977 | 14880372 | Asia      | 38,438  | 786,11336   |\n| Afganistan  | 1982 | 12881816 | Asia      | 39,854  | 978,0114388 |\n| Afghanistan | 1987 | 13867957 | Asia      | 408,22  | 852,3959448 |\n| Afghanistan | 1992 | 16317921 | Asia      | 0       | 649,3413952 |\n| Afghanistan | 1997 | 22227415 | Asia      | 41,763  | 635,341351  |\n| Afghanistan | 2002 | 25268405 | Americas  | 42,129  | 726,7340548 |\n| Afghanistan | 2007 | 31889923 | Asia      | 43,828  | 974,5803384 |\n\n",
            "text/html": [
              "<table class=\"dataframe\">\n",
              "<caption>A tibble: 15 × 6</caption>\n",
              "<thead>\n",
              "\t<tr><th scope=col>This is the gapminder dataset</th><th scope=col>X2</th><th scope=col>X3</th><th scope=col>X4</th><th scope=col>X5</th><th scope=col>X6</th></tr>\n",
              "\t<tr><th scope=col>&lt;chr&gt;</th><th scope=col>&lt;chr&gt;</th><th scope=col>&lt;chr&gt;</th><th scope=col>&lt;chr&gt;</th><th scope=col>&lt;chr&gt;</th><th scope=col>&lt;chr&gt;</th></tr>\n",
              "</thead>\n",
              "<tbody>\n",
              "\t<tr><td>country    </td><td>year</td><td>pop     </td><td>continent</td><td>lifeExp</td><td>gdp Per cap</td></tr>\n",
              "\t<tr><td>NA         </td><td>NA  </td><td>NA      </td><td>NA       </td><td>NA     </td><td>USD        </td></tr>\n",
              "\t<tr><td>Afghanistan</td><td>1952</td><td>8425333 </td><td>Asia     </td><td>28,801 </td><td>779,4453145</td></tr>\n",
              "\t<tr><td>Afghanistan</td><td>1957</td><td>9240934 </td><td>Asia     </td><td>NA     </td><td>820,8530296</td></tr>\n",
              "\t<tr><td>Afghanistan</td><td>1962</td><td>10267083</td><td>Asia     </td><td>31,997 </td><td>853,10071  </td></tr>\n",
              "\t<tr><td>Afghanistan</td><td>1962</td><td>10267083</td><td>Asia     </td><td>31,997 </td><td>853,10071  </td></tr>\n",
              "\t<tr><td>Afghanistan</td><td>1967</td><td>11537966</td><td>Asiaa    </td><td>34,02  </td><td>836,1971382</td></tr>\n",
              "\t<tr><td>Afghanistan</td><td>1972</td><td>13079460</td><td>Asia     </td><td>36,088 </td><td>739,9811058</td></tr>\n",
              "\t<tr><td>Afghanistan</td><td>1977</td><td>14880372</td><td>Asia     </td><td>38,438 </td><td>786,11336  </td></tr>\n",
              "\t<tr><td>Afganistan </td><td>1982</td><td>12881816</td><td>Asia     </td><td>39,854 </td><td>978,0114388</td></tr>\n",
              "\t<tr><td>Afghanistan</td><td>1987</td><td>13867957</td><td>Asia     </td><td>408,22 </td><td>852,3959448</td></tr>\n",
              "\t<tr><td>Afghanistan</td><td>1992</td><td>16317921</td><td>Asia     </td><td>0      </td><td>649,3413952</td></tr>\n",
              "\t<tr><td>Afghanistan</td><td>1997</td><td>22227415</td><td>Asia     </td><td>41,763 </td><td>635,341351 </td></tr>\n",
              "\t<tr><td>Afghanistan</td><td>2002</td><td>25268405</td><td>Americas </td><td>42,129 </td><td>726,7340548</td></tr>\n",
              "\t<tr><td>Afghanistan</td><td>2007</td><td>31889923</td><td>Asia     </td><td>43,828 </td><td>974,5803384</td></tr>\n",
              "</tbody>\n",
              "</table>\n"
            ]
          },
          "metadata": {}
        }
      ]
    },
    {
      "cell_type": "markdown",
      "source": [
        "Combien d'erreurs pouvez-vous identifier dans l'aperçu du jeu de données?"
      ],
      "metadata": {
        "id": "duK1t3I00ccn"
      }
    },
    {
      "cell_type": "markdown",
      "source": [
        "## 2.1 Réparer la structure du jeu de données\n",
        "\n",
        "Nous allons maintenant corriger les erreurs pour réparer et nettoyer le jeu de données. Les opérations sont dans un ordre qui raisonnable pour ce jeu de données, mais il est possible qu'elles doivent être réalisées dans  un ordre différent avec un autre jeu de données."
      ],
      "metadata": {
        "id": "Sd6Omrjf0t7S"
      }
    },
    {
      "cell_type": "markdown",
      "source": [
        "### 1. Corriger l'entête\n"
      ],
      "metadata": {
        "id": "F4chJ_H41MEj"
      }
    },
    {
      "cell_type": "code",
      "source": [
        "# Sauter la première ligne de commentaires pour corriger l'entête\n",
        "gapminder_messy <- read_csv2(messy_url, skip = 1)\n",
        "head(gapminder_messy)"
      ],
      "metadata": {
        "colab": {
          "base_uri": "https://localhost:8080/",
          "height": 512
        },
        "id": "2bex3OyT1Ihd",
        "outputId": "4414034b-4ae4-4fed-865b-7753f87a0de6"
      },
      "execution_count": null,
      "outputs": [
        {
          "output_type": "stream",
          "name": "stderr",
          "text": [
            "\u001b[36mℹ\u001b[39m Using \u001b[34m\u001b[34m\"','\"\u001b[34m\u001b[39m as decimal and \u001b[34m\u001b[34m\"'.'\"\u001b[34m\u001b[39m as grouping mark. Use \u001b[30m\u001b[47m\u001b[30m\u001b[47m`read_delim()`\u001b[47m\u001b[30m\u001b[49m\u001b[39m for more control.\n",
            "\n",
            "\u001b[1mRows: \u001b[22m\u001b[34m1706\u001b[39m \u001b[1mColumns: \u001b[22m\u001b[34m6\u001b[39m\n",
            "\n",
            "\u001b[36m──\u001b[39m \u001b[1mColumn specification\u001b[22m \u001b[36m────────────────────────────────────────────────────────\u001b[39m\n",
            "\u001b[1mDelimiter:\u001b[22m \";\"\n",
            "\u001b[31mchr\u001b[39m (3): country, continent, gdp Per cap\n",
            "\u001b[32mdbl\u001b[39m (3): year, pop, lifeExp\n",
            "\n",
            "\n",
            "\u001b[36mℹ\u001b[39m Use \u001b[30m\u001b[47m\u001b[30m\u001b[47m`spec()`\u001b[47m\u001b[30m\u001b[49m\u001b[39m to retrieve the full column specification for this data.\n",
            "\u001b[36mℹ\u001b[39m Specify the column types or set \u001b[30m\u001b[47m\u001b[30m\u001b[47m`show_col_types = FALSE`\u001b[47m\u001b[30m\u001b[49m\u001b[39m to quiet this message.\n",
            "\n"
          ]
        },
        {
          "output_type": "display_data",
          "data": {
            "text/plain": [
              "  country     year pop      continent lifeExp gdp Per cap\n",
              "1 NA            NA       NA NA            NA  USD        \n",
              "2 Afghanistan 1952  8425333 Asia      28.801  779,4453145\n",
              "3 Afghanistan 1957  9240934 Asia          NA  820,8530296\n",
              "4 Afghanistan 1962 10267083 Asia      31.997  853,10071  \n",
              "5 Afghanistan 1962 10267083 Asia      31.997  853,10071  \n",
              "6 Afghanistan 1967 11537966 Asiaa     34.020  836,1971382"
            ],
            "text/latex": "A tibble: 6 × 6\n\\begin{tabular}{llllll}\n country & year & pop & continent & lifeExp & gdp Per cap\\\\\n <chr> & <dbl> & <dbl> & <chr> & <dbl> & <chr>\\\\\n\\hline\n\t NA          &   NA &       NA & NA    &     NA & USD        \\\\\n\t Afghanistan & 1952 &  8425333 & Asia  & 28.801 & 779,4453145\\\\\n\t Afghanistan & 1957 &  9240934 & Asia  &     NA & 820,8530296\\\\\n\t Afghanistan & 1962 & 10267083 & Asia  & 31.997 & 853,10071  \\\\\n\t Afghanistan & 1962 & 10267083 & Asia  & 31.997 & 853,10071  \\\\\n\t Afghanistan & 1967 & 11537966 & Asiaa & 34.020 & 836,1971382\\\\\n\\end{tabular}\n",
            "text/markdown": "\nA tibble: 6 × 6\n\n| country &lt;chr&gt; | year &lt;dbl&gt; | pop &lt;dbl&gt; | continent &lt;chr&gt; | lifeExp &lt;dbl&gt; | gdp Per cap &lt;chr&gt; |\n|---|---|---|---|---|---|\n| NA          |   NA |       NA | NA    |     NA | USD         |\n| Afghanistan | 1952 |  8425333 | Asia  | 28.801 | 779,4453145 |\n| Afghanistan | 1957 |  9240934 | Asia  |     NA | 820,8530296 |\n| Afghanistan | 1962 | 10267083 | Asia  | 31.997 | 853,10071   |\n| Afghanistan | 1962 | 10267083 | Asia  | 31.997 | 853,10071   |\n| Afghanistan | 1967 | 11537966 | Asiaa | 34.020 | 836,1971382 |\n\n",
            "text/html": [
              "<table class=\"dataframe\">\n",
              "<caption>A tibble: 6 × 6</caption>\n",
              "<thead>\n",
              "\t<tr><th scope=col>country</th><th scope=col>year</th><th scope=col>pop</th><th scope=col>continent</th><th scope=col>lifeExp</th><th scope=col>gdp Per cap</th></tr>\n",
              "\t<tr><th scope=col>&lt;chr&gt;</th><th scope=col>&lt;dbl&gt;</th><th scope=col>&lt;dbl&gt;</th><th scope=col>&lt;chr&gt;</th><th scope=col>&lt;dbl&gt;</th><th scope=col>&lt;chr&gt;</th></tr>\n",
              "</thead>\n",
              "<tbody>\n",
              "\t<tr><td>NA         </td><td>  NA</td><td>      NA</td><td>NA   </td><td>    NA</td><td>USD        </td></tr>\n",
              "\t<tr><td>Afghanistan</td><td>1952</td><td> 8425333</td><td>Asia </td><td>28.801</td><td>779,4453145</td></tr>\n",
              "\t<tr><td>Afghanistan</td><td>1957</td><td> 9240934</td><td>Asia </td><td>    NA</td><td>820,8530296</td></tr>\n",
              "\t<tr><td>Afghanistan</td><td>1962</td><td>10267083</td><td>Asia </td><td>31.997</td><td>853,10071  </td></tr>\n",
              "\t<tr><td>Afghanistan</td><td>1962</td><td>10267083</td><td>Asia </td><td>31.997</td><td>853,10071  </td></tr>\n",
              "\t<tr><td>Afghanistan</td><td>1967</td><td>11537966</td><td>Asiaa</td><td>34.020</td><td>836,1971382</td></tr>\n",
              "</tbody>\n",
              "</table>\n"
            ]
          },
          "metadata": {}
        }
      ]
    },
    {
      "cell_type": "markdown",
      "source": [
        "### 2. Retirer la ligne avec les unités de mesure"
      ],
      "metadata": {
        "id": "z4Dizbb-2Vos"
      }
    },
    {
      "cell_type": "code",
      "source": [
        "# Retirer la ligne avec les unités\n",
        "gapminder_messy <- gapminder_messy %>%\n",
        "  slice(-1)\n",
        "\n",
        "# Slice peut également sélectionner des lignes\n",
        "slice(gapminder_messy, 1:6)"
      ],
      "metadata": {
        "colab": {
          "base_uri": "https://localhost:8080/",
          "height": 286
        },
        "id": "_M7dWqUH2S9Y",
        "outputId": "61643d15-fc7b-4697-f080-c7d4a9bd9448"
      },
      "execution_count": null,
      "outputs": [
        {
          "output_type": "display_data",
          "data": {
            "text/plain": [
              "  country     year pop      continent lifeExp gdp Per cap\n",
              "1 Afghanistan 1952  8425333 Asia      28.801  779,4453145\n",
              "2 Afghanistan 1957  9240934 Asia          NA  820,8530296\n",
              "3 Afghanistan 1962 10267083 Asia      31.997  853,10071  \n",
              "4 Afghanistan 1962 10267083 Asia      31.997  853,10071  \n",
              "5 Afghanistan 1967 11537966 Asiaa     34.020  836,1971382\n",
              "6 Afghanistan 1972 13079460 Asia      36.088  739,9811058"
            ],
            "text/latex": "A spec\\_tbl\\_df: 6 × 6\n\\begin{tabular}{llllll}\n country & year & pop & continent & lifeExp & gdp Per cap\\\\\n <chr> & <dbl> & <dbl> & <chr> & <dbl> & <chr>\\\\\n\\hline\n\t Afghanistan & 1952 &  8425333 & Asia  & 28.801 & 779,4453145\\\\\n\t Afghanistan & 1957 &  9240934 & Asia  &     NA & 820,8530296\\\\\n\t Afghanistan & 1962 & 10267083 & Asia  & 31.997 & 853,10071  \\\\\n\t Afghanistan & 1962 & 10267083 & Asia  & 31.997 & 853,10071  \\\\\n\t Afghanistan & 1967 & 11537966 & Asiaa & 34.020 & 836,1971382\\\\\n\t Afghanistan & 1972 & 13079460 & Asia  & 36.088 & 739,9811058\\\\\n\\end{tabular}\n",
            "text/markdown": "\nA spec_tbl_df: 6 × 6\n\n| country &lt;chr&gt; | year &lt;dbl&gt; | pop &lt;dbl&gt; | continent &lt;chr&gt; | lifeExp &lt;dbl&gt; | gdp Per cap &lt;chr&gt; |\n|---|---|---|---|---|---|\n| Afghanistan | 1952 |  8425333 | Asia  | 28.801 | 779,4453145 |\n| Afghanistan | 1957 |  9240934 | Asia  |     NA | 820,8530296 |\n| Afghanistan | 1962 | 10267083 | Asia  | 31.997 | 853,10071   |\n| Afghanistan | 1962 | 10267083 | Asia  | 31.997 | 853,10071   |\n| Afghanistan | 1967 | 11537966 | Asiaa | 34.020 | 836,1971382 |\n| Afghanistan | 1972 | 13079460 | Asia  | 36.088 | 739,9811058 |\n\n",
            "text/html": [
              "<table class=\"dataframe\">\n",
              "<caption>A spec_tbl_df: 6 × 6</caption>\n",
              "<thead>\n",
              "\t<tr><th scope=col>country</th><th scope=col>year</th><th scope=col>pop</th><th scope=col>continent</th><th scope=col>lifeExp</th><th scope=col>gdp Per cap</th></tr>\n",
              "\t<tr><th scope=col>&lt;chr&gt;</th><th scope=col>&lt;dbl&gt;</th><th scope=col>&lt;dbl&gt;</th><th scope=col>&lt;chr&gt;</th><th scope=col>&lt;dbl&gt;</th><th scope=col>&lt;chr&gt;</th></tr>\n",
              "</thead>\n",
              "<tbody>\n",
              "\t<tr><td>Afghanistan</td><td>1952</td><td> 8425333</td><td>Asia </td><td>28.801</td><td>779,4453145</td></tr>\n",
              "\t<tr><td>Afghanistan</td><td>1957</td><td> 9240934</td><td>Asia </td><td>    NA</td><td>820,8530296</td></tr>\n",
              "\t<tr><td>Afghanistan</td><td>1962</td><td>10267083</td><td>Asia </td><td>31.997</td><td>853,10071  </td></tr>\n",
              "\t<tr><td>Afghanistan</td><td>1962</td><td>10267083</td><td>Asia </td><td>31.997</td><td>853,10071  </td></tr>\n",
              "\t<tr><td>Afghanistan</td><td>1967</td><td>11537966</td><td>Asiaa</td><td>34.020</td><td>836,1971382</td></tr>\n",
              "\t<tr><td>Afghanistan</td><td>1972</td><td>13079460</td><td>Asia </td><td>36.088</td><td>739,9811058</td></tr>\n",
              "</tbody>\n",
              "</table>\n"
            ]
          },
          "metadata": {}
        }
      ]
    },
    {
      "cell_type": "markdown",
      "source": [
        "### 3. Renommer la colonne contenant des espaces"
      ],
      "metadata": {
        "id": "E9Qwwhua3ADZ"
      }
    },
    {
      "cell_type": "code",
      "source": [
        "# Regardons le jeu de données comme il est montré en R\n",
        "print(gapminder_messy, n = 6)"
      ],
      "metadata": {
        "colab": {
          "base_uri": "https://localhost:8080/"
        },
        "id": "x9Z-VyAY3ews",
        "outputId": "7b5f4704-c434-4060-d2f8-c38ad924b1ac"
      },
      "execution_count": null,
      "outputs": [
        {
          "output_type": "stream",
          "name": "stdout",
          "text": [
            "\u001b[90m# A tibble: 1,705 × 6\u001b[39m\n",
            "  country      year      pop continent lifeExp `gdp Per cap`\n",
            "  \u001b[3m\u001b[90m<chr>\u001b[39m\u001b[23m       \u001b[3m\u001b[90m<dbl>\u001b[39m\u001b[23m    \u001b[3m\u001b[90m<dbl>\u001b[39m\u001b[23m \u001b[3m\u001b[90m<chr>\u001b[39m\u001b[23m       \u001b[3m\u001b[90m<dbl>\u001b[39m\u001b[23m \u001b[3m\u001b[90m<chr>\u001b[39m\u001b[23m        \n",
            "\u001b[90m1\u001b[39m Afghanistan  \u001b[4m1\u001b[24m952  8\u001b[4m4\u001b[24m\u001b[4m2\u001b[24m\u001b[4m5\u001b[24m333 Asia         28.8 779,4453145  \n",
            "\u001b[90m2\u001b[39m Afghanistan  \u001b[4m1\u001b[24m957  9\u001b[4m2\u001b[24m\u001b[4m4\u001b[24m\u001b[4m0\u001b[24m934 Asia         \u001b[31mNA\u001b[39m   820,8530296  \n",
            "\u001b[90m3\u001b[39m Afghanistan  \u001b[4m1\u001b[24m962 10\u001b[4m2\u001b[24m\u001b[4m6\u001b[24m\u001b[4m7\u001b[24m083 Asia         32.0 853,10071    \n",
            "\u001b[90m4\u001b[39m Afghanistan  \u001b[4m1\u001b[24m962 10\u001b[4m2\u001b[24m\u001b[4m6\u001b[24m\u001b[4m7\u001b[24m083 Asia         32.0 853,10071    \n",
            "\u001b[90m5\u001b[39m Afghanistan  \u001b[4m1\u001b[24m967 11\u001b[4m5\u001b[24m\u001b[4m3\u001b[24m\u001b[4m7\u001b[24m966 Asiaa        34.0 836,1971382  \n",
            "\u001b[90m6\u001b[39m Afghanistan  \u001b[4m1\u001b[24m972 13\u001b[4m0\u001b[24m\u001b[4m7\u001b[24m\u001b[4m9\u001b[24m460 Asia         36.1 739,9811058  \n",
            "\u001b[90m# … with 1,699 more rows\u001b[39m\n"
          ]
        }
      ]
    },
    {
      "cell_type": "code",
      "source": [
        "# Comment travailler avec la colonne contenant des espaces?\n",
        "select(gapminder_messy, `gdp Per cap`) %>% head(1)\n",
        "select(gapminder_messy, \"gdp Per cap\") %>% head(1)\n",
        "gapminder_messy[1, \"gdp Per cap\"]"
      ],
      "metadata": {
        "colab": {
          "base_uri": "https://localhost:8080/",
          "height": 354
        },
        "id": "PcnD_gIW3IUK",
        "outputId": "6335a554-8be7-4e15-fac7-8ed2a881f3cd"
      },
      "execution_count": null,
      "outputs": [
        {
          "output_type": "display_data",
          "data": {
            "text/plain": [
              "  gdp Per cap\n",
              "1 779,4453145"
            ],
            "text/latex": "A tibble: 1 × 1\n\\begin{tabular}{l}\n gdp Per cap\\\\\n <chr>\\\\\n\\hline\n\t 779,4453145\\\\\n\\end{tabular}\n",
            "text/markdown": "\nA tibble: 1 × 1\n\n| gdp Per cap &lt;chr&gt; |\n|---|\n| 779,4453145 |\n\n",
            "text/html": [
              "<table class=\"dataframe\">\n",
              "<caption>A tibble: 1 × 1</caption>\n",
              "<thead>\n",
              "\t<tr><th scope=col>gdp Per cap</th></tr>\n",
              "\t<tr><th scope=col>&lt;chr&gt;</th></tr>\n",
              "</thead>\n",
              "<tbody>\n",
              "\t<tr><td>779,4453145</td></tr>\n",
              "</tbody>\n",
              "</table>\n"
            ]
          },
          "metadata": {}
        },
        {
          "output_type": "display_data",
          "data": {
            "text/plain": [
              "  gdp Per cap\n",
              "1 779,4453145"
            ],
            "text/latex": "A tibble: 1 × 1\n\\begin{tabular}{l}\n gdp Per cap\\\\\n <chr>\\\\\n\\hline\n\t 779,4453145\\\\\n\\end{tabular}\n",
            "text/markdown": "\nA tibble: 1 × 1\n\n| gdp Per cap &lt;chr&gt; |\n|---|\n| 779,4453145 |\n\n",
            "text/html": [
              "<table class=\"dataframe\">\n",
              "<caption>A tibble: 1 × 1</caption>\n",
              "<thead>\n",
              "\t<tr><th scope=col>gdp Per cap</th></tr>\n",
              "\t<tr><th scope=col>&lt;chr&gt;</th></tr>\n",
              "</thead>\n",
              "<tbody>\n",
              "\t<tr><td>779,4453145</td></tr>\n",
              "</tbody>\n",
              "</table>\n"
            ]
          },
          "metadata": {}
        },
        {
          "output_type": "display_data",
          "data": {
            "text/plain": [
              "  gdp Per cap\n",
              "1 779,4453145"
            ],
            "text/latex": "A tibble: 1 × 1\n\\begin{tabular}{l}\n gdp Per cap\\\\\n <chr>\\\\\n\\hline\n\t 779,4453145\\\\\n\\end{tabular}\n",
            "text/markdown": "\nA tibble: 1 × 1\n\n| gdp Per cap &lt;chr&gt; |\n|---|\n| 779,4453145 |\n\n",
            "text/html": [
              "<table class=\"dataframe\">\n",
              "<caption>A tibble: 1 × 1</caption>\n",
              "<thead>\n",
              "\t<tr><th scope=col>gdp Per cap</th></tr>\n",
              "\t<tr><th scope=col>&lt;chr&gt;</th></tr>\n",
              "</thead>\n",
              "<tbody>\n",
              "\t<tr><td>779,4453145</td></tr>\n",
              "</tbody>\n",
              "</table>\n"
            ]
          },
          "metadata": {}
        }
      ]
    },
    {
      "cell_type": "code",
      "source": [
        "# Renommer une colonne contenant des espaces\n",
        "gapminder_messy %>%\n",
        "  rename(gdpPercap = `gdp Per cap`) %>%\n",
        "  head()"
      ],
      "metadata": {
        "colab": {
          "base_uri": "https://localhost:8080/",
          "height": 286
        },
        "id": "-et_0UNF29Q0",
        "outputId": "ca11d6ba-2ada-4b76-866a-8cc8bced2e36"
      },
      "execution_count": null,
      "outputs": [
        {
          "output_type": "display_data",
          "data": {
            "text/plain": [
              "  country     year pop      continent lifeExp gdpPercap  \n",
              "1 Afghanistan 1952  8425333 Asia      28.801  779,4453145\n",
              "2 Afghanistan 1957  9240934 Asia          NA  820,8530296\n",
              "3 Afghanistan 1962 10267083 Asia      31.997  853,10071  \n",
              "4 Afghanistan 1962 10267083 Asia      31.997  853,10071  \n",
              "5 Afghanistan 1967 11537966 Asiaa     34.020  836,1971382\n",
              "6 Afghanistan 1972 13079460 Asia      36.088  739,9811058"
            ],
            "text/latex": "A tibble: 6 × 6\n\\begin{tabular}{llllll}\n country & year & pop & continent & lifeExp & gdpPercap\\\\\n <chr> & <dbl> & <dbl> & <chr> & <dbl> & <chr>\\\\\n\\hline\n\t Afghanistan & 1952 &  8425333 & Asia  & 28.801 & 779,4453145\\\\\n\t Afghanistan & 1957 &  9240934 & Asia  &     NA & 820,8530296\\\\\n\t Afghanistan & 1962 & 10267083 & Asia  & 31.997 & 853,10071  \\\\\n\t Afghanistan & 1962 & 10267083 & Asia  & 31.997 & 853,10071  \\\\\n\t Afghanistan & 1967 & 11537966 & Asiaa & 34.020 & 836,1971382\\\\\n\t Afghanistan & 1972 & 13079460 & Asia  & 36.088 & 739,9811058\\\\\n\\end{tabular}\n",
            "text/markdown": "\nA tibble: 6 × 6\n\n| country &lt;chr&gt; | year &lt;dbl&gt; | pop &lt;dbl&gt; | continent &lt;chr&gt; | lifeExp &lt;dbl&gt; | gdpPercap &lt;chr&gt; |\n|---|---|---|---|---|---|\n| Afghanistan | 1952 |  8425333 | Asia  | 28.801 | 779,4453145 |\n| Afghanistan | 1957 |  9240934 | Asia  |     NA | 820,8530296 |\n| Afghanistan | 1962 | 10267083 | Asia  | 31.997 | 853,10071   |\n| Afghanistan | 1962 | 10267083 | Asia  | 31.997 | 853,10071   |\n| Afghanistan | 1967 | 11537966 | Asiaa | 34.020 | 836,1971382 |\n| Afghanistan | 1972 | 13079460 | Asia  | 36.088 | 739,9811058 |\n\n",
            "text/html": [
              "<table class=\"dataframe\">\n",
              "<caption>A tibble: 6 × 6</caption>\n",
              "<thead>\n",
              "\t<tr><th scope=col>country</th><th scope=col>year</th><th scope=col>pop</th><th scope=col>continent</th><th scope=col>lifeExp</th><th scope=col>gdpPercap</th></tr>\n",
              "\t<tr><th scope=col>&lt;chr&gt;</th><th scope=col>&lt;dbl&gt;</th><th scope=col>&lt;dbl&gt;</th><th scope=col>&lt;chr&gt;</th><th scope=col>&lt;dbl&gt;</th><th scope=col>&lt;chr&gt;</th></tr>\n",
              "</thead>\n",
              "<tbody>\n",
              "\t<tr><td>Afghanistan</td><td>1952</td><td> 8425333</td><td>Asia </td><td>28.801</td><td>779,4453145</td></tr>\n",
              "\t<tr><td>Afghanistan</td><td>1957</td><td> 9240934</td><td>Asia </td><td>    NA</td><td>820,8530296</td></tr>\n",
              "\t<tr><td>Afghanistan</td><td>1962</td><td>10267083</td><td>Asia </td><td>31.997</td><td>853,10071  </td></tr>\n",
              "\t<tr><td>Afghanistan</td><td>1962</td><td>10267083</td><td>Asia </td><td>31.997</td><td>853,10071  </td></tr>\n",
              "\t<tr><td>Afghanistan</td><td>1967</td><td>11537966</td><td>Asiaa</td><td>34.020</td><td>836,1971382</td></tr>\n",
              "\t<tr><td>Afghanistan</td><td>1972</td><td>13079460</td><td>Asia </td><td>36.088</td><td>739,9811058</td></tr>\n",
              "</tbody>\n",
              "</table>\n"
            ]
          },
          "metadata": {}
        }
      ]
    },
    {
      "cell_type": "code",
      "source": [
        "# Renommer plusieurs colonnes à la fois (même si ce n'est pas nécessaire dans ce cas-ci)\n",
        "gapminder_messy <- gapminder_messy %>%\n",
        "  rename_with(~ gsub(\" \", \"\", .x))\n",
        "head(gapminder_messy)"
      ],
      "metadata": {
        "colab": {
          "base_uri": "https://localhost:8080/",
          "height": 286
        },
        "id": "Bn7Z9jFS4LPZ",
        "outputId": "7cf8b0fc-953d-4e63-fcbc-788d7ee7f852"
      },
      "execution_count": null,
      "outputs": [
        {
          "output_type": "display_data",
          "data": {
            "text/plain": [
              "  country     year pop      continent lifeExp gdpPercap  \n",
              "1 Afghanistan 1952  8425333 Asia      28.801  779,4453145\n",
              "2 Afghanistan 1957  9240934 Asia          NA  820,8530296\n",
              "3 Afghanistan 1962 10267083 Asia      31.997  853,10071  \n",
              "4 Afghanistan 1962 10267083 Asia      31.997  853,10071  \n",
              "5 Afghanistan 1967 11537966 Asiaa     34.020  836,1971382\n",
              "6 Afghanistan 1972 13079460 Asia      36.088  739,9811058"
            ],
            "text/latex": "A tibble: 6 × 6\n\\begin{tabular}{llllll}\n country & year & pop & continent & lifeExp & gdpPercap\\\\\n <chr> & <dbl> & <dbl> & <chr> & <dbl> & <chr>\\\\\n\\hline\n\t Afghanistan & 1952 &  8425333 & Asia  & 28.801 & 779,4453145\\\\\n\t Afghanistan & 1957 &  9240934 & Asia  &     NA & 820,8530296\\\\\n\t Afghanistan & 1962 & 10267083 & Asia  & 31.997 & 853,10071  \\\\\n\t Afghanistan & 1962 & 10267083 & Asia  & 31.997 & 853,10071  \\\\\n\t Afghanistan & 1967 & 11537966 & Asiaa & 34.020 & 836,1971382\\\\\n\t Afghanistan & 1972 & 13079460 & Asia  & 36.088 & 739,9811058\\\\\n\\end{tabular}\n",
            "text/markdown": "\nA tibble: 6 × 6\n\n| country &lt;chr&gt; | year &lt;dbl&gt; | pop &lt;dbl&gt; | continent &lt;chr&gt; | lifeExp &lt;dbl&gt; | gdpPercap &lt;chr&gt; |\n|---|---|---|---|---|---|\n| Afghanistan | 1952 |  8425333 | Asia  | 28.801 | 779,4453145 |\n| Afghanistan | 1957 |  9240934 | Asia  |     NA | 820,8530296 |\n| Afghanistan | 1962 | 10267083 | Asia  | 31.997 | 853,10071   |\n| Afghanistan | 1962 | 10267083 | Asia  | 31.997 | 853,10071   |\n| Afghanistan | 1967 | 11537966 | Asiaa | 34.020 | 836,1971382 |\n| Afghanistan | 1972 | 13079460 | Asia  | 36.088 | 739,9811058 |\n\n",
            "text/html": [
              "<table class=\"dataframe\">\n",
              "<caption>A tibble: 6 × 6</caption>\n",
              "<thead>\n",
              "\t<tr><th scope=col>country</th><th scope=col>year</th><th scope=col>pop</th><th scope=col>continent</th><th scope=col>lifeExp</th><th scope=col>gdpPercap</th></tr>\n",
              "\t<tr><th scope=col>&lt;chr&gt;</th><th scope=col>&lt;dbl&gt;</th><th scope=col>&lt;dbl&gt;</th><th scope=col>&lt;chr&gt;</th><th scope=col>&lt;dbl&gt;</th><th scope=col>&lt;chr&gt;</th></tr>\n",
              "</thead>\n",
              "<tbody>\n",
              "\t<tr><td>Afghanistan</td><td>1952</td><td> 8425333</td><td>Asia </td><td>28.801</td><td>779,4453145</td></tr>\n",
              "\t<tr><td>Afghanistan</td><td>1957</td><td> 9240934</td><td>Asia </td><td>    NA</td><td>820,8530296</td></tr>\n",
              "\t<tr><td>Afghanistan</td><td>1962</td><td>10267083</td><td>Asia </td><td>31.997</td><td>853,10071  </td></tr>\n",
              "\t<tr><td>Afghanistan</td><td>1962</td><td>10267083</td><td>Asia </td><td>31.997</td><td>853,10071  </td></tr>\n",
              "\t<tr><td>Afghanistan</td><td>1967</td><td>11537966</td><td>Asiaa</td><td>34.020</td><td>836,1971382</td></tr>\n",
              "\t<tr><td>Afghanistan</td><td>1972</td><td>13079460</td><td>Asia </td><td>36.088</td><td>739,9811058</td></tr>\n",
              "</tbody>\n",
              "</table>\n"
            ]
          },
          "metadata": {}
        }
      ]
    },
    {
      "cell_type": "markdown",
      "source": [
        "### 4. Corriger le type des colonnes"
      ],
      "metadata": {
        "id": "w0EHRxeF4y-q"
      }
    },
    {
      "cell_type": "code",
      "source": [
        "# Quel est le type des colonnes?\n",
        "head(gapminder_messy, 1)\n",
        "typeof(gapminder_messy$gdpPercap)\n",
        "typeof(gapminder_messy$lifeExp)"
      ],
      "metadata": {
        "colab": {
          "base_uri": "https://localhost:8080/",
          "height": 164
        },
        "id": "gJFUk8YFUQvd",
        "outputId": "886a9767-175b-47ba-a3c6-36921531aae3"
      },
      "execution_count": null,
      "outputs": [
        {
          "output_type": "display_data",
          "data": {
            "text/plain": [
              "  country     year pop     continent lifeExp gdpPercap  \n",
              "1 Afghanistan 1952 8425333 Asia      28.801  779,4453145"
            ],
            "text/latex": "A tibble: 1 × 6\n\\begin{tabular}{llllll}\n country & year & pop & continent & lifeExp & gdpPercap\\\\\n <chr> & <dbl> & <dbl> & <chr> & <dbl> & <chr>\\\\\n\\hline\n\t Afghanistan & 1952 & 8425333 & Asia & 28.801 & 779,4453145\\\\\n\\end{tabular}\n",
            "text/markdown": "\nA tibble: 1 × 6\n\n| country &lt;chr&gt; | year &lt;dbl&gt; | pop &lt;dbl&gt; | continent &lt;chr&gt; | lifeExp &lt;dbl&gt; | gdpPercap &lt;chr&gt; |\n|---|---|---|---|---|---|\n| Afghanistan | 1952 | 8425333 | Asia | 28.801 | 779,4453145 |\n\n",
            "text/html": [
              "<table class=\"dataframe\">\n",
              "<caption>A tibble: 1 × 6</caption>\n",
              "<thead>\n",
              "\t<tr><th scope=col>country</th><th scope=col>year</th><th scope=col>pop</th><th scope=col>continent</th><th scope=col>lifeExp</th><th scope=col>gdpPercap</th></tr>\n",
              "\t<tr><th scope=col>&lt;chr&gt;</th><th scope=col>&lt;dbl&gt;</th><th scope=col>&lt;dbl&gt;</th><th scope=col>&lt;chr&gt;</th><th scope=col>&lt;dbl&gt;</th><th scope=col>&lt;chr&gt;</th></tr>\n",
              "</thead>\n",
              "<tbody>\n",
              "\t<tr><td>Afghanistan</td><td>1952</td><td>8425333</td><td>Asia</td><td>28.801</td><td>779,4453145</td></tr>\n",
              "</tbody>\n",
              "</table>\n"
            ]
          },
          "metadata": {}
        },
        {
          "output_type": "display_data",
          "data": {
            "text/plain": [
              "[1] \"character\""
            ],
            "text/latex": "'character'",
            "text/markdown": "'character'",
            "text/html": [
              "'character'"
            ]
          },
          "metadata": {}
        },
        {
          "output_type": "display_data",
          "data": {
            "text/plain": [
              "[1] \"double\""
            ],
            "text/latex": "'double'",
            "text/markdown": "'double'",
            "text/html": [
              "'double'"
            ]
          },
          "metadata": {}
        }
      ]
    },
    {
      "cell_type": "code",
      "source": [
        "# La colonne gdpPercap est de type `character`, mais elle devrait plutôt\n",
        "# être de type `double` comme la colonne lifeExp\n",
        "\n",
        "# Vérifions si cela pose problème en essayant de calculer la moyenne\n",
        "gapminder_messy %>% \n",
        "  summarize(gdpPercap_mean = mean(gdpPercap),\n",
        "            pop_mean = mean(pop))"
      ],
      "metadata": {
        "colab": {
          "base_uri": "https://localhost:8080/",
          "height": 164
        },
        "id": "YmsVX5Kp4qhP",
        "outputId": "82adc525-6160-447a-f982-7e4928c707b2"
      },
      "execution_count": null,
      "outputs": [
        {
          "output_type": "stream",
          "name": "stderr",
          "text": [
            "Warning message in mean.default(gdpPercap):\n",
            "“argument is not numeric or logical: returning NA”\n"
          ]
        },
        {
          "output_type": "display_data",
          "data": {
            "text/plain": [
              "  gdpPercap_mean pop_mean\n",
              "1 NA             29589873"
            ],
            "text/latex": "A tibble: 1 × 2\n\\begin{tabular}{ll}\n gdpPercap\\_mean & pop\\_mean\\\\\n <dbl> & <dbl>\\\\\n\\hline\n\t NA & 29589873\\\\\n\\end{tabular}\n",
            "text/markdown": "\nA tibble: 1 × 2\n\n| gdpPercap_mean &lt;dbl&gt; | pop_mean &lt;dbl&gt; |\n|---|---|\n| NA | 29589873 |\n\n",
            "text/html": [
              "<table class=\"dataframe\">\n",
              "<caption>A tibble: 1 × 2</caption>\n",
              "<thead>\n",
              "\t<tr><th scope=col>gdpPercap_mean</th><th scope=col>pop_mean</th></tr>\n",
              "\t<tr><th scope=col>&lt;dbl&gt;</th><th scope=col>&lt;dbl&gt;</th></tr>\n",
              "</thead>\n",
              "<tbody>\n",
              "\t<tr><td>NA</td><td>29589873</td></tr>\n",
              "</tbody>\n",
              "</table>\n"
            ]
          },
          "metadata": {}
        }
      ]
    },
    {
      "cell_type": "code",
      "source": [
        "# En raison du type, il n'est possible de calculer la moyenne de `gdpPercap` \n",
        "# comme pour `pop`. Il faut donc corriger celui-ci.\n",
        "\n",
        "# Remplaçons d'abord les virgules par des points.\n",
        "gapminder_messy <- gapminder_messy %>%\n",
        "  mutate(gdpPercap = gsub(\",\", \".\", gdpPercap))\n",
        "\n",
        "# Notez que le type est toujours `character`.\n",
        "head(gapminder_messy)"
      ],
      "metadata": {
        "colab": {
          "base_uri": "https://localhost:8080/",
          "height": 286
        },
        "id": "4AJg2QFKXL0r",
        "outputId": "7772749f-20c9-4903-d8db-f9747b95dde1"
      },
      "execution_count": null,
      "outputs": [
        {
          "output_type": "display_data",
          "data": {
            "text/plain": [
              "  country     year pop      continent lifeExp gdpPercap  \n",
              "1 Afghanistan 1952  8425333 Asia      28.801  779.4453145\n",
              "2 Afghanistan 1957  9240934 Asia          NA  820.8530296\n",
              "3 Afghanistan 1962 10267083 Asia      31.997  853.10071  \n",
              "4 Afghanistan 1962 10267083 Asia      31.997  853.10071  \n",
              "5 Afghanistan 1967 11537966 Asiaa     34.020  836.1971382\n",
              "6 Afghanistan 1972 13079460 Asia      36.088  739.9811058"
            ],
            "text/latex": "A tibble: 6 × 6\n\\begin{tabular}{llllll}\n country & year & pop & continent & lifeExp & gdpPercap\\\\\n <chr> & <dbl> & <dbl> & <chr> & <dbl> & <chr>\\\\\n\\hline\n\t Afghanistan & 1952 &  8425333 & Asia  & 28.801 & 779.4453145\\\\\n\t Afghanistan & 1957 &  9240934 & Asia  &     NA & 820.8530296\\\\\n\t Afghanistan & 1962 & 10267083 & Asia  & 31.997 & 853.10071  \\\\\n\t Afghanistan & 1962 & 10267083 & Asia  & 31.997 & 853.10071  \\\\\n\t Afghanistan & 1967 & 11537966 & Asiaa & 34.020 & 836.1971382\\\\\n\t Afghanistan & 1972 & 13079460 & Asia  & 36.088 & 739.9811058\\\\\n\\end{tabular}\n",
            "text/markdown": "\nA tibble: 6 × 6\n\n| country &lt;chr&gt; | year &lt;dbl&gt; | pop &lt;dbl&gt; | continent &lt;chr&gt; | lifeExp &lt;dbl&gt; | gdpPercap &lt;chr&gt; |\n|---|---|---|---|---|---|\n| Afghanistan | 1952 |  8425333 | Asia  | 28.801 | 779.4453145 |\n| Afghanistan | 1957 |  9240934 | Asia  |     NA | 820.8530296 |\n| Afghanistan | 1962 | 10267083 | Asia  | 31.997 | 853.10071   |\n| Afghanistan | 1962 | 10267083 | Asia  | 31.997 | 853.10071   |\n| Afghanistan | 1967 | 11537966 | Asiaa | 34.020 | 836.1971382 |\n| Afghanistan | 1972 | 13079460 | Asia  | 36.088 | 739.9811058 |\n\n",
            "text/html": [
              "<table class=\"dataframe\">\n",
              "<caption>A tibble: 6 × 6</caption>\n",
              "<thead>\n",
              "\t<tr><th scope=col>country</th><th scope=col>year</th><th scope=col>pop</th><th scope=col>continent</th><th scope=col>lifeExp</th><th scope=col>gdpPercap</th></tr>\n",
              "\t<tr><th scope=col>&lt;chr&gt;</th><th scope=col>&lt;dbl&gt;</th><th scope=col>&lt;dbl&gt;</th><th scope=col>&lt;chr&gt;</th><th scope=col>&lt;dbl&gt;</th><th scope=col>&lt;chr&gt;</th></tr>\n",
              "</thead>\n",
              "<tbody>\n",
              "\t<tr><td>Afghanistan</td><td>1952</td><td> 8425333</td><td>Asia </td><td>28.801</td><td>779.4453145</td></tr>\n",
              "\t<tr><td>Afghanistan</td><td>1957</td><td> 9240934</td><td>Asia </td><td>    NA</td><td>820.8530296</td></tr>\n",
              "\t<tr><td>Afghanistan</td><td>1962</td><td>10267083</td><td>Asia </td><td>31.997</td><td>853.10071  </td></tr>\n",
              "\t<tr><td>Afghanistan</td><td>1962</td><td>10267083</td><td>Asia </td><td>31.997</td><td>853.10071  </td></tr>\n",
              "\t<tr><td>Afghanistan</td><td>1967</td><td>11537966</td><td>Asiaa</td><td>34.020</td><td>836.1971382</td></tr>\n",
              "\t<tr><td>Afghanistan</td><td>1972</td><td>13079460</td><td>Asia </td><td>36.088</td><td>739.9811058</td></tr>\n",
              "</tbody>\n",
              "</table>\n"
            ]
          },
          "metadata": {}
        }
      ]
    },
    {
      "cell_type": "code",
      "source": [
        "# Nous pouvons maintenant convertir en `double`\n",
        "gapminder_messy <- gapminder_messy %>%\n",
        "  mutate(gdpPercap = as.double(gdpPercap))\n",
        "\n",
        "# Le type est maintenant bel et bien `double`\n",
        "head(gapminder_messy)\n",
        "\n",
        "# Il est donc possible de calculer la moyenne\n",
        "gapminder_messy %>% \n",
        "  summarize(gdpPercap_mean = mean(gdpPercap),\n",
        "            pop_mean = mean(pop))"
      ],
      "metadata": {
        "colab": {
          "base_uri": "https://localhost:8080/",
          "height": 399
        },
        "id": "RlVCtVvTXug-",
        "outputId": "cbb073af-eacd-418e-813d-6514d3883809"
      },
      "execution_count": null,
      "outputs": [
        {
          "output_type": "display_data",
          "data": {
            "text/plain": [
              "  country     year pop      continent lifeExp gdpPercap\n",
              "1 Afghanistan 1952  8425333 Asia      28.801  779.4453 \n",
              "2 Afghanistan 1957  9240934 Asia          NA  820.8530 \n",
              "3 Afghanistan 1962 10267083 Asia      31.997  853.1007 \n",
              "4 Afghanistan 1962 10267083 Asia      31.997  853.1007 \n",
              "5 Afghanistan 1967 11537966 Asiaa     34.020  836.1971 \n",
              "6 Afghanistan 1972 13079460 Asia      36.088  739.9811 "
            ],
            "text/latex": "A tibble: 6 × 6\n\\begin{tabular}{llllll}\n country & year & pop & continent & lifeExp & gdpPercap\\\\\n <chr> & <dbl> & <dbl> & <chr> & <dbl> & <dbl>\\\\\n\\hline\n\t Afghanistan & 1952 &  8425333 & Asia  & 28.801 & 779.4453\\\\\n\t Afghanistan & 1957 &  9240934 & Asia  &     NA & 820.8530\\\\\n\t Afghanistan & 1962 & 10267083 & Asia  & 31.997 & 853.1007\\\\\n\t Afghanistan & 1962 & 10267083 & Asia  & 31.997 & 853.1007\\\\\n\t Afghanistan & 1967 & 11537966 & Asiaa & 34.020 & 836.1971\\\\\n\t Afghanistan & 1972 & 13079460 & Asia  & 36.088 & 739.9811\\\\\n\\end{tabular}\n",
            "text/markdown": "\nA tibble: 6 × 6\n\n| country &lt;chr&gt; | year &lt;dbl&gt; | pop &lt;dbl&gt; | continent &lt;chr&gt; | lifeExp &lt;dbl&gt; | gdpPercap &lt;dbl&gt; |\n|---|---|---|---|---|---|\n| Afghanistan | 1952 |  8425333 | Asia  | 28.801 | 779.4453 |\n| Afghanistan | 1957 |  9240934 | Asia  |     NA | 820.8530 |\n| Afghanistan | 1962 | 10267083 | Asia  | 31.997 | 853.1007 |\n| Afghanistan | 1962 | 10267083 | Asia  | 31.997 | 853.1007 |\n| Afghanistan | 1967 | 11537966 | Asiaa | 34.020 | 836.1971 |\n| Afghanistan | 1972 | 13079460 | Asia  | 36.088 | 739.9811 |\n\n",
            "text/html": [
              "<table class=\"dataframe\">\n",
              "<caption>A tibble: 6 × 6</caption>\n",
              "<thead>\n",
              "\t<tr><th scope=col>country</th><th scope=col>year</th><th scope=col>pop</th><th scope=col>continent</th><th scope=col>lifeExp</th><th scope=col>gdpPercap</th></tr>\n",
              "\t<tr><th scope=col>&lt;chr&gt;</th><th scope=col>&lt;dbl&gt;</th><th scope=col>&lt;dbl&gt;</th><th scope=col>&lt;chr&gt;</th><th scope=col>&lt;dbl&gt;</th><th scope=col>&lt;dbl&gt;</th></tr>\n",
              "</thead>\n",
              "<tbody>\n",
              "\t<tr><td>Afghanistan</td><td>1952</td><td> 8425333</td><td>Asia </td><td>28.801</td><td>779.4453</td></tr>\n",
              "\t<tr><td>Afghanistan</td><td>1957</td><td> 9240934</td><td>Asia </td><td>    NA</td><td>820.8530</td></tr>\n",
              "\t<tr><td>Afghanistan</td><td>1962</td><td>10267083</td><td>Asia </td><td>31.997</td><td>853.1007</td></tr>\n",
              "\t<tr><td>Afghanistan</td><td>1962</td><td>10267083</td><td>Asia </td><td>31.997</td><td>853.1007</td></tr>\n",
              "\t<tr><td>Afghanistan</td><td>1967</td><td>11537966</td><td>Asiaa</td><td>34.020</td><td>836.1971</td></tr>\n",
              "\t<tr><td>Afghanistan</td><td>1972</td><td>13079460</td><td>Asia </td><td>36.088</td><td>739.9811</td></tr>\n",
              "</tbody>\n",
              "</table>\n"
            ]
          },
          "metadata": {}
        },
        {
          "output_type": "display_data",
          "data": {
            "text/plain": [
              "  gdpPercap_mean pop_mean\n",
              "1 7211.596       29589873"
            ],
            "text/latex": "A tibble: 1 × 2\n\\begin{tabular}{ll}\n gdpPercap\\_mean & pop\\_mean\\\\\n <dbl> & <dbl>\\\\\n\\hline\n\t 7211.596 & 29589873\\\\\n\\end{tabular}\n",
            "text/markdown": "\nA tibble: 1 × 2\n\n| gdpPercap_mean &lt;dbl&gt; | pop_mean &lt;dbl&gt; |\n|---|---|\n| 7211.596 | 29589873 |\n\n",
            "text/html": [
              "<table class=\"dataframe\">\n",
              "<caption>A tibble: 1 × 2</caption>\n",
              "<thead>\n",
              "\t<tr><th scope=col>gdpPercap_mean</th><th scope=col>pop_mean</th></tr>\n",
              "\t<tr><th scope=col>&lt;dbl&gt;</th><th scope=col>&lt;dbl&gt;</th></tr>\n",
              "</thead>\n",
              "<tbody>\n",
              "\t<tr><td>7211.596</td><td>29589873</td></tr>\n",
              "</tbody>\n",
              "</table>\n"
            ]
          },
          "metadata": {}
        }
      ]
    },
    {
      "cell_type": "code",
      "source": [
        "head(gapminder_messy)"
      ],
      "metadata": {
        "colab": {
          "base_uri": "https://localhost:8080/",
          "height": 286
        },
        "id": "NSYT6DJVaA15",
        "outputId": "b251875b-0c13-4e76-a6ca-cb137e25c5c2"
      },
      "execution_count": null,
      "outputs": [
        {
          "output_type": "display_data",
          "data": {
            "text/plain": [
              "  country     year pop      continent lifeExp gdpPercap\n",
              "1 Afghanistan 1952  8425333 Asia      28.801  779.4453 \n",
              "2 Afghanistan 1957  9240934 Asia          NA  820.8530 \n",
              "3 Afghanistan 1962 10267083 Asia      31.997  853.1007 \n",
              "4 Afghanistan 1962 10267083 Asia      31.997  853.1007 \n",
              "5 Afghanistan 1967 11537966 Asiaa     34.020  836.1971 \n",
              "6 Afghanistan 1972 13079460 Asia      36.088  739.9811 "
            ],
            "text/latex": "A tibble: 6 × 6\n\\begin{tabular}{llllll}\n country & year & pop & continent & lifeExp & gdpPercap\\\\\n <chr> & <dbl> & <dbl> & <chr> & <dbl> & <dbl>\\\\\n\\hline\n\t Afghanistan & 1952 &  8425333 & Asia  & 28.801 & 779.4453\\\\\n\t Afghanistan & 1957 &  9240934 & Asia  &     NA & 820.8530\\\\\n\t Afghanistan & 1962 & 10267083 & Asia  & 31.997 & 853.1007\\\\\n\t Afghanistan & 1962 & 10267083 & Asia  & 31.997 & 853.1007\\\\\n\t Afghanistan & 1967 & 11537966 & Asiaa & 34.020 & 836.1971\\\\\n\t Afghanistan & 1972 & 13079460 & Asia  & 36.088 & 739.9811\\\\\n\\end{tabular}\n",
            "text/markdown": "\nA tibble: 6 × 6\n\n| country &lt;chr&gt; | year &lt;dbl&gt; | pop &lt;dbl&gt; | continent &lt;chr&gt; | lifeExp &lt;dbl&gt; | gdpPercap &lt;dbl&gt; |\n|---|---|---|---|---|---|\n| Afghanistan | 1952 |  8425333 | Asia  | 28.801 | 779.4453 |\n| Afghanistan | 1957 |  9240934 | Asia  |     NA | 820.8530 |\n| Afghanistan | 1962 | 10267083 | Asia  | 31.997 | 853.1007 |\n| Afghanistan | 1962 | 10267083 | Asia  | 31.997 | 853.1007 |\n| Afghanistan | 1967 | 11537966 | Asiaa | 34.020 | 836.1971 |\n| Afghanistan | 1972 | 13079460 | Asia  | 36.088 | 739.9811 |\n\n",
            "text/html": [
              "<table class=\"dataframe\">\n",
              "<caption>A tibble: 6 × 6</caption>\n",
              "<thead>\n",
              "\t<tr><th scope=col>country</th><th scope=col>year</th><th scope=col>pop</th><th scope=col>continent</th><th scope=col>lifeExp</th><th scope=col>gdpPercap</th></tr>\n",
              "\t<tr><th scope=col>&lt;chr&gt;</th><th scope=col>&lt;dbl&gt;</th><th scope=col>&lt;dbl&gt;</th><th scope=col>&lt;chr&gt;</th><th scope=col>&lt;dbl&gt;</th><th scope=col>&lt;dbl&gt;</th></tr>\n",
              "</thead>\n",
              "<tbody>\n",
              "\t<tr><td>Afghanistan</td><td>1952</td><td> 8425333</td><td>Asia </td><td>28.801</td><td>779.4453</td></tr>\n",
              "\t<tr><td>Afghanistan</td><td>1957</td><td> 9240934</td><td>Asia </td><td>    NA</td><td>820.8530</td></tr>\n",
              "\t<tr><td>Afghanistan</td><td>1962</td><td>10267083</td><td>Asia </td><td>31.997</td><td>853.1007</td></tr>\n",
              "\t<tr><td>Afghanistan</td><td>1962</td><td>10267083</td><td>Asia </td><td>31.997</td><td>853.1007</td></tr>\n",
              "\t<tr><td>Afghanistan</td><td>1967</td><td>11537966</td><td>Asiaa</td><td>34.020</td><td>836.1971</td></tr>\n",
              "\t<tr><td>Afghanistan</td><td>1972</td><td>13079460</td><td>Asia </td><td>36.088</td><td>739.9811</td></tr>\n",
              "</tbody>\n",
              "</table>\n"
            ]
          },
          "metadata": {}
        }
      ]
    },
    {
      "cell_type": "markdown",
      "source": [
        "### Défi 3\n",
        "\n",
        "Réparez le jeu de données suivant et calculez l'espérance de vie **médiane** par année.\n"
      ],
      "metadata": {
        "id": "hd8etKiPsmmU"
      }
    },
    {
      "cell_type": "code",
      "source": [
        "# Charger le nouveau jeu de données\n",
        "url_defi <- \"https://raw.githubusercontent.com/gabrieldansereau/RanDonnees2022-atelier-manipulation-R/main/gapminder_messy_challenges.csv\"\n",
        "gapminder_defi <- read_csv(url_defi)\n",
        "head(gapminder_defi)"
      ],
      "metadata": {
        "colab": {
          "base_uri": "https://localhost:8080/",
          "height": 529
        },
        "id": "JUSd-1xts7Nn",
        "outputId": "97fb7293-8737-4db7-d372-5529fc0a3b80"
      },
      "execution_count": null,
      "outputs": [
        {
          "output_type": "stream",
          "name": "stderr",
          "text": [
            "New names:\n",
            "* `` -> ...2\n",
            "\n",
            "\u001b[1mRows: \u001b[22m\u001b[34m1706\u001b[39m \u001b[1mColumns: \u001b[22m\u001b[34m6\u001b[39m\n",
            "\n",
            "\u001b[36m──\u001b[39m \u001b[1mColumn specification\u001b[22m \u001b[36m────────────────────────────────────────────────────────\u001b[39m\n",
            "\u001b[1mDelimiter:\u001b[22m \",\"\n",
            "\u001b[31mchr\u001b[39m (3): country, continent, life _Exp\n",
            "\u001b[32mdbl\u001b[39m (3): ...2, pop, gdpPercap\n",
            "\n",
            "\n",
            "\u001b[36mℹ\u001b[39m Use \u001b[30m\u001b[47m\u001b[30m\u001b[47m`spec()`\u001b[47m\u001b[30m\u001b[49m\u001b[39m to retrieve the full column specification for this data.\n",
            "\u001b[36mℹ\u001b[39m Specify the column types or set \u001b[30m\u001b[47m\u001b[30m\u001b[47m`show_col_types = FALSE`\u001b[47m\u001b[30m\u001b[49m\u001b[39m to quiet this message.\n",
            "\n"
          ]
        },
        {
          "output_type": "display_data",
          "data": {
            "text/plain": [
              "  country     ...2 pop      continent life _Exp gdpPercap\n",
              "1 NA            NA       NA NA        annees          NA \n",
              "2 Afghanistan 1952  8425333 Asia      28.801    779.4453 \n",
              "3 Afghanistan 1957  9240934 Asia      30.332    820.8530 \n",
              "4 Afghanistan 1962 10267083 Asia      31.997    853.1007 \n",
              "5 Afghanistan 1967 11537966 Asia      34.02     836.1971 \n",
              "6 Afghanistan 1972 13079460 Asia      36.088    739.9811 "
            ],
            "text/latex": "A tibble: 6 × 6\n\\begin{tabular}{llllll}\n country & ...2 & pop & continent & life \\_Exp & gdpPercap\\\\\n <chr> & <dbl> & <dbl> & <chr> & <chr> & <dbl>\\\\\n\\hline\n\t NA          &   NA &       NA & NA   & annees &       NA\\\\\n\t Afghanistan & 1952 &  8425333 & Asia & 28.801 & 779.4453\\\\\n\t Afghanistan & 1957 &  9240934 & Asia & 30.332 & 820.8530\\\\\n\t Afghanistan & 1962 & 10267083 & Asia & 31.997 & 853.1007\\\\\n\t Afghanistan & 1967 & 11537966 & Asia & 34.02  & 836.1971\\\\\n\t Afghanistan & 1972 & 13079460 & Asia & 36.088 & 739.9811\\\\\n\\end{tabular}\n",
            "text/markdown": "\nA tibble: 6 × 6\n\n| country &lt;chr&gt; | ...2 &lt;dbl&gt; | pop &lt;dbl&gt; | continent &lt;chr&gt; | life _Exp &lt;chr&gt; | gdpPercap &lt;dbl&gt; |\n|---|---|---|---|---|---|\n| NA          |   NA |       NA | NA   | annees |       NA |\n| Afghanistan | 1952 |  8425333 | Asia | 28.801 | 779.4453 |\n| Afghanistan | 1957 |  9240934 | Asia | 30.332 | 820.8530 |\n| Afghanistan | 1962 | 10267083 | Asia | 31.997 | 853.1007 |\n| Afghanistan | 1967 | 11537966 | Asia | 34.02  | 836.1971 |\n| Afghanistan | 1972 | 13079460 | Asia | 36.088 | 739.9811 |\n\n",
            "text/html": [
              "<table class=\"dataframe\">\n",
              "<caption>A tibble: 6 × 6</caption>\n",
              "<thead>\n",
              "\t<tr><th scope=col>country</th><th scope=col>...2</th><th scope=col>pop</th><th scope=col>continent</th><th scope=col>life _Exp</th><th scope=col>gdpPercap</th></tr>\n",
              "\t<tr><th scope=col>&lt;chr&gt;</th><th scope=col>&lt;dbl&gt;</th><th scope=col>&lt;dbl&gt;</th><th scope=col>&lt;chr&gt;</th><th scope=col>&lt;chr&gt;</th><th scope=col>&lt;dbl&gt;</th></tr>\n",
              "</thead>\n",
              "<tbody>\n",
              "\t<tr><td>NA         </td><td>  NA</td><td>      NA</td><td>NA  </td><td>annees</td><td>      NA</td></tr>\n",
              "\t<tr><td>Afghanistan</td><td>1952</td><td> 8425333</td><td>Asia</td><td>28.801</td><td>779.4453</td></tr>\n",
              "\t<tr><td>Afghanistan</td><td>1957</td><td> 9240934</td><td>Asia</td><td>30.332</td><td>820.8530</td></tr>\n",
              "\t<tr><td>Afghanistan</td><td>1962</td><td>10267083</td><td>Asia</td><td>31.997</td><td>853.1007</td></tr>\n",
              "\t<tr><td>Afghanistan</td><td>1967</td><td>11537966</td><td>Asia</td><td>34.02 </td><td>836.1971</td></tr>\n",
              "\t<tr><td>Afghanistan</td><td>1972</td><td>13079460</td><td>Asia</td><td>36.088</td><td>739.9811</td></tr>\n",
              "</tbody>\n",
              "</table>\n"
            ]
          },
          "metadata": {}
        }
      ]
    },
    {
      "cell_type": "code",
      "source": [
        "# Solution"
      ],
      "metadata": {
        "id": "bj9tOnhuvKUX"
      },
      "execution_count": null,
      "outputs": []
    },
    {
      "cell_type": "markdown",
      "source": [
        "## 2.2 Nettoyer les valeurs au sein du jeu de données"
      ],
      "metadata": {
        "id": "qNLs1lUXTX51"
      }
    },
    {
      "cell_type": "markdown",
      "source": [
        "### 5. Valeurs manquantes ou NA (Not Available)"
      ],
      "metadata": {
        "id": "mCbToEbsZfEz"
      }
    },
    {
      "cell_type": "code",
      "source": [
        "# Les NA peuvent-ils poser problème?\n",
        "gapminder_messy %>%\n",
        "  group_by(year) %>%\n",
        "  summarize(le_mean = mean(lifeExp),\n",
        "            le_max = max(lifeExp)) %>%\n",
        "  head()"
      ],
      "metadata": {
        "colab": {
          "base_uri": "https://localhost:8080/",
          "height": 286
        },
        "id": "BVaFq3ipZouT",
        "outputId": "d7aa78a2-aacf-4366-c258-f7c60c0a73ff"
      },
      "execution_count": null,
      "outputs": [
        {
          "output_type": "display_data",
          "data": {
            "text/plain": [
              "  year le_mean  le_max\n",
              "1 1952 49.05762 72.67 \n",
              "2 1957       NA    NA \n",
              "3 1962 53.45811 73.68 \n",
              "4 1967 55.67829 74.16 \n",
              "5 1972 57.64739 74.72 \n",
              "6 1977 59.57016 76.11 "
            ],
            "text/latex": "A tibble: 6 × 3\n\\begin{tabular}{lll}\n year & le\\_mean & le\\_max\\\\\n <dbl> & <dbl> & <dbl>\\\\\n\\hline\n\t 1952 & 49.05762 & 72.67\\\\\n\t 1957 &       NA &    NA\\\\\n\t 1962 & 53.45811 & 73.68\\\\\n\t 1967 & 55.67829 & 74.16\\\\\n\t 1972 & 57.64739 & 74.72\\\\\n\t 1977 & 59.57016 & 76.11\\\\\n\\end{tabular}\n",
            "text/markdown": "\nA tibble: 6 × 3\n\n| year &lt;dbl&gt; | le_mean &lt;dbl&gt; | le_max &lt;dbl&gt; |\n|---|---|---|\n| 1952 | 49.05762 | 72.67 |\n| 1957 |       NA |    NA |\n| 1962 | 53.45811 | 73.68 |\n| 1967 | 55.67829 | 74.16 |\n| 1972 | 57.64739 | 74.72 |\n| 1977 | 59.57016 | 76.11 |\n\n",
            "text/html": [
              "<table class=\"dataframe\">\n",
              "<caption>A tibble: 6 × 3</caption>\n",
              "<thead>\n",
              "\t<tr><th scope=col>year</th><th scope=col>le_mean</th><th scope=col>le_max</th></tr>\n",
              "\t<tr><th scope=col>&lt;dbl&gt;</th><th scope=col>&lt;dbl&gt;</th><th scope=col>&lt;dbl&gt;</th></tr>\n",
              "</thead>\n",
              "<tbody>\n",
              "\t<tr><td>1952</td><td>49.05762</td><td>72.67</td></tr>\n",
              "\t<tr><td>1957</td><td>      NA</td><td>   NA</td></tr>\n",
              "\t<tr><td>1962</td><td>53.45811</td><td>73.68</td></tr>\n",
              "\t<tr><td>1967</td><td>55.67829</td><td>74.16</td></tr>\n",
              "\t<tr><td>1972</td><td>57.64739</td><td>74.72</td></tr>\n",
              "\t<tr><td>1977</td><td>59.57016</td><td>76.11</td></tr>\n",
              "</tbody>\n",
              "</table>\n"
            ]
          },
          "metadata": {}
        }
      ]
    },
    {
      "cell_type": "code",
      "source": [
        "# Comment peut-on ignorer les NA?\n",
        "# Option 1: argument `na.rm`\n",
        "gapminder_messy %>%\n",
        "  group_by(year) %>%\n",
        "  summarize(le_mean = mean(lifeExp, na.rm = TRUE),\n",
        "            le_max = max(lifeExp, na.rm = TRUE))\n",
        "\n",
        "# Option 2: fonction `drop_na()`\n",
        "gapminder_messy %>%\n",
        "  group_by(year) %>%\n",
        "  drop_na(lifeExp) %>%\n",
        "  summarize(le_mean = mean(lifeExp),\n",
        "            le_max = max(lifeExp))"
      ],
      "metadata": {
        "colab": {
          "base_uri": "https://localhost:8080/",
          "height": 932
        },
        "id": "4Rhp8Xm0ZuxT",
        "outputId": "0bf8d2f0-da3f-47de-bfe2-57e715e765ff"
      },
      "execution_count": null,
      "outputs": [
        {
          "output_type": "display_data",
          "data": {
            "text/plain": [
              "   year le_mean  le_max \n",
              "1  1952 49.05762  72.670\n",
              "2  1957 51.65758  73.470\n",
              "3  1962 53.45811  73.680\n",
              "4  1967 55.67829  74.160\n",
              "5  1972 57.64739  74.720\n",
              "6  1977 59.57016  76.110\n",
              "7  1982 61.53320  77.110\n",
              "8  1987 65.79992 408.220\n",
              "9  1992 63.86686  79.360\n",
              "10 1997 65.01468  80.690\n",
              "11 2002 65.69492  82.000\n",
              "12 2007 67.00742  82.603"
            ],
            "text/latex": "A tibble: 12 × 3\n\\begin{tabular}{lll}\n year & le\\_mean & le\\_max\\\\\n <dbl> & <dbl> & <dbl>\\\\\n\\hline\n\t 1952 & 49.05762 &  72.670\\\\\n\t 1957 & 51.65758 &  73.470\\\\\n\t 1962 & 53.45811 &  73.680\\\\\n\t 1967 & 55.67829 &  74.160\\\\\n\t 1972 & 57.64739 &  74.720\\\\\n\t 1977 & 59.57016 &  76.110\\\\\n\t 1982 & 61.53320 &  77.110\\\\\n\t 1987 & 65.79992 & 408.220\\\\\n\t 1992 & 63.86686 &  79.360\\\\\n\t 1997 & 65.01468 &  80.690\\\\\n\t 2002 & 65.69492 &  82.000\\\\\n\t 2007 & 67.00742 &  82.603\\\\\n\\end{tabular}\n",
            "text/markdown": "\nA tibble: 12 × 3\n\n| year &lt;dbl&gt; | le_mean &lt;dbl&gt; | le_max &lt;dbl&gt; |\n|---|---|---|\n| 1952 | 49.05762 |  72.670 |\n| 1957 | 51.65758 |  73.470 |\n| 1962 | 53.45811 |  73.680 |\n| 1967 | 55.67829 |  74.160 |\n| 1972 | 57.64739 |  74.720 |\n| 1977 | 59.57016 |  76.110 |\n| 1982 | 61.53320 |  77.110 |\n| 1987 | 65.79992 | 408.220 |\n| 1992 | 63.86686 |  79.360 |\n| 1997 | 65.01468 |  80.690 |\n| 2002 | 65.69492 |  82.000 |\n| 2007 | 67.00742 |  82.603 |\n\n",
            "text/html": [
              "<table class=\"dataframe\">\n",
              "<caption>A tibble: 12 × 3</caption>\n",
              "<thead>\n",
              "\t<tr><th scope=col>year</th><th scope=col>le_mean</th><th scope=col>le_max</th></tr>\n",
              "\t<tr><th scope=col>&lt;dbl&gt;</th><th scope=col>&lt;dbl&gt;</th><th scope=col>&lt;dbl&gt;</th></tr>\n",
              "</thead>\n",
              "<tbody>\n",
              "\t<tr><td>1952</td><td>49.05762</td><td> 72.670</td></tr>\n",
              "\t<tr><td>1957</td><td>51.65758</td><td> 73.470</td></tr>\n",
              "\t<tr><td>1962</td><td>53.45811</td><td> 73.680</td></tr>\n",
              "\t<tr><td>1967</td><td>55.67829</td><td> 74.160</td></tr>\n",
              "\t<tr><td>1972</td><td>57.64739</td><td> 74.720</td></tr>\n",
              "\t<tr><td>1977</td><td>59.57016</td><td> 76.110</td></tr>\n",
              "\t<tr><td>1982</td><td>61.53320</td><td> 77.110</td></tr>\n",
              "\t<tr><td>1987</td><td>65.79992</td><td>408.220</td></tr>\n",
              "\t<tr><td>1992</td><td>63.86686</td><td> 79.360</td></tr>\n",
              "\t<tr><td>1997</td><td>65.01468</td><td> 80.690</td></tr>\n",
              "\t<tr><td>2002</td><td>65.69492</td><td> 82.000</td></tr>\n",
              "\t<tr><td>2007</td><td>67.00742</td><td> 82.603</td></tr>\n",
              "</tbody>\n",
              "</table>\n"
            ]
          },
          "metadata": {}
        },
        {
          "output_type": "display_data",
          "data": {
            "text/plain": [
              "   year le_mean  le_max \n",
              "1  1952 49.05762  72.670\n",
              "2  1957 51.65758  73.470\n",
              "3  1962 53.45811  73.680\n",
              "4  1967 55.67829  74.160\n",
              "5  1972 57.64739  74.720\n",
              "6  1977 59.57016  76.110\n",
              "7  1982 61.53320  77.110\n",
              "8  1987 65.79992 408.220\n",
              "9  1992 63.86686  79.360\n",
              "10 1997 65.01468  80.690\n",
              "11 2002 65.69492  82.000\n",
              "12 2007 67.00742  82.603"
            ],
            "text/latex": "A tibble: 12 × 3\n\\begin{tabular}{lll}\n year & le\\_mean & le\\_max\\\\\n <dbl> & <dbl> & <dbl>\\\\\n\\hline\n\t 1952 & 49.05762 &  72.670\\\\\n\t 1957 & 51.65758 &  73.470\\\\\n\t 1962 & 53.45811 &  73.680\\\\\n\t 1967 & 55.67829 &  74.160\\\\\n\t 1972 & 57.64739 &  74.720\\\\\n\t 1977 & 59.57016 &  76.110\\\\\n\t 1982 & 61.53320 &  77.110\\\\\n\t 1987 & 65.79992 & 408.220\\\\\n\t 1992 & 63.86686 &  79.360\\\\\n\t 1997 & 65.01468 &  80.690\\\\\n\t 2002 & 65.69492 &  82.000\\\\\n\t 2007 & 67.00742 &  82.603\\\\\n\\end{tabular}\n",
            "text/markdown": "\nA tibble: 12 × 3\n\n| year &lt;dbl&gt; | le_mean &lt;dbl&gt; | le_max &lt;dbl&gt; |\n|---|---|---|\n| 1952 | 49.05762 |  72.670 |\n| 1957 | 51.65758 |  73.470 |\n| 1962 | 53.45811 |  73.680 |\n| 1967 | 55.67829 |  74.160 |\n| 1972 | 57.64739 |  74.720 |\n| 1977 | 59.57016 |  76.110 |\n| 1982 | 61.53320 |  77.110 |\n| 1987 | 65.79992 | 408.220 |\n| 1992 | 63.86686 |  79.360 |\n| 1997 | 65.01468 |  80.690 |\n| 2002 | 65.69492 |  82.000 |\n| 2007 | 67.00742 |  82.603 |\n\n",
            "text/html": [
              "<table class=\"dataframe\">\n",
              "<caption>A tibble: 12 × 3</caption>\n",
              "<thead>\n",
              "\t<tr><th scope=col>year</th><th scope=col>le_mean</th><th scope=col>le_max</th></tr>\n",
              "\t<tr><th scope=col>&lt;dbl&gt;</th><th scope=col>&lt;dbl&gt;</th><th scope=col>&lt;dbl&gt;</th></tr>\n",
              "</thead>\n",
              "<tbody>\n",
              "\t<tr><td>1952</td><td>49.05762</td><td> 72.670</td></tr>\n",
              "\t<tr><td>1957</td><td>51.65758</td><td> 73.470</td></tr>\n",
              "\t<tr><td>1962</td><td>53.45811</td><td> 73.680</td></tr>\n",
              "\t<tr><td>1967</td><td>55.67829</td><td> 74.160</td></tr>\n",
              "\t<tr><td>1972</td><td>57.64739</td><td> 74.720</td></tr>\n",
              "\t<tr><td>1977</td><td>59.57016</td><td> 76.110</td></tr>\n",
              "\t<tr><td>1982</td><td>61.53320</td><td> 77.110</td></tr>\n",
              "\t<tr><td>1987</td><td>65.79992</td><td>408.220</td></tr>\n",
              "\t<tr><td>1992</td><td>63.86686</td><td> 79.360</td></tr>\n",
              "\t<tr><td>1997</td><td>65.01468</td><td> 80.690</td></tr>\n",
              "\t<tr><td>2002</td><td>65.69492</td><td> 82.000</td></tr>\n",
              "\t<tr><td>2007</td><td>67.00742</td><td> 82.603</td></tr>\n",
              "</tbody>\n",
              "</table>\n"
            ]
          },
          "metadata": {}
        }
      ]
    },
    {
      "cell_type": "markdown",
      "source": [
        "Notez bien qu'il est généralement préférable de conserver les valeurs manquantes et de les ignorer lors d'une opération donnée en toute connaissance de cause. En retirant les observations comportant des `NA` dans une colonne du jeu de données, nous pourrions perdre des informations importantes dans d'autres colonnes. Cela est toutefois variable dépendamment de la situation."
      ],
      "metadata": {
        "id": "iPYgLY_ma8Fi"
      }
    },
    {
      "cell_type": "code",
      "source": [
        "# Comment pouvons-nous détecter les NA?\n",
        "# 3 façons\n",
        "anyNA(gapminder_messy)\n",
        "anyNA(gapminder_messy$lifeExp)\n",
        "summary(gapminder_messy)"
      ],
      "metadata": {
        "colab": {
          "base_uri": "https://localhost:8080/",
          "height": 330
        },
        "id": "csAvgci5bz3G",
        "outputId": "418e3617-5c19-43cf-be4a-59424d4c2c58"
      },
      "execution_count": null,
      "outputs": [
        {
          "output_type": "display_data",
          "data": {
            "text/plain": [
              "[1] TRUE"
            ],
            "text/latex": "TRUE",
            "text/markdown": "TRUE",
            "text/html": [
              "TRUE"
            ]
          },
          "metadata": {}
        },
        {
          "output_type": "display_data",
          "data": {
            "text/plain": [
              "[1] TRUE"
            ],
            "text/latex": "TRUE",
            "text/markdown": "TRUE",
            "text/html": [
              "TRUE"
            ]
          },
          "metadata": {}
        },
        {
          "output_type": "display_data",
          "data": {
            "text/plain": [
              "   country               year           pop             continent        \n",
              " Length:1705        Min.   :1952   Min.   :6.001e+04   Length:1705       \n",
              " Class :character   1st Qu.:1962   1st Qu.:2.795e+06   Class :character  \n",
              " Mode  :character   Median :1977   Median :7.026e+06   Mode  :character  \n",
              "                    Mean   :1979   Mean   :2.959e+07                     \n",
              "                    3rd Qu.:1992   3rd Qu.:1.958e+07                     \n",
              "                    Max.   :2007   Max.   :1.319e+09                     \n",
              "                                                                         \n",
              "    lifeExp         gdpPercap       \n",
              " Min.   :  0.00   Min.   :   241.2  \n",
              " 1st Qu.: 48.24   1st Qu.:  1201.6  \n",
              " Median : 60.77   Median :  3530.7  \n",
              " Mean   : 59.67   Mean   :  7211.6  \n",
              " 3rd Qu.: 70.85   3rd Qu.:  9325.1  \n",
              " Max.   :408.22   Max.   :113523.1  \n",
              " NA's   :1                          "
            ]
          },
          "metadata": {}
        }
      ]
    },
    {
      "cell_type": "code",
      "source": [
        "# Voir seulement les rangées avec des NA pour une colonne\n",
        "gapminder_messy %>%\n",
        "  filter(is.na(lifeExp))"
      ],
      "metadata": {
        "colab": {
          "base_uri": "https://localhost:8080/",
          "height": 129
        },
        "id": "N-onO_whcEGF",
        "outputId": "9ff3452e-d746-4cdc-91ba-ec0f4c541f53"
      },
      "execution_count": null,
      "outputs": [
        {
          "output_type": "display_data",
          "data": {
            "text/plain": [
              "  country     year pop     continent lifeExp gdpPercap\n",
              "1 Afghanistan 1957 9240934 Asia      NA      820.853  "
            ],
            "text/latex": "A spec\\_tbl\\_df: 1 × 6\n\\begin{tabular}{llllll}\n country & year & pop & continent & lifeExp & gdpPercap\\\\\n <chr> & <dbl> & <dbl> & <chr> & <dbl> & <dbl>\\\\\n\\hline\n\t Afghanistan & 1957 & 9240934 & Asia & NA & 820.853\\\\\n\\end{tabular}\n",
            "text/markdown": "\nA spec_tbl_df: 1 × 6\n\n| country &lt;chr&gt; | year &lt;dbl&gt; | pop &lt;dbl&gt; | continent &lt;chr&gt; | lifeExp &lt;dbl&gt; | gdpPercap &lt;dbl&gt; |\n|---|---|---|---|---|---|\n| Afghanistan | 1957 | 9240934 | Asia | NA | 820.853 |\n\n",
            "text/html": [
              "<table class=\"dataframe\">\n",
              "<caption>A spec_tbl_df: 1 × 6</caption>\n",
              "<thead>\n",
              "\t<tr><th scope=col>country</th><th scope=col>year</th><th scope=col>pop</th><th scope=col>continent</th><th scope=col>lifeExp</th><th scope=col>gdpPercap</th></tr>\n",
              "\t<tr><th scope=col>&lt;chr&gt;</th><th scope=col>&lt;dbl&gt;</th><th scope=col>&lt;dbl&gt;</th><th scope=col>&lt;chr&gt;</th><th scope=col>&lt;dbl&gt;</th><th scope=col>&lt;dbl&gt;</th></tr>\n",
              "</thead>\n",
              "<tbody>\n",
              "\t<tr><td>Afghanistan</td><td>1957</td><td>9240934</td><td>Asia</td><td>NA</td><td>820.853</td></tr>\n",
              "</tbody>\n",
              "</table>\n"
            ]
          },
          "metadata": {}
        }
      ]
    },
    {
      "cell_type": "code",
      "source": [
        "# Voir les rangées avec des NA peu importe la colonne\n",
        "gapminder_messy %>%\n",
        "  filter(if_any(everything(), ~ is.na(.x)))"
      ],
      "metadata": {
        "colab": {
          "base_uri": "https://localhost:8080/",
          "height": 129
        },
        "id": "CA8dmi3Bcm9k",
        "outputId": "85c362ef-1f51-4171-ce4d-dd2ff5182d6c"
      },
      "execution_count": null,
      "outputs": [
        {
          "output_type": "display_data",
          "data": {
            "text/plain": [
              "  country     year pop     continent lifeExp gdpPercap\n",
              "1 Afghanistan 1957 9240934 Asia      NA      820.853  "
            ],
            "text/latex": "A spec\\_tbl\\_df: 1 × 6\n\\begin{tabular}{llllll}\n country & year & pop & continent & lifeExp & gdpPercap\\\\\n <chr> & <dbl> & <dbl> & <chr> & <dbl> & <dbl>\\\\\n\\hline\n\t Afghanistan & 1957 & 9240934 & Asia & NA & 820.853\\\\\n\\end{tabular}\n",
            "text/markdown": "\nA spec_tbl_df: 1 × 6\n\n| country &lt;chr&gt; | year &lt;dbl&gt; | pop &lt;dbl&gt; | continent &lt;chr&gt; | lifeExp &lt;dbl&gt; | gdpPercap &lt;dbl&gt; |\n|---|---|---|---|---|---|\n| Afghanistan | 1957 | 9240934 | Asia | NA | 820.853 |\n\n",
            "text/html": [
              "<table class=\"dataframe\">\n",
              "<caption>A spec_tbl_df: 1 × 6</caption>\n",
              "<thead>\n",
              "\t<tr><th scope=col>country</th><th scope=col>year</th><th scope=col>pop</th><th scope=col>continent</th><th scope=col>lifeExp</th><th scope=col>gdpPercap</th></tr>\n",
              "\t<tr><th scope=col>&lt;chr&gt;</th><th scope=col>&lt;dbl&gt;</th><th scope=col>&lt;dbl&gt;</th><th scope=col>&lt;chr&gt;</th><th scope=col>&lt;dbl&gt;</th><th scope=col>&lt;dbl&gt;</th></tr>\n",
              "</thead>\n",
              "<tbody>\n",
              "\t<tr><td>Afghanistan</td><td>1957</td><td>9240934</td><td>Asia</td><td>NA</td><td>820.853</td></tr>\n",
              "</tbody>\n",
              "</table>\n"
            ]
          },
          "metadata": {}
        }
      ]
    },
    {
      "cell_type": "markdown",
      "source": [
        "### 6. Identifier les doublons"
      ],
      "metadata": {
        "id": "bfWGPYG1dBd4"
      }
    },
    {
      "cell_type": "code",
      "source": [
        "# Y'a-t-il des doublons dans notre jeu de données?\n",
        "head(gapminder_messy)"
      ],
      "metadata": {
        "colab": {
          "base_uri": "https://localhost:8080/",
          "height": 286
        },
        "id": "AqWfmOAhdH0B",
        "outputId": "a0637176-e603-4ca1-aed9-23e1a5ed2bcc"
      },
      "execution_count": null,
      "outputs": [
        {
          "output_type": "display_data",
          "data": {
            "text/plain": [
              "  country     year pop      continent lifeExp gdpPercap\n",
              "1 Afghanistan 1952  8425333 Asia      28.801  779.4453 \n",
              "2 Afghanistan 1957  9240934 Asia          NA  820.8530 \n",
              "3 Afghanistan 1962 10267083 Asia      31.997  853.1007 \n",
              "4 Afghanistan 1962 10267083 Asia      31.997  853.1007 \n",
              "5 Afghanistan 1967 11537966 Asiaa     34.020  836.1971 \n",
              "6 Afghanistan 1972 13079460 Asia      36.088  739.9811 "
            ],
            "text/latex": "A tibble: 6 × 6\n\\begin{tabular}{llllll}\n country & year & pop & continent & lifeExp & gdpPercap\\\\\n <chr> & <dbl> & <dbl> & <chr> & <dbl> & <dbl>\\\\\n\\hline\n\t Afghanistan & 1952 &  8425333 & Asia  & 28.801 & 779.4453\\\\\n\t Afghanistan & 1957 &  9240934 & Asia  &     NA & 820.8530\\\\\n\t Afghanistan & 1962 & 10267083 & Asia  & 31.997 & 853.1007\\\\\n\t Afghanistan & 1962 & 10267083 & Asia  & 31.997 & 853.1007\\\\\n\t Afghanistan & 1967 & 11537966 & Asiaa & 34.020 & 836.1971\\\\\n\t Afghanistan & 1972 & 13079460 & Asia  & 36.088 & 739.9811\\\\\n\\end{tabular}\n",
            "text/markdown": "\nA tibble: 6 × 6\n\n| country &lt;chr&gt; | year &lt;dbl&gt; | pop &lt;dbl&gt; | continent &lt;chr&gt; | lifeExp &lt;dbl&gt; | gdpPercap &lt;dbl&gt; |\n|---|---|---|---|---|---|\n| Afghanistan | 1952 |  8425333 | Asia  | 28.801 | 779.4453 |\n| Afghanistan | 1957 |  9240934 | Asia  |     NA | 820.8530 |\n| Afghanistan | 1962 | 10267083 | Asia  | 31.997 | 853.1007 |\n| Afghanistan | 1962 | 10267083 | Asia  | 31.997 | 853.1007 |\n| Afghanistan | 1967 | 11537966 | Asiaa | 34.020 | 836.1971 |\n| Afghanistan | 1972 | 13079460 | Asia  | 36.088 | 739.9811 |\n\n",
            "text/html": [
              "<table class=\"dataframe\">\n",
              "<caption>A tibble: 6 × 6</caption>\n",
              "<thead>\n",
              "\t<tr><th scope=col>country</th><th scope=col>year</th><th scope=col>pop</th><th scope=col>continent</th><th scope=col>lifeExp</th><th scope=col>gdpPercap</th></tr>\n",
              "\t<tr><th scope=col>&lt;chr&gt;</th><th scope=col>&lt;dbl&gt;</th><th scope=col>&lt;dbl&gt;</th><th scope=col>&lt;chr&gt;</th><th scope=col>&lt;dbl&gt;</th><th scope=col>&lt;dbl&gt;</th></tr>\n",
              "</thead>\n",
              "<tbody>\n",
              "\t<tr><td>Afghanistan</td><td>1952</td><td> 8425333</td><td>Asia </td><td>28.801</td><td>779.4453</td></tr>\n",
              "\t<tr><td>Afghanistan</td><td>1957</td><td> 9240934</td><td>Asia </td><td>    NA</td><td>820.8530</td></tr>\n",
              "\t<tr><td>Afghanistan</td><td>1962</td><td>10267083</td><td>Asia </td><td>31.997</td><td>853.1007</td></tr>\n",
              "\t<tr><td>Afghanistan</td><td>1962</td><td>10267083</td><td>Asia </td><td>31.997</td><td>853.1007</td></tr>\n",
              "\t<tr><td>Afghanistan</td><td>1967</td><td>11537966</td><td>Asiaa</td><td>34.020</td><td>836.1971</td></tr>\n",
              "\t<tr><td>Afghanistan</td><td>1972</td><td>13079460</td><td>Asia </td><td>36.088</td><td>739.9811</td></tr>\n",
              "</tbody>\n",
              "</table>\n"
            ]
          },
          "metadata": {}
        }
      ]
    },
    {
      "cell_type": "code",
      "source": [
        "# Comment pouvons-nous trouver les doublons?\n",
        "# À noter que cette fonction ne retourne que la 2e rangée du doublon\n",
        "gapminder_messy[duplicated(gapminder_messy), ]"
      ],
      "metadata": {
        "colab": {
          "base_uri": "https://localhost:8080/",
          "height": 129
        },
        "id": "AsU3NsaTdf1y",
        "outputId": "b593af12-03ee-4501-cb11-435591a491f6"
      },
      "execution_count": null,
      "outputs": [
        {
          "output_type": "display_data",
          "data": {
            "text/plain": [
              "  country     year pop      continent lifeExp gdpPercap\n",
              "1 Afghanistan 1962 10267083 Asia      31.997  853.1007 "
            ],
            "text/latex": "A tibble: 1 × 6\n\\begin{tabular}{llllll}\n country & year & pop & continent & lifeExp & gdpPercap\\\\\n <chr> & <dbl> & <dbl> & <chr> & <dbl> & <dbl>\\\\\n\\hline\n\t Afghanistan & 1962 & 10267083 & Asia & 31.997 & 853.1007\\\\\n\\end{tabular}\n",
            "text/markdown": "\nA tibble: 1 × 6\n\n| country &lt;chr&gt; | year &lt;dbl&gt; | pop &lt;dbl&gt; | continent &lt;chr&gt; | lifeExp &lt;dbl&gt; | gdpPercap &lt;dbl&gt; |\n|---|---|---|---|---|---|\n| Afghanistan | 1962 | 10267083 | Asia | 31.997 | 853.1007 |\n\n",
            "text/html": [
              "<table class=\"dataframe\">\n",
              "<caption>A tibble: 1 × 6</caption>\n",
              "<thead>\n",
              "\t<tr><th scope=col>country</th><th scope=col>year</th><th scope=col>pop</th><th scope=col>continent</th><th scope=col>lifeExp</th><th scope=col>gdpPercap</th></tr>\n",
              "\t<tr><th scope=col>&lt;chr&gt;</th><th scope=col>&lt;dbl&gt;</th><th scope=col>&lt;dbl&gt;</th><th scope=col>&lt;chr&gt;</th><th scope=col>&lt;dbl&gt;</th><th scope=col>&lt;dbl&gt;</th></tr>\n",
              "</thead>\n",
              "<tbody>\n",
              "\t<tr><td>Afghanistan</td><td>1962</td><td>10267083</td><td>Asia</td><td>31.997</td><td>853.1007</td></tr>\n",
              "</tbody>\n",
              "</table>\n"
            ]
          },
          "metadata": {}
        }
      ]
    },
    {
      "cell_type": "code",
      "source": [
        "# Retirer les doublons\n",
        "gapminder_messy <- gapminder_messy %>%\n",
        "  distinct()\n",
        "\n",
        "# La 2e rangée du doublon a été retirée\n",
        "head(gapminder_messy)"
      ],
      "metadata": {
        "colab": {
          "base_uri": "https://localhost:8080/",
          "height": 286
        },
        "id": "EMFFY15ed-z3",
        "outputId": "86f5666a-cc84-4986-e760-197cad8f0803"
      },
      "execution_count": null,
      "outputs": [
        {
          "output_type": "display_data",
          "data": {
            "text/plain": [
              "  country     year pop      continent lifeExp gdpPercap\n",
              "1 Afghanistan 1952  8425333 Asia      28.801  779.4453 \n",
              "2 Afghanistan 1957  9240934 Asia          NA  820.8530 \n",
              "3 Afghanistan 1962 10267083 Asia      31.997  853.1007 \n",
              "4 Afghanistan 1967 11537966 Asiaa     34.020  836.1971 \n",
              "5 Afghanistan 1972 13079460 Asia      36.088  739.9811 \n",
              "6 Afghanistan 1977 14880372 Asia      38.438  786.1134 "
            ],
            "text/latex": "A tibble: 6 × 6\n\\begin{tabular}{llllll}\n country & year & pop & continent & lifeExp & gdpPercap\\\\\n <chr> & <dbl> & <dbl> & <chr> & <dbl> & <dbl>\\\\\n\\hline\n\t Afghanistan & 1952 &  8425333 & Asia  & 28.801 & 779.4453\\\\\n\t Afghanistan & 1957 &  9240934 & Asia  &     NA & 820.8530\\\\\n\t Afghanistan & 1962 & 10267083 & Asia  & 31.997 & 853.1007\\\\\n\t Afghanistan & 1967 & 11537966 & Asiaa & 34.020 & 836.1971\\\\\n\t Afghanistan & 1972 & 13079460 & Asia  & 36.088 & 739.9811\\\\\n\t Afghanistan & 1977 & 14880372 & Asia  & 38.438 & 786.1134\\\\\n\\end{tabular}\n",
            "text/markdown": "\nA tibble: 6 × 6\n\n| country &lt;chr&gt; | year &lt;dbl&gt; | pop &lt;dbl&gt; | continent &lt;chr&gt; | lifeExp &lt;dbl&gt; | gdpPercap &lt;dbl&gt; |\n|---|---|---|---|---|---|\n| Afghanistan | 1952 |  8425333 | Asia  | 28.801 | 779.4453 |\n| Afghanistan | 1957 |  9240934 | Asia  |     NA | 820.8530 |\n| Afghanistan | 1962 | 10267083 | Asia  | 31.997 | 853.1007 |\n| Afghanistan | 1967 | 11537966 | Asiaa | 34.020 | 836.1971 |\n| Afghanistan | 1972 | 13079460 | Asia  | 36.088 | 739.9811 |\n| Afghanistan | 1977 | 14880372 | Asia  | 38.438 | 786.1134 |\n\n",
            "text/html": [
              "<table class=\"dataframe\">\n",
              "<caption>A tibble: 6 × 6</caption>\n",
              "<thead>\n",
              "\t<tr><th scope=col>country</th><th scope=col>year</th><th scope=col>pop</th><th scope=col>continent</th><th scope=col>lifeExp</th><th scope=col>gdpPercap</th></tr>\n",
              "\t<tr><th scope=col>&lt;chr&gt;</th><th scope=col>&lt;dbl&gt;</th><th scope=col>&lt;dbl&gt;</th><th scope=col>&lt;chr&gt;</th><th scope=col>&lt;dbl&gt;</th><th scope=col>&lt;dbl&gt;</th></tr>\n",
              "</thead>\n",
              "<tbody>\n",
              "\t<tr><td>Afghanistan</td><td>1952</td><td> 8425333</td><td>Asia </td><td>28.801</td><td>779.4453</td></tr>\n",
              "\t<tr><td>Afghanistan</td><td>1957</td><td> 9240934</td><td>Asia </td><td>    NA</td><td>820.8530</td></tr>\n",
              "\t<tr><td>Afghanistan</td><td>1962</td><td>10267083</td><td>Asia </td><td>31.997</td><td>853.1007</td></tr>\n",
              "\t<tr><td>Afghanistan</td><td>1967</td><td>11537966</td><td>Asiaa</td><td>34.020</td><td>836.1971</td></tr>\n",
              "\t<tr><td>Afghanistan</td><td>1972</td><td>13079460</td><td>Asia </td><td>36.088</td><td>739.9811</td></tr>\n",
              "\t<tr><td>Afghanistan</td><td>1977</td><td>14880372</td><td>Asia </td><td>38.438</td><td>786.1134</td></tr>\n",
              "</tbody>\n",
              "</table>\n"
            ]
          },
          "metadata": {}
        }
      ]
    },
    {
      "cell_type": "code",
      "source": [
        "# Il est également possible de trouver les combinaisons distinctes de 2 variables\n",
        "# Ce qui nous permet de voir certaines erreurs facilement...\n",
        "gapminder_messy %>%\n",
        "  distinct(continent, country) %>%\n",
        "  head()"
      ],
      "metadata": {
        "colab": {
          "base_uri": "https://localhost:8080/",
          "height": 286
        },
        "id": "8oeEDZx7eQ_b",
        "outputId": "c7455fa2-6fb5-4af2-be0b-7e885805f27c"
      },
      "execution_count": null,
      "outputs": [
        {
          "output_type": "display_data",
          "data": {
            "text/plain": [
              "  country     continent\n",
              "1 Afghanistan Asia     \n",
              "2 Afghanistan Asiaa    \n",
              "3 Afganistan  Asia     \n",
              "4 Afghanistan Americas \n",
              "5 Albania     Europe   \n",
              "6 Algeria     Africa   "
            ],
            "text/latex": "A tibble: 6 × 2\n\\begin{tabular}{ll}\n country & continent\\\\\n <chr> & <chr>\\\\\n\\hline\n\t Afghanistan & Asia    \\\\\n\t Afghanistan & Asiaa   \\\\\n\t Afganistan  & Asia    \\\\\n\t Afghanistan & Americas\\\\\n\t Albania     & Europe  \\\\\n\t Algeria     & Africa  \\\\\n\\end{tabular}\n",
            "text/markdown": "\nA tibble: 6 × 2\n\n| country &lt;chr&gt; | continent &lt;chr&gt; |\n|---|---|\n| Afghanistan | Asia     |\n| Afghanistan | Asiaa    |\n| Afganistan  | Asia     |\n| Afghanistan | Americas |\n| Albania     | Europe   |\n| Algeria     | Africa   |\n\n",
            "text/html": [
              "<table class=\"dataframe\">\n",
              "<caption>A tibble: 6 × 2</caption>\n",
              "<thead>\n",
              "\t<tr><th scope=col>country</th><th scope=col>continent</th></tr>\n",
              "\t<tr><th scope=col>&lt;chr&gt;</th><th scope=col>&lt;chr&gt;</th></tr>\n",
              "</thead>\n",
              "<tbody>\n",
              "\t<tr><td>Afghanistan</td><td>Asia    </td></tr>\n",
              "\t<tr><td>Afghanistan</td><td>Asiaa   </td></tr>\n",
              "\t<tr><td>Afganistan </td><td>Asia    </td></tr>\n",
              "\t<tr><td>Afghanistan</td><td>Americas</td></tr>\n",
              "\t<tr><td>Albania    </td><td>Europe  </td></tr>\n",
              "\t<tr><td>Algeria    </td><td>Africa  </td></tr>\n",
              "</tbody>\n",
              "</table>\n"
            ]
          },
          "metadata": {}
        }
      ]
    },
    {
      "cell_type": "markdown",
      "source": [
        "### 7. Trouver et corriger les erreurs de frappe"
      ],
      "metadata": {
        "id": "bdm0cJBWevGg"
      }
    },
    {
      "cell_type": "code",
      "source": [
        "# Il est parfois assez facile de trouver des erreurs de frappe avec `distinct`, \n",
        "# en particulier pour les variables qui comportent peu de catégories\n",
        "gapminder_messy %>%\n",
        "  distinct(continent)"
      ],
      "metadata": {
        "colab": {
          "base_uri": "https://localhost:8080/",
          "height": 286
        },
        "id": "GA5UamfQe20X",
        "outputId": "a454b152-c9fc-462c-e9db-af07bd1b7140"
      },
      "execution_count": null,
      "outputs": [
        {
          "output_type": "display_data",
          "data": {
            "text/plain": [
              "  continent\n",
              "1 Asia     \n",
              "2 Asiaa    \n",
              "3 Americas \n",
              "4 Europe   \n",
              "5 Africa   \n",
              "6 Oceania  "
            ],
            "text/latex": "A tibble: 6 × 1\n\\begin{tabular}{l}\n continent\\\\\n <chr>\\\\\n\\hline\n\t Asia    \\\\\n\t Asiaa   \\\\\n\t Americas\\\\\n\t Europe  \\\\\n\t Africa  \\\\\n\t Oceania \\\\\n\\end{tabular}\n",
            "text/markdown": "\nA tibble: 6 × 1\n\n| continent &lt;chr&gt; |\n|---|\n| Asia     |\n| Asiaa    |\n| Americas |\n| Europe   |\n| Africa   |\n| Oceania  |\n\n",
            "text/html": [
              "<table class=\"dataframe\">\n",
              "<caption>A tibble: 6 × 1</caption>\n",
              "<thead>\n",
              "\t<tr><th scope=col>continent</th></tr>\n",
              "\t<tr><th scope=col>&lt;chr&gt;</th></tr>\n",
              "</thead>\n",
              "<tbody>\n",
              "\t<tr><td>Asia    </td></tr>\n",
              "\t<tr><td>Asiaa   </td></tr>\n",
              "\t<tr><td>Americas</td></tr>\n",
              "\t<tr><td>Europe  </td></tr>\n",
              "\t<tr><td>Africa  </td></tr>\n",
              "\t<tr><td>Oceania </td></tr>\n",
              "</tbody>\n",
              "</table>\n"
            ]
          },
          "metadata": {}
        }
      ]
    },
    {
      "cell_type": "code",
      "source": [
        "# Par contre, d'autres variables peuvent contenir trop de catégories pour être\n",
        "# vérifiées rapidement\n",
        "gapminder_messy %>%\n",
        "  distinct(country) %>%\n",
        "  nrow()"
      ],
      "metadata": {
        "colab": {
          "base_uri": "https://localhost:8080/",
          "height": 34
        },
        "id": "sumC69lRfFXY",
        "outputId": "d70d969e-55cc-45c0-82e6-2e74a54347d2"
      },
      "execution_count": null,
      "outputs": [
        {
          "output_type": "display_data",
          "data": {
            "text/plain": [
              "[1] 144"
            ],
            "text/latex": "144",
            "text/markdown": "144",
            "text/html": [
              "144"
            ]
          },
          "metadata": {}
        }
      ]
    },
    {
      "cell_type": "code",
      "source": [
        "# Une techique efficace pour trouver les doublons (dans ce cas-ci) est de compter\n",
        "# le nombre de fois où chaque valeur a été observée\n",
        "\n",
        "# Dans le cas du jeu de données `gapminder`, le nombre d'observations par pays\n",
        "# devrait être identique. De plus, un pays ne devrait se trouver que sur un seul \n",
        "# continent\n",
        "\n",
        "# `count` et `arrange` sont donc très utiles dans ce cas\n",
        "gapminder_messy %>%\n",
        "  count(country, continent) %>%\n",
        "  arrange(n) %>% \n",
        "  head(10)\n",
        "\n",
        "# Dans notre cas, il y a 4 valeurs qui ne reviennent qu'une fois et qui sont \n",
        "# probablement des fautes de frappe"
      ],
      "metadata": {
        "colab": {
          "base_uri": "https://localhost:8080/",
          "height": 412
        },
        "id": "LRowNHJFfqUD",
        "outputId": "d65a75a8-4ca7-4f1e-ca26-7532dc1817ef"
      },
      "execution_count": null,
      "outputs": [
        {
          "output_type": "display_data",
          "data": {
            "text/plain": [
              "   country     continent n \n",
              "1  Afganistan  Asia       1\n",
              "2  Afghanistan Americas   1\n",
              "3  Afghanistan Asiaa      1\n",
              "4  zimbabwe    Africa     1\n",
              "5  Afghanistan Asia       9\n",
              "6  Zimbabwe    Africa    11\n",
              "7  Albania     Europe    12\n",
              "8  Algeria     Africa    12\n",
              "9  Angola      Africa    12\n",
              "10 Argentina   Americas  12"
            ],
            "text/latex": "A tibble: 10 × 3\n\\begin{tabular}{lll}\n country & continent & n\\\\\n <chr> & <chr> & <int>\\\\\n\\hline\n\t Afganistan  & Asia     &  1\\\\\n\t Afghanistan & Americas &  1\\\\\n\t Afghanistan & Asiaa    &  1\\\\\n\t zimbabwe    & Africa   &  1\\\\\n\t Afghanistan & Asia     &  9\\\\\n\t Zimbabwe    & Africa   & 11\\\\\n\t Albania     & Europe   & 12\\\\\n\t Algeria     & Africa   & 12\\\\\n\t Angola      & Africa   & 12\\\\\n\t Argentina   & Americas & 12\\\\\n\\end{tabular}\n",
            "text/markdown": "\nA tibble: 10 × 3\n\n| country &lt;chr&gt; | continent &lt;chr&gt; | n &lt;int&gt; |\n|---|---|---|\n| Afganistan  | Asia     |  1 |\n| Afghanistan | Americas |  1 |\n| Afghanistan | Asiaa    |  1 |\n| zimbabwe    | Africa   |  1 |\n| Afghanistan | Asia     |  9 |\n| Zimbabwe    | Africa   | 11 |\n| Albania     | Europe   | 12 |\n| Algeria     | Africa   | 12 |\n| Angola      | Africa   | 12 |\n| Argentina   | Americas | 12 |\n\n",
            "text/html": [
              "<table class=\"dataframe\">\n",
              "<caption>A tibble: 10 × 3</caption>\n",
              "<thead>\n",
              "\t<tr><th scope=col>country</th><th scope=col>continent</th><th scope=col>n</th></tr>\n",
              "\t<tr><th scope=col>&lt;chr&gt;</th><th scope=col>&lt;chr&gt;</th><th scope=col>&lt;int&gt;</th></tr>\n",
              "</thead>\n",
              "<tbody>\n",
              "\t<tr><td>Afganistan </td><td>Asia    </td><td> 1</td></tr>\n",
              "\t<tr><td>Afghanistan</td><td>Americas</td><td> 1</td></tr>\n",
              "\t<tr><td>Afghanistan</td><td>Asiaa   </td><td> 1</td></tr>\n",
              "\t<tr><td>zimbabwe   </td><td>Africa  </td><td> 1</td></tr>\n",
              "\t<tr><td>Afghanistan</td><td>Asia    </td><td> 9</td></tr>\n",
              "\t<tr><td>Zimbabwe   </td><td>Africa  </td><td>11</td></tr>\n",
              "\t<tr><td>Albania    </td><td>Europe  </td><td>12</td></tr>\n",
              "\t<tr><td>Algeria    </td><td>Africa  </td><td>12</td></tr>\n",
              "\t<tr><td>Angola     </td><td>Africa  </td><td>12</td></tr>\n",
              "\t<tr><td>Argentina  </td><td>Americas</td><td>12</td></tr>\n",
              "</tbody>\n",
              "</table>\n"
            ]
          },
          "metadata": {}
        }
      ]
    },
    {
      "cell_type": "code",
      "source": [
        "# Différentes fonctions peuvent être utilisées pour remplacer les valeurs et \n",
        "# corriger les erreurs selon la situation\n",
        "gapminder_messy <- gapminder_messy %>%\n",
        "  mutate(continent = str_replace(continent, \"Asiaa\", \"Asia\"),\n",
        "         country = str_replace_all(country, c(\"Afganistan\" = \"Afghanistan\", \n",
        "                                              \"zimbabwe\" = \"Zimbabwe\")),\n",
        "         continent = replace(continent, country == \"Afghanistan\" & continent == \"Americas\", \"Asia\"))\n",
        "\n",
        "# Les erreurs ont maintenant été corrigées\n",
        "head(gapminder_messy)\n",
        "\n",
        "# Vérifions les combinaisons à nouveau\n",
        "gapminder_messy %>%\n",
        "  count(country, continent) %>%\n",
        "  arrange(n) %>% \n",
        "  head()"
      ],
      "metadata": {
        "colab": {
          "base_uri": "https://localhost:8080/",
          "height": 556
        },
        "id": "4-bVkhnAhKpd",
        "outputId": "9006713c-2b78-4a66-f117-de1595ac52e6"
      },
      "execution_count": null,
      "outputs": [
        {
          "output_type": "display_data",
          "data": {
            "text/plain": [
              "  country     year pop      continent lifeExp gdpPercap\n",
              "1 Afghanistan 1952  8425333 Asia      28.801  779.4453 \n",
              "2 Afghanistan 1957  9240934 Asia          NA  820.8530 \n",
              "3 Afghanistan 1962 10267083 Asia      31.997  853.1007 \n",
              "4 Afghanistan 1967 11537966 Asia      34.020  836.1971 \n",
              "5 Afghanistan 1972 13079460 Asia      36.088  739.9811 \n",
              "6 Afghanistan 1977 14880372 Asia      38.438  786.1134 "
            ],
            "text/latex": "A tibble: 6 × 6\n\\begin{tabular}{llllll}\n country & year & pop & continent & lifeExp & gdpPercap\\\\\n <chr> & <dbl> & <dbl> & <chr> & <dbl> & <dbl>\\\\\n\\hline\n\t Afghanistan & 1952 &  8425333 & Asia & 28.801 & 779.4453\\\\\n\t Afghanistan & 1957 &  9240934 & Asia &     NA & 820.8530\\\\\n\t Afghanistan & 1962 & 10267083 & Asia & 31.997 & 853.1007\\\\\n\t Afghanistan & 1967 & 11537966 & Asia & 34.020 & 836.1971\\\\\n\t Afghanistan & 1972 & 13079460 & Asia & 36.088 & 739.9811\\\\\n\t Afghanistan & 1977 & 14880372 & Asia & 38.438 & 786.1134\\\\\n\\end{tabular}\n",
            "text/markdown": "\nA tibble: 6 × 6\n\n| country &lt;chr&gt; | year &lt;dbl&gt; | pop &lt;dbl&gt; | continent &lt;chr&gt; | lifeExp &lt;dbl&gt; | gdpPercap &lt;dbl&gt; |\n|---|---|---|---|---|---|\n| Afghanistan | 1952 |  8425333 | Asia | 28.801 | 779.4453 |\n| Afghanistan | 1957 |  9240934 | Asia |     NA | 820.8530 |\n| Afghanistan | 1962 | 10267083 | Asia | 31.997 | 853.1007 |\n| Afghanistan | 1967 | 11537966 | Asia | 34.020 | 836.1971 |\n| Afghanistan | 1972 | 13079460 | Asia | 36.088 | 739.9811 |\n| Afghanistan | 1977 | 14880372 | Asia | 38.438 | 786.1134 |\n\n",
            "text/html": [
              "<table class=\"dataframe\">\n",
              "<caption>A tibble: 6 × 6</caption>\n",
              "<thead>\n",
              "\t<tr><th scope=col>country</th><th scope=col>year</th><th scope=col>pop</th><th scope=col>continent</th><th scope=col>lifeExp</th><th scope=col>gdpPercap</th></tr>\n",
              "\t<tr><th scope=col>&lt;chr&gt;</th><th scope=col>&lt;dbl&gt;</th><th scope=col>&lt;dbl&gt;</th><th scope=col>&lt;chr&gt;</th><th scope=col>&lt;dbl&gt;</th><th scope=col>&lt;dbl&gt;</th></tr>\n",
              "</thead>\n",
              "<tbody>\n",
              "\t<tr><td>Afghanistan</td><td>1952</td><td> 8425333</td><td>Asia</td><td>28.801</td><td>779.4453</td></tr>\n",
              "\t<tr><td>Afghanistan</td><td>1957</td><td> 9240934</td><td>Asia</td><td>    NA</td><td>820.8530</td></tr>\n",
              "\t<tr><td>Afghanistan</td><td>1962</td><td>10267083</td><td>Asia</td><td>31.997</td><td>853.1007</td></tr>\n",
              "\t<tr><td>Afghanistan</td><td>1967</td><td>11537966</td><td>Asia</td><td>34.020</td><td>836.1971</td></tr>\n",
              "\t<tr><td>Afghanistan</td><td>1972</td><td>13079460</td><td>Asia</td><td>36.088</td><td>739.9811</td></tr>\n",
              "\t<tr><td>Afghanistan</td><td>1977</td><td>14880372</td><td>Asia</td><td>38.438</td><td>786.1134</td></tr>\n",
              "</tbody>\n",
              "</table>\n"
            ]
          },
          "metadata": {}
        },
        {
          "output_type": "display_data",
          "data": {
            "text/plain": [
              "  country     continent n \n",
              "1 Afghanistan Asia      12\n",
              "2 Albania     Europe    12\n",
              "3 Algeria     Africa    12\n",
              "4 Angola      Africa    12\n",
              "5 Argentina   Americas  12\n",
              "6 Australia   Oceania   12"
            ],
            "text/latex": "A tibble: 6 × 3\n\\begin{tabular}{lll}\n country & continent & n\\\\\n <chr> & <chr> & <int>\\\\\n\\hline\n\t Afghanistan & Asia     & 12\\\\\n\t Albania     & Europe   & 12\\\\\n\t Algeria     & Africa   & 12\\\\\n\t Angola      & Africa   & 12\\\\\n\t Argentina   & Americas & 12\\\\\n\t Australia   & Oceania  & 12\\\\\n\\end{tabular}\n",
            "text/markdown": "\nA tibble: 6 × 3\n\n| country &lt;chr&gt; | continent &lt;chr&gt; | n &lt;int&gt; |\n|---|---|---|\n| Afghanistan | Asia     | 12 |\n| Albania     | Europe   | 12 |\n| Algeria     | Africa   | 12 |\n| Angola      | Africa   | 12 |\n| Argentina   | Americas | 12 |\n| Australia   | Oceania  | 12 |\n\n",
            "text/html": [
              "<table class=\"dataframe\">\n",
              "<caption>A tibble: 6 × 3</caption>\n",
              "<thead>\n",
              "\t<tr><th scope=col>country</th><th scope=col>continent</th><th scope=col>n</th></tr>\n",
              "\t<tr><th scope=col>&lt;chr&gt;</th><th scope=col>&lt;chr&gt;</th><th scope=col>&lt;int&gt;</th></tr>\n",
              "</thead>\n",
              "<tbody>\n",
              "\t<tr><td>Afghanistan</td><td>Asia    </td><td>12</td></tr>\n",
              "\t<tr><td>Albania    </td><td>Europe  </td><td>12</td></tr>\n",
              "\t<tr><td>Algeria    </td><td>Africa  </td><td>12</td></tr>\n",
              "\t<tr><td>Angola     </td><td>Africa  </td><td>12</td></tr>\n",
              "\t<tr><td>Argentina  </td><td>Americas</td><td>12</td></tr>\n",
              "\t<tr><td>Australia  </td><td>Oceania </td><td>12</td></tr>\n",
              "</tbody>\n",
              "</table>\n"
            ]
          },
          "metadata": {}
        }
      ]
    },
    {
      "cell_type": "markdown",
      "source": [
        "### 8. Trouver et identifier des valeurs aberrantes"
      ],
      "metadata": {
        "id": "m4fKP61ojabT"
      }
    },
    {
      "cell_type": "markdown",
      "source": [
        "Pour trouver des valeurs aberrantes, il faut généralement plonger dans nos données et les explorer de plusieurs façons. Il est nécessaire de réfléchir aux valeurs qui semblent raisonnables pour nos variables et de penser à la manière dont certaines erreurs ont pu être commises."
      ],
      "metadata": {
        "id": "pMfCeiZuj5D4"
      }
    },
    {
      "cell_type": "code",
      "source": [
        "# Il est parfois facile d'identifier des valeurs aberrantes en regardant les \n",
        "# valeurs limites avec `summary`\n",
        "summary(gapminder_messy)"
      ],
      "metadata": {
        "colab": {
          "base_uri": "https://localhost:8080/",
          "height": 295
        },
        "id": "VeZbv3IfjpHu",
        "outputId": "f8d3c530-051c-4e65-8721-8e9531db2057"
      },
      "execution_count": null,
      "outputs": [
        {
          "output_type": "display_data",
          "data": {
            "text/plain": [
              "   country               year           pop             continent        \n",
              " Length:1704        Min.   :1952   Min.   :6.001e+04   Length:1704       \n",
              " Class :character   1st Qu.:1966   1st Qu.:2.794e+06   Class :character  \n",
              " Mode  :character   Median :1980   Median :7.024e+06   Mode  :character  \n",
              "                    Mean   :1980   Mean   :2.960e+07                     \n",
              "                    3rd Qu.:1993   3rd Qu.:1.959e+07                     \n",
              "                    Max.   :2007   Max.   :1.319e+09                     \n",
              "                                                                         \n",
              "    lifeExp         gdpPercap       \n",
              " Min.   :  0.00   Min.   :   241.2  \n",
              " 1st Qu.: 48.25   1st Qu.:  1202.1  \n",
              " Median : 60.77   Median :  3531.8  \n",
              " Mean   : 59.68   Mean   :  7215.3  \n",
              " 3rd Qu.: 70.85   3rd Qu.:  9325.5  \n",
              " Max.   :408.22   Max.   :113523.1  \n",
              " NA's   :1                          "
            ]
          },
          "metadata": {}
        }
      ]
    },
    {
      "cell_type": "code",
      "source": [
        "# Une autre technique est d'dentifier les valeurs aberrantes visuellement\n",
        "gapminder_messy %>%\n",
        "  ggplot(aes(x = continent, y = lifeExp)) +\n",
        "  geom_boxplot()"
      ],
      "metadata": {
        "colab": {
          "base_uri": "https://localhost:8080/",
          "height": 472
        },
        "id": "h6JQuJzRko2n",
        "outputId": "c69920fd-7719-4351-a623-6f744250254c"
      },
      "execution_count": null,
      "outputs": [
        {
          "output_type": "stream",
          "name": "stderr",
          "text": [
            "Warning message:\n",
            "“Removed 1 rows containing non-finite values (stat_boxplot).”\n"
          ]
        },
        {
          "output_type": "display_data",
          "data": {
            "image/png": "[encoded data removed]",
            "text/plain": [
              "plot without title"
            ]
          },
          "metadata": {
            "image/png": {
              "width": 420,
              "height": 420
            }
          }
        }
      ]
    },
    {
      "cell_type": "code",
      "source": [
        "# Identifer les rangées\n",
        "gapminder_messy %>%\n",
        "  filter(lifeExp < 20 | lifeExp > 90)"
      ],
      "metadata": {
        "colab": {
          "base_uri": "https://localhost:8080/",
          "height": 161
        },
        "id": "yYb_vnVLk53s",
        "outputId": "43d6a355-522a-4b6e-f5f8-755caba19081"
      },
      "execution_count": null,
      "outputs": [
        {
          "output_type": "display_data",
          "data": {
            "text/plain": [
              "  country     year pop      continent lifeExp gdpPercap\n",
              "1 Afghanistan 1987 13867957 Asia      408.22  852.3959 \n",
              "2 Afghanistan 1992 16317921 Asia        0.00  649.3414 "
            ],
            "text/latex": "A tibble: 2 × 6\n\\begin{tabular}{llllll}\n country & year & pop & continent & lifeExp & gdpPercap\\\\\n <chr> & <dbl> & <dbl> & <chr> & <dbl> & <dbl>\\\\\n\\hline\n\t Afghanistan & 1987 & 13867957 & Asia & 408.22 & 852.3959\\\\\n\t Afghanistan & 1992 & 16317921 & Asia &   0.00 & 649.3414\\\\\n\\end{tabular}\n",
            "text/markdown": "\nA tibble: 2 × 6\n\n| country &lt;chr&gt; | year &lt;dbl&gt; | pop &lt;dbl&gt; | continent &lt;chr&gt; | lifeExp &lt;dbl&gt; | gdpPercap &lt;dbl&gt; |\n|---|---|---|---|---|---|\n| Afghanistan | 1987 | 13867957 | Asia | 408.22 | 852.3959 |\n| Afghanistan | 1992 | 16317921 | Asia |   0.00 | 649.3414 |\n\n",
            "text/html": [
              "<table class=\"dataframe\">\n",
              "<caption>A tibble: 2 × 6</caption>\n",
              "<thead>\n",
              "\t<tr><th scope=col>country</th><th scope=col>year</th><th scope=col>pop</th><th scope=col>continent</th><th scope=col>lifeExp</th><th scope=col>gdpPercap</th></tr>\n",
              "\t<tr><th scope=col>&lt;chr&gt;</th><th scope=col>&lt;dbl&gt;</th><th scope=col>&lt;dbl&gt;</th><th scope=col>&lt;chr&gt;</th><th scope=col>&lt;dbl&gt;</th><th scope=col>&lt;dbl&gt;</th></tr>\n",
              "</thead>\n",
              "<tbody>\n",
              "\t<tr><td>Afghanistan</td><td>1987</td><td>13867957</td><td>Asia</td><td>408.22</td><td>852.3959</td></tr>\n",
              "\t<tr><td>Afghanistan</td><td>1992</td><td>16317921</td><td>Asia</td><td>  0.00</td><td>649.3414</td></tr>\n",
              "</tbody>\n",
              "</table>\n"
            ]
          },
          "metadata": {}
        }
      ]
    },
    {
      "cell_type": "code",
      "source": [
        "# Extraire les valeurs exactes\n",
        "valeurs_aberrantes <- gapminder_messy %>%\n",
        "  filter(lifeExp < 20 | lifeExp > 90) %>%\n",
        "  pull(lifeExp)\n",
        "valeurs_aberrantes\n",
        "\n",
        "# Corriger les valeurs\n",
        "gapminder_messy <- gapminder_messy %>%\n",
        "  mutate(lifeExp = replace(lifeExp, lifeExp == 0, NA),\n",
        "         lifeExp = replace(lifeExp, lifeExp == valeurs_aberrantes[1], valeurs_aberrantes[1]/10))\n",
        "\n",
        "# Les erreurs ont été corrigées\n",
        "head(gapminder_messy, 10)"
      ],
      "metadata": {
        "colab": {
          "base_uri": "https://localhost:8080/",
          "height": 412
        },
        "id": "vip7fA36lC_J",
        "outputId": "17595c9c-1b23-45b9-a1e4-70d6c8f7e1c7"
      },
      "execution_count": null,
      "outputs": [
        {
          "output_type": "display_data",
          "data": {
            "text/plain": [
              "numeric(0)"
            ],
            "text/latex": "",
            "text/markdown": "",
            "text/html": [
              ""
            ]
          },
          "metadata": {}
        },
        {
          "output_type": "display_data",
          "data": {
            "text/plain": [
              "   country     year pop      continent lifeExp gdpPercap\n",
              "1  Afghanistan 1952  8425333 Asia      28.801  779.4453 \n",
              "2  Afghanistan 1957  9240934 Asia          NA  820.8530 \n",
              "3  Afghanistan 1962 10267083 Asia      31.997  853.1007 \n",
              "4  Afghanistan 1967 11537966 Asia      34.020  836.1971 \n",
              "5  Afghanistan 1972 13079460 Asia      36.088  739.9811 \n",
              "6  Afghanistan 1977 14880372 Asia      38.438  786.1134 \n",
              "7  Afghanistan 1982 12881816 Asia      39.854  978.0114 \n",
              "8  Afghanistan 1987 13867957 Asia      40.822  852.3959 \n",
              "9  Afghanistan 1992 16317921 Asia          NA  649.3414 \n",
              "10 Afghanistan 1997 22227415 Asia      41.763  635.3414 "
            ],
            "text/latex": "A tibble: 10 × 6\n\\begin{tabular}{llllll}\n country & year & pop & continent & lifeExp & gdpPercap\\\\\n <chr> & <dbl> & <dbl> & <chr> & <dbl> & <dbl>\\\\\n\\hline\n\t Afghanistan & 1952 &  8425333 & Asia & 28.801 & 779.4453\\\\\n\t Afghanistan & 1957 &  9240934 & Asia &     NA & 820.8530\\\\\n\t Afghanistan & 1962 & 10267083 & Asia & 31.997 & 853.1007\\\\\n\t Afghanistan & 1967 & 11537966 & Asia & 34.020 & 836.1971\\\\\n\t Afghanistan & 1972 & 13079460 & Asia & 36.088 & 739.9811\\\\\n\t Afghanistan & 1977 & 14880372 & Asia & 38.438 & 786.1134\\\\\n\t Afghanistan & 1982 & 12881816 & Asia & 39.854 & 978.0114\\\\\n\t Afghanistan & 1987 & 13867957 & Asia & 40.822 & 852.3959\\\\\n\t Afghanistan & 1992 & 16317921 & Asia &     NA & 649.3414\\\\\n\t Afghanistan & 1997 & 22227415 & Asia & 41.763 & 635.3414\\\\\n\\end{tabular}\n",
            "text/markdown": "\nA tibble: 10 × 6\n\n| country &lt;chr&gt; | year &lt;dbl&gt; | pop &lt;dbl&gt; | continent &lt;chr&gt; | lifeExp &lt;dbl&gt; | gdpPercap &lt;dbl&gt; |\n|---|---|---|---|---|---|\n| Afghanistan | 1952 |  8425333 | Asia | 28.801 | 779.4453 |\n| Afghanistan | 1957 |  9240934 | Asia |     NA | 820.8530 |\n| Afghanistan | 1962 | 10267083 | Asia | 31.997 | 853.1007 |\n| Afghanistan | 1967 | 11537966 | Asia | 34.020 | 836.1971 |\n| Afghanistan | 1972 | 13079460 | Asia | 36.088 | 739.9811 |\n| Afghanistan | 1977 | 14880372 | Asia | 38.438 | 786.1134 |\n| Afghanistan | 1982 | 12881816 | Asia | 39.854 | 978.0114 |\n| Afghanistan | 1987 | 13867957 | Asia | 40.822 | 852.3959 |\n| Afghanistan | 1992 | 16317921 | Asia |     NA | 649.3414 |\n| Afghanistan | 1997 | 22227415 | Asia | 41.763 | 635.3414 |\n\n",
            "text/html": [
              "<table class=\"dataframe\">\n",
              "<caption>A tibble: 10 × 6</caption>\n",
              "<thead>\n",
              "\t<tr><th scope=col>country</th><th scope=col>year</th><th scope=col>pop</th><th scope=col>continent</th><th scope=col>lifeExp</th><th scope=col>gdpPercap</th></tr>\n",
              "\t<tr><th scope=col>&lt;chr&gt;</th><th scope=col>&lt;dbl&gt;</th><th scope=col>&lt;dbl&gt;</th><th scope=col>&lt;chr&gt;</th><th scope=col>&lt;dbl&gt;</th><th scope=col>&lt;dbl&gt;</th></tr>\n",
              "</thead>\n",
              "<tbody>\n",
              "\t<tr><td>Afghanistan</td><td>1952</td><td> 8425333</td><td>Asia</td><td>28.801</td><td>779.4453</td></tr>\n",
              "\t<tr><td>Afghanistan</td><td>1957</td><td> 9240934</td><td>Asia</td><td>    NA</td><td>820.8530</td></tr>\n",
              "\t<tr><td>Afghanistan</td><td>1962</td><td>10267083</td><td>Asia</td><td>31.997</td><td>853.1007</td></tr>\n",
              "\t<tr><td>Afghanistan</td><td>1967</td><td>11537966</td><td>Asia</td><td>34.020</td><td>836.1971</td></tr>\n",
              "\t<tr><td>Afghanistan</td><td>1972</td><td>13079460</td><td>Asia</td><td>36.088</td><td>739.9811</td></tr>\n",
              "\t<tr><td>Afghanistan</td><td>1977</td><td>14880372</td><td>Asia</td><td>38.438</td><td>786.1134</td></tr>\n",
              "\t<tr><td>Afghanistan</td><td>1982</td><td>12881816</td><td>Asia</td><td>39.854</td><td>978.0114</td></tr>\n",
              "\t<tr><td>Afghanistan</td><td>1987</td><td>13867957</td><td>Asia</td><td>40.822</td><td>852.3959</td></tr>\n",
              "\t<tr><td>Afghanistan</td><td>1992</td><td>16317921</td><td>Asia</td><td>    NA</td><td>649.3414</td></tr>\n",
              "\t<tr><td>Afghanistan</td><td>1997</td><td>22227415</td><td>Asia</td><td>41.763</td><td>635.3414</td></tr>\n",
              "</tbody>\n",
              "</table>\n"
            ]
          },
          "metadata": {}
        }
      ]
    },
    {
      "cell_type": "markdown",
      "source": [
        "### Défi 4\n",
        "\n",
        "Reprenez votre jeu de données `gapminder_defi` du Défi 3. En quelle année l'**espérance de vie** a-t-elle été la plus élevée au **Canada**? Quel était le **nombre d'habitant** cette même année?"
      ],
      "metadata": {
        "id": "MP6r8BsUttF3"
      }
    },
    {
      "cell_type": "code",
      "source": [
        "# Voici les commandes pour le reproduire au besoin\n",
        "url_defi <- \"https://raw.githubusercontent.com/gabrieldansereau/RanDonnees2022-atelier-manipulation-R/main/gapminder_messy_challenges.csv\"\n",
        "gapminder_defi_clean <- read_csv(url_defi) %>%\n",
        "  slice(-1) %>%\n",
        "  rename(year = ...2,\n",
        "         lifeExp = `life _Exp`) %>%\n",
        "  mutate(lifeExp = as.numeric(lifeExp))"
      ],
      "metadata": {
        "colab": {
          "base_uri": "https://localhost:8080/"
        },
        "id": "pgJzJXYfuFuO",
        "outputId": "f943b80b-374c-437e-fdcb-aaf07405faa2"
      },
      "execution_count": null,
      "outputs": [
        {
          "output_type": "stream",
          "name": "stderr",
          "text": [
            "New names:\n",
            "* `` -> ...2\n",
            "\n",
            "\u001b[1mRows: \u001b[22m\u001b[34m1706\u001b[39m \u001b[1mColumns: \u001b[22m\u001b[34m6\u001b[39m\n",
            "\n",
            "\u001b[36m──\u001b[39m \u001b[1mColumn specification\u001b[22m \u001b[36m────────────────────────────────────────────────────────\u001b[39m\n",
            "\u001b[1mDelimiter:\u001b[22m \",\"\n",
            "\u001b[31mchr\u001b[39m (3): country, continent, life _Exp\n",
            "\u001b[32mdbl\u001b[39m (3): ...2, pop, gdpPercap\n",
            "\n",
            "\n",
            "\u001b[36mℹ\u001b[39m Use \u001b[30m\u001b[47m\u001b[30m\u001b[47m`spec()`\u001b[47m\u001b[30m\u001b[49m\u001b[39m to retrieve the full column specification for this data.\n",
            "\u001b[36mℹ\u001b[39m Specify the column types or set \u001b[30m\u001b[47m\u001b[30m\u001b[47m`show_col_types = FALSE`\u001b[47m\u001b[30m\u001b[49m\u001b[39m to quiet this message.\n",
            "\n"
          ]
        }
      ]
    },
    {
      "cell_type": "code",
      "source": [
        "# Solution"
      ],
      "metadata": {
        "id": "5O0mziofvUBV"
      },
      "execution_count": null,
      "outputs": []
    },
    {
      "cell_type": "markdown",
      "source": [
        "# 3.0 Réorganisation du jeu de données\n",
        "\n",
        "Les jeux de données sont souvent organisés dans un format pratique pour la saisie des données. Or, il arrive que ce format ne convienne pas l'analyse et complique certaines tâches. Il est donc parfois nécessaire d'effectuer des opérations en _R_ pour réorganiser la structure des données, sans toutefois en perdre ou risquer de faire des erreurs à la main."
      ],
      "metadata": {
        "id": "LlD-W8eNC4f5"
      }
    },
    {
      "cell_type": "markdown",
      "source": [
        "### 3.1 Pivoter du format large au format long avec `pivot_longer()`\n",
        "\n",
        "Deux types d'organisation des jeux de données sont importants pour l'analyse: le format `long` et le format `large`. Le format `long` est plus pratique pour l'analyse à l'aide d'un langage de programmation comme R, alors que le format `large` est souvent plus instinctif pour la saisie de données. La figure suivante produite par Software Carpentry illustre cette différence:\n",
        "\n",
        "<p align=\"center\">\n",
        "  <img align = \"center\" src=\"https://swcarpentry.github.io/r-novice-gapminder/fig/14-tidyr-fig1.png\" heigth=\"50%\"\n",
        "       title = \"Format large vs long\">\n",
        "</p>\n",
        "\n",
        "Le jeu de données `gapminder` est dans un format intermédiaire, mais ressemble plus au format long.\n",
        "\n",
        "Les prochaines étapes montreront comme passer d'un format à l'autre. Cette étape peut également s'avérer pratique lors de certaines analyses ou manipulations de données.\n",
        "\n",
        "Nous utiliserons pour commencer une nouvelle version large de `gapminder` (déjà nettoyée comme dans la première partie). Le but sera de partir de la version large et d'arriver à une version identique au jeu de données initial."
      ],
      "metadata": {
        "id": "vgkgmpbeG8QY"
      }
    },
    {
      "cell_type": "code",
      "source": [
        "# Rappel du jeu de données long\n",
        "head(gapminder)"
      ],
      "metadata": {
        "colab": {
          "base_uri": "https://localhost:8080/",
          "height": 286
        },
        "id": "YMJPOFjvI5Cs",
        "outputId": "eb72a33c-76e9-4fbc-b435-538a592258bc"
      },
      "execution_count": null,
      "outputs": [
        {
          "output_type": "display_data",
          "data": {
            "text/plain": [
              "  country     year pop      continent lifeExp gdpPercap\n",
              "1 Afghanistan 1952  8425333 Asia      28.801  779.4453 \n",
              "2 Afghanistan 1957  9240934 Asia      30.332  820.8530 \n",
              "3 Afghanistan 1962 10267083 Asia      31.997  853.1007 \n",
              "4 Afghanistan 1967 11537966 Asia      34.020  836.1971 \n",
              "5 Afghanistan 1972 13079460 Asia      36.088  739.9811 \n",
              "6 Afghanistan 1977 14880372 Asia      38.438  786.1134 "
            ],
            "text/latex": "A tibble: 6 × 6\n\\begin{tabular}{llllll}\n country & year & pop & continent & lifeExp & gdpPercap\\\\\n <chr> & <dbl> & <dbl> & <chr> & <dbl> & <dbl>\\\\\n\\hline\n\t Afghanistan & 1952 &  8425333 & Asia & 28.801 & 779.4453\\\\\n\t Afghanistan & 1957 &  9240934 & Asia & 30.332 & 820.8530\\\\\n\t Afghanistan & 1962 & 10267083 & Asia & 31.997 & 853.1007\\\\\n\t Afghanistan & 1967 & 11537966 & Asia & 34.020 & 836.1971\\\\\n\t Afghanistan & 1972 & 13079460 & Asia & 36.088 & 739.9811\\\\\n\t Afghanistan & 1977 & 14880372 & Asia & 38.438 & 786.1134\\\\\n\\end{tabular}\n",
            "text/markdown": "\nA tibble: 6 × 6\n\n| country &lt;chr&gt; | year &lt;dbl&gt; | pop &lt;dbl&gt; | continent &lt;chr&gt; | lifeExp &lt;dbl&gt; | gdpPercap &lt;dbl&gt; |\n|---|---|---|---|---|---|\n| Afghanistan | 1952 |  8425333 | Asia | 28.801 | 779.4453 |\n| Afghanistan | 1957 |  9240934 | Asia | 30.332 | 820.8530 |\n| Afghanistan | 1962 | 10267083 | Asia | 31.997 | 853.1007 |\n| Afghanistan | 1967 | 11537966 | Asia | 34.020 | 836.1971 |\n| Afghanistan | 1972 | 13079460 | Asia | 36.088 | 739.9811 |\n| Afghanistan | 1977 | 14880372 | Asia | 38.438 | 786.1134 |\n\n",
            "text/html": [
              "<table class=\"dataframe\">\n",
              "<caption>A tibble: 6 × 6</caption>\n",
              "<thead>\n",
              "\t<tr><th scope=col>country</th><th scope=col>year</th><th scope=col>pop</th><th scope=col>continent</th><th scope=col>lifeExp</th><th scope=col>gdpPercap</th></tr>\n",
              "\t<tr><th scope=col>&lt;chr&gt;</th><th scope=col>&lt;dbl&gt;</th><th scope=col>&lt;dbl&gt;</th><th scope=col>&lt;chr&gt;</th><th scope=col>&lt;dbl&gt;</th><th scope=col>&lt;dbl&gt;</th></tr>\n",
              "</thead>\n",
              "<tbody>\n",
              "\t<tr><td>Afghanistan</td><td>1952</td><td> 8425333</td><td>Asia</td><td>28.801</td><td>779.4453</td></tr>\n",
              "\t<tr><td>Afghanistan</td><td>1957</td><td> 9240934</td><td>Asia</td><td>30.332</td><td>820.8530</td></tr>\n",
              "\t<tr><td>Afghanistan</td><td>1962</td><td>10267083</td><td>Asia</td><td>31.997</td><td>853.1007</td></tr>\n",
              "\t<tr><td>Afghanistan</td><td>1967</td><td>11537966</td><td>Asia</td><td>34.020</td><td>836.1971</td></tr>\n",
              "\t<tr><td>Afghanistan</td><td>1972</td><td>13079460</td><td>Asia</td><td>36.088</td><td>739.9811</td></tr>\n",
              "\t<tr><td>Afghanistan</td><td>1977</td><td>14880372</td><td>Asia</td><td>38.438</td><td>786.1134</td></tr>\n",
              "</tbody>\n",
              "</table>\n"
            ]
          },
          "metadata": {}
        }
      ]
    },
    {
      "cell_type": "code",
      "source": [
        "# Charger le jeu de données au format large\n",
        "gapminder_wide_url <- \"https://raw.githubusercontent.com/swcarpentry/r-novice-gapminder/gh-pages/_episodes_rmd/data/gapminder_wide.csv\"\n",
        "gap_wide <- read_csv(gapminder_wide_url)\n",
        "head(gap_wide)\n",
        "glimpse(gap_wide)"
      ],
      "metadata": {
        "colab": {
          "base_uri": "https://localhost:8080/",
          "height": 1000
        },
        "id": "dDSYy0RbI7Zv",
        "outputId": "8a5d356d-10af-4f4d-e9ba-39023d83805e"
      },
      "execution_count": null,
      "outputs": [
        {
          "output_type": "stream",
          "name": "stderr",
          "text": [
            "\u001b[1mRows: \u001b[22m\u001b[34m142\u001b[39m \u001b[1mColumns: \u001b[22m\u001b[34m38\u001b[39m\n",
            "\n",
            "\u001b[36m──\u001b[39m \u001b[1mColumn specification\u001b[22m \u001b[36m────────────────────────────────────────────────────────\u001b[39m\n",
            "\u001b[1mDelimiter:\u001b[22m \",\"\n",
            "\u001b[31mchr\u001b[39m  (2): continent, country\n",
            "\u001b[32mdbl\u001b[39m (36): gdpPercap_1952, gdpPercap_1957, gdpPercap_1962, gdpPercap_1967, gd...\n",
            "\n",
            "\n",
            "\u001b[36mℹ\u001b[39m Use \u001b[30m\u001b[47m\u001b[30m\u001b[47m`spec()`\u001b[47m\u001b[30m\u001b[49m\u001b[39m to retrieve the full column specification for this data.\n",
            "\u001b[36mℹ\u001b[39m Specify the column types or set \u001b[30m\u001b[47m\u001b[30m\u001b[47m`show_col_types = FALSE`\u001b[47m\u001b[30m\u001b[49m\u001b[39m to quiet this message.\n",
            "\n"
          ]
        },
        {
          "output_type": "display_data",
          "data": {
            "text/plain": [
              "  continent country      gdpPercap_1952 gdpPercap_1957 gdpPercap_1962\n",
              "1 Africa    Algeria      2449.0082      3013.9760      2550.8169     \n",
              "2 Africa    Angola       3520.6103      3827.9405      4269.2767     \n",
              "3 Africa    Benin        1062.7522       959.6011       949.4991     \n",
              "4 Africa    Botswana      851.2411       918.2325       983.6540     \n",
              "5 Africa    Burkina Faso  543.2552       617.1835       722.5120     \n",
              "6 Africa    Burundi       339.2965       379.5646       355.2032     \n",
              "  gdpPercap_1967 gdpPercap_1972 gdpPercap_1977 gdpPercap_1982 gdpPercap_1987 ⋯\n",
              "1 3246.9918      4182.6638      4910.4168      5745.1602      5681.3585      ⋯\n",
              "2 5522.7764      5473.2880      3008.6474      2756.9537      2430.2083      ⋯\n",
              "3 1035.8314      1085.7969      1029.1613      1277.8976      1225.8560      ⋯\n",
              "4 1214.7093      2263.6111      3214.8578      4551.1421      6205.8839      ⋯\n",
              "5  794.8266       854.7360       743.3870       807.1986       912.0631      ⋯\n",
              "6  412.9775       464.0995       556.1033       559.6032       621.8188      ⋯\n",
              "  pop_1962 pop_1967 pop_1972 pop_1977 pop_1982 pop_1987 pop_1992 pop_1997\n",
              "1 11000948 12760499 14760787 17152804 20033753 23254956 26298373 29072015\n",
              "2  4826015  5247469  5894858  6162675  7016384  7874230  8735988  9875024\n",
              "3  2151895  2427334  2761407  3168267  3641603  4243788  4981671  6066080\n",
              "4   512764   553541   619351   781472   970347  1151184  1342614  1536536\n",
              "5  4919632  5127935  5433886  5889574  6634596  7586551  8878303 10352843\n",
              "6  2961915  3330989  3529983  3834415  4580410  5126023  5809236  6121610\n",
              "  pop_2002 pop_2007\n",
              "1 31287142 33333216\n",
              "2 10866106 12420476\n",
              "3  7026113  8078314\n",
              "4  1630347  1639131\n",
              "5 12251209 14326203\n",
              "6  7021078  8390505"
            ],
            "text/latex": "A tibble: 6 × 38\n\\begin{tabular}{lllllllllllllllllllll}\n continent & country & gdpPercap\\_1952 & gdpPercap\\_1957 & gdpPercap\\_1962 & gdpPercap\\_1967 & gdpPercap\\_1972 & gdpPercap\\_1977 & gdpPercap\\_1982 & gdpPercap\\_1987 & ⋯ & pop\\_1962 & pop\\_1967 & pop\\_1972 & pop\\_1977 & pop\\_1982 & pop\\_1987 & pop\\_1992 & pop\\_1997 & pop\\_2002 & pop\\_2007\\\\\n <chr> & <chr> & <dbl> & <dbl> & <dbl> & <dbl> & <dbl> & <dbl> & <dbl> & <dbl> & ⋯ & <dbl> & <dbl> & <dbl> & <dbl> & <dbl> & <dbl> & <dbl> & <dbl> & <dbl> & <dbl>\\\\\n\\hline\n\t Africa & Algeria      & 2449.0082 & 3013.9760 & 2550.8169 & 3246.9918 & 4182.6638 & 4910.4168 & 5745.1602 & 5681.3585 & ⋯ & 11000948 & 12760499 & 14760787 & 17152804 & 20033753 & 23254956 & 26298373 & 29072015 & 31287142 & 33333216\\\\\n\t Africa & Angola       & 3520.6103 & 3827.9405 & 4269.2767 & 5522.7764 & 5473.2880 & 3008.6474 & 2756.9537 & 2430.2083 & ⋯ &  4826015 &  5247469 &  5894858 &  6162675 &  7016384 &  7874230 &  8735988 &  9875024 & 10866106 & 12420476\\\\\n\t Africa & Benin        & 1062.7522 &  959.6011 &  949.4991 & 1035.8314 & 1085.7969 & 1029.1613 & 1277.8976 & 1225.8560 & ⋯ &  2151895 &  2427334 &  2761407 &  3168267 &  3641603 &  4243788 &  4981671 &  6066080 &  7026113 &  8078314\\\\\n\t Africa & Botswana     &  851.2411 &  918.2325 &  983.6540 & 1214.7093 & 2263.6111 & 3214.8578 & 4551.1421 & 6205.8839 & ⋯ &   512764 &   553541 &   619351 &   781472 &   970347 &  1151184 &  1342614 &  1536536 &  1630347 &  1639131\\\\\n\t Africa & Burkina Faso &  543.2552 &  617.1835 &  722.5120 &  794.8266 &  854.7360 &  743.3870 &  807.1986 &  912.0631 & ⋯ &  4919632 &  5127935 &  5433886 &  5889574 &  6634596 &  7586551 &  8878303 & 10352843 & 12251209 & 14326203\\\\\n\t Africa & Burundi      &  339.2965 &  379.5646 &  355.2032 &  412.9775 &  464.0995 &  556.1033 &  559.6032 &  621.8188 & ⋯ &  2961915 &  3330989 &  3529983 &  3834415 &  4580410 &  5126023 &  5809236 &  6121610 &  7021078 &  8390505\\\\\n\\end{tabular}\n",
            "text/markdown": "\nA tibble: 6 × 38\n\n| continent &lt;chr&gt; | country &lt;chr&gt; | gdpPercap_1952 &lt;dbl&gt; | gdpPercap_1957 &lt;dbl&gt; | gdpPercap_1962 &lt;dbl&gt; | gdpPercap_1967 &lt;dbl&gt; | gdpPercap_1972 &lt;dbl&gt; | gdpPercap_1977 &lt;dbl&gt; | gdpPercap_1982 &lt;dbl&gt; | gdpPercap_1987 &lt;dbl&gt; | ⋯ ⋯ | pop_1962 &lt;dbl&gt; | pop_1967 &lt;dbl&gt; | pop_1972 &lt;dbl&gt; | pop_1977 &lt;dbl&gt; | pop_1982 &lt;dbl&gt; | pop_1987 &lt;dbl&gt; | pop_1992 &lt;dbl&gt; | pop_1997 &lt;dbl&gt; | pop_2002 &lt;dbl&gt; | pop_2007 &lt;dbl&gt; |\n|---|---|---|---|---|---|---|---|---|---|---|---|---|---|---|---|---|---|---|---|---|\n| Africa | Algeria      | 2449.0082 | 3013.9760 | 2550.8169 | 3246.9918 | 4182.6638 | 4910.4168 | 5745.1602 | 5681.3585 | ⋯ | 11000948 | 12760499 | 14760787 | 17152804 | 20033753 | 23254956 | 26298373 | 29072015 | 31287142 | 33333216 |\n| Africa | Angola       | 3520.6103 | 3827.9405 | 4269.2767 | 5522.7764 | 5473.2880 | 3008.6474 | 2756.9537 | 2430.2083 | ⋯ |  4826015 |  5247469 |  5894858 |  6162675 |  7016384 |  7874230 |  8735988 |  9875024 | 10866106 | 12420476 |\n| Africa | Benin        | 1062.7522 |  959.6011 |  949.4991 | 1035.8314 | 1085.7969 | 1029.1613 | 1277.8976 | 1225.8560 | ⋯ |  2151895 |  2427334 |  2761407 |  3168267 |  3641603 |  4243788 |  4981671 |  6066080 |  7026113 |  8078314 |\n| Africa | Botswana     |  851.2411 |  918.2325 |  983.6540 | 1214.7093 | 2263.6111 | 3214.8578 | 4551.1421 | 6205.8839 | ⋯ |   512764 |   553541 |   619351 |   781472 |   970347 |  1151184 |  1342614 |  1536536 |  1630347 |  1639131 |\n| Africa | Burkina Faso |  543.2552 |  617.1835 |  722.5120 |  794.8266 |  854.7360 |  743.3870 |  807.1986 |  912.0631 | ⋯ |  4919632 |  5127935 |  5433886 |  5889574 |  6634596 |  7586551 |  8878303 | 10352843 | 12251209 | 14326203 |\n| Africa | Burundi      |  339.2965 |  379.5646 |  355.2032 |  412.9775 |  464.0995 |  556.1033 |  559.6032 |  621.8188 | ⋯ |  2961915 |  3330989 |  3529983 |  3834415 |  4580410 |  5126023 |  5809236 |  6121610 |  7021078 |  8390505 |\n\n",
            "text/html": [
              "<table class=\"dataframe\">\n",
              "<caption>A tibble: 6 × 38</caption>\n",
              "<thead>\n",
              "\t<tr><th scope=col>continent</th><th scope=col>country</th><th scope=col>gdpPercap_1952</th><th scope=col>gdpPercap_1957</th><th scope=col>gdpPercap_1962</th><th scope=col>gdpPercap_1967</th><th scope=col>gdpPercap_1972</th><th scope=col>gdpPercap_1977</th><th scope=col>gdpPercap_1982</th><th scope=col>gdpPercap_1987</th><th scope=col>⋯</th><th scope=col>pop_1962</th><th scope=col>pop_1967</th><th scope=col>pop_1972</th><th scope=col>pop_1977</th><th scope=col>pop_1982</th><th scope=col>pop_1987</th><th scope=col>pop_1992</th><th scope=col>pop_1997</th><th scope=col>pop_2002</th><th scope=col>pop_2007</th></tr>\n",
              "\t<tr><th scope=col>&lt;chr&gt;</th><th scope=col>&lt;chr&gt;</th><th scope=col>&lt;dbl&gt;</th><th scope=col>&lt;dbl&gt;</th><th scope=col>&lt;dbl&gt;</th><th scope=col>&lt;dbl&gt;</th><th scope=col>&lt;dbl&gt;</th><th scope=col>&lt;dbl&gt;</th><th scope=col>&lt;dbl&gt;</th><th scope=col>&lt;dbl&gt;</th><th scope=col>⋯</th><th scope=col>&lt;dbl&gt;</th><th scope=col>&lt;dbl&gt;</th><th scope=col>&lt;dbl&gt;</th><th scope=col>&lt;dbl&gt;</th><th scope=col>&lt;dbl&gt;</th><th scope=col>&lt;dbl&gt;</th><th scope=col>&lt;dbl&gt;</th><th scope=col>&lt;dbl&gt;</th><th scope=col>&lt;dbl&gt;</th><th scope=col>&lt;dbl&gt;</th></tr>\n",
              "</thead>\n",
              "<tbody>\n",
              "\t<tr><td>Africa</td><td>Algeria     </td><td>2449.0082</td><td>3013.9760</td><td>2550.8169</td><td>3246.9918</td><td>4182.6638</td><td>4910.4168</td><td>5745.1602</td><td>5681.3585</td><td>⋯</td><td>11000948</td><td>12760499</td><td>14760787</td><td>17152804</td><td>20033753</td><td>23254956</td><td>26298373</td><td>29072015</td><td>31287142</td><td>33333216</td></tr>\n",
              "\t<tr><td>Africa</td><td>Angola      </td><td>3520.6103</td><td>3827.9405</td><td>4269.2767</td><td>5522.7764</td><td>5473.2880</td><td>3008.6474</td><td>2756.9537</td><td>2430.2083</td><td>⋯</td><td> 4826015</td><td> 5247469</td><td> 5894858</td><td> 6162675</td><td> 7016384</td><td> 7874230</td><td> 8735988</td><td> 9875024</td><td>10866106</td><td>12420476</td></tr>\n",
              "\t<tr><td>Africa</td><td>Benin       </td><td>1062.7522</td><td> 959.6011</td><td> 949.4991</td><td>1035.8314</td><td>1085.7969</td><td>1029.1613</td><td>1277.8976</td><td>1225.8560</td><td>⋯</td><td> 2151895</td><td> 2427334</td><td> 2761407</td><td> 3168267</td><td> 3641603</td><td> 4243788</td><td> 4981671</td><td> 6066080</td><td> 7026113</td><td> 8078314</td></tr>\n",
              "\t<tr><td>Africa</td><td>Botswana    </td><td> 851.2411</td><td> 918.2325</td><td> 983.6540</td><td>1214.7093</td><td>2263.6111</td><td>3214.8578</td><td>4551.1421</td><td>6205.8839</td><td>⋯</td><td>  512764</td><td>  553541</td><td>  619351</td><td>  781472</td><td>  970347</td><td> 1151184</td><td> 1342614</td><td> 1536536</td><td> 1630347</td><td> 1639131</td></tr>\n",
              "\t<tr><td>Africa</td><td>Burkina Faso</td><td> 543.2552</td><td> 617.1835</td><td> 722.5120</td><td> 794.8266</td><td> 854.7360</td><td> 743.3870</td><td> 807.1986</td><td> 912.0631</td><td>⋯</td><td> 4919632</td><td> 5127935</td><td> 5433886</td><td> 5889574</td><td> 6634596</td><td> 7586551</td><td> 8878303</td><td>10352843</td><td>12251209</td><td>14326203</td></tr>\n",
              "\t<tr><td>Africa</td><td>Burundi     </td><td> 339.2965</td><td> 379.5646</td><td> 355.2032</td><td> 412.9775</td><td> 464.0995</td><td> 556.1033</td><td> 559.6032</td><td> 621.8188</td><td>⋯</td><td> 2961915</td><td> 3330989</td><td> 3529983</td><td> 3834415</td><td> 4580410</td><td> 5126023</td><td> 5809236</td><td> 6121610</td><td> 7021078</td><td> 8390505</td></tr>\n",
              "</tbody>\n",
              "</table>\n"
            ]
          },
          "metadata": {}
        },
        {
          "output_type": "stream",
          "name": "stdout",
          "text": [
            "Rows: 142\n",
            "Columns: 38\n",
            "$ continent      \u001b[3m\u001b[90m<chr>\u001b[39m\u001b[23m \"Africa\", \"Africa\", \"Africa\", \"Africa\", \"Africa\", \"Afri…\n",
            "$ country        \u001b[3m\u001b[90m<chr>\u001b[39m\u001b[23m \"Algeria\", \"Angola\", \"Benin\", \"Botswana\", \"Burkina Faso…\n",
            "$ gdpPercap_1952 \u001b[3m\u001b[90m<dbl>\u001b[39m\u001b[23m 2449.0082, 3520.6103, 1062.7522, 851.2411, 543.2552, 33…\n",
            "$ gdpPercap_1957 \u001b[3m\u001b[90m<dbl>\u001b[39m\u001b[23m 3013.9760, 3827.9405, 959.6011, 918.2325, 617.1835, 379…\n",
            "$ gdpPercap_1962 \u001b[3m\u001b[90m<dbl>\u001b[39m\u001b[23m 2550.8169, 4269.2767, 949.4991, 983.6540, 722.5120, 355…\n",
            "$ gdpPercap_1967 \u001b[3m\u001b[90m<dbl>\u001b[39m\u001b[23m 3246.9918, 5522.7764, 1035.8314, 1214.7093, 794.8266, 4…\n",
            "$ gdpPercap_1972 \u001b[3m\u001b[90m<dbl>\u001b[39m\u001b[23m 4182.6638, 5473.2880, 1085.7969, 2263.6111, 854.7360, 4…\n",
            "$ gdpPercap_1977 \u001b[3m\u001b[90m<dbl>\u001b[39m\u001b[23m 4910.4168, 3008.6474, 1029.1613, 3214.8578, 743.3870, 5…\n",
            "$ gdpPercap_1982 \u001b[3m\u001b[90m<dbl>\u001b[39m\u001b[23m 5745.1602, 2756.9537, 1277.8976, 4551.1421, 807.1986, 5…\n",
            "$ gdpPercap_1987 \u001b[3m\u001b[90m<dbl>\u001b[39m\u001b[23m 5681.3585, 2430.2083, 1225.8560, 6205.8839, 912.0631, 6…\n",
            "$ gdpPercap_1992 \u001b[3m\u001b[90m<dbl>\u001b[39m\u001b[23m 5023.2166, 2627.8457, 1191.2077, 7954.1116, 931.7528, 6…\n",
            "$ gdpPercap_1997 \u001b[3m\u001b[90m<dbl>\u001b[39m\u001b[23m 4797.2951, 2277.1409, 1232.9753, 8647.1423, 946.2950, 4…\n",
            "$ gdpPercap_2002 \u001b[3m\u001b[90m<dbl>\u001b[39m\u001b[23m 5288.0404, 2773.2873, 1372.8779, 11003.6051, 1037.6452,…\n",
            "$ gdpPercap_2007 \u001b[3m\u001b[90m<dbl>\u001b[39m\u001b[23m 6223.3675, 4797.2313, 1441.2849, 12569.8518, 1217.0330,…\n",
            "$ lifeExp_1952   \u001b[3m\u001b[90m<dbl>\u001b[39m\u001b[23m 43.077, 30.015, 38.223, 47.622, 31.975, 39.031, 38.523,…\n",
            "$ lifeExp_1957   \u001b[3m\u001b[90m<dbl>\u001b[39m\u001b[23m 45.685, 31.999, 40.358, 49.618, 34.906, 40.533, 40.428,…\n",
            "$ lifeExp_1962   \u001b[3m\u001b[90m<dbl>\u001b[39m\u001b[23m 48.303, 34.000, 42.618, 51.520, 37.814, 42.045, 42.643,…\n",
            "$ lifeExp_1967   \u001b[3m\u001b[90m<dbl>\u001b[39m\u001b[23m 51.407, 35.985, 44.885, 53.298, 40.697, 43.548, 44.799,…\n",
            "$ lifeExp_1972   \u001b[3m\u001b[90m<dbl>\u001b[39m\u001b[23m 54.518, 37.928, 47.014, 56.024, 43.591, 44.057, 47.049,…\n",
            "$ lifeExp_1977   \u001b[3m\u001b[90m<dbl>\u001b[39m\u001b[23m 58.014, 39.483, 49.190, 59.319, 46.137, 45.910, 49.355,…\n",
            "$ lifeExp_1982   \u001b[3m\u001b[90m<dbl>\u001b[39m\u001b[23m 61.368, 39.942, 50.904, 61.484, 48.122, 47.471, 52.961,…\n",
            "$ lifeExp_1987   \u001b[3m\u001b[90m<dbl>\u001b[39m\u001b[23m 65.799, 39.906, 52.337, 63.622, 49.557, 48.211, 54.985,…\n",
            "$ lifeExp_1992   \u001b[3m\u001b[90m<dbl>\u001b[39m\u001b[23m 67.744, 40.647, 53.919, 62.745, 50.260, 44.736, 54.314,…\n",
            "$ lifeExp_1997   \u001b[3m\u001b[90m<dbl>\u001b[39m\u001b[23m 69.152, 40.963, 54.777, 52.556, 50.324, 45.326, 52.199,…\n",
            "$ lifeExp_2002   \u001b[3m\u001b[90m<dbl>\u001b[39m\u001b[23m 70.994, 41.003, 54.406, 46.634, 50.650, 47.360, 49.856,…\n",
            "$ lifeExp_2007   \u001b[3m\u001b[90m<dbl>\u001b[39m\u001b[23m 72.301, 42.731, 56.728, 50.728, 52.295, 49.580, 50.430,…\n",
            "$ pop_1952       \u001b[3m\u001b[90m<dbl>\u001b[39m\u001b[23m 9279525, 4232095, 1738315, 442308, 4469979, 2445618, 50…\n",
            "$ pop_1957       \u001b[3m\u001b[90m<dbl>\u001b[39m\u001b[23m 10270856, 4561361, 1925173, 474639, 4713416, 2667518, 5…\n",
            "$ pop_1962       \u001b[3m\u001b[90m<dbl>\u001b[39m\u001b[23m 11000948, 4826015, 2151895, 512764, 4919632, 2961915, 5…\n",
            "$ pop_1967       \u001b[3m\u001b[90m<dbl>\u001b[39m\u001b[23m 12760499, 5247469, 2427334, 553541, 5127935, 3330989, 6…\n",
            "$ pop_1972       \u001b[3m\u001b[90m<dbl>\u001b[39m\u001b[23m 14760787, 5894858, 2761407, 619351, 5433886, 3529983, 7…\n",
            "$ pop_1977       \u001b[3m\u001b[90m<dbl>\u001b[39m\u001b[23m 17152804, 6162675, 3168267, 781472, 5889574, 3834415, 7…\n",
            "$ pop_1982       \u001b[3m\u001b[90m<dbl>\u001b[39m\u001b[23m 20033753, 7016384, 3641603, 970347, 6634596, 4580410, 9…\n",
            "$ pop_1987       \u001b[3m\u001b[90m<dbl>\u001b[39m\u001b[23m 23254956, 7874230, 4243788, 1151184, 7586551, 5126023, …\n",
            "$ pop_1992       \u001b[3m\u001b[90m<dbl>\u001b[39m\u001b[23m 26298373, 8735988, 4981671, 1342614, 8878303, 5809236, …\n",
            "$ pop_1997       \u001b[3m\u001b[90m<dbl>\u001b[39m\u001b[23m 29072015, 9875024, 6066080, 1536536, 10352843, 6121610,…\n",
            "$ pop_2002       \u001b[3m\u001b[90m<dbl>\u001b[39m\u001b[23m 31287142, 10866106, 7026113, 1630347, 12251209, 7021078…\n",
            "$ pop_2007       \u001b[3m\u001b[90m<dbl>\u001b[39m\u001b[23m 33333216, 12420476, 8078314, 1639131, 14326203, 8390505…\n"
          ]
        }
      ]
    },
    {
      "cell_type": "code",
      "source": [
        "# Commençons par un seul type de colonne au format long\n",
        "gap_wide_pop <- gap_wide %>%\n",
        "  select(-starts_with(\"gdp\"), -starts_with(\"life\"))\n",
        "glimpse(gap_wide_pop)"
      ],
      "metadata": {
        "colab": {
          "base_uri": "https://localhost:8080/"
        },
        "id": "Xrzid1qiJWe6",
        "outputId": "199fc879-a64c-4c98-f81f-0f30552494cc"
      },
      "execution_count": null,
      "outputs": [
        {
          "output_type": "stream",
          "name": "stdout",
          "text": [
            "Rows: 142\n",
            "Columns: 14\n",
            "$ continent \u001b[3m\u001b[90m<chr>\u001b[39m\u001b[23m \"Africa\", \"Africa\", \"Africa\", \"Africa\", \"Africa\", \"Africa\", …\n",
            "$ country   \u001b[3m\u001b[90m<chr>\u001b[39m\u001b[23m \"Algeria\", \"Angola\", \"Benin\", \"Botswana\", \"Burkina Faso\", \"B…\n",
            "$ pop_1952  \u001b[3m\u001b[90m<dbl>\u001b[39m\u001b[23m 9279525, 4232095, 1738315, 442308, 4469979, 2445618, 5009067…\n",
            "$ pop_1957  \u001b[3m\u001b[90m<dbl>\u001b[39m\u001b[23m 10270856, 4561361, 1925173, 474639, 4713416, 2667518, 535992…\n",
            "$ pop_1962  \u001b[3m\u001b[90m<dbl>\u001b[39m\u001b[23m 11000948, 4826015, 2151895, 512764, 4919632, 2961915, 579363…\n",
            "$ pop_1967  \u001b[3m\u001b[90m<dbl>\u001b[39m\u001b[23m 12760499, 5247469, 2427334, 553541, 5127935, 3330989, 633550…\n",
            "$ pop_1972  \u001b[3m\u001b[90m<dbl>\u001b[39m\u001b[23m 14760787, 5894858, 2761407, 619351, 5433886, 3529983, 702102…\n",
            "$ pop_1977  \u001b[3m\u001b[90m<dbl>\u001b[39m\u001b[23m 17152804, 6162675, 3168267, 781472, 5889574, 3834415, 795986…\n",
            "$ pop_1982  \u001b[3m\u001b[90m<dbl>\u001b[39m\u001b[23m 20033753, 7016384, 3641603, 970347, 6634596, 4580410, 925083…\n",
            "$ pop_1987  \u001b[3m\u001b[90m<dbl>\u001b[39m\u001b[23m 23254956, 7874230, 4243788, 1151184, 7586551, 5126023, 10780…\n",
            "$ pop_1992  \u001b[3m\u001b[90m<dbl>\u001b[39m\u001b[23m 26298373, 8735988, 4981671, 1342614, 8878303, 5809236, 12467…\n",
            "$ pop_1997  \u001b[3m\u001b[90m<dbl>\u001b[39m\u001b[23m 29072015, 9875024, 6066080, 1536536, 10352843, 6121610, 1419…\n",
            "$ pop_2002  \u001b[3m\u001b[90m<dbl>\u001b[39m\u001b[23m 31287142, 10866106, 7026113, 1630347, 12251209, 7021078, 159…\n",
            "$ pop_2007  \u001b[3m\u001b[90m<dbl>\u001b[39m\u001b[23m 33333216, 12420476, 8078314, 1639131, 14326203, 8390505, 176…\n"
          ]
        }
      ]
    },
    {
      "cell_type": "code",
      "source": [
        "# Pivoter toutes les colonnes pop\n",
        "gap_wide_pop %>%\n",
        "  pivot_longer(cols = c(starts_with(\"pop\")),\n",
        "               names_to = \"type_year\",\n",
        "               values_to = \"pop\") %>%\n",
        "  head()"
      ],
      "metadata": {
        "colab": {
          "base_uri": "https://localhost:8080/",
          "height": 286
        },
        "id": "2r0aucFLJdL_",
        "outputId": "49e5040e-33be-4b21-d72f-f2af7c5fe5f2"
      },
      "execution_count": null,
      "outputs": [
        {
          "output_type": "display_data",
          "data": {
            "text/plain": [
              "  continent country type_year pop     \n",
              "1 Africa    Algeria pop_1952   9279525\n",
              "2 Africa    Algeria pop_1957  10270856\n",
              "3 Africa    Algeria pop_1962  11000948\n",
              "4 Africa    Algeria pop_1967  12760499\n",
              "5 Africa    Algeria pop_1972  14760787\n",
              "6 Africa    Algeria pop_1977  17152804"
            ],
            "text/latex": "A tibble: 6 × 4\n\\begin{tabular}{llll}\n continent & country & type\\_year & pop\\\\\n <chr> & <chr> & <chr> & <dbl>\\\\\n\\hline\n\t Africa & Algeria & pop\\_1952 &  9279525\\\\\n\t Africa & Algeria & pop\\_1957 & 10270856\\\\\n\t Africa & Algeria & pop\\_1962 & 11000948\\\\\n\t Africa & Algeria & pop\\_1967 & 12760499\\\\\n\t Africa & Algeria & pop\\_1972 & 14760787\\\\\n\t Africa & Algeria & pop\\_1977 & 17152804\\\\\n\\end{tabular}\n",
            "text/markdown": "\nA tibble: 6 × 4\n\n| continent &lt;chr&gt; | country &lt;chr&gt; | type_year &lt;chr&gt; | pop &lt;dbl&gt; |\n|---|---|---|---|\n| Africa | Algeria | pop_1952 |  9279525 |\n| Africa | Algeria | pop_1957 | 10270856 |\n| Africa | Algeria | pop_1962 | 11000948 |\n| Africa | Algeria | pop_1967 | 12760499 |\n| Africa | Algeria | pop_1972 | 14760787 |\n| Africa | Algeria | pop_1977 | 17152804 |\n\n",
            "text/html": [
              "<table class=\"dataframe\">\n",
              "<caption>A tibble: 6 × 4</caption>\n",
              "<thead>\n",
              "\t<tr><th scope=col>continent</th><th scope=col>country</th><th scope=col>type_year</th><th scope=col>pop</th></tr>\n",
              "\t<tr><th scope=col>&lt;chr&gt;</th><th scope=col>&lt;chr&gt;</th><th scope=col>&lt;chr&gt;</th><th scope=col>&lt;dbl&gt;</th></tr>\n",
              "</thead>\n",
              "<tbody>\n",
              "\t<tr><td>Africa</td><td>Algeria</td><td>pop_1952</td><td> 9279525</td></tr>\n",
              "\t<tr><td>Africa</td><td>Algeria</td><td>pop_1957</td><td>10270856</td></tr>\n",
              "\t<tr><td>Africa</td><td>Algeria</td><td>pop_1962</td><td>11000948</td></tr>\n",
              "\t<tr><td>Africa</td><td>Algeria</td><td>pop_1967</td><td>12760499</td></tr>\n",
              "\t<tr><td>Africa</td><td>Algeria</td><td>pop_1972</td><td>14760787</td></tr>\n",
              "\t<tr><td>Africa</td><td>Algeria</td><td>pop_1977</td><td>17152804</td></tr>\n",
              "</tbody>\n",
              "</table>\n"
            ]
          },
          "metadata": {}
        }
      ]
    },
    {
      "cell_type": "code",
      "source": [
        "# Pivoter, puis séparer les colonnes\n",
        "gap_wide_pop %>%\n",
        "  pivot_longer(cols = c(starts_with(\"pop\")),\n",
        "               names_to = \"type_year\",\n",
        "               values_to = \"pop\") %>%\n",
        "  separate(type_year, into = c(\"type\", \"year\"), sep = \"_\") %>%\n",
        "  head()"
      ],
      "metadata": {
        "colab": {
          "base_uri": "https://localhost:8080/",
          "height": 286
        },
        "id": "j68HpgTnJlMO",
        "outputId": "339986f8-092c-41bf-ab30-8fb0eef43f3d"
      },
      "execution_count": null,
      "outputs": [
        {
          "output_type": "display_data",
          "data": {
            "text/plain": [
              "  continent country type year pop     \n",
              "1 Africa    Algeria pop  1952  9279525\n",
              "2 Africa    Algeria pop  1957 10270856\n",
              "3 Africa    Algeria pop  1962 11000948\n",
              "4 Africa    Algeria pop  1967 12760499\n",
              "5 Africa    Algeria pop  1972 14760787\n",
              "6 Africa    Algeria pop  1977 17152804"
            ],
            "text/latex": "A tibble: 6 × 5\n\\begin{tabular}{lllll}\n continent & country & type & year & pop\\\\\n <chr> & <chr> & <chr> & <chr> & <dbl>\\\\\n\\hline\n\t Africa & Algeria & pop & 1952 &  9279525\\\\\n\t Africa & Algeria & pop & 1957 & 10270856\\\\\n\t Africa & Algeria & pop & 1962 & 11000948\\\\\n\t Africa & Algeria & pop & 1967 & 12760499\\\\\n\t Africa & Algeria & pop & 1972 & 14760787\\\\\n\t Africa & Algeria & pop & 1977 & 17152804\\\\\n\\end{tabular}\n",
            "text/markdown": "\nA tibble: 6 × 5\n\n| continent &lt;chr&gt; | country &lt;chr&gt; | type &lt;chr&gt; | year &lt;chr&gt; | pop &lt;dbl&gt; |\n|---|---|---|---|---|\n| Africa | Algeria | pop | 1952 |  9279525 |\n| Africa | Algeria | pop | 1957 | 10270856 |\n| Africa | Algeria | pop | 1962 | 11000948 |\n| Africa | Algeria | pop | 1967 | 12760499 |\n| Africa | Algeria | pop | 1972 | 14760787 |\n| Africa | Algeria | pop | 1977 | 17152804 |\n\n",
            "text/html": [
              "<table class=\"dataframe\">\n",
              "<caption>A tibble: 6 × 5</caption>\n",
              "<thead>\n",
              "\t<tr><th scope=col>continent</th><th scope=col>country</th><th scope=col>type</th><th scope=col>year</th><th scope=col>pop</th></tr>\n",
              "\t<tr><th scope=col>&lt;chr&gt;</th><th scope=col>&lt;chr&gt;</th><th scope=col>&lt;chr&gt;</th><th scope=col>&lt;chr&gt;</th><th scope=col>&lt;dbl&gt;</th></tr>\n",
              "</thead>\n",
              "<tbody>\n",
              "\t<tr><td>Africa</td><td>Algeria</td><td>pop</td><td>1952</td><td> 9279525</td></tr>\n",
              "\t<tr><td>Africa</td><td>Algeria</td><td>pop</td><td>1957</td><td>10270856</td></tr>\n",
              "\t<tr><td>Africa</td><td>Algeria</td><td>pop</td><td>1962</td><td>11000948</td></tr>\n",
              "\t<tr><td>Africa</td><td>Algeria</td><td>pop</td><td>1967</td><td>12760499</td></tr>\n",
              "\t<tr><td>Africa</td><td>Algeria</td><td>pop</td><td>1972</td><td>14760787</td></tr>\n",
              "\t<tr><td>Africa</td><td>Algeria</td><td>pop</td><td>1977</td><td>17152804</td></tr>\n",
              "</tbody>\n",
              "</table>\n"
            ]
          },
          "metadata": {}
        }
      ]
    },
    {
      "cell_type": "code",
      "source": [
        "# Répéter avec le jeux de données large complet\n",
        "gap_long <- gap_wide %>%\n",
        "  pivot_longer(cols = c(starts_with(\"pop\"), starts_with(\"life\"), starts_with(\"gdp\")),\n",
        "               names_to = \"type_year\",\n",
        "               values_to = \"value\") %>%\n",
        "  separate(type_year, into = c(\"type\", \"year\"))\n",
        "tail(gap_long)"
      ],
      "metadata": {
        "colab": {
          "base_uri": "https://localhost:8080/",
          "height": 286
        },
        "id": "cHAoEZRXJzbe",
        "outputId": "686675f9-8fc6-4024-be79-884592a17714"
      },
      "execution_count": null,
      "outputs": [
        {
          "output_type": "display_data",
          "data": {
            "text/plain": [
              "  continent country     type      year value   \n",
              "1 Oceania   New Zealand gdpPercap 1982 17632.41\n",
              "2 Oceania   New Zealand gdpPercap 1987 19007.19\n",
              "3 Oceania   New Zealand gdpPercap 1992 18363.32\n",
              "4 Oceania   New Zealand gdpPercap 1997 21050.41\n",
              "5 Oceania   New Zealand gdpPercap 2002 23189.80\n",
              "6 Oceania   New Zealand gdpPercap 2007 25185.01"
            ],
            "text/latex": "A tibble: 6 × 5\n\\begin{tabular}{lllll}\n continent & country & type & year & value\\\\\n <chr> & <chr> & <chr> & <chr> & <dbl>\\\\\n\\hline\n\t Oceania & New Zealand & gdpPercap & 1982 & 17632.41\\\\\n\t Oceania & New Zealand & gdpPercap & 1987 & 19007.19\\\\\n\t Oceania & New Zealand & gdpPercap & 1992 & 18363.32\\\\\n\t Oceania & New Zealand & gdpPercap & 1997 & 21050.41\\\\\n\t Oceania & New Zealand & gdpPercap & 2002 & 23189.80\\\\\n\t Oceania & New Zealand & gdpPercap & 2007 & 25185.01\\\\\n\\end{tabular}\n",
            "text/markdown": "\nA tibble: 6 × 5\n\n| continent &lt;chr&gt; | country &lt;chr&gt; | type &lt;chr&gt; | year &lt;chr&gt; | value &lt;dbl&gt; |\n|---|---|---|---|---|\n| Oceania | New Zealand | gdpPercap | 1982 | 17632.41 |\n| Oceania | New Zealand | gdpPercap | 1987 | 19007.19 |\n| Oceania | New Zealand | gdpPercap | 1992 | 18363.32 |\n| Oceania | New Zealand | gdpPercap | 1997 | 21050.41 |\n| Oceania | New Zealand | gdpPercap | 2002 | 23189.80 |\n| Oceania | New Zealand | gdpPercap | 2007 | 25185.01 |\n\n",
            "text/html": [
              "<table class=\"dataframe\">\n",
              "<caption>A tibble: 6 × 5</caption>\n",
              "<thead>\n",
              "\t<tr><th scope=col>continent</th><th scope=col>country</th><th scope=col>type</th><th scope=col>year</th><th scope=col>value</th></tr>\n",
              "\t<tr><th scope=col>&lt;chr&gt;</th><th scope=col>&lt;chr&gt;</th><th scope=col>&lt;chr&gt;</th><th scope=col>&lt;chr&gt;</th><th scope=col>&lt;dbl&gt;</th></tr>\n",
              "</thead>\n",
              "<tbody>\n",
              "\t<tr><td>Oceania</td><td>New Zealand</td><td>gdpPercap</td><td>1982</td><td>17632.41</td></tr>\n",
              "\t<tr><td>Oceania</td><td>New Zealand</td><td>gdpPercap</td><td>1987</td><td>19007.19</td></tr>\n",
              "\t<tr><td>Oceania</td><td>New Zealand</td><td>gdpPercap</td><td>1992</td><td>18363.32</td></tr>\n",
              "\t<tr><td>Oceania</td><td>New Zealand</td><td>gdpPercap</td><td>1997</td><td>21050.41</td></tr>\n",
              "\t<tr><td>Oceania</td><td>New Zealand</td><td>gdpPercap</td><td>2002</td><td>23189.80</td></tr>\n",
              "\t<tr><td>Oceania</td><td>New Zealand</td><td>gdpPercap</td><td>2007</td><td>25185.01</td></tr>\n",
              "</tbody>\n",
              "</table>\n"
            ]
          },
          "metadata": {}
        }
      ]
    },
    {
      "cell_type": "code",
      "source": [
        "# Convertir les années au format numérique et mettre en ordre comme le jeu de données initial\n",
        "gap_long <- gap_long %>%\n",
        "  mutate(year = as.integer(year)) %>%\n",
        "  arrange(country, year)\n",
        "head(gap_long)"
      ],
      "metadata": {
        "colab": {
          "base_uri": "https://localhost:8080/",
          "height": 286
        },
        "id": "9G1p9gZSJ835",
        "outputId": "e6e360d4-e105-4d67-fc27-1ddc78811406"
      },
      "execution_count": null,
      "outputs": [
        {
          "output_type": "display_data",
          "data": {
            "text/plain": [
              "  continent country     type      year value       \n",
              "1 Asia      Afghanistan pop       1952 8425333.0000\n",
              "2 Asia      Afghanistan lifeExp   1952      28.8010\n",
              "3 Asia      Afghanistan gdpPercap 1952     779.4453\n",
              "4 Asia      Afghanistan pop       1957 9240934.0000\n",
              "5 Asia      Afghanistan lifeExp   1957      30.3320\n",
              "6 Asia      Afghanistan gdpPercap 1957     820.8530"
            ],
            "text/latex": "A tibble: 6 × 5\n\\begin{tabular}{lllll}\n continent & country & type & year & value\\\\\n <chr> & <chr> & <chr> & <int> & <dbl>\\\\\n\\hline\n\t Asia & Afghanistan & pop       & 1952 & 8425333.0000\\\\\n\t Asia & Afghanistan & lifeExp   & 1952 &      28.8010\\\\\n\t Asia & Afghanistan & gdpPercap & 1952 &     779.4453\\\\\n\t Asia & Afghanistan & pop       & 1957 & 9240934.0000\\\\\n\t Asia & Afghanistan & lifeExp   & 1957 &      30.3320\\\\\n\t Asia & Afghanistan & gdpPercap & 1957 &     820.8530\\\\\n\\end{tabular}\n",
            "text/markdown": "\nA tibble: 6 × 5\n\n| continent &lt;chr&gt; | country &lt;chr&gt; | type &lt;chr&gt; | year &lt;int&gt; | value &lt;dbl&gt; |\n|---|---|---|---|---|\n| Asia | Afghanistan | pop       | 1952 | 8425333.0000 |\n| Asia | Afghanistan | lifeExp   | 1952 |      28.8010 |\n| Asia | Afghanistan | gdpPercap | 1952 |     779.4453 |\n| Asia | Afghanistan | pop       | 1957 | 9240934.0000 |\n| Asia | Afghanistan | lifeExp   | 1957 |      30.3320 |\n| Asia | Afghanistan | gdpPercap | 1957 |     820.8530 |\n\n",
            "text/html": [
              "<table class=\"dataframe\">\n",
              "<caption>A tibble: 6 × 5</caption>\n",
              "<thead>\n",
              "\t<tr><th scope=col>continent</th><th scope=col>country</th><th scope=col>type</th><th scope=col>year</th><th scope=col>value</th></tr>\n",
              "\t<tr><th scope=col>&lt;chr&gt;</th><th scope=col>&lt;chr&gt;</th><th scope=col>&lt;chr&gt;</th><th scope=col>&lt;int&gt;</th><th scope=col>&lt;dbl&gt;</th></tr>\n",
              "</thead>\n",
              "<tbody>\n",
              "\t<tr><td>Asia</td><td>Afghanistan</td><td>pop      </td><td>1952</td><td>8425333.0000</td></tr>\n",
              "\t<tr><td>Asia</td><td>Afghanistan</td><td>lifeExp  </td><td>1952</td><td>     28.8010</td></tr>\n",
              "\t<tr><td>Asia</td><td>Afghanistan</td><td>gdpPercap</td><td>1952</td><td>    779.4453</td></tr>\n",
              "\t<tr><td>Asia</td><td>Afghanistan</td><td>pop      </td><td>1957</td><td>9240934.0000</td></tr>\n",
              "\t<tr><td>Asia</td><td>Afghanistan</td><td>lifeExp  </td><td>1957</td><td>     30.3320</td></tr>\n",
              "\t<tr><td>Asia</td><td>Afghanistan</td><td>gdpPercap</td><td>1957</td><td>    820.8530</td></tr>\n",
              "</tbody>\n",
              "</table>\n"
            ]
          },
          "metadata": {}
        }
      ]
    },
    {
      "cell_type": "code",
      "source": [
        "# Comparer avec le jeu de données initial\n",
        "head(gapminder)"
      ],
      "metadata": {
        "colab": {
          "base_uri": "https://localhost:8080/",
          "height": 286
        },
        "id": "u7VYALXTKKTM",
        "outputId": "c8b86709-b3da-4601-8a1d-d87b609b2fd8"
      },
      "execution_count": null,
      "outputs": [
        {
          "output_type": "display_data",
          "data": {
            "text/plain": [
              "  country     year pop      continent lifeExp gdpPercap\n",
              "1 Afghanistan 1952  8425333 Asia      28.801  779.4453 \n",
              "2 Afghanistan 1957  9240934 Asia      30.332  820.8530 \n",
              "3 Afghanistan 1962 10267083 Asia      31.997  853.1007 \n",
              "4 Afghanistan 1967 11537966 Asia      34.020  836.1971 \n",
              "5 Afghanistan 1972 13079460 Asia      36.088  739.9811 \n",
              "6 Afghanistan 1977 14880372 Asia      38.438  786.1134 "
            ],
            "text/latex": "A tibble: 6 × 6\n\\begin{tabular}{llllll}\n country & year & pop & continent & lifeExp & gdpPercap\\\\\n <chr> & <dbl> & <dbl> & <chr> & <dbl> & <dbl>\\\\\n\\hline\n\t Afghanistan & 1952 &  8425333 & Asia & 28.801 & 779.4453\\\\\n\t Afghanistan & 1957 &  9240934 & Asia & 30.332 & 820.8530\\\\\n\t Afghanistan & 1962 & 10267083 & Asia & 31.997 & 853.1007\\\\\n\t Afghanistan & 1967 & 11537966 & Asia & 34.020 & 836.1971\\\\\n\t Afghanistan & 1972 & 13079460 & Asia & 36.088 & 739.9811\\\\\n\t Afghanistan & 1977 & 14880372 & Asia & 38.438 & 786.1134\\\\\n\\end{tabular}\n",
            "text/markdown": "\nA tibble: 6 × 6\n\n| country &lt;chr&gt; | year &lt;dbl&gt; | pop &lt;dbl&gt; | continent &lt;chr&gt; | lifeExp &lt;dbl&gt; | gdpPercap &lt;dbl&gt; |\n|---|---|---|---|---|---|\n| Afghanistan | 1952 |  8425333 | Asia | 28.801 | 779.4453 |\n| Afghanistan | 1957 |  9240934 | Asia | 30.332 | 820.8530 |\n| Afghanistan | 1962 | 10267083 | Asia | 31.997 | 853.1007 |\n| Afghanistan | 1967 | 11537966 | Asia | 34.020 | 836.1971 |\n| Afghanistan | 1972 | 13079460 | Asia | 36.088 | 739.9811 |\n| Afghanistan | 1977 | 14880372 | Asia | 38.438 | 786.1134 |\n\n",
            "text/html": [
              "<table class=\"dataframe\">\n",
              "<caption>A tibble: 6 × 6</caption>\n",
              "<thead>\n",
              "\t<tr><th scope=col>country</th><th scope=col>year</th><th scope=col>pop</th><th scope=col>continent</th><th scope=col>lifeExp</th><th scope=col>gdpPercap</th></tr>\n",
              "\t<tr><th scope=col>&lt;chr&gt;</th><th scope=col>&lt;dbl&gt;</th><th scope=col>&lt;dbl&gt;</th><th scope=col>&lt;chr&gt;</th><th scope=col>&lt;dbl&gt;</th><th scope=col>&lt;dbl&gt;</th></tr>\n",
              "</thead>\n",
              "<tbody>\n",
              "\t<tr><td>Afghanistan</td><td>1952</td><td> 8425333</td><td>Asia</td><td>28.801</td><td>779.4453</td></tr>\n",
              "\t<tr><td>Afghanistan</td><td>1957</td><td> 9240934</td><td>Asia</td><td>30.332</td><td>820.8530</td></tr>\n",
              "\t<tr><td>Afghanistan</td><td>1962</td><td>10267083</td><td>Asia</td><td>31.997</td><td>853.1007</td></tr>\n",
              "\t<tr><td>Afghanistan</td><td>1967</td><td>11537966</td><td>Asia</td><td>34.020</td><td>836.1971</td></tr>\n",
              "\t<tr><td>Afghanistan</td><td>1972</td><td>13079460</td><td>Asia</td><td>36.088</td><td>739.9811</td></tr>\n",
              "\t<tr><td>Afghanistan</td><td>1977</td><td>14880372</td><td>Asia</td><td>38.438</td><td>786.1134</td></tr>\n",
              "</tbody>\n",
              "</table>\n"
            ]
          },
          "metadata": {}
        }
      ]
    },
    {
      "cell_type": "markdown",
      "source": [
        "### 3.2 Pivoter vers un format plus large avec `pivot_wider()`"
      ],
      "metadata": {
        "id": "rlMA2D5ZKRay"
      }
    },
    {
      "cell_type": "code",
      "source": [
        "# Pivoter au format large\n",
        "gap_normal <- gap_long %>%\n",
        "  pivot_wider(names_from = type,\n",
        "              values_from = value)\n",
        "head(gap_normal)"
      ],
      "metadata": {
        "colab": {
          "base_uri": "https://localhost:8080/",
          "height": 286
        },
        "id": "McOMCK72KQzM",
        "outputId": "5222978e-9682-4571-86e6-70b6c1466342"
      },
      "execution_count": null,
      "outputs": [
        {
          "output_type": "display_data",
          "data": {
            "text/plain": [
              "  continent country     year pop      lifeExp gdpPercap\n",
              "1 Asia      Afghanistan 1952  8425333 28.801  779.4453 \n",
              "2 Asia      Afghanistan 1957  9240934 30.332  820.8530 \n",
              "3 Asia      Afghanistan 1962 10267083 31.997  853.1007 \n",
              "4 Asia      Afghanistan 1967 11537966 34.020  836.1971 \n",
              "5 Asia      Afghanistan 1972 13079460 36.088  739.9811 \n",
              "6 Asia      Afghanistan 1977 14880372 38.438  786.1134 "
            ],
            "text/latex": "A tibble: 6 × 6\n\\begin{tabular}{llllll}\n continent & country & year & pop & lifeExp & gdpPercap\\\\\n <chr> & <chr> & <int> & <dbl> & <dbl> & <dbl>\\\\\n\\hline\n\t Asia & Afghanistan & 1952 &  8425333 & 28.801 & 779.4453\\\\\n\t Asia & Afghanistan & 1957 &  9240934 & 30.332 & 820.8530\\\\\n\t Asia & Afghanistan & 1962 & 10267083 & 31.997 & 853.1007\\\\\n\t Asia & Afghanistan & 1967 & 11537966 & 34.020 & 836.1971\\\\\n\t Asia & Afghanistan & 1972 & 13079460 & 36.088 & 739.9811\\\\\n\t Asia & Afghanistan & 1977 & 14880372 & 38.438 & 786.1134\\\\\n\\end{tabular}\n",
            "text/markdown": "\nA tibble: 6 × 6\n\n| continent &lt;chr&gt; | country &lt;chr&gt; | year &lt;int&gt; | pop &lt;dbl&gt; | lifeExp &lt;dbl&gt; | gdpPercap &lt;dbl&gt; |\n|---|---|---|---|---|---|\n| Asia | Afghanistan | 1952 |  8425333 | 28.801 | 779.4453 |\n| Asia | Afghanistan | 1957 |  9240934 | 30.332 | 820.8530 |\n| Asia | Afghanistan | 1962 | 10267083 | 31.997 | 853.1007 |\n| Asia | Afghanistan | 1967 | 11537966 | 34.020 | 836.1971 |\n| Asia | Afghanistan | 1972 | 13079460 | 36.088 | 739.9811 |\n| Asia | Afghanistan | 1977 | 14880372 | 38.438 | 786.1134 |\n\n",
            "text/html": [
              "<table class=\"dataframe\">\n",
              "<caption>A tibble: 6 × 6</caption>\n",
              "<thead>\n",
              "\t<tr><th scope=col>continent</th><th scope=col>country</th><th scope=col>year</th><th scope=col>pop</th><th scope=col>lifeExp</th><th scope=col>gdpPercap</th></tr>\n",
              "\t<tr><th scope=col>&lt;chr&gt;</th><th scope=col>&lt;chr&gt;</th><th scope=col>&lt;int&gt;</th><th scope=col>&lt;dbl&gt;</th><th scope=col>&lt;dbl&gt;</th><th scope=col>&lt;dbl&gt;</th></tr>\n",
              "</thead>\n",
              "<tbody>\n",
              "\t<tr><td>Asia</td><td>Afghanistan</td><td>1952</td><td> 8425333</td><td>28.801</td><td>779.4453</td></tr>\n",
              "\t<tr><td>Asia</td><td>Afghanistan</td><td>1957</td><td> 9240934</td><td>30.332</td><td>820.8530</td></tr>\n",
              "\t<tr><td>Asia</td><td>Afghanistan</td><td>1962</td><td>10267083</td><td>31.997</td><td>853.1007</td></tr>\n",
              "\t<tr><td>Asia</td><td>Afghanistan</td><td>1967</td><td>11537966</td><td>34.020</td><td>836.1971</td></tr>\n",
              "\t<tr><td>Asia</td><td>Afghanistan</td><td>1972</td><td>13079460</td><td>36.088</td><td>739.9811</td></tr>\n",
              "\t<tr><td>Asia</td><td>Afghanistan</td><td>1977</td><td>14880372</td><td>38.438</td><td>786.1134</td></tr>\n",
              "</tbody>\n",
              "</table>\n"
            ]
          },
          "metadata": {}
        }
      ]
    },
    {
      "cell_type": "code",
      "source": [
        "# Comparaison avec le jeu de données initial\n",
        "dim(gap_normal)\n",
        "dim(gapminder)"
      ],
      "metadata": {
        "colab": {
          "base_uri": "https://localhost:8080/",
          "height": 52
        },
        "id": "HJg7tRLxKlAW",
        "outputId": "ca66f5a4-a9f8-488d-ab7d-52ed20c0adf8"
      },
      "execution_count": null,
      "outputs": [
        {
          "output_type": "display_data",
          "data": {
            "text/plain": [
              "[1] 1704    6"
            ],
            "text/latex": "\\begin{enumerate*}\n\\item 1704\n\\item 6\n\\end{enumerate*}\n",
            "text/markdown": "1. 1704\n2. 6\n\n\n",
            "text/html": [
              "<style>\n",
              ".list-inline {list-style: none; margin:0; padding: 0}\n",
              ".list-inline>li {display: inline-block}\n",
              ".list-inline>li:not(:last-child)::after {content: \"\\00b7\"; padding: 0 .5ex}\n",
              "</style>\n",
              "<ol class=list-inline><li>1704</li><li>6</li></ol>\n"
            ]
          },
          "metadata": {}
        },
        {
          "output_type": "display_data",
          "data": {
            "text/plain": [
              "[1] 1704    6"
            ],
            "text/latex": "\\begin{enumerate*}\n\\item 1704\n\\item 6\n\\end{enumerate*}\n",
            "text/markdown": "1. 1704\n2. 6\n\n\n",
            "text/html": [
              "<style>\n",
              ".list-inline {list-style: none; margin:0; padding: 0}\n",
              ".list-inline>li {display: inline-block}\n",
              ".list-inline>li:not(:last-child)::after {content: \"\\00b7\"; padding: 0 .5ex}\n",
              "</style>\n",
              "<ol class=list-inline><li>1704</li><li>6</li></ol>\n"
            ]
          },
          "metadata": {}
        }
      ]
    },
    {
      "cell_type": "code",
      "source": [
        "# Mettre les colonnes dans le même ordre\n",
        "gap_normal <- gap_normal %>%\n",
        "  select(names(gapminder)) %>%\n",
        "  arrange(country, year)\n",
        "head(gap_normal)"
      ],
      "metadata": {
        "colab": {
          "base_uri": "https://localhost:8080/",
          "height": 286
        },
        "id": "mROzzhouKpqp",
        "outputId": "353de7ff-b262-4821-aeeb-92c804ab7b31"
      },
      "execution_count": null,
      "outputs": [
        {
          "output_type": "display_data",
          "data": {
            "text/plain": [
              "  country     year pop      continent lifeExp gdpPercap\n",
              "1 Afghanistan 1952  8425333 Asia      28.801  779.4453 \n",
              "2 Afghanistan 1957  9240934 Asia      30.332  820.8530 \n",
              "3 Afghanistan 1962 10267083 Asia      31.997  853.1007 \n",
              "4 Afghanistan 1967 11537966 Asia      34.020  836.1971 \n",
              "5 Afghanistan 1972 13079460 Asia      36.088  739.9811 \n",
              "6 Afghanistan 1977 14880372 Asia      38.438  786.1134 "
            ],
            "text/latex": "A tibble: 6 × 6\n\\begin{tabular}{llllll}\n country & year & pop & continent & lifeExp & gdpPercap\\\\\n <chr> & <int> & <dbl> & <chr> & <dbl> & <dbl>\\\\\n\\hline\n\t Afghanistan & 1952 &  8425333 & Asia & 28.801 & 779.4453\\\\\n\t Afghanistan & 1957 &  9240934 & Asia & 30.332 & 820.8530\\\\\n\t Afghanistan & 1962 & 10267083 & Asia & 31.997 & 853.1007\\\\\n\t Afghanistan & 1967 & 11537966 & Asia & 34.020 & 836.1971\\\\\n\t Afghanistan & 1972 & 13079460 & Asia & 36.088 & 739.9811\\\\\n\t Afghanistan & 1977 & 14880372 & Asia & 38.438 & 786.1134\\\\\n\\end{tabular}\n",
            "text/markdown": "\nA tibble: 6 × 6\n\n| country &lt;chr&gt; | year &lt;int&gt; | pop &lt;dbl&gt; | continent &lt;chr&gt; | lifeExp &lt;dbl&gt; | gdpPercap &lt;dbl&gt; |\n|---|---|---|---|---|---|\n| Afghanistan | 1952 |  8425333 | Asia | 28.801 | 779.4453 |\n| Afghanistan | 1957 |  9240934 | Asia | 30.332 | 820.8530 |\n| Afghanistan | 1962 | 10267083 | Asia | 31.997 | 853.1007 |\n| Afghanistan | 1967 | 11537966 | Asia | 34.020 | 836.1971 |\n| Afghanistan | 1972 | 13079460 | Asia | 36.088 | 739.9811 |\n| Afghanistan | 1977 | 14880372 | Asia | 38.438 | 786.1134 |\n\n",
            "text/html": [
              "<table class=\"dataframe\">\n",
              "<caption>A tibble: 6 × 6</caption>\n",
              "<thead>\n",
              "\t<tr><th scope=col>country</th><th scope=col>year</th><th scope=col>pop</th><th scope=col>continent</th><th scope=col>lifeExp</th><th scope=col>gdpPercap</th></tr>\n",
              "\t<tr><th scope=col>&lt;chr&gt;</th><th scope=col>&lt;int&gt;</th><th scope=col>&lt;dbl&gt;</th><th scope=col>&lt;chr&gt;</th><th scope=col>&lt;dbl&gt;</th><th scope=col>&lt;dbl&gt;</th></tr>\n",
              "</thead>\n",
              "<tbody>\n",
              "\t<tr><td>Afghanistan</td><td>1952</td><td> 8425333</td><td>Asia</td><td>28.801</td><td>779.4453</td></tr>\n",
              "\t<tr><td>Afghanistan</td><td>1957</td><td> 9240934</td><td>Asia</td><td>30.332</td><td>820.8530</td></tr>\n",
              "\t<tr><td>Afghanistan</td><td>1962</td><td>10267083</td><td>Asia</td><td>31.997</td><td>853.1007</td></tr>\n",
              "\t<tr><td>Afghanistan</td><td>1967</td><td>11537966</td><td>Asia</td><td>34.020</td><td>836.1971</td></tr>\n",
              "\t<tr><td>Afghanistan</td><td>1972</td><td>13079460</td><td>Asia</td><td>36.088</td><td>739.9811</td></tr>\n",
              "\t<tr><td>Afghanistan</td><td>1977</td><td>14880372</td><td>Asia</td><td>38.438</td><td>786.1134</td></tr>\n",
              "</tbody>\n",
              "</table>\n"
            ]
          },
          "metadata": {}
        }
      ]
    },
    {
      "cell_type": "code",
      "source": [
        "# Vérifier si l'ordre correspond\n",
        "names(gap_normal)\n",
        "names(gapminder)"
      ],
      "metadata": {
        "colab": {
          "base_uri": "https://localhost:8080/",
          "height": 52
        },
        "id": "H1SLd_pgKvwL",
        "outputId": "90ffacd8-6f56-4441-c9bf-e63d7231986c"
      },
      "execution_count": null,
      "outputs": [
        {
          "output_type": "display_data",
          "data": {
            "text/plain": [
              "[1] \"country\"   \"year\"      \"pop\"       \"continent\" \"lifeExp\"   \"gdpPercap\""
            ],
            "text/latex": "\\begin{enumerate*}\n\\item 'country'\n\\item 'year'\n\\item 'pop'\n\\item 'continent'\n\\item 'lifeExp'\n\\item 'gdpPercap'\n\\end{enumerate*}\n",
            "text/markdown": "1. 'country'\n2. 'year'\n3. 'pop'\n4. 'continent'\n5. 'lifeExp'\n6. 'gdpPercap'\n\n\n",
            "text/html": [
              "<style>\n",
              ".list-inline {list-style: none; margin:0; padding: 0}\n",
              ".list-inline>li {display: inline-block}\n",
              ".list-inline>li:not(:last-child)::after {content: \"\\00b7\"; padding: 0 .5ex}\n",
              "</style>\n",
              "<ol class=list-inline><li>'country'</li><li>'year'</li><li>'pop'</li><li>'continent'</li><li>'lifeExp'</li><li>'gdpPercap'</li></ol>\n"
            ]
          },
          "metadata": {}
        },
        {
          "output_type": "display_data",
          "data": {
            "text/plain": [
              "[1] \"country\"   \"year\"      \"pop\"       \"continent\" \"lifeExp\"   \"gdpPercap\""
            ],
            "text/latex": "\\begin{enumerate*}\n\\item 'country'\n\\item 'year'\n\\item 'pop'\n\\item 'continent'\n\\item 'lifeExp'\n\\item 'gdpPercap'\n\\end{enumerate*}\n",
            "text/markdown": "1. 'country'\n2. 'year'\n3. 'pop'\n4. 'continent'\n5. 'lifeExp'\n6. 'gdpPercap'\n\n\n",
            "text/html": [
              "<style>\n",
              ".list-inline {list-style: none; margin:0; padding: 0}\n",
              ".list-inline>li {display: inline-block}\n",
              ".list-inline>li:not(:last-child)::after {content: \"\\00b7\"; padding: 0 .5ex}\n",
              "</style>\n",
              "<ol class=list-inline><li>'country'</li><li>'year'</li><li>'pop'</li><li>'continent'</li><li>'lifeExp'</li><li>'gdpPercap'</li></ol>\n"
            ]
          },
          "metadata": {}
        }
      ]
    },
    {
      "cell_type": "code",
      "source": [
        "# Est-ce que les jeux de données sont identiques?\n",
        "all(gap_normal == gapminder)"
      ],
      "metadata": {
        "colab": {
          "base_uri": "https://localhost:8080/",
          "height": 34
        },
        "id": "hm6C3xC2KzN5",
        "outputId": "53f6f9b2-d25e-4a44-c3aa-9c27a4cac351"
      },
      "execution_count": null,
      "outputs": [
        {
          "output_type": "display_data",
          "data": {
            "text/plain": [
              "[1] TRUE"
            ],
            "text/latex": "TRUE",
            "text/markdown": "TRUE",
            "text/html": [
              "TRUE"
            ]
          },
          "metadata": {}
        }
      ]
    },
    {
      "cell_type": "markdown",
      "source": [
        "# 4.0 Ressources supplémentaires\n",
        "\n",
        "Cet atelier a été développé à partir des ateliers [`dplyr`](https://swcarpentry.github.io/r-novice-gapminder/13-dplyr/index.html) et [`tidyr`](https://swcarpentry.github.io/r-novice-gapminder/14-tidyr/index.html) de Software Carpentry, qui sont sous licence [CC-BY 4.0](https://creativecommons.org/licenses/by/4.0/). Le contenu a été adapté pour la présentation lors du défi Ran.Données 2022.\n",
        "\n",
        "Citation originale: Naupaka Zimmerman, Greg Wilson, Raniere Silva, Scott Ritchie, François Michonneau, Jeffrey Oliver, … Yuka Takemon. (2019, July). swcarpentry/r-novice-gapminder: Software Carpentry: R for Reproducible Scientific Analysis, June 2019 (Version v2019.06.1). Zenodo. http://doi.org/10.5281/zenodo.3265164\n",
        "\n",
        "## Liens pertinents\n",
        "\n",
        "- [Cheat sheet dplyr](https://raw.githubusercontent.com/rstudio/cheatsheets/main/data-transformation.pdf)\n",
        "- [Cheat sheet tidyr](https://raw.githubusercontent.com/rstudio/cheatsheets/main/tidyr.pdf)\n",
        "- [Cheat sheet en français (pas à jour)](https://raw.githubusercontent.com/rstudio/cheatsheets/main/translations/french/data-wrangling_fr.pdf)\n",
        "- [Toutes les cheat sheets de RStudio](https://www.rstudio.com/resources/cheatsheets/)\n",
        "- [R for Data Science](https://r4ds.had.co.nz/)\n",
        "- [Atelier du Centre sur la science de la biodiversité du Québec](https://r.qcbs.ca/workshop02/book-fr/manipuler-ses-donn%C3%A9es-avec-tidyr-dyplr-maggritr.html) (en français)\n",
        "- [Introduction au tidyverse par Julien Barnier](https://juba.github.io/tidyverse/index.html)  (en français)"
      ],
      "metadata": {
        "id": "3qbWIkzPLCAQ"
      }
    }
  ]
}